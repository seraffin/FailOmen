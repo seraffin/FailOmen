{
  "nbformat": 4,
  "nbformat_minor": 0,
  "metadata": {
    "colab": {
      "name": "NNOptimizer.ipynb",
      "version": "0.3.2",
      "provenance": [],
      "collapsed_sections": [],
      "include_colab_link": true
    },
    "kernelspec": {
      "name": "python3",
      "display_name": "Python 3"
    },
    "accelerator": "GPU"
  },
  "cells": [
    {
      "cell_type": "markdown",
      "metadata": {
        "id": "view-in-github",
        "colab_type": "text"
      },
      "source": [
        "<a href=\"https://colab.research.google.com/github/seraffin/FailOmen/blob/master/Wojtek/NNOptimizer.ipynb\" target=\"_parent\"><img src=\"https://colab.research.google.com/assets/colab-badge.svg\" alt=\"Open In Colab\"/></a>"
      ]
    },
    {
      "metadata": {
        "id": "Wha_2pSH9bO1",
        "colab_type": "text"
      },
      "cell_type": "markdown",
      "source": [
        "#PREPARATIONS:"
      ]
    },
    {
      "metadata": {
        "id": "xK5iXVaJFZHa",
        "colab_type": "code",
        "colab": {}
      },
      "cell_type": "code",
      "source": [
        "import tensorflow as tf\n",
        "import numpy as np\n",
        "import pandas as pd\n",
        "import math\n",
        "# import keras\n",
        "\n",
        "# Helper libraries\n",
        "import matplotlib.pyplot as plt\n",
        "\n",
        "from scipy.optimize import minimize"
      ],
      "execution_count": 0,
      "outputs": []
    },
    {
      "metadata": {
        "id": "tSJbj3Ku9aco",
        "colab_type": "code",
        "colab": {
          "base_uri": "https://localhost:8080/",
          "height": 34
        },
        "outputId": "9852c38a-202c-4df8-f6e8-cab8e4f65a0d"
      },
      "cell_type": "code",
      "source": [
        "device_name = tf.test.gpu_device_name()\n",
        "if device_name != '/device:GPU:0':\n",
        "  raise SystemError('GPU device not found')\n",
        "print('Found GPU at: {}'.format(device_name))"
      ],
      "execution_count": 6,
      "outputs": [
        {
          "output_type": "stream",
          "text": [
            "Found GPU at: /device:GPU:0\n"
          ],
          "name": "stdout"
        }
      ]
    },
    {
      "metadata": {
        "id": "J6LtbT258FTO",
        "colab_type": "code",
        "colab": {
          "resources": {
            "http://localhost:8080/nbextensions/google.colab/files.js": {
              "data": "Ly8gQ29weXJpZ2h0IDIwMTcgR29vZ2xlIExMQwovLwovLyBMaWNlbnNlZCB1bmRlciB0aGUgQXBhY2hlIExpY2Vuc2UsIFZlcnNpb24gMi4wICh0aGUgIkxpY2Vuc2UiKTsKLy8geW91IG1heSBub3QgdXNlIHRoaXMgZmlsZSBleGNlcHQgaW4gY29tcGxpYW5jZSB3aXRoIHRoZSBMaWNlbnNlLgovLyBZb3UgbWF5IG9idGFpbiBhIGNvcHkgb2YgdGhlIExpY2Vuc2UgYXQKLy8KLy8gICAgICBodHRwOi8vd3d3LmFwYWNoZS5vcmcvbGljZW5zZXMvTElDRU5TRS0yLjAKLy8KLy8gVW5sZXNzIHJlcXVpcmVkIGJ5IGFwcGxpY2FibGUgbGF3IG9yIGFncmVlZCB0byBpbiB3cml0aW5nLCBzb2Z0d2FyZQovLyBkaXN0cmlidXRlZCB1bmRlciB0aGUgTGljZW5zZSBpcyBkaXN0cmlidXRlZCBvbiBhbiAiQVMgSVMiIEJBU0lTLAovLyBXSVRIT1VUIFdBUlJBTlRJRVMgT1IgQ09ORElUSU9OUyBPRiBBTlkgS0lORCwgZWl0aGVyIGV4cHJlc3Mgb3IgaW1wbGllZC4KLy8gU2VlIHRoZSBMaWNlbnNlIGZvciB0aGUgc3BlY2lmaWMgbGFuZ3VhZ2UgZ292ZXJuaW5nIHBlcm1pc3Npb25zIGFuZAovLyBsaW1pdGF0aW9ucyB1bmRlciB0aGUgTGljZW5zZS4KCi8qKgogKiBAZmlsZW92ZXJ2aWV3IEhlbHBlcnMgZm9yIGdvb2dsZS5jb2xhYiBQeXRob24gbW9kdWxlLgogKi8KKGZ1bmN0aW9uKHNjb3BlKSB7CmZ1bmN0aW9uIHNwYW4odGV4dCwgc3R5bGVBdHRyaWJ1dGVzID0ge30pIHsKICBjb25zdCBlbGVtZW50ID0gZG9jdW1lbnQuY3JlYXRlRWxlbWVudCgnc3BhbicpOwogIGVsZW1lbnQudGV4dENvbnRlbnQgPSB0ZXh0OwogIGZvciAoY29uc3Qga2V5IG9mIE9iamVjdC5rZXlzKHN0eWxlQXR0cmlidXRlcykpIHsKICAgIGVsZW1lbnQuc3R5bGVba2V5XSA9IHN0eWxlQXR0cmlidXRlc1trZXldOwogIH0KICByZXR1cm4gZWxlbWVudDsKfQoKLy8gTWF4IG51bWJlciBvZiBieXRlcyB3aGljaCB3aWxsIGJlIHVwbG9hZGVkIGF0IGEgdGltZS4KY29uc3QgTUFYX1BBWUxPQURfU0laRSA9IDEwMCAqIDEwMjQ7Ci8vIE1heCBhbW91bnQgb2YgdGltZSB0byBibG9jayB3YWl0aW5nIGZvciB0aGUgdXNlci4KY29uc3QgRklMRV9DSEFOR0VfVElNRU9VVF9NUyA9IDMwICogMTAwMDsKCmZ1bmN0aW9uIF91cGxvYWRGaWxlcyhpbnB1dElkLCBvdXRwdXRJZCkgewogIGNvbnN0IHN0ZXBzID0gdXBsb2FkRmlsZXNTdGVwKGlucHV0SWQsIG91dHB1dElkKTsKICBjb25zdCBvdXRwdXRFbGVtZW50ID0gZG9jdW1lbnQuZ2V0RWxlbWVudEJ5SWQob3V0cHV0SWQpOwogIC8vIENhY2hlIHN0ZXBzIG9uIHRoZSBvdXRwdXRFbGVtZW50IHRvIG1ha2UgaXQgYXZhaWxhYmxlIGZvciB0aGUgbmV4dCBjYWxsCiAgLy8gdG8gdXBsb2FkRmlsZXNDb250aW51ZSBmcm9tIFB5dGhvbi4KICBvdXRwdXRFbGVtZW50LnN0ZXBzID0gc3RlcHM7CgogIHJldHVybiBfdXBsb2FkRmlsZXNDb250aW51ZShvdXRwdXRJZCk7Cn0KCi8vIFRoaXMgaXMgcm91Z2hseSBhbiBhc3luYyBnZW5lcmF0b3IgKG5vdCBzdXBwb3J0ZWQgaW4gdGhlIGJyb3dzZXIgeWV0KSwKLy8gd2hlcmUgdGhlcmUgYXJlIG11bHRpcGxlIGFzeW5jaHJvbm91cyBzdGVwcyBhbmQgdGhlIFB5dGhvbiBzaWRlIGlzIGdvaW5nCi8vIHRvIHBvbGwgZm9yIGNvbXBsZXRpb24gb2YgZWFjaCBzdGVwLgovLyBUaGlzIHVzZXMgYSBQcm9taXNlIHRvIGJsb2NrIHRoZSBweXRob24gc2lkZSBvbiBjb21wbGV0aW9uIG9mIGVhY2ggc3RlcCwKLy8gdGhlbiBwYXNzZXMgdGhlIHJlc3VsdCBvZiB0aGUgcHJldmlvdXMgc3RlcCBhcyB0aGUgaW5wdXQgdG8gdGhlIG5leHQgc3RlcC4KZnVuY3Rpb24gX3VwbG9hZEZpbGVzQ29udGludWUob3V0cHV0SWQpIHsKICBjb25zdCBvdXRwdXRFbGVtZW50ID0gZG9jdW1lbnQuZ2V0RWxlbWVudEJ5SWQob3V0cHV0SWQpOwogIGNvbnN0IHN0ZXBzID0gb3V0cHV0RWxlbWVudC5zdGVwczsKCiAgY29uc3QgbmV4dCA9IHN0ZXBzLm5leHQob3V0cHV0RWxlbWVudC5sYXN0UHJvbWlzZVZhbHVlKTsKICByZXR1cm4gUHJvbWlzZS5yZXNvbHZlKG5leHQudmFsdWUucHJvbWlzZSkudGhlbigodmFsdWUpID0+IHsKICAgIC8vIENhY2hlIHRoZSBsYXN0IHByb21pc2UgdmFsdWUgdG8gbWFrZSBpdCBhdmFpbGFibGUgdG8gdGhlIG5leHQKICAgIC8vIHN0ZXAgb2YgdGhlIGdlbmVyYXRvci4KICAgIG91dHB1dEVsZW1lbnQubGFzdFByb21pc2VWYWx1ZSA9IHZhbHVlOwogICAgcmV0dXJuIG5leHQudmFsdWUucmVzcG9uc2U7CiAgfSk7Cn0KCi8qKgogKiBHZW5lcmF0b3IgZnVuY3Rpb24gd2hpY2ggaXMgY2FsbGVkIGJldHdlZW4gZWFjaCBhc3luYyBzdGVwIG9mIHRoZSB1cGxvYWQKICogcHJvY2Vzcy4KICogQHBhcmFtIHtzdHJpbmd9IGlucHV0SWQgRWxlbWVudCBJRCBvZiB0aGUgaW5wdXQgZmlsZSBwaWNrZXIgZWxlbWVudC4KICogQHBhcmFtIHtzdHJpbmd9IG91dHB1dElkIEVsZW1lbnQgSUQgb2YgdGhlIG91dHB1dCBkaXNwbGF5LgogKiBAcmV0dXJuIHshSXRlcmFibGU8IU9iamVjdD59IEl0ZXJhYmxlIG9mIG5leHQgc3RlcHMuCiAqLwpmdW5jdGlvbiogdXBsb2FkRmlsZXNTdGVwKGlucHV0SWQsIG91dHB1dElkKSB7CiAgY29uc3QgaW5wdXRFbGVtZW50ID0gZG9jdW1lbnQuZ2V0RWxlbWVudEJ5SWQoaW5wdXRJZCk7CiAgaW5wdXRFbGVtZW50LmRpc2FibGVkID0gZmFsc2U7CgogIGNvbnN0IG91dHB1dEVsZW1lbnQgPSBkb2N1bWVudC5nZXRFbGVtZW50QnlJZChvdXRwdXRJZCk7CiAgb3V0cHV0RWxlbWVudC5pbm5lckhUTUwgPSAnJzsKCiAgY29uc3QgcGlja2VkUHJvbWlzZSA9IG5ldyBQcm9taXNlKChyZXNvbHZlKSA9PiB7CiAgICBpbnB1dEVsZW1lbnQuYWRkRXZlbnRMaXN0ZW5lcignY2hhbmdlJywgKGUpID0+IHsKICAgICAgcmVzb2x2ZShlLnRhcmdldC5maWxlcyk7CiAgICB9KTsKICB9KTsKCiAgY29uc3QgY2FuY2VsID0gZG9jdW1lbnQuY3JlYXRlRWxlbWVudCgnYnV0dG9uJyk7CiAgaW5wdXRFbGVtZW50LnBhcmVudEVsZW1lbnQuYXBwZW5kQ2hpbGQoY2FuY2VsKTsKICBjYW5jZWwudGV4dENvbnRlbnQgPSAnQ2FuY2VsIHVwbG9hZCc7CiAgY29uc3QgY2FuY2VsUHJvbWlzZSA9IG5ldyBQcm9taXNlKChyZXNvbHZlKSA9PiB7CiAgICBjYW5jZWwub25jbGljayA9ICgpID0+IHsKICAgICAgcmVzb2x2ZShudWxsKTsKICAgIH07CiAgfSk7CgogIC8vIENhbmNlbCB1cGxvYWQgaWYgdXNlciBoYXNuJ3QgcGlja2VkIGFueXRoaW5nIGluIHRpbWVvdXQuCiAgY29uc3QgdGltZW91dFByb21pc2UgPSBuZXcgUHJvbWlzZSgocmVzb2x2ZSkgPT4gewogICAgc2V0VGltZW91dCgoKSA9PiB7CiAgICAgIHJlc29sdmUobnVsbCk7CiAgICB9LCBGSUxFX0NIQU5HRV9USU1FT1VUX01TKTsKICB9KTsKCiAgLy8gV2FpdCBmb3IgdGhlIHVzZXIgdG8gcGljayB0aGUgZmlsZXMuCiAgY29uc3QgZmlsZXMgPSB5aWVsZCB7CiAgICBwcm9taXNlOiBQcm9taXNlLnJhY2UoW3BpY2tlZFByb21pc2UsIHRpbWVvdXRQcm9taXNlLCBjYW5jZWxQcm9taXNlXSksCiAgICByZXNwb25zZTogewogICAgICBhY3Rpb246ICdzdGFydGluZycsCiAgICB9CiAgfTsKCiAgaWYgKCFmaWxlcykgewogICAgcmV0dXJuIHsKICAgICAgcmVzcG9uc2U6IHsKICAgICAgICBhY3Rpb246ICdjb21wbGV0ZScsCiAgICAgIH0KICAgIH07CiAgfQoKICBjYW5jZWwucmVtb3ZlKCk7CgogIC8vIERpc2FibGUgdGhlIGlucHV0IGVsZW1lbnQgc2luY2UgZnVydGhlciBwaWNrcyBhcmUgbm90IGFsbG93ZWQuCiAgaW5wdXRFbGVtZW50LmRpc2FibGVkID0gdHJ1ZTsKCiAgZm9yIChjb25zdCBmaWxlIG9mIGZpbGVzKSB7CiAgICBjb25zdCBsaSA9IGRvY3VtZW50LmNyZWF0ZUVsZW1lbnQoJ2xpJyk7CiAgICBsaS5hcHBlbmQoc3BhbihmaWxlLm5hbWUsIHtmb250V2VpZ2h0OiAnYm9sZCd9KSk7CiAgICBsaS5hcHBlbmQoc3BhbigKICAgICAgICBgKCR7ZmlsZS50eXBlIHx8ICduL2EnfSkgLSAke2ZpbGUuc2l6ZX0gYnl0ZXMsIGAgKwogICAgICAgIGBsYXN0IG1vZGlmaWVkOiAkewogICAgICAgICAgICBmaWxlLmxhc3RNb2RpZmllZERhdGUgPyBmaWxlLmxhc3RNb2RpZmllZERhdGUudG9Mb2NhbGVEYXRlU3RyaW5nKCkgOgogICAgICAgICAgICAgICAgICAgICAgICAgICAgICAgICAgICAnbi9hJ30gLSBgKSk7CiAgICBjb25zdCBwZXJjZW50ID0gc3BhbignMCUgZG9uZScpOwogICAgbGkuYXBwZW5kQ2hpbGQocGVyY2VudCk7CgogICAgb3V0cHV0RWxlbWVudC5hcHBlbmRDaGlsZChsaSk7CgogICAgY29uc3QgZmlsZURhdGFQcm9taXNlID0gbmV3IFByb21pc2UoKHJlc29sdmUpID0+IHsKICAgICAgY29uc3QgcmVhZGVyID0gbmV3IEZpbGVSZWFkZXIoKTsKICAgICAgcmVhZGVyLm9ubG9hZCA9IChlKSA9PiB7CiAgICAgICAgcmVzb2x2ZShlLnRhcmdldC5yZXN1bHQpOwogICAgICB9OwogICAgICByZWFkZXIucmVhZEFzQXJyYXlCdWZmZXIoZmlsZSk7CiAgICB9KTsKICAgIC8vIFdhaXQgZm9yIHRoZSBkYXRhIHRvIGJlIHJlYWR5LgogICAgbGV0IGZpbGVEYXRhID0geWllbGQgewogICAgICBwcm9taXNlOiBmaWxlRGF0YVByb21pc2UsCiAgICAgIHJlc3BvbnNlOiB7CiAgICAgICAgYWN0aW9uOiAnY29udGludWUnLAogICAgICB9CiAgICB9OwoKICAgIC8vIFVzZSBhIGNodW5rZWQgc2VuZGluZyB0byBhdm9pZCBtZXNzYWdlIHNpemUgbGltaXRzLiBTZWUgYi82MjExNTY2MC4KICAgIGxldCBwb3NpdGlvbiA9IDA7CiAgICB3aGlsZSAocG9zaXRpb24gPCBmaWxlRGF0YS5ieXRlTGVuZ3RoKSB7CiAgICAgIGNvbnN0IGxlbmd0aCA9IE1hdGgubWluKGZpbGVEYXRhLmJ5dGVMZW5ndGggLSBwb3NpdGlvbiwgTUFYX1BBWUxPQURfU0laRSk7CiAgICAgIGNvbnN0IGNodW5rID0gbmV3IFVpbnQ4QXJyYXkoZmlsZURhdGEsIHBvc2l0aW9uLCBsZW5ndGgpOwogICAgICBwb3NpdGlvbiArPSBsZW5ndGg7CgogICAgICBjb25zdCBiYXNlNjQgPSBidG9hKFN0cmluZy5mcm9tQ2hhckNvZGUuYXBwbHkobnVsbCwgY2h1bmspKTsKICAgICAgeWllbGQgewogICAgICAgIHJlc3BvbnNlOiB7CiAgICAgICAgICBhY3Rpb246ICdhcHBlbmQnLAogICAgICAgICAgZmlsZTogZmlsZS5uYW1lLAogICAgICAgICAgZGF0YTogYmFzZTY0LAogICAgICAgIH0sCiAgICAgIH07CiAgICAgIHBlcmNlbnQudGV4dENvbnRlbnQgPQogICAgICAgICAgYCR7TWF0aC5yb3VuZCgocG9zaXRpb24gLyBmaWxlRGF0YS5ieXRlTGVuZ3RoKSAqIDEwMCl9JSBkb25lYDsKICAgIH0KICB9CgogIC8vIEFsbCBkb25lLgogIHlpZWxkIHsKICAgIHJlc3BvbnNlOiB7CiAgICAgIGFjdGlvbjogJ2NvbXBsZXRlJywKICAgIH0KICB9Owp9CgpzY29wZS5nb29nbGUgPSBzY29wZS5nb29nbGUgfHwge307CnNjb3BlLmdvb2dsZS5jb2xhYiA9IHNjb3BlLmdvb2dsZS5jb2xhYiB8fCB7fTsKc2NvcGUuZ29vZ2xlLmNvbGFiLl9maWxlcyA9IHsKICBfdXBsb2FkRmlsZXMsCiAgX3VwbG9hZEZpbGVzQ29udGludWUsCn07Cn0pKHNlbGYpOwo=",
              "ok": true,
              "headers": [
                [
                  "content-type",
                  "application/javascript"
                ]
              ],
              "status": 200,
              "status_text": ""
            }
          },
          "base_uri": "https://localhost:8080/",
          "height": 89
        },
        "outputId": "644b824e-90da-4586-8761-2f248c16356f"
      },
      "cell_type": "code",
      "source": [
        "from google.colab import files\n",
        "\n",
        "uploaded = files.upload()\n",
        "\n",
        "for fn in uploaded.keys():\n",
        "  print('User uploaded file \"{name}\" with length {length} bytes'.format(\n",
        "      name=fn, length=len(uploaded[fn])))"
      ],
      "execution_count": 7,
      "outputs": [
        {
          "output_type": "display_data",
          "data": {
            "text/html": [
              "\n",
              "     <input type=\"file\" id=\"files-e8f64f59-3c27-4368-955e-3d221102b7d8\" name=\"files[]\" multiple disabled />\n",
              "     <output id=\"result-e8f64f59-3c27-4368-955e-3d221102b7d8\">\n",
              "      Upload widget is only available when the cell has been executed in the\n",
              "      current browser session. Please rerun this cell to enable.\n",
              "      </output>\n",
              "      <script src=\"/nbextensions/google.colab/files.js\"></script> "
            ],
            "text/plain": [
              "<IPython.core.display.HTML object>"
            ]
          },
          "metadata": {
            "tags": []
          }
        },
        {
          "output_type": "stream",
          "text": [
            "Saving convertMinidataToML.csv to convertMinidataToML.csv\n",
            "User uploaded file \"convertMinidataToML.csv\" with length 1154382 bytes\n"
          ],
          "name": "stdout"
        }
      ]
    },
    {
      "metadata": {
        "id": "W5lgP4LSRhxB",
        "colab_type": "text"
      },
      "cell_type": "markdown",
      "source": [
        "#**UTILITIES:**"
      ]
    },
    {
      "metadata": {
        "id": "cHHl7dgH9HUl",
        "colab_type": "text"
      },
      "cell_type": "markdown",
      "source": [
        "##Optimizer:"
      ]
    },
    {
      "metadata": {
        "id": "sQif5IkFLMDE",
        "colab_type": "code",
        "colab": {},
        "cellView": "both"
      },
      "cell_type": "code",
      "source": [
        "#@title\n",
        "def optimizer(func, steps, minMax1, minMax2=False, split = 4, reduceSplit = False, searchMaximum = True):\n",
        "  \"\"\"\n",
        "  -------------------------------\n",
        "  Function can take 1 or 2 parameters to optimization.\n",
        "  Default: 2 parameters (you need to set values for minMax1 and minMax2)\n",
        "           For 1 parameter optimization set argument: \"minMax2 = False\"\n",
        "\n",
        "  -------------------------------\n",
        "  func        -->  enter your function there\n",
        "                   IMPORTANT:\n",
        "                   * if function has 1 parameter:  minMax1 = [min, max],   minMax2 = False\n",
        "                   * if function has 2 parameters: minMax1 = [min1, max1], minMax2 = [min2, max2]\n",
        "                   \n",
        "  steps       -->  number of iterations of recurency\n",
        "  \n",
        "  minMax1/2   -->  list of min and max value of parameters to begin with (ex. [min, max])\n",
        "  \n",
        "  split        -->  number of parts in which function will split values of parameters\n",
        "                   higher value -> better accuracy & longer calculation time\n",
        "                   (Values range 2 -- 10)\n",
        "                   \n",
        "  reduceSplit -->  If True: with every repetition of recurency will reduce split by one\n",
        "  \n",
        "  -------------------------------\n",
        "  \"\"\"\n",
        "  import matplotlib.pyplot as plt\n",
        "  import math\n",
        "  \n",
        "  \n",
        "  plotData = []\n",
        "  iterationCounter = 0\n",
        "  iterationsLeft = steps\n",
        "  recurencyCounter = 0\n",
        "  bestResults = []\n",
        "  print(iterationsLeft)\n",
        "  \n",
        "  #--------------------\n",
        "\n",
        "  def returnStepList(minValue, maxValue, nrSteps):\n",
        "      step = math.fabs(maxValue - minValue)/nrSteps\n",
        "      actualMin = min([minValue, maxValue])\n",
        "      actualMax = max([minValue, maxValue])\n",
        "      return [actualMin + step*nr for nr in range(nrSteps + 1)]\n",
        "\n",
        "  def resetIterators():\n",
        "    global plotData\n",
        "    global iterationCounter\n",
        "    global recurencyCounter\n",
        "    plotData = []\n",
        "    iterationCounter = 0\n",
        "    recurencyCounter = 0\n",
        "\n",
        "\n",
        "  def create_plot_optimizer(x_data, y_data=0, xLabel = 'X', yLabel = 'Y'):\n",
        "      import matplotlib.pyplot as plt\n",
        "      if y_data == 0:  \n",
        "          unzip = list(zip(*x_data))\n",
        "          x_data, y_data = unzip[0],unzip[1]\n",
        "      plt.plot(x_data, y_data)\n",
        "      plt.xlabel(xLabel)\n",
        "      plt.ylabel(yLabel)\n",
        "      plt.show()\n",
        "\n",
        "\n",
        "  def optimize(func, steps, minMax1, minMax2 = False, split = 4, reduceSplit = False, \n",
        "               searchMaximum = True, iLeft = None):\n",
        "      \n",
        "      global resetIterators\n",
        "      global iterationCounter\n",
        "      global iterationsLeft\n",
        "      global recurencyCounter\n",
        "      bestResult = []\n",
        "      \n",
        "      localICounter = 0\n",
        "      iL = iLeft\n",
        "      sMax = searchMaximum\n",
        "      singleParam = False\n",
        "      bestPair = [None, None]\n",
        "      resultList = []\n",
        "      parametersList=[]\n",
        "\n",
        "      if reduceSplit is False:\n",
        "        newSplit = split\n",
        "      else:\n",
        "        if split > 2:\n",
        "          newSplit = split - 1\n",
        "        else:\n",
        "          newSplit = 2\n",
        "      if split > 10:\n",
        "        raise ValueError(\"Too big value of 'split' parameter! This would highly increase number of iterations\")\n",
        "      if minMax2 is False:\n",
        "        singleParam = True\n",
        "\n",
        "      recurencyCounter += 1\n",
        "\n",
        "      if isinstance(minMax1, list) and (isinstance(minMax2, list) or singleParam) :\n",
        "\n",
        "          stepList1 = returnStepList(minMax1[0], minMax1[1], split)\n",
        "          if singleParam:\n",
        "            stepList2 = [1]\n",
        "          else:\n",
        "            stepList2 = returnStepList(minMax2[0], minMax2[1], split)\n",
        "          \n",
        "          nrIterations = len(stepList1)*len(stepList2)\n",
        "          i1 = 0\n",
        "          i2 = 0\n",
        "\n",
        "\n",
        "\n",
        "          for el1 in stepList1:\n",
        "              i2 = 0\n",
        "              for el2 in stepList2:\n",
        "                  iterationCounter += 1\n",
        "                  localICounter += 1\n",
        "                  print(\"---Iteration: {0}/{1} ----Recurency: {2}/{3}\".format(localICounter, \n",
        "                                                              nrIterations,\n",
        "                                                              recurencyCounter,\n",
        "                                                              iL))\n",
        "\n",
        "                  #----function----\n",
        "                  if singleParam:\n",
        "                    evaluation = func(el1)\n",
        "                  else:\n",
        "                    evaluation = func(el1, el2)\n",
        "                  #----function----\n",
        "\n",
        "                  if len(resultList) > 0:\n",
        "                      #----condition----\n",
        "                      if sMax:\n",
        "                        if evaluation >= max(resultList):\n",
        "                            bestPair[0] = i1\n",
        "                            bestPair[1] = i2\n",
        "                      else:\n",
        "                        if evaluation <= min(resultList):\n",
        "                            bestPair[0] = i1\n",
        "                            bestPair[1] = i2\n",
        "\n",
        "                      #----condition----\n",
        "\n",
        "                  else:\n",
        "                    if singleParam:\n",
        "                      bestPair[0] = i1\n",
        "                    else:\n",
        "                      bestPair[0] = i1\n",
        "                      bestPair[1] = i2\n",
        "\n",
        "                  plotData.append([evaluation, iterationCounter])\n",
        "\n",
        "                  resultList.append(evaluation)\n",
        "                  if singleParam:\n",
        "                    parametersList.append([el1])\n",
        "                  else:\n",
        "                    parametersList.append([el1, el2])\n",
        "\n",
        "                  i2 += 1\n",
        "              i1 += 1\n",
        "\n",
        "          #------------------------------------------------\n",
        "\n",
        "\n",
        "          if bestPair[0] == stepList1.index(stepList1[0]):\n",
        "              minMax1[0] = stepList1[bestPair[0]]/2\n",
        "              minMax1[1] = stepList1[bestPair[0] + 1]\n",
        "  #                 print(\"best values of PARAM_1 are close to MIN value\")\n",
        "\n",
        "          elif bestPair[0] == stepList1.index(stepList1[-1]):\n",
        "              minMax1[0] = stepList1[bestPair[0] - 1]\n",
        "              minMax1[1] = stepList1[bestPair[0]]*2\n",
        "  #                 print(\"best values of PARAM_1 are close to MAX value\")\n",
        "\n",
        "\n",
        "          else:\n",
        "              minMax1[0] = stepList1[bestPair[0] - 1]\n",
        "              minMax1[1] = stepList1[bestPair[0] + 1]\n",
        "\n",
        "          #------------------------------------------------\n",
        "          if not singleParam:\n",
        "            if bestPair[1] == stepList2.index(stepList2[0]):\n",
        "                minMax2[0] = stepList1[bestPair[1]]/2\n",
        "                minMax2[1] = stepList1[bestPair[1] + 1]\n",
        "  #                 print(\"best values of PARAM_2 are close to MIN value\")\n",
        "\n",
        "            elif bestPair[1] == stepList2.index(stepList2[-1]):\n",
        "                minMax2[0] = stepList1[bestPair[1] - 1]\n",
        "                minMax2[1] = stepList1[bestPair[1]]*2\n",
        "  #                 print(\"best values of PARAM_2 are close to MAX value\")\n",
        "\n",
        "\n",
        "            else:\n",
        "                minMax2[0] = stepList2[bestPair[1] - 1]\n",
        "                minMax2[1] = stepList2[bestPair[1] + 1]\n",
        "\n",
        "          #------------------------------------------------\n",
        "          if sMax:\n",
        "            result = max(resultList)\n",
        "            param1 = parametersList[resultList.index(max(resultList))][0]\n",
        "            if not singleParam:\n",
        "              param2 = parametersList[resultList.index(max(resultList))][1]\n",
        "          else:\n",
        "            result = min(resultList)\n",
        "            param1 = parametersList[resultList.index(min(resultList))][0]\n",
        "            if not singleParam:\n",
        "              param2 = parametersList[resultList.index(min(resultList))][1]\n",
        "          \n",
        "          global bestResults\n",
        "          if singleParam:\n",
        "            bestResult.append([result, param1])\n",
        "          else:\n",
        "            bestResult.append([result, param1, param2])\n",
        "\n",
        "          if steps > 0:\n",
        "            if singleParam:\n",
        "              print(\"---------------------------------------------------------\\n\")\n",
        "              r = optimize(func,\n",
        "                       steps - 1,\n",
        "                       [minMax1[0],minMax1[1]],\n",
        "                       minMax2 = False,\n",
        "                       split = newSplit,\n",
        "                       reduceSplit=reduceSplit,\n",
        "                       searchMaximum = sMax,\n",
        "                       iLeft = iL )\n",
        "              bestResult.append(r)\n",
        "            else:\n",
        "              print(\"---------------------------------------------------------\\n\")\n",
        "              r = optimize(func,\n",
        "                       steps - 1,\n",
        "                       [minMax1[0], minMax1[1]],\n",
        "                       minMax2=[minMax2[0], minMax2[1]],\n",
        "                       split = newSplit,\n",
        "                       reduceSplit=reduceSplit,\n",
        "                       searchMaximum = sMax,\n",
        "                       iLeft = iL)\n",
        "              bestResult.append(r)\n",
        "            \n",
        "          else:\n",
        "            if singleParam:\n",
        "              print('\\n------------------ACHIEVED RESULTS------------------\\n')\n",
        "              print(\"{:<20}{}\\n{:<20}{}\\n\".format('RESULT: ',\n",
        "                                                  result,\n",
        "                                                  'PARAMETER 1: ',\n",
        "                                                  param1))\n",
        "              return bestResult\n",
        "            else:\n",
        "              print('\\n------------------ACHIEVED RESULTS------------------\\n')\n",
        "              print(\"{:<20}{}\\n{:<20}{}\\n{:<20}{}\\n\".format('RESULT: ',\n",
        "                                                            bestResults,\n",
        "                                                            'PARAMETER 1: ',\n",
        "                                                            param1,\n",
        "                                                            'PARAMETER 2: ',\n",
        "                                                            param2))\n",
        "              return bestResult\n",
        "\n",
        "      else:\n",
        "          print(\"enter correct value!\")\n",
        "         \n",
        "  resetIterators()\n",
        "  bestResults = optimize(func,\n",
        "                         steps,\n",
        "                         minMax1,\n",
        "                         minMax2,\n",
        "                         split,\n",
        "                         reduceSplit,\n",
        "                         searchMaximum = searchMaximum,\n",
        "                         iLeft = steps+1)\n",
        "  print(bestResults)\n",
        "  xData = [num[1] for num in plotData]\n",
        "  yData = [num[0] for num in plotData]\n",
        "  create_plot_optimizer(xData, yData, 'Iterations', 'Result')\n",
        "  print(bestResults)\n",
        "  return bestResults\n"
      ],
      "execution_count": 0,
      "outputs": []
    },
    {
      "metadata": {
        "id": "DP1M6yYZ_H-B",
        "colab_type": "text"
      },
      "cell_type": "markdown",
      "source": [
        "###Example:"
      ]
    },
    {
      "metadata": {
        "id": "N7vEBvI6aWTt",
        "colab_type": "code",
        "outputId": "eb41bb6a-cb70-4fad-801f-1b79e3498602",
        "colab": {
          "base_uri": "https://localhost:8080/",
          "height": 2214
        },
        "cellView": "both"
      },
      "cell_type": "code",
      "source": [
        "#@title\n",
        "def exampleFunction(x, y = 5):\n",
        "  return ((-20)* math.exp((((0.5*(x**2 + y**2))**0.5)*(-0.2))))\n",
        "\n",
        "\n",
        "r = optimizer(exampleFunction, 12 , [-10,10], minMax2=False,  split = 10, reduceSplit = True, searchMaximum = True)\n",
        "print(r)"
      ],
      "execution_count": 52,
      "outputs": [
        {
          "output_type": "stream",
          "text": [
            "12\n",
            "---Iteration: 1/11 ----Recurency: 1/13\n",
            "---Iteration: 2/11 ----Recurency: 1/13\n",
            "---Iteration: 3/11 ----Recurency: 1/13\n",
            "---Iteration: 4/11 ----Recurency: 1/13\n",
            "---Iteration: 5/11 ----Recurency: 1/13\n",
            "---Iteration: 6/11 ----Recurency: 1/13\n",
            "---Iteration: 7/11 ----Recurency: 1/13\n",
            "---Iteration: 8/11 ----Recurency: 1/13\n",
            "---Iteration: 9/11 ----Recurency: 1/13\n",
            "---Iteration: 10/11 ----Recurency: 1/13\n",
            "---Iteration: 11/11 ----Recurency: 1/13\n",
            "---------------------------------------------------------\n",
            "\n",
            "---Iteration: 1/10 ----Recurency: 2/13\n",
            "---Iteration: 2/10 ----Recurency: 2/13\n",
            "---Iteration: 3/10 ----Recurency: 2/13\n",
            "---Iteration: 4/10 ----Recurency: 2/13\n",
            "---Iteration: 5/10 ----Recurency: 2/13\n",
            "---Iteration: 6/10 ----Recurency: 2/13\n",
            "---Iteration: 7/10 ----Recurency: 2/13\n",
            "---Iteration: 8/10 ----Recurency: 2/13\n",
            "---Iteration: 9/10 ----Recurency: 2/13\n",
            "---Iteration: 10/10 ----Recurency: 2/13\n",
            "---------------------------------------------------------\n",
            "\n",
            "---Iteration: 1/9 ----Recurency: 3/13\n",
            "---Iteration: 2/9 ----Recurency: 3/13\n",
            "---Iteration: 3/9 ----Recurency: 3/13\n",
            "---Iteration: 4/9 ----Recurency: 3/13\n",
            "---Iteration: 5/9 ----Recurency: 3/13\n",
            "---Iteration: 6/9 ----Recurency: 3/13\n",
            "---Iteration: 7/9 ----Recurency: 3/13\n",
            "---Iteration: 8/9 ----Recurency: 3/13\n",
            "---Iteration: 9/9 ----Recurency: 3/13\n",
            "---------------------------------------------------------\n",
            "\n",
            "---Iteration: 1/8 ----Recurency: 4/13\n",
            "---Iteration: 2/8 ----Recurency: 4/13\n",
            "---Iteration: 3/8 ----Recurency: 4/13\n",
            "---Iteration: 4/8 ----Recurency: 4/13\n",
            "---Iteration: 5/8 ----Recurency: 4/13\n",
            "---Iteration: 6/8 ----Recurency: 4/13\n",
            "---Iteration: 7/8 ----Recurency: 4/13\n",
            "---Iteration: 8/8 ----Recurency: 4/13\n",
            "---------------------------------------------------------\n",
            "\n",
            "---Iteration: 1/7 ----Recurency: 5/13\n",
            "---Iteration: 2/7 ----Recurency: 5/13\n",
            "---Iteration: 3/7 ----Recurency: 5/13\n",
            "---Iteration: 4/7 ----Recurency: 5/13\n",
            "---Iteration: 5/7 ----Recurency: 5/13\n",
            "---Iteration: 6/7 ----Recurency: 5/13\n",
            "---Iteration: 7/7 ----Recurency: 5/13\n",
            "---------------------------------------------------------\n",
            "\n",
            "---Iteration: 1/6 ----Recurency: 6/13\n",
            "---Iteration: 2/6 ----Recurency: 6/13\n",
            "---Iteration: 3/6 ----Recurency: 6/13\n",
            "---Iteration: 4/6 ----Recurency: 6/13\n",
            "---Iteration: 5/6 ----Recurency: 6/13\n",
            "---Iteration: 6/6 ----Recurency: 6/13\n",
            "---------------------------------------------------------\n",
            "\n",
            "---Iteration: 1/5 ----Recurency: 7/13\n",
            "---Iteration: 2/5 ----Recurency: 7/13\n",
            "---Iteration: 3/5 ----Recurency: 7/13\n",
            "---Iteration: 4/5 ----Recurency: 7/13\n",
            "---Iteration: 5/5 ----Recurency: 7/13\n",
            "---------------------------------------------------------\n",
            "\n",
            "---Iteration: 1/4 ----Recurency: 8/13\n",
            "---Iteration: 2/4 ----Recurency: 8/13\n",
            "---Iteration: 3/4 ----Recurency: 8/13\n",
            "---Iteration: 4/4 ----Recurency: 8/13\n",
            "---------------------------------------------------------\n",
            "\n",
            "---Iteration: 1/3 ----Recurency: 9/13\n",
            "---Iteration: 2/3 ----Recurency: 9/13\n",
            "---Iteration: 3/3 ----Recurency: 9/13\n",
            "---------------------------------------------------------\n",
            "\n",
            "---Iteration: 1/3 ----Recurency: 10/13\n",
            "---Iteration: 2/3 ----Recurency: 10/13\n",
            "---Iteration: 3/3 ----Recurency: 10/13\n",
            "---------------------------------------------------------\n",
            "\n",
            "---Iteration: 1/3 ----Recurency: 11/13\n",
            "---Iteration: 2/3 ----Recurency: 11/13\n",
            "---Iteration: 3/3 ----Recurency: 11/13\n",
            "---------------------------------------------------------\n",
            "\n",
            "---Iteration: 1/3 ----Recurency: 12/13\n",
            "---Iteration: 2/3 ----Recurency: 12/13\n",
            "---Iteration: 3/3 ----Recurency: 12/13\n",
            "---------------------------------------------------------\n",
            "\n",
            "---Iteration: 1/3 ----Recurency: 13/13\n",
            "---Iteration: 2/3 ----Recurency: 13/13\n",
            "---Iteration: 3/3 ----Recurency: 13/13\n",
            "\n",
            "------------------ACHIEVED RESULTS------------------\n",
            "\n",
            "RESULT:             -0.0\n",
            "PARAMETER 1:        13664.818386243387\n",
            "\n",
            "None\n"
          ],
          "name": "stdout"
        },
        {
          "output_type": "display_data",
          "data": {
            "image/png": "[encoded data removed]",
            "text/plain": [
              "<matplotlib.figure.Figure at 0x7f83520eb748>"
            ]
          },
          "metadata": {
            "tags": []
          }
        },
        {
          "output_type": "stream",
          "text": [
            "None\n",
            "None\n"
          ],
          "name": "stdout"
        }
      ]
    },
    {
      "metadata": {
        "id": "hiQMEZChN7zT",
        "colab_type": "code",
        "colab": {
          "base_uri": "https://localhost:8080/",
          "height": 34
        },
        "outputId": "a27bc342-dbcf-413f-9231-9d8c0c3f07fb"
      },
      "cell_type": "code",
      "source": [
        "print(r)"
      ],
      "execution_count": 40,
      "outputs": [
        {
          "output_type": "stream",
          "text": [
            "None\n"
          ],
          "name": "stdout"
        }
      ]
    },
    {
      "metadata": {
        "id": "PySAu2dE8rlq",
        "colab_type": "text"
      },
      "cell_type": "markdown",
      "source": [
        "##**Other:**"
      ]
    },
    {
      "metadata": {
        "id": "zeL7SA0PLWsc",
        "colab_type": "code",
        "colab": {},
        "cellView": "both"
      },
      "cell_type": "code",
      "source": [
        "#@title\n",
        "def searchForFailed(yList):\n",
        "    changedRowList = []\n",
        "    for row in range (len(yList)):\n",
        "        if 0 in yList[row]:\n",
        "            changedRowList.append(row)\n",
        "    return changedRowList\n",
        "\n",
        "def returnFailedData(xList, yList, changedRowList):\n",
        "    xFailed = []\n",
        "    yFailed = []\n",
        "  \n",
        "    for row in changedRowList:\n",
        "        xFailed.append(xList[row])\n",
        "        yFailed.append(yList[row])\n",
        "    xFailed = np.array(xFailed)\n",
        "    yFailed = np.array(yFailed)\n",
        "    return xFailed, yFailed\n",
        "\n"
      ],
      "execution_count": 0,
      "outputs": []
    },
    {
      "metadata": {
        "id": "gj27Oov0LYps",
        "colab_type": "code",
        "colab": {},
        "cellView": "both"
      },
      "cell_type": "code",
      "source": [
        "#@title\n",
        "def count_distribution(prediction):\n",
        "    #Distributions of argmins through all the predictions\n",
        "    i = 1\n",
        "    tab = [0] * 542\n",
        "    for a in prediction:\n",
        "        j = 0\n",
        "        for b in a:\n",
        "            if b < 1.0 : j = j + 1\n",
        "\n",
        "        #print (i, '. ', j, np.argmin(a))\n",
        "        tab[np.argmin(a)] += 1\n",
        "        i = i + 1\n",
        "\n",
        "    i = 0\n",
        "    distributed_array = []\n",
        "    for a in tab:\n",
        "        if a > 0 : \n",
        "            #print ('position', i, '\\targmin count', a)\n",
        "            distributed_array.append((i,a))\n",
        "        i += 1\n",
        "    create_plot(distributed_array)  \n",
        "    return distributed_array\n"
      ],
      "execution_count": 0,
      "outputs": []
    },
    {
      "metadata": {
        "id": "iTmrDPbaLdDE",
        "colab_type": "code",
        "colab": {},
        "cellView": "both"
      },
      "cell_type": "code",
      "source": [
        "#@title\n",
        "def failsCount():\n",
        "    fala = 0\n",
        "    for i, a in enumerate(yTest):\n",
        "        j = 0\n",
        "        for k, b in enumerate(a):\n",
        "            if b < 1.0 : j += 1\n",
        "\n",
        "        if j > 0 : \n",
        "            print (i, '. ', j)\n",
        "        i = i + 1\n",
        "        fala += j\n",
        "    print (fala)"
      ],
      "execution_count": 0,
      "outputs": []
    },
    {
      "metadata": {
        "id": "ngL3fil-LeSt",
        "colab_type": "code",
        "colab": {},
        "cellView": "both"
      },
      "cell_type": "code",
      "source": [
        "#@title\n",
        "# Evaluation function\n",
        "\n",
        "def evaluation(additionalPredictions, refYsupervisor, predictions):\n",
        "\n",
        "    lenght = len(refYsupervisor)\n",
        "\n",
        "    failPositions = [[] for y in range(lenght)]\n",
        "\n",
        "  \n",
        "    for i, a in enumerate(refYsupervisor):\n",
        "\n",
        "        for j, b in enumerate(a):\n",
        "            if b == 0 : failPositions[i].append(j);\n",
        "\n",
        "    predictionsTemp = predictions.copy()\n",
        "    predictionPositions = [[] for y in range(lenght)]\n",
        "\n",
        "\n",
        "    for i, a in enumerate(predictionsTemp):\n",
        "\n",
        "        if len(failPositions[i]) != 0:\n",
        "            for j in range(len(failPositions[i]) + additionalPredictions):\n",
        "                argmin = np.argmin(a)\n",
        "                predictionPositions[i].append(argmin)\n",
        "                predictionsTemp[i][argmin] = 1\n",
        "\n",
        "    predictionHits = [[] for y in range(lenght)]\n",
        "\n",
        "    for i, a in enumerate(failPositions):\n",
        "        count = 0\n",
        "        for j, b in enumerate(a):\n",
        "\n",
        "\n",
        "            for c in predictionPositions[i]:\n",
        "  #      predictionHits[i].append(predictions[i][c].copy())\n",
        "  #      print(predictions[i][c])\n",
        "  #      print(predictions[i][c])\n",
        "  #      print (b, c)\n",
        "                if c == b : count += 1\n",
        "\n",
        "        if len(failPositions) != 0:\n",
        "            predictionHits[i].insert(0,count)\n",
        "\n",
        "\n",
        "    failsCount = 0\n",
        "    hitsCount = 0\n",
        "    for i, a in enumerate(refYsupervisor):\n",
        "        j = 0\n",
        "\n",
        "        for k, b in enumerate(a):\n",
        "            if b < 1.0 : j += 1\n",
        "\n",
        "  #  if j > 0 :\n",
        "  #    print (i, '.', j, predictionHits[i])\n",
        "\n",
        "\n",
        "        failsCount += j\n",
        "        hitsCount += predictionHits[i][0]\n",
        "    \n",
        "    percFailsPredicted = hitsCount / failsCount * 100\n",
        "    print('Percentage of fails predicted', hitsCount / failsCount * 100, '%')\n",
        "    return percFailsPredicted"
      ],
      "execution_count": 0,
      "outputs": []
    },
    {
      "metadata": {
        "id": "QUqLiUzV82wE",
        "colab_type": "text"
      },
      "cell_type": "markdown",
      "source": [
        "#**NEURAL NETWORK:**"
      ]
    },
    {
      "metadata": {
        "id": "G9WRpAqz9pmV",
        "colab_type": "text"
      },
      "cell_type": "markdown",
      "source": [
        "##Data:"
      ]
    },
    {
      "metadata": {
        "id": "Slq936w_LgQN",
        "colab_type": "code",
        "colab": {
          "base_uri": "https://localhost:8080/",
          "height": 233
        },
        "outputId": "7f5f2b4a-7cbd-4148-e9b4-4fafb979e64f"
      },
      "cell_type": "code",
      "source": [
        "#Importing dataset\n",
        "dataset = pd.read_csv('convertMinidataToML.csv', index_col=False)\n",
        "\n",
        "#Check the first 5 rows of the dataset. \n",
        "dataset.head(5)"
      ],
      "execution_count": 13,
      "outputs": [
        {
          "output_type": "execute_result",
          "data": {
            "text/html": [
              "<div>\n",
              "<style scoped>\n",
              "    .dataframe tbody tr th:only-of-type {\n",
              "        vertical-align: middle;\n",
              "    }\n",
              "\n",
              "    .dataframe tbody tr th {\n",
              "        vertical-align: top;\n",
              "    }\n",
              "\n",
              "    .dataframe thead th {\n",
              "        text-align: right;\n",
              "    }\n",
              "</style>\n",
              "<table border=\"1\" class=\"dataframe\">\n",
              "  <thead>\n",
              "    <tr style=\"text-align: right;\">\n",
              "      <th></th>\n",
              "      <th>1</th>\n",
              "      <th>2</th>\n",
              "      <th>3</th>\n",
              "      <th>4</th>\n",
              "      <th>5</th>\n",
              "      <th>6</th>\n",
              "      <th>7</th>\n",
              "      <th>8</th>\n",
              "      <th>9</th>\n",
              "      <th>10</th>\n",
              "      <th>...</th>\n",
              "      <th>24272</th>\n",
              "      <th>24273</th>\n",
              "      <th>24274</th>\n",
              "      <th>24275</th>\n",
              "      <th>24276</th>\n",
              "      <th>24277</th>\n",
              "      <th>24278</th>\n",
              "      <th>24279</th>\n",
              "      <th>24280</th>\n",
              "      <th>24281</th>\n",
              "    </tr>\n",
              "  </thead>\n",
              "  <tbody>\n",
              "    <tr>\n",
              "      <th>0</th>\n",
              "      <td>1</td>\n",
              "      <td>1</td>\n",
              "      <td>1</td>\n",
              "      <td>1</td>\n",
              "      <td>1</td>\n",
              "      <td>1</td>\n",
              "      <td>1</td>\n",
              "      <td>1</td>\n",
              "      <td>1</td>\n",
              "      <td>1</td>\n",
              "      <td>...</td>\n",
              "      <td>1</td>\n",
              "      <td>1</td>\n",
              "      <td>1</td>\n",
              "      <td>1</td>\n",
              "      <td>1</td>\n",
              "      <td>1</td>\n",
              "      <td>1</td>\n",
              "      <td>1</td>\n",
              "      <td>1</td>\n",
              "      <td>1</td>\n",
              "    </tr>\n",
              "    <tr>\n",
              "      <th>1</th>\n",
              "      <td>0</td>\n",
              "      <td>0</td>\n",
              "      <td>0</td>\n",
              "      <td>0</td>\n",
              "      <td>0</td>\n",
              "      <td>0</td>\n",
              "      <td>0</td>\n",
              "      <td>0</td>\n",
              "      <td>0</td>\n",
              "      <td>0</td>\n",
              "      <td>...</td>\n",
              "      <td>1</td>\n",
              "      <td>1</td>\n",
              "      <td>1</td>\n",
              "      <td>1</td>\n",
              "      <td>1</td>\n",
              "      <td>1</td>\n",
              "      <td>1</td>\n",
              "      <td>1</td>\n",
              "      <td>1</td>\n",
              "      <td>1</td>\n",
              "    </tr>\n",
              "    <tr>\n",
              "      <th>2</th>\n",
              "      <td>0</td>\n",
              "      <td>0</td>\n",
              "      <td>0</td>\n",
              "      <td>0</td>\n",
              "      <td>0</td>\n",
              "      <td>0</td>\n",
              "      <td>0</td>\n",
              "      <td>0</td>\n",
              "      <td>0</td>\n",
              "      <td>0</td>\n",
              "      <td>...</td>\n",
              "      <td>1</td>\n",
              "      <td>1</td>\n",
              "      <td>1</td>\n",
              "      <td>1</td>\n",
              "      <td>1</td>\n",
              "      <td>1</td>\n",
              "      <td>1</td>\n",
              "      <td>1</td>\n",
              "      <td>1</td>\n",
              "      <td>1</td>\n",
              "    </tr>\n",
              "    <tr>\n",
              "      <th>3</th>\n",
              "      <td>0</td>\n",
              "      <td>0</td>\n",
              "      <td>0</td>\n",
              "      <td>0</td>\n",
              "      <td>0</td>\n",
              "      <td>0</td>\n",
              "      <td>0</td>\n",
              "      <td>0</td>\n",
              "      <td>0</td>\n",
              "      <td>0</td>\n",
              "      <td>...</td>\n",
              "      <td>1</td>\n",
              "      <td>1</td>\n",
              "      <td>1</td>\n",
              "      <td>1</td>\n",
              "      <td>1</td>\n",
              "      <td>1</td>\n",
              "      <td>1</td>\n",
              "      <td>1</td>\n",
              "      <td>1</td>\n",
              "      <td>1</td>\n",
              "    </tr>\n",
              "    <tr>\n",
              "      <th>4</th>\n",
              "      <td>0</td>\n",
              "      <td>0</td>\n",
              "      <td>0</td>\n",
              "      <td>0</td>\n",
              "      <td>0</td>\n",
              "      <td>0</td>\n",
              "      <td>0</td>\n",
              "      <td>0</td>\n",
              "      <td>0</td>\n",
              "      <td>0</td>\n",
              "      <td>...</td>\n",
              "      <td>1</td>\n",
              "      <td>1</td>\n",
              "      <td>1</td>\n",
              "      <td>1</td>\n",
              "      <td>1</td>\n",
              "      <td>1</td>\n",
              "      <td>1</td>\n",
              "      <td>1</td>\n",
              "      <td>1</td>\n",
              "      <td>1</td>\n",
              "    </tr>\n",
              "  </tbody>\n",
              "</table>\n",
              "<p>5 rows × 24281 columns</p>\n",
              "</div>"
            ],
            "text/plain": [
              "   1  2  3  4  5  6  7  8  9  10  ...    24272  24273  24274  24275  24276  \\\n",
              "0  1  1  1  1  1  1  1  1  1   1  ...        1      1      1      1      1   \n",
              "1  0  0  0  0  0  0  0  0  0   0  ...        1      1      1      1      1   \n",
              "2  0  0  0  0  0  0  0  0  0   0  ...        1      1      1      1      1   \n",
              "3  0  0  0  0  0  0  0  0  0   0  ...        1      1      1      1      1   \n",
              "4  0  0  0  0  0  0  0  0  0   0  ...        1      1      1      1      1   \n",
              "\n",
              "   24277  24278  24279  24280  24281  \n",
              "0      1      1      1      1      1  \n",
              "1      1      1      1      1      1  \n",
              "2      1      1      1      1      1  \n",
              "3      1      1      1      1      1  \n",
              "4      1      1      1      1      1  \n",
              "\n",
              "[5 rows x 24281 columns]"
            ]
          },
          "metadata": {
            "tags": []
          },
          "execution_count": 13
        }
      ]
    },
    {
      "metadata": {
        "id": "2TS6_yWrL2Fe",
        "colab_type": "code",
        "colab": {}
      },
      "cell_type": "code",
      "source": [
        "x = dataset.iloc[:, 0:23739].values\n",
        "y = dataset.iloc[:, 23739:24281].values"
      ],
      "execution_count": 0,
      "outputs": []
    },
    {
      "metadata": {
        "id": "AnPHXWnQL4NV",
        "colab_type": "code",
        "colab": {}
      },
      "cell_type": "code",
      "source": [
        "xReduced, yReduced = returnFailedData(x, y, searchForFailed(y))"
      ],
      "execution_count": 0,
      "outputs": []
    },
    {
      "metadata": {
        "id": "TCLVHfK7L6dt",
        "colab_type": "code",
        "colab": {}
      },
      "cell_type": "code",
      "source": [
        "from sklearn.model_selection import train_test_split\n",
        "xTrain, xTest, yTrain, yTest = train_test_split(xReduced, yReduced, test_size = 0.2, random_state=77)"
      ],
      "execution_count": 0,
      "outputs": []
    },
    {
      "metadata": {
        "id": "wGWxKK3899YH",
        "colab_type": "text"
      },
      "cell_type": "markdown",
      "source": [
        "##Model definition:"
      ]
    },
    {
      "metadata": {
        "id": "4ETzd-5lL8R8",
        "colab_type": "code",
        "colab": {}
      },
      "cell_type": "code",
      "source": [
        "from keras.models import Sequential\n",
        "from keras.layers import Dense\n",
        "from keras.backend import clear_session\n",
        "\n",
        "# from keras.backend.tensorflow_backend import set_session  \n",
        "\n",
        "# config = tf.ConfigProto()  \n",
        "# config.gpu_options.allow_growth = True  # dynamically grow the memory used on the GPU  \n",
        "# sess = tf.Session(config=config)  \n",
        "# set_session(sess)  # set this TensorFlow session as the default session for Keras.\n",
        "\n",
        "# model = Sequential()\n",
        "\n",
        "# Adding the input layer and the output layer\n",
        "# model.add(Dense(units = 542, activation=\"sigmoid\", input_dim=23739, kernel_initializer=\"uniform\")) # TRY smaller input_dim value or less neurons"
      ],
      "execution_count": 0,
      "outputs": []
    },
    {
      "metadata": {
        "id": "voRGZ2SLL9vw",
        "colab_type": "code",
        "colab": {
          "base_uri": "https://localhost:8080/",
          "height": 102
        },
        "outputId": "bfd8f474-bd1f-4b68-a014-28439fe1e763"
      },
      "cell_type": "code",
      "source": [
        "# model.compile(optimizer = tf.train.MomentumOptimizer(learning_rate = 0.01, momentum = 0.4), loss = 'binary_crossentropy', metrics = ['accuracy'])\n",
        " \n",
        "# model.fit(xTrain, yTrain, batch_size = 10, epochs = 2)"
      ],
      "execution_count": 18,
      "outputs": [
        {
          "output_type": "stream",
          "text": [
            "Epoch 1/2\n",
            "4/4 [==============================] - 1s 253ms/step - loss: 0.6956 - acc: 0.5138\n",
            "Epoch 2/2\n",
            "4/4 [==============================] - 0s 3ms/step - loss: 0.6956 - acc: 0.5138\n"
          ],
          "name": "stdout"
        },
        {
          "output_type": "execute_result",
          "data": {
            "text/plain": [
              "<keras.callbacks.History at 0x7f8358e99630>"
            ]
          },
          "metadata": {
            "tags": []
          },
          "execution_count": 18
        }
      ]
    },
    {
      "metadata": {
        "id": "SNKBm1XlMARd",
        "colab_type": "code",
        "colab": {}
      },
      "cell_type": "code",
      "source": [
        "def calculateNetwork(x):\n",
        "    inputUnits = int(x)\n",
        "    firstLayerUnits = 1000\n",
        "    secondLayerUnits = 542\n",
        "    if not isinstance(inputUnits, (int)) or not isinstance(firstLayerUnits, (int)) or not isinstance(secondLayerUnits, (int)):\n",
        "        print(\"Enter correct input!\")\\\n",
        "\n",
        "    else:\n",
        "        \n",
        "        config = tf.ConfigProto()  \n",
        "        config.gpu_options.allow_growth = True  # dynamically grow the memory used on the GPU  \n",
        "        sess = tf.Session(config=config)  \n",
        "        set_session(sess)\n",
        "        pBatchSize = 10\n",
        "        pEpochs = 1\n",
        "        pLearningRate = 0.01\n",
        "        pMomentum = 0.04\n",
        "        \n",
        "        \n",
        "        model = Sequential()\n",
        "\n",
        "        # Adding the input layer and the first hidden layer\n",
        "        model.add(Dense(inputUnits, activation=\"sigmoid\", input_dim=23739, kernel_initializer=\"uniform\")) # TRY smaller input_dim value or less neurons\n",
        "        # Adding the second hidden layer\n",
        "        model.add(Dense(firstLayerUnits, activation = \"sigmoid\", kernel_initializer=\"uniform\"))\n",
        "        # Adding the output layer\n",
        "        model.add(Dense(secondLayerUnits, activation=\"sigmoid\", kernel_initializer=\"uniform\"))\n",
        "  \n",
        "  \n",
        "        model.compile(optimizer = tf.train.MomentumOptimizer(learning_rate = pLearningRate, momentum = pMomentum), loss = 'binary_crossentropy', metrics = ['accuracy'])\n",
        "        model.fit(xTrain, yTrain, batch_size = pBatchSize, epochs = pEpochs)\n",
        "  \n",
        "        predictions = model.predict(xReduced)\n",
        "        evaluationResult = evaluation(15, yReduced, predictions)\n",
        "        clear_session()\n",
        "        print('\\n')\n",
        "        return evaluationResult\n",
        "    \n"
      ],
      "execution_count": 0,
      "outputs": []
    },
    {
      "metadata": {
        "id": "4DvM7zDGH4ES",
        "colab_type": "code",
        "colab": {}
      },
      "cell_type": "code",
      "source": [
        "!nvidia-smi"
      ],
      "execution_count": 0,
      "outputs": []
    },
    {
      "metadata": {
        "id": "7ssKmBP8MGF8",
        "colab_type": "code",
        "colab": {
          "base_uri": "https://localhost:8080/",
          "height": 2622
        },
        "outputId": "bba367b0-baa3-4c6a-c396-903375c25d3d"
      },
      "cell_type": "code",
      "source": [
        "optimizer(calculateNetwork, 3 , [600,3000], minMax2=False,  split = 4, reduceSplit = False, searchMaximum = True)\n"
      ],
      "execution_count": 34,
      "outputs": [
        {
          "output_type": "stream",
          "text": [
            "3\n",
            "---Iteration: 1/5 ----Recurency: 1/4\n",
            "Epoch 1/1\n",
            "4/4 [==============================] - 1s 175ms/step - loss: 0.7151 - acc: 0.5120\n",
            "Percentage of fails predicted 0.0 %\n",
            "\n",
            "\n",
            "---Iteration: 2/5 ----Recurency: 1/4\n",
            "Epoch 1/1\n",
            "4/4 [==============================] - 1s 201ms/step - loss: 0.7177 - acc: 0.5115\n",
            "Percentage of fails predicted 12.5 %\n",
            "\n",
            "\n",
            "---Iteration: 3/5 ----Recurency: 1/4\n",
            "Epoch 1/1\n",
            "4/4 [==============================] - 1s 276ms/step - loss: 0.7193 - acc: 0.5051\n",
            "Percentage of fails predicted 0.0 %\n",
            "\n",
            "\n",
            "---Iteration: 4/5 ----Recurency: 1/4\n",
            "Epoch 1/1\n",
            "4/4 [==============================] - 1s 326ms/step - loss: 0.7145 - acc: 0.5111\n",
            "Percentage of fails predicted 0.0 %\n",
            "\n",
            "\n",
            "---Iteration: 5/5 ----Recurency: 1/4\n",
            "Epoch 1/1\n",
            "4/4 [==============================] - 2s 381ms/step - loss: 0.7214 - acc: 0.5060\n",
            "Percentage of fails predicted 0.0 %\n",
            "\n",
            "\n",
            "---------------------------------------------------------\n",
            "\n",
            "---Iteration: 1/5 ----Recurency: 2/4\n",
            "Epoch 1/1\n",
            "4/4 [==============================] - 1s 175ms/step - loss: 0.7270 - acc: 0.4746\n",
            "Percentage of fails predicted 6.25 %\n",
            "\n",
            "\n",
            "---Iteration: 2/5 ----Recurency: 2/4\n",
            "Epoch 1/1\n",
            "4/4 [==============================] - 1s 198ms/step - loss: 0.7261 - acc: 0.4714\n",
            "Percentage of fails predicted 18.75 %\n",
            "\n",
            "\n",
            "---Iteration: 3/5 ----Recurency: 2/4\n",
            "Epoch 1/1\n",
            "4/4 [==============================] - 1s 231ms/step - loss: 0.7292 - acc: 0.4756\n",
            "Percentage of fails predicted 0.0 %\n",
            "\n",
            "\n",
            "---Iteration: 4/5 ----Recurency: 2/4\n",
            "Epoch 1/1\n",
            "4/4 [==============================] - 1s 250ms/step - loss: 0.7120 - acc: 0.5208\n",
            "Percentage of fails predicted 12.5 %\n",
            "\n",
            "\n",
            "---Iteration: 5/5 ----Recurency: 2/4\n",
            "Epoch 1/1\n",
            "4/4 [==============================] - 1s 278ms/step - loss: 0.7289 - acc: 0.4760\n",
            "Percentage of fails predicted 0.0 %\n",
            "\n",
            "\n",
            "---------------------------------------------------------\n",
            "\n",
            "---Iteration: 1/5 ----Recurency: 3/4\n",
            "Epoch 1/1\n",
            "4/4 [==============================] - 1s 169ms/step - loss: 0.7215 - acc: 0.4848\n",
            "Percentage of fails predicted 0.0 %\n",
            "\n",
            "\n",
            "---Iteration: 2/5 ----Recurency: 3/4\n",
            "Epoch 1/1\n",
            "4/4 [==============================] - 1s 193ms/step - loss: 0.7082 - acc: 0.5351\n",
            "Percentage of fails predicted 0.0 %\n",
            "\n",
            "\n",
            "---Iteration: 3/5 ----Recurency: 3/4\n",
            "Epoch 1/1\n",
            "4/4 [==============================] - 1s 197ms/step - loss: 0.7065 - acc: 0.5281\n",
            "Percentage of fails predicted 12.5 %\n",
            "\n",
            "\n",
            "---Iteration: 4/5 ----Recurency: 3/4\n",
            "Epoch 1/1\n",
            "4/4 [==============================] - 1s 212ms/step - loss: 0.7058 - acc: 0.5392\n",
            "Percentage of fails predicted 0.0 %\n",
            "\n",
            "\n",
            "---Iteration: 5/5 ----Recurency: 3/4\n",
            "Epoch 1/1\n",
            "4/4 [==============================] - 1s 237ms/step - loss: 0.7249 - acc: 0.4903\n",
            "Percentage of fails predicted 0.0 %\n",
            "\n",
            "\n",
            "---------------------------------------------------------\n",
            "\n",
            "---Iteration: 1/5 ----Recurency: 4/4\n",
            "Epoch 1/1\n",
            "4/4 [==============================] - 1s 234ms/step - loss: 0.7149 - acc: 0.5152\n",
            "Percentage of fails predicted 0.0 %\n",
            "\n",
            "\n",
            "---Iteration: 2/5 ----Recurency: 4/4\n",
            "Epoch 1/1\n",
            "4/4 [==============================] - 1s 209ms/step - loss: 0.7222 - acc: 0.4963\n",
            "Percentage of fails predicted 0.0 %\n",
            "\n",
            "\n",
            "---Iteration: 3/5 ----Recurency: 4/4\n",
            "Epoch 1/1\n",
            "4/4 [==============================] - 1s 212ms/step - loss: 0.7169 - acc: 0.5083\n",
            "Percentage of fails predicted 0.0 %\n",
            "\n",
            "\n",
            "---Iteration: 4/5 ----Recurency: 4/4\n",
            "Epoch 1/1\n",
            "4/4 [==============================] - 1s 203ms/step - loss: 0.7031 - acc: 0.5300\n",
            "Percentage of fails predicted 6.25 %\n",
            "\n",
            "\n",
            "---Iteration: 5/5 ----Recurency: 4/4\n",
            "Epoch 1/1\n",
            "4/4 [==============================] - 1s 223ms/step - loss: 0.7330 - acc: 0.5115\n",
            "Percentage of fails predicted 0.0 %\n",
            "\n",
            "\n",
            "\n",
            "------------------ACHIEVED RESULTS------------------\n",
            "\n",
            "RESULT:             6.25\n",
            "PARAMETER 1:        975.0\n",
            "\n"
          ],
          "name": "stdout"
        },
        {
          "output_type": "display_data",
          "data": {
            "image/png": "[encoded data removed]",
            "text/plain": [
              "<matplotlib.figure.Figure at 0x7f833bd67cc0>"
            ]
          },
          "metadata": {
            "tags": []
          }
        }
      ]
    }
  ]
}