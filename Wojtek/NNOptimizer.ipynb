{
  "nbformat": 4,
  "nbformat_minor": 0,
  "metadata": {
    "colab": {
      "name": "NNOptimizer.ipynb",
      "version": "0.3.2",
      "provenance": [],
      "collapsed_sections": [],
      "include_colab_link": true
    },
    "kernelspec": {
      "name": "python3",
      "display_name": "Python 3"
    },
    "accelerator": "GPU"
  },
  "cells": [
    {
      "cell_type": "markdown",
      "metadata": {
        "id": "view-in-github",
        "colab_type": "text"
      },
      "source": [
        "<a href=\"https://colab.research.google.com/github/seraffin/FailOmen/blob/master/Wojtek/NNOptimizer.ipynb\" target=\"_parent\"><img src=\"https://colab.research.google.com/assets/colab-badge.svg\" alt=\"Open In Colab\"/></a>"
      ]
    },
    {
      "metadata": {
        "id": "Wha_2pSH9bO1",
        "colab_type": "text"
      },
      "cell_type": "markdown",
      "source": [
        "#PREPARATIONS:"
      ]
    },
    {
      "metadata": {
        "id": "tSJbj3Ku9aco",
        "colab_type": "code",
        "colab": {}
      },
      "cell_type": "code",
      "source": [
        "import tensorflow as tf\n",
        "import numpy as np\n",
        "import pandas as pd\n",
        "import math\n",
        "# import keras\n",
        "\n",
        "# Helper libraries\n",
        "import matplotlib.pyplot as plt\n",
        "\n",
        "from scipy.optimize import minimize"
      ],
      "execution_count": 0,
      "outputs": []
    },
    {
      "metadata": {
        "id": "Jhm1OOxE78FX",
        "colab_type": "code",
        "colab": {
          "base_uri": "https://localhost:8080/",
          "height": 34
        },
        "outputId": "34c35259-7c93-4b91-d8c2-c529c3c0e1f9"
      },
      "cell_type": "code",
      "source": [
        "device_name = tf.test.gpu_device_name()\n",
        "if device_name != '/device:GPU:0':\n",
        "  raise SystemError('GPU device not found')\n",
        "print('Found GPU at: {}'.format(device_name))"
      ],
      "execution_count": 3,
      "outputs": [
        {
          "output_type": "stream",
          "text": [
            "Found GPU at: /device:GPU:0\n"
          ],
          "name": "stdout"
        }
      ]
    },
    {
      "metadata": {
        "id": "J6LtbT258FTO",
        "colab_type": "code",
        "colab": {
          "resources": {
            "http://localhost:8080/nbextensions/google.colab/files.js": {
              "data": "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",
              "ok": true,
              "headers": [
                [
                  "content-type",
                  "application/javascript"
                ]
              ],
              "status": 200,
              "status_text": ""
            }
          },
          "base_uri": "https://localhost:8080/",
          "height": 89
        },
        "outputId": "9f845900-0980-4e0c-9572-05b8de6a7993"
      },
      "cell_type": "code",
      "source": [
        "from google.colab import files\n",
        "\n",
        "uploaded = files.upload()\n",
        "\n",
        "for fn in uploaded.keys():\n",
        "  print('User uploaded file \"{name}\" with length {length} bytes'.format(\n",
        "      name=fn, length=len(uploaded[fn])))"
      ],
      "execution_count": 4,
      "outputs": [
        {
          "output_type": "display_data",
          "data": {
            "text/html": [
              "\n",
              "     <input type=\"file\" id=\"files-6cc8caa2-2abd-4477-bf30-33d210bc20e1\" name=\"files[]\" multiple disabled />\n",
              "     <output id=\"result-6cc8caa2-2abd-4477-bf30-33d210bc20e1\">\n",
              "      Upload widget is only available when the cell has been executed in the\n",
              "      current browser session. Please rerun this cell to enable.\n",
              "      </output>\n",
              "      <script src=\"/nbextensions/google.colab/files.js\"></script> "
            ],
            "text/plain": [
              "<IPython.core.display.HTML object>"
            ]
          },
          "metadata": {
            "tags": []
          }
        },
        {
          "output_type": "stream",
          "text": [
            "Saving convertMinidataToML.csv to convertMinidataToML.csv\n",
            "User uploaded file \"convertMinidataToML.csv\" with length 1154382 bytes\n"
          ],
          "name": "stdout"
        }
      ]
    },
    {
      "metadata": {
        "id": "W5lgP4LSRhxB",
        "colab_type": "text"
      },
      "cell_type": "markdown",
      "source": [
        "#**UTILITIES:**"
      ]
    },
    {
      "metadata": {
        "id": "cHHl7dgH9HUl",
        "colab_type": "text"
      },
      "cell_type": "markdown",
      "source": [
        "##Optimizer:"
      ]
    },
    {
      "metadata": {
        "id": "sQif5IkFLMDE",
        "colab_type": "code",
        "colab": {},
        "cellView": "both"
      },
      "cell_type": "code",
      "source": [
        "#@title\n",
        "def optimizer(func, steps, minMax1, minMax2=False, split = 4, reduceSplit = False, searchMaximum = True):\n",
        "  \"\"\"\n",
        "  -------------------------------\n",
        "  Function can take 1 or 2 parameters to optimization.\n",
        "  Default: 2 parameters (you need to set values for minMax1 and minMax2)\n",
        "           For 1 parameter optimization set argument: \"minMax2 = False\"\n",
        "\n",
        "  -------------------------------\n",
        "  func        -->  enter your function there\n",
        "                   IMPORTANT:\n",
        "                   * if function has 1 parameter:  minMax1 = [min, max],   minMax2 = False\n",
        "                   * if function has 2 parameters: minMax1 = [min1, max1], minMax2 = [min2, max2]\n",
        "                   \n",
        "  steps       -->  number of iterations of recurency\n",
        "  \n",
        "  minMax1/2   -->  list of min and max value of parameters to begin with (ex. [min, max])\n",
        "  \n",
        "  split        -->  number of parts in which function will split values of parameters\n",
        "                   higher value -> better accuracy & longer calculation time\n",
        "                   (Values range 2 -- 10)\n",
        "                   \n",
        "  reduceSplit -->  If True: with every repetition of recurency will reduce split by one\n",
        "  \n",
        "  -------------------------------\n",
        "  \"\"\"\n",
        "  import matplotlib.pyplot as plt\n",
        "  import math\n",
        "  \n",
        "  \n",
        "  plotData = []\n",
        "  iterationCounter = 0\n",
        "  iterationsLeft = steps\n",
        "  recurencyCounter = 0\n",
        "  bestResult = None\n",
        "  print(iterationsLeft)\n",
        "  \n",
        "  #--------------------\n",
        "\n",
        "  def returnStepList(minValue, maxValue, nrSteps):\n",
        "      step = math.fabs(maxValue - minValue)/nrSteps\n",
        "      actualMin = min([minValue, maxValue])\n",
        "      actualMax = max([minValue, maxValue])\n",
        "      return [actualMin + step*nr for nr in range(nrSteps + 1)]\n",
        "\n",
        "  def resetIterators():\n",
        "    global plotData\n",
        "    global iterationCounter\n",
        "    global recurencyCounter\n",
        "    plotData = []\n",
        "    iterationCounter = 0\n",
        "    recurencyCounter = 0\n",
        "\n",
        "\n",
        "  def create_plot_optimizer(x_data, y_data=0, xLabel = 'X', yLabel = 'Y'):\n",
        "      import matplotlib.pyplot as plt\n",
        "      if y_data == 0:  \n",
        "          unzip = list(zip(*x_data))\n",
        "          x_data, y_data = unzip[0],unzip[1]\n",
        "      plt.plot(x_data, y_data)\n",
        "      plt.xlabel(xLabel)\n",
        "      plt.ylabel(yLabel)\n",
        "      plt.show()\n",
        "\n",
        "\n",
        "  def optimize(func, steps, minMax1, minMax2 = False, split = 4, reduceSplit = False, \n",
        "               searchMaximum = True, iLeft = None):\n",
        "      \n",
        "      global resetIterators\n",
        "      global iterationCounter\n",
        "      global iterationsLeft\n",
        "      global recurencyCounter\n",
        "      global bestResult\n",
        "      \n",
        "      localICounter = 0\n",
        "      iL = iLeft\n",
        "      sMax = searchMaximum\n",
        "      singleParam = False\n",
        "      bestPair = [None, None]\n",
        "      resultList = []\n",
        "      parametersList=[]\n",
        "\n",
        "      if reduceSplit is False:\n",
        "        newSplit = split\n",
        "      else:\n",
        "        if split > 2:\n",
        "          newSplit = split - 1\n",
        "        else:\n",
        "          newSplit = 2\n",
        "      if split > 10:\n",
        "        raise ValueError(\"Too big value of 'split' parameter! This would highly increase number of iterations\")\n",
        "      if minMax2 is False:\n",
        "        singleParam = True\n",
        "\n",
        "      recurencyCounter += 1\n",
        "\n",
        "      if isinstance(minMax1, list) and (isinstance(minMax2, list) or singleParam) :\n",
        "\n",
        "          stepList1 = returnStepList(minMax1[0], minMax1[1], split)\n",
        "          if singleParam:\n",
        "            stepList2 = [1]\n",
        "          else:\n",
        "            stepList2 = returnStepList(minMax2[0], minMax2[1], split)\n",
        "          \n",
        "          nrIterations = len(stepList1)*len(stepList2)\n",
        "          i1 = 0\n",
        "          i2 = 0\n",
        "\n",
        "\n",
        "\n",
        "          for el1 in stepList1:\n",
        "              i2 = 0\n",
        "              for el2 in stepList2:\n",
        "                  iterationCounter += 1\n",
        "                  localICounter += 1\n",
        "                  print(\"---Iteration: {0}/{1} ----Recurency: {2}/{3}\".format(localICounter, \n",
        "                                                              nrIterations,\n",
        "                                                              recurencyCounter,\n",
        "                                                              iL))\n",
        "\n",
        "                  #----function----\n",
        "                  if singleParam:\n",
        "                    evaluation = func(el1)\n",
        "                  else:\n",
        "                    evaluation = func(el1, el2)\n",
        "                  #----function----\n",
        "\n",
        "                  if len(resultList) > 0:\n",
        "                      #----condition----\n",
        "                      if sMax:\n",
        "                        if evaluation >= max(resultList):\n",
        "                            bestPair[0] = i1\n",
        "                            bestPair[1] = i2\n",
        "                      else:\n",
        "                        if evaluation <= min(resultList):\n",
        "                            bestPair[0] = i1\n",
        "                            bestPair[1] = i2\n",
        "\n",
        "                      #----condition----\n",
        "\n",
        "                  else:\n",
        "                    if singleParam:\n",
        "                      bestPair[0] = i1\n",
        "                    else:\n",
        "                      bestPair[0] = i1\n",
        "                      bestPair[1] = i2\n",
        "\n",
        "                  plotData.append([evaluation, iterationCounter])\n",
        "\n",
        "                  resultList.append(evaluation)\n",
        "                  if singleParam:\n",
        "                    parametersList.append([el1])\n",
        "                  else:\n",
        "                    parametersList.append([el1, el2])\n",
        "\n",
        "                  i2 += 1\n",
        "              i1 += 1\n",
        "\n",
        "          #------------------------------------------------\n",
        "\n",
        "\n",
        "          if bestPair[0] == stepList1.index(stepList1[0]):\n",
        "              minMax1[0] = stepList1[bestPair[0]]/2\n",
        "              minMax1[1] = stepList1[bestPair[0] + 1]\n",
        "  #                 print(\"best values of PARAM_1 are close to MIN value\")\n",
        "\n",
        "          elif bestPair[0] == stepList1.index(stepList1[-1]):\n",
        "              minMax1[0] = stepList1[bestPair[0] - 1]\n",
        "              minMax1[1] = stepList1[bestPair[0]]*2\n",
        "  #                 print(\"best values of PARAM_1 are close to MAX value\")\n",
        "\n",
        "\n",
        "          else:\n",
        "              minMax1[0] = stepList1[bestPair[0] - 1]\n",
        "              minMax1[1] = stepList1[bestPair[0] + 1]\n",
        "\n",
        "          #------------------------------------------------\n",
        "          if not singleParam:\n",
        "            if bestPair[1] == stepList2.index(stepList2[0]):\n",
        "                minMax2[0] = stepList1[bestPair[1]]/2\n",
        "                minMax2[1] = stepList1[bestPair[1] + 1]\n",
        "  #                 print(\"best values of PARAM_2 are close to MIN value\")\n",
        "\n",
        "            elif bestPair[1] == stepList2.index(stepList2[-1]):\n",
        "                minMax2[0] = stepList1[bestPair[1] - 1]\n",
        "                minMax2[1] = stepList1[bestPair[1]]*2\n",
        "  #                 print(\"best values of PARAM_2 are close to MAX value\")\n",
        "\n",
        "\n",
        "            else:\n",
        "                minMax2[0] = stepList2[bestPair[1] - 1]\n",
        "                minMax2[1] = stepList2[bestPair[1] + 1]\n",
        "\n",
        "          #------------------------------------------------\n",
        "          if sMax:\n",
        "            result = max(resultList)\n",
        "            param1 = parametersList[resultList.index(max(resultList))][0]\n",
        "            if not singleParam:\n",
        "              param2 = parametersList[resultList.index(max(resultList))][1]\n",
        "          else:\n",
        "            result = min(resultList)\n",
        "            param1 = parametersList[resultList.index(min(resultList))][0]\n",
        "            if not singleParam:\n",
        "              param2 = parametersList[resultList.index(min(resultList))][1]\n",
        "                    \n",
        "          if steps > 0:\n",
        "            if singleParam:\n",
        "              print(\"---------------------------------------------------------\\n\")\n",
        "              optimize(func,\n",
        "                       steps - 1,\n",
        "                       [minMax1[0],minMax1[1]],\n",
        "                       minMax2 = False,\n",
        "                       split = newSplit,\n",
        "                       reduceSplit=reduceSplit,\n",
        "                       searchMaximum = sMax,\n",
        "                       iLeft = iL )\n",
        "            else:\n",
        "              print(\"---------------------------------------------------------\\n\")\n",
        "              optimize(func,\n",
        "                       steps - 1,\n",
        "                       [minMax1[0], minMax1[1]],\n",
        "                       minMax2=[minMax2[0], minMax2[1]],\n",
        "                       split = newSplit,\n",
        "                       reduceSplit=reduceSplit,\n",
        "                       searchMaximum = sMax,\n",
        "                       iLeft = iL)\n",
        "            \n",
        "          else:\n",
        "            if singleParam:\n",
        "              print('\\n------------------ACHIEVED RESULTS------------------\\n')\n",
        "              print(\"{:<20}{}\\n{:<20}{}\\n\".format('RESULT: ',\n",
        "                                                  result,\n",
        "                                                  'PARAMETER 1: ',\n",
        "                                                  param1))\n",
        "              return [result, param1]\n",
        "            else:\n",
        "              print('\\n------------------ACHIEVED RESULTS------------------\\n')\n",
        "              print(\"{:<20}{}\\n{:<20}{}\\n{:<20}{}\\n\".format('RESULT: ',\n",
        "                                                            result,\n",
        "                                                            'PARAMETER 1: ',\n",
        "                                                            param1,\n",
        "                                                            'PARAMETER 2: ',\n",
        "                                                            param2))\n",
        "              return [result, param1, param2]\n",
        "\n",
        "      else:\n",
        "          print(\"enter correct value!\")\n",
        "         \n",
        "  resetIterators()\n",
        "  result = optimize(func,\n",
        "                    steps,\n",
        "                    minMax1,\n",
        "                    minMax2,\n",
        "                    split,\n",
        "                    reduceSplit,\n",
        "                    searchMaximum = searchMaximum,\n",
        "                    iLeft = steps+1)\n",
        "  xData = [num[1] for num in plotData]\n",
        "  yData = [num[0] for num in plotData]\n",
        "  create_plot_optimizer(xData, yData, 'Iterations', 'Result')\n",
        "  return result\n"
      ],
      "execution_count": 0,
      "outputs": []
    },
    {
      "metadata": {
        "id": "N7vEBvI6aWTt",
        "colab_type": "code",
        "outputId": "4c4af4c2-8b32-4aa3-e89f-d692f4235d3b",
        "colab": {
          "base_uri": "https://localhost:8080/",
          "height": 2163
        },
        "cellView": "both"
      },
      "cell_type": "code",
      "source": [
        "#@title\n",
        "def exampleFunction(x, y = 5):\n",
        "  return ((-20)* math.exp((((0.5*(x**2 + y**2))**0.5)*(-0.2))))\n",
        "\n",
        "\n",
        "optimizer(exampleFunction, 12 , [-10,10], minMax2=False,  split = 10, reduceSplit = True, searchMaximum = True)\n"
      ],
      "execution_count": 3,
      "outputs": [
        {
          "output_type": "stream",
          "text": [
            "12\n",
            "---Iteration: 1/11 ----Recurency: 1/13\n",
            "---Iteration: 2/11 ----Recurency: 1/13\n",
            "---Iteration: 3/11 ----Recurency: 1/13\n",
            "---Iteration: 4/11 ----Recurency: 1/13\n",
            "---Iteration: 5/11 ----Recurency: 1/13\n",
            "---Iteration: 6/11 ----Recurency: 1/13\n",
            "---Iteration: 7/11 ----Recurency: 1/13\n",
            "---Iteration: 8/11 ----Recurency: 1/13\n",
            "---Iteration: 9/11 ----Recurency: 1/13\n",
            "---Iteration: 10/11 ----Recurency: 1/13\n",
            "---Iteration: 11/11 ----Recurency: 1/13\n",
            "---------------------------------------------------------\n",
            "\n",
            "---Iteration: 1/10 ----Recurency: 2/13\n",
            "---Iteration: 2/10 ----Recurency: 2/13\n",
            "---Iteration: 3/10 ----Recurency: 2/13\n",
            "---Iteration: 4/10 ----Recurency: 2/13\n",
            "---Iteration: 5/10 ----Recurency: 2/13\n",
            "---Iteration: 6/10 ----Recurency: 2/13\n",
            "---Iteration: 7/10 ----Recurency: 2/13\n",
            "---Iteration: 8/10 ----Recurency: 2/13\n",
            "---Iteration: 9/10 ----Recurency: 2/13\n",
            "---Iteration: 10/10 ----Recurency: 2/13\n",
            "---------------------------------------------------------\n",
            "\n",
            "---Iteration: 1/9 ----Recurency: 3/13\n",
            "---Iteration: 2/9 ----Recurency: 3/13\n",
            "---Iteration: 3/9 ----Recurency: 3/13\n",
            "---Iteration: 4/9 ----Recurency: 3/13\n",
            "---Iteration: 5/9 ----Recurency: 3/13\n",
            "---Iteration: 6/9 ----Recurency: 3/13\n",
            "---Iteration: 7/9 ----Recurency: 3/13\n",
            "---Iteration: 8/9 ----Recurency: 3/13\n",
            "---Iteration: 9/9 ----Recurency: 3/13\n",
            "---------------------------------------------------------\n",
            "\n",
            "---Iteration: 1/8 ----Recurency: 4/13\n",
            "---Iteration: 2/8 ----Recurency: 4/13\n",
            "---Iteration: 3/8 ----Recurency: 4/13\n",
            "---Iteration: 4/8 ----Recurency: 4/13\n",
            "---Iteration: 5/8 ----Recurency: 4/13\n",
            "---Iteration: 6/8 ----Recurency: 4/13\n",
            "---Iteration: 7/8 ----Recurency: 4/13\n",
            "---Iteration: 8/8 ----Recurency: 4/13\n",
            "---------------------------------------------------------\n",
            "\n",
            "---Iteration: 1/7 ----Recurency: 5/13\n",
            "---Iteration: 2/7 ----Recurency: 5/13\n",
            "---Iteration: 3/7 ----Recurency: 5/13\n",
            "---Iteration: 4/7 ----Recurency: 5/13\n",
            "---Iteration: 5/7 ----Recurency: 5/13\n",
            "---Iteration: 6/7 ----Recurency: 5/13\n",
            "---Iteration: 7/7 ----Recurency: 5/13\n",
            "---------------------------------------------------------\n",
            "\n",
            "---Iteration: 1/6 ----Recurency: 6/13\n",
            "---Iteration: 2/6 ----Recurency: 6/13\n",
            "---Iteration: 3/6 ----Recurency: 6/13\n",
            "---Iteration: 4/6 ----Recurency: 6/13\n",
            "---Iteration: 5/6 ----Recurency: 6/13\n",
            "---Iteration: 6/6 ----Recurency: 6/13\n",
            "---------------------------------------------------------\n",
            "\n",
            "---Iteration: 1/5 ----Recurency: 7/13\n",
            "---Iteration: 2/5 ----Recurency: 7/13\n",
            "---Iteration: 3/5 ----Recurency: 7/13\n",
            "---Iteration: 4/5 ----Recurency: 7/13\n",
            "---Iteration: 5/5 ----Recurency: 7/13\n",
            "---------------------------------------------------------\n",
            "\n",
            "---Iteration: 1/4 ----Recurency: 8/13\n",
            "---Iteration: 2/4 ----Recurency: 8/13\n",
            "---Iteration: 3/4 ----Recurency: 8/13\n",
            "---Iteration: 4/4 ----Recurency: 8/13\n",
            "---------------------------------------------------------\n",
            "\n",
            "---Iteration: 1/3 ----Recurency: 9/13\n",
            "---Iteration: 2/3 ----Recurency: 9/13\n",
            "---Iteration: 3/3 ----Recurency: 9/13\n",
            "---------------------------------------------------------\n",
            "\n",
            "---Iteration: 1/3 ----Recurency: 10/13\n",
            "---Iteration: 2/3 ----Recurency: 10/13\n",
            "---Iteration: 3/3 ----Recurency: 10/13\n",
            "---------------------------------------------------------\n",
            "\n",
            "---Iteration: 1/3 ----Recurency: 11/13\n",
            "---Iteration: 2/3 ----Recurency: 11/13\n",
            "---Iteration: 3/3 ----Recurency: 11/13\n",
            "---------------------------------------------------------\n",
            "\n",
            "---Iteration: 1/3 ----Recurency: 12/13\n",
            "---Iteration: 2/3 ----Recurency: 12/13\n",
            "---Iteration: 3/3 ----Recurency: 12/13\n",
            "---------------------------------------------------------\n",
            "\n",
            "---Iteration: 1/3 ----Recurency: 13/13\n",
            "---Iteration: 2/3 ----Recurency: 13/13\n",
            "---Iteration: 3/3 ----Recurency: 13/13\n",
            "\n",
            "------------------ACHIEVED RESULTS------------------\n",
            "\n",
            "RESULT:             -0.0\n",
            "PARAMETER 1:        13664.818386243387\n",
            "\n"
          ],
          "name": "stdout"
        },
        {
          "output_type": "display_data",
          "data": {
            "image/png": "[encoded data removed]",
            "text/plain": [
              "<matplotlib.figure.Figure at 0x7fe70b791710>"
            ]
          },
          "metadata": {
            "tags": []
          }
        }
      ]
    },
    {
      "metadata": {
        "id": "PySAu2dE8rlq",
        "colab_type": "text"
      },
      "cell_type": "markdown",
      "source": [
        "##**Other:**"
      ]
    },
    {
      "metadata": {
        "id": "zeL7SA0PLWsc",
        "colab_type": "code",
        "colab": {},
        "cellView": "both"
      },
      "cell_type": "code",
      "source": [
        "#@title\n",
        "def searchForFailed(yList):\n",
        "    changedRowList = []\n",
        "    for row in range (len(yList)):\n",
        "        if 0 in yList[row]:\n",
        "            changedRowList.append(row)\n",
        "    return changedRowList\n",
        "\n",
        "def returnFailedData(xList, yList, changedRowList):\n",
        "    xFailed = []\n",
        "    yFailed = []\n",
        "  \n",
        "    for row in changedRowList:\n",
        "        xFailed.append(xList[row])\n",
        "        yFailed.append(yList[row])\n",
        "    xFailed = np.array(xFailed)\n",
        "    yFailed = np.array(yFailed)\n",
        "    return xFailed, yFailed\n",
        "\n"
      ],
      "execution_count": 0,
      "outputs": []
    },
    {
      "metadata": {
        "id": "gj27Oov0LYps",
        "colab_type": "code",
        "colab": {},
        "cellView": "both"
      },
      "cell_type": "code",
      "source": [
        "#@title\n",
        "def count_distribution(prediction):\n",
        "    #Distributions of argmins through all the predictions\n",
        "    i = 1\n",
        "    tab = [0] * 542\n",
        "    for a in prediction:\n",
        "        j = 0\n",
        "        for b in a:\n",
        "            if b < 1.0 : j = j + 1\n",
        "\n",
        "        #print (i, '. ', j, np.argmin(a))\n",
        "        tab[np.argmin(a)] += 1\n",
        "        i = i + 1\n",
        "\n",
        "    i = 0\n",
        "    distributed_array = []\n",
        "    for a in tab:\n",
        "        if a > 0 : \n",
        "            #print ('position', i, '\\targmin count', a)\n",
        "            distributed_array.append((i,a))\n",
        "        i += 1\n",
        "    create_plot(distributed_array)  \n",
        "    return distributed_array\n"
      ],
      "execution_count": 0,
      "outputs": []
    },
    {
      "metadata": {
        "id": "iTmrDPbaLdDE",
        "colab_type": "code",
        "colab": {},
        "cellView": "both"
      },
      "cell_type": "code",
      "source": [
        "#@title\n",
        "def failsCount():\n",
        "    fala = 0\n",
        "    for i, a in enumerate(yTest):\n",
        "        j = 0\n",
        "        for k, b in enumerate(a):\n",
        "            if b < 1.0 : j += 1\n",
        "\n",
        "        if j > 0 : \n",
        "            print (i, '. ', j)\n",
        "        i = i + 1\n",
        "        fala += j\n",
        "    print (fala)"
      ],
      "execution_count": 0,
      "outputs": []
    },
    {
      "metadata": {
        "id": "ngL3fil-LeSt",
        "colab_type": "code",
        "colab": {},
        "cellView": "both"
      },
      "cell_type": "code",
      "source": [
        "#@title\n",
        "# Evaluation function\n",
        "\n",
        "def evaluation(additionalPredictions, refYsupervisor, predictions):\n",
        "\n",
        "    lenght = len(refYsupervisor)\n",
        "\n",
        "    failPositions = [[] for y in range(lenght)]\n",
        "\n",
        "  \n",
        "    for i, a in enumerate(refYsupervisor):\n",
        "\n",
        "        for j, b in enumerate(a):\n",
        "            if b == 0 : failPositions[i].append(j);\n",
        "\n",
        "    predictionsTemp = predictions.copy()\n",
        "    predictionPositions = [[] for y in range(lenght)]\n",
        "\n",
        "\n",
        "    for i, a in enumerate(predictionsTemp):\n",
        "\n",
        "        if len(failPositions[i]) != 0:\n",
        "            for j in range(len(failPositions[i]) + additionalPredictions):\n",
        "                argmin = np.argmin(a)\n",
        "                predictionPositions[i].append(argmin)\n",
        "                predictionsTemp[i][argmin] = 1\n",
        "\n",
        "    predictionHits = [[] for y in range(lenght)]\n",
        "\n",
        "    for i, a in enumerate(failPositions):\n",
        "        count = 0\n",
        "        for j, b in enumerate(a):\n",
        "\n",
        "\n",
        "            for c in predictionPositions[i]:\n",
        "  #      predictionHits[i].append(predictions[i][c].copy())\n",
        "  #      print(predictions[i][c])\n",
        "  #      print(predictions[i][c])\n",
        "  #      print (b, c)\n",
        "                if c == b : count += 1\n",
        "\n",
        "        if len(failPositions) != 0:\n",
        "            predictionHits[i].insert(0,count)\n",
        "\n",
        "\n",
        "    failsCount = 0\n",
        "    hitsCount = 0\n",
        "    for i, a in enumerate(refYsupervisor):\n",
        "        j = 0\n",
        "\n",
        "        for k, b in enumerate(a):\n",
        "            if b < 1.0 : j += 1\n",
        "\n",
        "  #  if j > 0 :\n",
        "  #    print (i, '.', j, predictionHits[i])\n",
        "\n",
        "\n",
        "        failsCount += j\n",
        "        hitsCount += predictionHits[i][0]\n",
        "    \n",
        "    percFailsPredicted = hitsCount / failsCount * 100\n",
        "    print('Percentage of fails predicted', hitsCount / failsCount * 100, '%')\n",
        "    return percFailsPredicted"
      ],
      "execution_count": 0,
      "outputs": []
    },
    {
      "metadata": {
        "id": "QUqLiUzV82wE",
        "colab_type": "text"
      },
      "cell_type": "markdown",
      "source": [
        "#**NEURAL NETWORK:**"
      ]
    },
    {
      "metadata": {
        "id": "G9WRpAqz9pmV",
        "colab_type": "text"
      },
      "cell_type": "markdown",
      "source": [
        "##Data:"
      ]
    },
    {
      "metadata": {
        "id": "Slq936w_LgQN",
        "colab_type": "code",
        "colab": {}
      },
      "cell_type": "code",
      "source": [
        "#Importing dataset\n",
        "dataset = pd.read_csv('dataToML_newConcept.csv', index_col=False)\n",
        "\n",
        "#Check the first 5 rows of the dataset. \n",
        "dataset.head(5)"
      ],
      "execution_count": 0,
      "outputs": []
    },
    {
      "metadata": {
        "id": "2TS6_yWrL2Fe",
        "colab_type": "code",
        "colab": {}
      },
      "cell_type": "code",
      "source": [
        "x = dataset.iloc[:, 0:23739].values\n",
        "y = dataset.iloc[:, 23739:24281].values"
      ],
      "execution_count": 0,
      "outputs": []
    },
    {
      "metadata": {
        "id": "AnPHXWnQL4NV",
        "colab_type": "code",
        "colab": {}
      },
      "cell_type": "code",
      "source": [
        "xReduced, yReduced = returnFailedData(x, y, searchForFailed(y))"
      ],
      "execution_count": 0,
      "outputs": []
    },
    {
      "metadata": {
        "id": "TCLVHfK7L6dt",
        "colab_type": "code",
        "colab": {}
      },
      "cell_type": "code",
      "source": [
        "from sklearn.model_selection import train_test_split\n",
        "xTrain, xTest, yTrain, yTest = train_test_split(xReduced, yReduced, test_size = 0.2)\n"
      ],
      "execution_count": 0,
      "outputs": []
    },
    {
      "metadata": {
        "id": "wGWxKK3899YH",
        "colab_type": "text"
      },
      "cell_type": "markdown",
      "source": [
        "##Model definition:"
      ]
    },
    {
      "metadata": {
        "id": "4ETzd-5lL8R8",
        "colab_type": "code",
        "colab": {}
      },
      "cell_type": "code",
      "source": [
        "from keras.models import Sequential\n",
        "from keras.layers import Dense\n",
        "\n",
        "model = Sequential()\n",
        "\n",
        "# Adding the input layer and the output layer\n",
        "model.add(Dense(units = 542, activation=\"sigmoid\", input_dim=23739, kernel_initializer=\"uniform\")) # TRY smaller input_dim value or less neurons"
      ],
      "execution_count": 0,
      "outputs": []
    },
    {
      "metadata": {
        "id": "voRGZ2SLL9vw",
        "colab_type": "code",
        "colab": {}
      },
      "cell_type": "code",
      "source": [
        "model.compile(optimizer = tf.train.MomentumOptimizer(learning_rate = 0.01, momentum = 0.4), loss = 'binary_crossentropy', metrics = ['accuracy'])\n",
        " \n",
        "model.fit(xTrain, yTrain, batch_size = 10, epochs = 2)"
      ],
      "execution_count": 0,
      "outputs": []
    },
    {
      "metadata": {
        "id": "SNKBm1XlMARd",
        "colab_type": "code",
        "colab": {}
      },
      "cell_type": "code",
      "source": [
        "def calculateNetwork(x):\n",
        "    inputUnits = int(x)\n",
        "    firstLayerUnits = int(x)\n",
        "    secondLayerUnits = int(x)\n",
        "    if not isinstance(inputUnits, (int)) or not isinstance(firstLayerUnits, (int)) or not isinstance(secondLayerUnits, (int)):\n",
        "        print(\"Enter correct input!\")\\\n",
        "\n",
        "    else:\n",
        "        pBatchSize = 10\n",
        "        pEpochs = 1\n",
        "        pLearningRate = 0.01\n",
        "        pMomentum = 0.04\n",
        "  \n",
        "        model = Sequential()\n",
        "\n",
        "        # Adding the input layer and the first hidden layer\n",
        "        model.add(Dense(inputUnits, activation=\"sigmoid\", input_dim=23739, kernel_initializer=\"uniform\")) # TRY smaller input_dim value or less neurons\n",
        "        # Adding the second hidden layer\n",
        "        model.add(Dense(firstLayerUnits, activation = \"sigmoid\", kernel_initializer=\"uniform\"))\n",
        "        # Adding the output layer\n",
        "        model.add(Dense(secondLayerUnits, activation=\"sigmoid\", kernel_initializer=\"uniform\"))\n",
        "  \n",
        "  \n",
        "        model.compile(optimizer = tf.train.MomentumOptimizer(learning_rate = pLearningRate, momentum = pMomentum), loss = 'binary_crossentropy', metrics = ['accuracy'])\n",
        "        model.fit(xTrain, yTrain, batch_size = pBatchSize, epochs = pEpochs)\n",
        "  \n",
        "        predictions = model.predict(xReduced)\n",
        "        evaluationResult = evaluation(15, yReduced, predictions)\n",
        "        predictionArray.append(evaluationResult)\n",
        "        return evaluationResult\n",
        "    \n"
      ],
      "execution_count": 0,
      "outputs": []
    },
    {
      "metadata": {
        "id": "7ssKmBP8MGF8",
        "colab_type": "code",
        "colab": {}
      },
      "cell_type": "code",
      "source": [
        ""
      ],
      "execution_count": 0,
      "outputs": []
    }
  ]
}