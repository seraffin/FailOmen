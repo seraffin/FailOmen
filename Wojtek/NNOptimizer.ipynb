{
  "nbformat": 4,
  "nbformat_minor": 0,
  "metadata": {
    "colab": {
      "name": "NNOptimizer.ipynb",
      "version": "0.3.2",
      "provenance": [],
      "collapsed_sections": [],
      "include_colab_link": true
    },
    "kernelspec": {
      "name": "python3",
      "display_name": "Python 3"
    }
  },
  "cells": [
    {
      "cell_type": "markdown",
      "metadata": {
        "id": "view-in-github",
        "colab_type": "text"
      },
      "source": [
        "<a href=\"https://colab.research.google.com/github/seraffin/FailOmen/blob/master/Wojtek/NNOptimizer.ipynb\" target=\"_parent\"><img src=\"https://colab.research.google.com/assets/colab-badge.svg\" alt=\"Open In Colab\"/></a>"
      ]
    },
    {
      "metadata": {
        "id": "z0eUgJLQK736",
        "colab_type": "code",
        "colab": {}
      },
      "cell_type": "code",
      "source": [
        "import tensorflow as tf\n",
        "import numpy as np\n",
        "import pandas as pd\n",
        "import math\n",
        "# import keras\n",
        "\n",
        "# Helper libraries\n",
        "import matplotlib.pyplot as plt\n",
        "\n",
        "from scipy.optimize import minimize"
      ],
      "execution_count": 0,
      "outputs": []
    },
    {
      "metadata": {
        "id": "Y39aGJO5LHAg",
        "colab_type": "code",
        "colab": {}
      },
      "cell_type": "code",
      "source": [
        "def returnStepList(minValue, maxValue, nrSteps):\n",
        "    step = math.fabs(maxValue - minValue)/nrSteps\n",
        "    actualMin = min([minValue, maxValue])\n",
        "    actualMax = max([minValue, maxValue])\n",
        "    \n",
        "    \n",
        "    return [actualMin + step*nr for nr in range(nrSteps + 1)]"
      ],
      "execution_count": 0,
      "outputs": []
    },
    {
      "metadata": {
        "id": "UfL2F0PxcGnS",
        "colab_type": "code",
        "colab": {
          "base_uri": "https://localhost:8080/",
          "height": 170
        },
        "outputId": "b8e14884-0166-4dff-a8ff-68fa47b555d8"
      },
      "cell_type": "code",
      "source": [
        "returnStepList(0.004,0.04,8)"
      ],
      "execution_count": 24,
      "outputs": [
        {
          "output_type": "execute_result",
          "data": {
            "text/plain": [
              "[0.004,\n",
              " 0.0085,\n",
              " 0.013000000000000001,\n",
              " 0.0175,\n",
              " 0.022000000000000002,\n",
              " 0.026500000000000003,\n",
              " 0.031000000000000003,\n",
              " 0.035500000000000004,\n",
              " 0.04000000000000001]"
            ]
          },
          "metadata": {
            "tags": []
          },
          "execution_count": 24
        }
      ]
    },
    {
      "metadata": {
        "id": "sQif5IkFLMDE",
        "colab_type": "code",
        "colab": {}
      },
      "cell_type": "code",
      "source": [
        "plotData = []\n",
        "iterationCounter = 0\n",
        "recurencyCounter = 0\n",
        "bestResult = None\n",
        "\n",
        "def resetIterators():\n",
        "  global plotData\n",
        "  global iterationCounter\n",
        "  if plotData:\n",
        "    plotData = []\n",
        "  if iterationCounter:\n",
        "    iterationCounter = 0\n",
        "    \n",
        "\n",
        "def create_plot_optimizer(x_data, y_data=0, xLabel = 'X', yLabel = 'Y'):\n",
        "    import matplotlib.pyplot as plt\n",
        "    if y_data == 0:  \n",
        "        unzip = list(zip(*x_data))\n",
        "        x_data, y_data = unzip[0],unzip[1]\n",
        "    plt.plot(x_data, y_data)\n",
        "    plt.xlabel(xLabel)\n",
        "    plt.ylabel(yLabel)\n",
        "    plt.show()\n",
        "    \n",
        "    \n",
        "def optimize(func, steps, minMax1, minMax2=False, split = 4, reduceSplit = False):\n",
        "    global iterationCounter\n",
        "    global recurencyCounter\n",
        "    global bestResult\n",
        "    singleParam = False\n",
        "    bestPair = [None, None]\n",
        "    resultList = []\n",
        "    parametersList=[]\n",
        "            \n",
        "            \n",
        "    if reduceSplit is False:\n",
        "      newSplit = split\n",
        "    else:\n",
        "      if split > 2:\n",
        "        newSplit = split - 1\n",
        "      else:\n",
        "        newSplit = 2\n",
        "    if split > 10:\n",
        "      raise ValueError(\"Too big value of 'split' parameter! This would highly increase number of iterations\")\n",
        "    \n",
        "    if minMax2 is False:\n",
        "      singleParam = True\n",
        "       \n",
        "    recurencyCounter += 1\n",
        "#     try:\n",
        "    if True:\n",
        "        if isinstance(minMax1, list):\n",
        "            \n",
        "            stepList1 = returnStepList(minMax1[0], minMax1[1], split)\n",
        "            if singleParam:\n",
        "              stepList2 = []\n",
        "              stepList2.append(1.0)\n",
        "            else:\n",
        "              stepList2 = returnStepList(minMax2[0], minMax2[1], split)\n",
        "            \n",
        "            i1 = 0\n",
        "            i2 = 0\n",
        "\n",
        "            \n",
        "            \n",
        "            for el1 in stepList1:\n",
        "                i2 = 0\n",
        "                for el2 in stepList2:\n",
        "                    iterationCounter += 1\n",
        "                    \n",
        "                    #----function----\n",
        "                    \n",
        "                    if singleParam:\n",
        "                      evaluation = func(el1)\n",
        "                    else:\n",
        "                      evaluation = func(el1, el2)\n",
        "\n",
        "                    #----function----\n",
        "                    \n",
        "                    \n",
        "                    \n",
        "                    if len(resultList) > 0:\n",
        "                        \n",
        "                        #----condition----\n",
        "                        if evaluation >= max(resultList):\n",
        "                            bestPair[0] = i1\n",
        "                            bestPair[1] = i2\n",
        "                        \n",
        "                        #----condition----\n",
        "                    else:\n",
        "                      if singleParam:\n",
        "                        bestPair[0] = i1\n",
        "                      else:\n",
        "                        bestPair[0] = i1\n",
        "                        bestPair[1] = i2\n",
        "                    \n",
        "                    plotData.append([evaluation, iterationCounter])\n",
        "\n",
        "                    resultList.append(evaluation)\n",
        "                    if singleParam:\n",
        "                      parametersList.append([el1])\n",
        "                    else:\n",
        "                      parametersList.append([el1, el2])\n",
        "\n",
        "                    i2 += 1\n",
        "                i1 += 1\n",
        "\n",
        "            #------------------------------------------------\n",
        "            \n",
        "            \n",
        "            if bestPair[0] == stepList1.index(stepList1[0]):\n",
        "                minMax1[0] = stepList1[bestPair[0]]/2\n",
        "                minMax1[1] = stepList1[bestPair[0] + 1]\n",
        "#                 print(\"best values of PARAM_1 are close to MIN value\")\n",
        "                \n",
        "            elif bestPair[0] == stepList1.index(stepList1[-1]):\n",
        "                minMax1[0] = stepList1[bestPair[0] - 1]\n",
        "                minMax1[1] = stepList1[bestPair[0]]*2\n",
        "#                 print(\"best values of PARAM_1 are close to MAX value\")\n",
        "\n",
        "                \n",
        "            else:\n",
        "                minMax1[0] = stepList1[bestPair[0] - 1]\n",
        "                minMax1[1] = stepList1[bestPair[0] + 1]\n",
        "            \n",
        "            #------------------------------------------------\n",
        "            if not singleParam:\n",
        "              if bestPair[1] == stepList2.index(stepList2[0]):\n",
        "                  minMax2[0] = stepList1[bestPair[1]]/2\n",
        "                  minMax2[1] = stepList1[bestPair[1] + 1]\n",
        "  #                 print(\"best values of PARAM_2 are close to MIN value\")\n",
        "\n",
        "              elif bestPair[1] == stepList2.index(stepList2[-1]):\n",
        "                  minMax2[0] = stepList1[bestPair[1] - 1]\n",
        "                  minMax2[1] = stepList1[bestPair[1]]*2\n",
        "  #                 print(\"best values of PARAM_2 are close to MAX value\")\n",
        "\n",
        "\n",
        "              else:\n",
        "                  minMax2[0] = stepList2[bestPair[1] - 1]\n",
        "                  minMax2[1] = stepList2[bestPair[1] + 1]\n",
        "\n",
        "            #------------------------------------------------\n",
        "            \n",
        "            \n",
        "            result = min(resultList)\n",
        "            param1 = parametersList[resultList.index(max(resultList))][0]\n",
        "            if not singleParam:\n",
        "              param2 = parametersList[resultList.index(max(resultList))][1]\n",
        "            if steps > 0:\n",
        "              if singleParam:\n",
        "                optimize(func, steps - 1, [minMax1[0], minMax1[1]], minMax2 = False, split = newSplit)\n",
        "              else:\n",
        "                optimize(func, steps - 1, [minMax1[0], minMax1[1]], [minMax2[0], minMax2[1]], newSplit)\n",
        "\n",
        "            else:\n",
        "              if singleParam:\n",
        "                print('--------ACHIEVED RESULTS--------')\n",
        "                print(\"{:<20}{}\\n{:<20}{}\\n\".format('RESULT: ',result,'PARAMETER 1: ', param1))\n",
        "                return [result, param1]\n",
        "              else:\n",
        "                print('--------ACHIEVED RESULTS--------')\n",
        "                print(\"{:<20}{}\\n{:<20}{}\\n{:<20}{}\\n\".format('RESULT: ',result,'PARAMETER 1: ', param1,'PARAMETER 2: ', param2))\n",
        "                return [result, param1, param2]\n",
        "            \n",
        "            \n",
        "\n",
        "        else:\n",
        "            print(\"enter correct value!\")\n",
        "#     except:\n",
        "#         print(\"---ERROR---\")"
      ],
      "execution_count": 0,
      "outputs": []
    },
    {
      "metadata": {
        "id": "Lp7aAbkUGfKe",
        "colab_type": "code",
        "colab": {}
      },
      "cell_type": "code",
      "source": [
        "if not True:\n",
        "  print('hehe')"
      ],
      "execution_count": 0,
      "outputs": []
    },
    {
      "metadata": {
        "id": "B6ulXP1VLQpE",
        "colab_type": "code",
        "colab": {}
      },
      "cell_type": "code",
      "source": [
        ""
      ],
      "execution_count": 0,
      "outputs": []
    },
    {
      "metadata": {
        "id": "zeL7SA0PLWsc",
        "colab_type": "code",
        "colab": {}
      },
      "cell_type": "code",
      "source": [
        "def searchForFailed(yList):\n",
        "    changedRowList = []\n",
        "    for row in range (len(yList)):\n",
        "        if 0 in yList[row]:\n",
        "            changedRowList.append(row)\n",
        "    return changedRowList\n",
        "\n",
        "def returnFailedData(xList, yList, changedRowList):\n",
        "    xFailed = []\n",
        "    yFailed = []\n",
        "  \n",
        "    for row in changedRowList:\n",
        "        xFailed.append(xList[row])\n",
        "        yFailed.append(yList[row])\n",
        "    xFailed = np.array(xFailed)\n",
        "    yFailed = np.array(yFailed)\n",
        "    return xFailed, yFailed\n",
        "\n"
      ],
      "execution_count": 0,
      "outputs": []
    },
    {
      "metadata": {
        "id": "gj27Oov0LYps",
        "colab_type": "code",
        "colab": {}
      },
      "cell_type": "code",
      "source": [
        "def count_distribution(prediction):\n",
        "    #Distributions of argmins through all the predictions\n",
        "    i = 1\n",
        "    tab = [0] * 542\n",
        "    for a in prediction:\n",
        "        j = 0\n",
        "        for b in a:\n",
        "            if b < 1.0 : j = j + 1\n",
        "\n",
        "        #print (i, '. ', j, np.argmin(a))\n",
        "        tab[np.argmin(a)] += 1\n",
        "        i = i + 1\n",
        "\n",
        "    i = 0\n",
        "    distributed_array = []\n",
        "    for a in tab:\n",
        "        if a > 0 : \n",
        "            #print ('position', i, '\\targmin count', a)\n",
        "            distributed_array.append((i,a))\n",
        "        i += 1\n",
        "    create_plot(distributed_array)  \n",
        "    return distributed_array\n"
      ],
      "execution_count": 0,
      "outputs": []
    },
    {
      "metadata": {
        "id": "PxBPjoCgLbH9",
        "colab_type": "code",
        "colab": {}
      },
      "cell_type": "code",
      "source": [
        ""
      ],
      "execution_count": 0,
      "outputs": []
    },
    {
      "metadata": {
        "id": "iTmrDPbaLdDE",
        "colab_type": "code",
        "colab": {}
      },
      "cell_type": "code",
      "source": [
        "def failsCount():\n",
        "    fala = 0\n",
        "    for i, a in enumerate(yTest):\n",
        "        j = 0\n",
        "        for k, b in enumerate(a):\n",
        "            if b < 1.0 : j += 1\n",
        "\n",
        "        if j > 0 : \n",
        "            print (i, '. ', j)\n",
        "        i = i + 1\n",
        "        fala += j\n",
        "    print (fala)"
      ],
      "execution_count": 0,
      "outputs": []
    },
    {
      "metadata": {
        "id": "ngL3fil-LeSt",
        "colab_type": "code",
        "colab": {}
      },
      "cell_type": "code",
      "source": [
        "# Evaluation function\n",
        "\n",
        "def evaluation(additionalPredictions, refYsupervisor, predictions):\n",
        "\n",
        "    lenght = len(refYsupervisor)\n",
        "\n",
        "    failPositions = [[] for y in range(lenght)]\n",
        "\n",
        "  \n",
        "    for i, a in enumerate(refYsupervisor):\n",
        "\n",
        "        for j, b in enumerate(a):\n",
        "            if b == 0 : failPositions[i].append(j);\n",
        "\n",
        "    predictionsTemp = predictions.copy()\n",
        "    predictionPositions = [[] for y in range(lenght)]\n",
        "\n",
        "\n",
        "    for i, a in enumerate(predictionsTemp):\n",
        "\n",
        "        if len(failPositions[i]) != 0:\n",
        "            for j in range(len(failPositions[i]) + additionalPredictions):\n",
        "                argmin = np.argmin(a)\n",
        "                predictionPositions[i].append(argmin)\n",
        "                predictionsTemp[i][argmin] = 1\n",
        "\n",
        "    predictionHits = [[] for y in range(lenght)]\n",
        "\n",
        "    for i, a in enumerate(failPositions):\n",
        "        count = 0\n",
        "        for j, b in enumerate(a):\n",
        "\n",
        "\n",
        "            for c in predictionPositions[i]:\n",
        "  #      predictionHits[i].append(predictions[i][c].copy())\n",
        "  #      print(predictions[i][c])\n",
        "  #      print(predictions[i][c])\n",
        "  #      print (b, c)\n",
        "                if c == b : count += 1\n",
        "\n",
        "        if len(failPositions) != 0:\n",
        "            predictionHits[i].insert(0,count)\n",
        "\n",
        "\n",
        "    failsCount = 0\n",
        "    hitsCount = 0\n",
        "    for i, a in enumerate(refYsupervisor):\n",
        "        j = 0\n",
        "\n",
        "        for k, b in enumerate(a):\n",
        "            if b < 1.0 : j += 1\n",
        "\n",
        "  #  if j > 0 :\n",
        "  #    print (i, '.', j, predictionHits[i])\n",
        "\n",
        "\n",
        "        failsCount += j\n",
        "        hitsCount += predictionHits[i][0]\n",
        "    \n",
        "    percFailsPredicted = hitsCount / failsCount * 100\n",
        "    print('Percentage of fails predicted', hitsCount / failsCount * 100, '%')\n",
        "    return percFailsPredicted"
      ],
      "execution_count": 0,
      "outputs": []
    },
    {
      "metadata": {
        "id": "SvkRhWUNz3s-",
        "colab_type": "code",
        "colab": {}
      },
      "cell_type": "code",
      "source": [
        ""
      ],
      "execution_count": 0,
      "outputs": []
    },
    {
      "metadata": {
        "id": "Z-IHOmht6rjH",
        "colab_type": "code",
        "colab": {}
      },
      "cell_type": "code",
      "source": [
        "def exampleFunction(x, y=10):\n",
        "  return ((-20)* math.exp((((0.5*(x**2 + y**2))**0.5)*(-0.2))))\n"
      ],
      "execution_count": 0,
      "outputs": []
    },
    {
      "metadata": {
        "id": "gtmzanFFnBwa",
        "colab_type": "code",
        "colab": {
          "base_uri": "https://localhost:8080/",
          "height": 429
        },
        "outputId": "3fffc25c-fbb9-47f6-a591-cfde28595eaf"
      },
      "cell_type": "code",
      "source": [
        "#-------------------------------\n",
        "# steps       -->  number of iterations of recurency\n",
        "# spit        -->  number of parts in which function will split values of parameters\n",
        "#                  higher value -> better accuracy & longer calculation time\n",
        "#                  (Values range 2 -- 10)\n",
        "# reduceSplit -->  If True: with every repetition of recurency will reduce split by one\n",
        "\n",
        "\n",
        "resetIterators()\n",
        "optimize(exampleFunction, 4 , [1,100],  split = 4, reduceSplit = True)\n",
        "xData = [num[1] for num in plotData]\n",
        "yData = [num[0] for num in plotData]\n",
        "\n",
        "create_plot_optimizer(xData, yData, 'Iterations', 'Result')"
      ],
      "execution_count": 198,
      "outputs": [
        {
          "output_type": "stream",
          "text": [
            "--------ACHIEVED RESULTS--------\n",
            "RESULT:             -9.981283456866705e-39\n",
            "PARAMETER 1:        1600.0\n",
            "\n"
          ],
          "name": "stdout"
        },
        {
          "output_type": "display_data",
          "data": {
            "image/png": "[encoded data removed]",
            "text/plain": [
              "<matplotlib.figure.Figure at 0x7f3b0abcc4e0>"
            ]
          },
          "metadata": {
            "tags": []
          }
        }
      ]
    },
    {
      "metadata": {
        "id": "Slq936w_LgQN",
        "colab_type": "code",
        "colab": {}
      },
      "cell_type": "code",
      "source": [
        "#Importing dataset\n",
        "dataset = pd.read_csv('dataToML_newConcept.csv', index_col=False)\n",
        "\n",
        "#Check the first 5 rows of the dataset. \n",
        "dataset.head(5)"
      ],
      "execution_count": 0,
      "outputs": []
    },
    {
      "metadata": {
        "id": "2TS6_yWrL2Fe",
        "colab_type": "code",
        "colab": {}
      },
      "cell_type": "code",
      "source": [
        "x = dataset.iloc[:, 0:23739].values\n",
        "y = dataset.iloc[:, 23739:24281].values"
      ],
      "execution_count": 0,
      "outputs": []
    },
    {
      "metadata": {
        "id": "AnPHXWnQL4NV",
        "colab_type": "code",
        "colab": {}
      },
      "cell_type": "code",
      "source": [
        "xReduced, yReduced = returnFailedData(x, y, searchForFailed(y))"
      ],
      "execution_count": 0,
      "outputs": []
    },
    {
      "metadata": {
        "id": "TCLVHfK7L6dt",
        "colab_type": "code",
        "colab": {}
      },
      "cell_type": "code",
      "source": [
        "from sklearn.model_selection import train_test_split\n",
        "xTrain, xTest, yTrain, yTest = train_test_split(xReduced, yReduced, test_size = 0.2)\n"
      ],
      "execution_count": 0,
      "outputs": []
    },
    {
      "metadata": {
        "id": "4ETzd-5lL8R8",
        "colab_type": "code",
        "colab": {}
      },
      "cell_type": "code",
      "source": [
        "from keras.models import Sequential\n",
        "from keras.layers import Dense\n",
        "\n",
        "model = Sequential()\n",
        "\n",
        "# Adding the input layer and the output layer\n",
        "model.add(Dense(units = 542, activation=\"sigmoid\", input_dim=23739, kernel_initializer=\"uniform\")) # TRY smaller input_dim value or less neurons"
      ],
      "execution_count": 0,
      "outputs": []
    },
    {
      "metadata": {
        "id": "voRGZ2SLL9vw",
        "colab_type": "code",
        "colab": {}
      },
      "cell_type": "code",
      "source": [
        "model.compile(optimizer = tf.train.MomentumOptimizer(learning_rate = 0.01, momentum = 0.4), loss = 'binary_crossentropy', metrics = ['accuracy'])\n",
        " \n",
        "model.fit(xTrain, yTrain, batch_size = 10, epochs = 2)"
      ],
      "execution_count": 0,
      "outputs": []
    },
    {
      "metadata": {
        "id": "SNKBm1XlMARd",
        "colab_type": "code",
        "colab": {}
      },
      "cell_type": "code",
      "source": [
        "predictionArray = []\n",
        "\n",
        "\n",
        "\n",
        "def constraint_1(x):\n",
        "    result = 9000 - x[0] - x[1] - x[2]\n",
        "    return result\n",
        "\n",
        "def calculateNetwork(x):\n",
        "    inputUnits = int(x[0])\n",
        "    firstLayerUnits = int(x[1])\n",
        "    secondLayerUnits = int(x[2])\n",
        "    if not isinstance(inputUnits, (int)) or not isinstance(firstLayerUnits, (int)) or not isinstance(secondLayerUnits, (int)):\n",
        "        print(\"Enter correct input!\")\\\n",
        "\n",
        "    else:\n",
        "        \n",
        "        \n",
        "        pBatchSize = 10\n",
        "        pEpochs = 1\n",
        "        pLearningRate = 0.01\n",
        "        pMomentum = 0.04\n",
        "  \n",
        "        model = Sequential()\n",
        "\n",
        "        # Adding the input layer and the first hidden layer\n",
        "        model.add(Dense(inputUnits, activation=\"sigmoid\", input_dim=23739, kernel_initializer=\"uniform\")) # TRY smaller input_dim value or less neurons\n",
        "        # Adding the second hidden layer\n",
        "        model.add(Dense(firstLayerUnits, activation = \"sigmoid\", kernel_initializer=\"uniform\"))\n",
        "        # Adding the output layer\n",
        "        model.add(Dense(secondLayerUnits, activation=\"sigmoid\", kernel_initializer=\"uniform\"))\n",
        "  \n",
        "  \n",
        "        model.compile(optimizer = tf.train.MomentumOptimizer(learning_rate = pLearningRate, momentum = pMomentum), loss = 'binary_crossentropy', metrics = ['accuracy'])\n",
        "        model.fit(xTrain, yTrain, batch_size = pBatchSize, epochs = pEpochs)\n",
        "  \n",
        "        predictions = model.predict(xReduced)\n",
        "        evaluationResult = evaluation(15, yReduced, predictions)\n",
        "        predictionArray.append(evaluationResult)\n",
        "        return 100 - evaluationResult\n",
        "    \n",
        "x0 = [3000, 3000, 3000]\n",
        "a = (1000, 9000)\n",
        "b = (100, 542)\n",
        "bnds = (a,a,b)\n",
        "con1 = {'type': 'ineq' , 'fun': constraint_1}\n",
        "cons = [con1]"
      ],
      "execution_count": 0,
      "outputs": []
    },
    {
      "metadata": {
        "id": "7ssKmBP8MGF8",
        "colab_type": "code",
        "colab": {}
      },
      "cell_type": "code",
      "source": [
        "for i in range(1, 2):\n",
        "    pBatchSize = 10\n",
        "    pEpochs = 2\n",
        "    pLearningRate = 0.01\n",
        "    pMomentum = 0.01\n",
        "    \n",
        "    print(calculateNetwork([6070, 3000, 400]))\n",
        "    print(\"\\n ----------------------------------------------------------\\n\")\n",
        "\n",
        "print(predictionArray)\n",
        "#     model = Sequential()\n",
        "\n",
        "  \n",
        "  \n",
        "#     # Adding the input layer and the first hidden layer\n",
        "#     model.add(Dense(6070, activation=\"sigmoid\", input_dim=23739, kernel_initializer=\"uniform\")) # TRY smaller input_dim value or less neurons\n",
        "#     # Adding the second hidden layer\n",
        "#     model.add(Dense(2000 * i, activation = \"sigmoid\", kernel_initializer=\"uniform\"))\n",
        "#     # Adding the output layer\n",
        "#     model.add(Dense(542, activation=\"sigmoid\", kernel_initializer=\"uniform\"))\n",
        "  \n",
        "  \n",
        "#     model.compile(optimizer = tf.train.MomentumOptimizer(learning_rate = pLearningRate, momentum = pMomentum), loss = 'binary_crossentropy', metrics = ['accuracy'])\n",
        "#     model.fit(xTrain, yTrain, batch_size = pBatchSize, epochs = pEpochs)\n",
        "  \n",
        "#     predictions = model.predict(xReduced)\n",
        "  \n",
        "#     predictionArray.append(evaluation(15, yReduced))\n",
        "    "
      ],
      "execution_count": 0,
      "outputs": []
    }
  ]
}