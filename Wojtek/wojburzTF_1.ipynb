{
  "nbformat": 4,
  "nbformat_minor": 0,
  "metadata": {
    "colab": {
      "name": "wojburzTF_1.ipynb",
      "version": "0.3.2",
      "provenance": [],
      "collapsed_sections": [],
      "toc_visible": true,
      "include_colab_link": true
    },
    "kernelspec": {
      "name": "python3",
      "display_name": "Python 3"
    },
    "accelerator": "GPU"
  },
  "cells": [
    {
      "cell_type": "markdown",
      "metadata": {
        "id": "view-in-github",
        "colab_type": "text"
      },
      "source": [
        "[View in Colaboratory](https://colab.research.google.com/github/seraffin/FailOmen/blob/master/Wojtek/wojburzTF_1.ipynb)"
      ]
    },
    {
      "metadata": {
        "id": "0qlSD-EWmatb",
        "colab_type": "code",
        "colab": {}
      },
      "cell_type": "code",
      "source": [
        "import tensorflow as tf\n",
        "from tensorflow import keras\n",
        "import keras\n",
        "from keras.models import Sequential\n",
        "from keras.layers import Dense\n",
        "\n",
        "import numpy as np\n",
        "import pandas as pd\n",
        "import matplotlib.pyplot as plt\n",
        "from sklearn.model_selection import train_test_split\n",
        "from sklearn.preprocessing import LabelEncoder\n"
      ],
      "execution_count": 0,
      "outputs": []
    },
    {
      "metadata": {
        "id": "2Pbd_UvIOeH9",
        "colab_type": "code",
        "colab": {
          "base_uri": "https://localhost:8080/",
          "height": 34
        },
        "outputId": "e65c6f07-5f3a-4a31-c287-b54412fd3549"
      },
      "cell_type": "code",
      "source": [
        "device_name = tf.test.gpu_device_name()\n",
        "if device_name != '/device:GPU:0':\n",
        "  raise SystemError('GPU device not found')\n",
        "print('Found GPU at: {}'.format(device_name))"
      ],
      "execution_count": 9,
      "outputs": [
        {
          "output_type": "stream",
          "text": [
            "Found GPU at: /device:GPU:0\n"
          ],
          "name": "stdout"
        }
      ]
    },
    {
      "metadata": {
        "id": "w1BblpkbplBf",
        "colab_type": "code",
        "colab": {
          "resources": {
            "http://localhost:8080/nbextensions/google.colab/files.js": {
              "data": "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",
              "ok": true,
              "headers": [
                [
                  "content-type",
                  "application/javascript"
                ]
              ],
              "status": 200,
              "status_text": ""
            }
          },
          "base_uri": "https://localhost:8080/",
          "height": 89
        },
        "outputId": "7d700cf8-6a97-4cb8-ae4f-9739d6d103cc"
      },
      "cell_type": "code",
      "source": [
        "from google.colab import files\n",
        "\n",
        "uploaded = files.upload()\n",
        "\n",
        "for fn in uploaded.keys():\n",
        "  print(\"User uploaded file '{name} with lenght {lenght} bytes'\".format(name = fn, lenght = len(uploaded[fn])))"
      ],
      "execution_count": 105,
      "outputs": [
        {
          "output_type": "display_data",
          "data": {
            "text/html": [
              "\n",
              "     <input type=\"file\" id=\"files-e73f8354-a36e-419c-8758-130c8578a2c3\" name=\"files[]\" multiple disabled />\n",
              "     <output id=\"result-e73f8354-a36e-419c-8758-130c8578a2c3\">\n",
              "      Upload widget is only available when the cell has been executed in the\n",
              "      current browser session. Please rerun this cell to enable.\n",
              "      </output>\n",
              "      <script src=\"/nbextensions/google.colab/files.js\"></script> "
            ],
            "text/plain": [
              "<IPython.core.display.HTML object>"
            ]
          },
          "metadata": {
            "tags": []
          }
        },
        {
          "output_type": "stream",
          "text": [
            "Saving dataToML.csv to dataToML.csv\n",
            "User uploaded file 'dataToML.csv with lenght 233728906 bytes'\n"
          ],
          "name": "stdout"
        }
      ]
    },
    {
      "metadata": {
        "id": "_oO3jV-RV0-v",
        "colab_type": "code",
        "colab": {
          "base_uri": "https://localhost:8080/",
          "height": 34
        },
        "outputId": "446ad781-d858-4990-ea10-99a95925e544"
      },
      "cell_type": "code",
      "source": [
        "!mv census_data.csv /content/ /content/test_databases/"
      ],
      "execution_count": 50,
      "outputs": [
        {
          "output_type": "stream",
          "text": [
            "mv: cannot move '/content/' to a subdirectory of itself, '/content/test_databases/content'\n"
          ],
          "name": "stdout"
        }
      ]
    },
    {
      "metadata": {
        "id": "2fvb8qkBc43R",
        "colab_type": "code",
        "colab": {
          "base_uri": "https://localhost:8080/",
          "height": 34
        },
        "outputId": "efae2ba3-6340-4aa6-e56d-90b12af2c1d1"
      },
      "cell_type": "code",
      "source": [
        "!ls test_databases/"
      ],
      "execution_count": 52,
      "outputs": [
        {
          "output_type": "stream",
          "text": [
            "cal_housing_clean.csv  census_data.csv\n"
          ],
          "name": "stdout"
        }
      ]
    },
    {
      "metadata": {
        "id": "vnSREyixfd8n",
        "colab_type": "code",
        "colab": {
          "base_uri": "https://localhost:8080/",
          "height": 34
        },
        "outputId": "5b21f160-73de-4914-e348-f67295f250a6"
      },
      "cell_type": "code",
      "source": [
        "!ls"
      ],
      "execution_count": 60,
      "outputs": [
        {
          "output_type": "stream",
          "text": [
            "sample_data  test_databases\n"
          ],
          "name": "stdout"
        }
      ]
    },
    {
      "metadata": {
        "id": "oiT2rSAlbHkA",
        "colab_type": "code",
        "colab": {}
      },
      "cell_type": "code",
      "source": [
        "#importing dataset\n",
        "dataset = pd.read_csv('sample_data/california_housing_train.csv')"
      ],
      "execution_count": 0,
      "outputs": []
    },
    {
      "metadata": {
        "id": "neNU4tA_z6Hc",
        "colab_type": "code",
        "colab": {}
      },
      "cell_type": "code",
      "source": [
        "datasetFailOmen = pd.read_csv('dataToML.csv')"
      ],
      "execution_count": 0,
      "outputs": []
    },
    {
      "metadata": {
        "id": "5QH2D0xJbpPS",
        "colab_type": "code",
        "colab": {
          "base_uri": "https://localhost:8080/",
          "height": 359
        },
        "outputId": "a7ddc9df-278f-460c-87b6-1ff51cd25553"
      },
      "cell_type": "code",
      "source": [
        "dataset.head(10)"
      ],
      "execution_count": 107,
      "outputs": [
        {
          "output_type": "execute_result",
          "data": {
            "text/html": [
              "<div>\n",
              "<style scoped>\n",
              "    .dataframe tbody tr th:only-of-type {\n",
              "        vertical-align: middle;\n",
              "    }\n",
              "\n",
              "    .dataframe tbody tr th {\n",
              "        vertical-align: top;\n",
              "    }\n",
              "\n",
              "    .dataframe thead th {\n",
              "        text-align: right;\n",
              "    }\n",
              "</style>\n",
              "<table border=\"1\" class=\"dataframe\">\n",
              "  <thead>\n",
              "    <tr style=\"text-align: right;\">\n",
              "      <th></th>\n",
              "      <th>longitude</th>\n",
              "      <th>latitude</th>\n",
              "      <th>housing_median_age</th>\n",
              "      <th>total_rooms</th>\n",
              "      <th>total_bedrooms</th>\n",
              "      <th>population</th>\n",
              "      <th>households</th>\n",
              "      <th>median_income</th>\n",
              "      <th>median_house_value</th>\n",
              "    </tr>\n",
              "  </thead>\n",
              "  <tbody>\n",
              "    <tr>\n",
              "      <th>0</th>\n",
              "      <td>-114.31</td>\n",
              "      <td>34.19</td>\n",
              "      <td>15.0</td>\n",
              "      <td>5612.0</td>\n",
              "      <td>1283.0</td>\n",
              "      <td>1015.0</td>\n",
              "      <td>472.0</td>\n",
              "      <td>1.4936</td>\n",
              "      <td>66900.0</td>\n",
              "    </tr>\n",
              "    <tr>\n",
              "      <th>1</th>\n",
              "      <td>-114.47</td>\n",
              "      <td>34.40</td>\n",
              "      <td>19.0</td>\n",
              "      <td>7650.0</td>\n",
              "      <td>1901.0</td>\n",
              "      <td>1129.0</td>\n",
              "      <td>463.0</td>\n",
              "      <td>1.8200</td>\n",
              "      <td>80100.0</td>\n",
              "    </tr>\n",
              "    <tr>\n",
              "      <th>2</th>\n",
              "      <td>-114.56</td>\n",
              "      <td>33.69</td>\n",
              "      <td>17.0</td>\n",
              "      <td>720.0</td>\n",
              "      <td>174.0</td>\n",
              "      <td>333.0</td>\n",
              "      <td>117.0</td>\n",
              "      <td>1.6509</td>\n",
              "      <td>85700.0</td>\n",
              "    </tr>\n",
              "    <tr>\n",
              "      <th>3</th>\n",
              "      <td>-114.57</td>\n",
              "      <td>33.64</td>\n",
              "      <td>14.0</td>\n",
              "      <td>1501.0</td>\n",
              "      <td>337.0</td>\n",
              "      <td>515.0</td>\n",
              "      <td>226.0</td>\n",
              "      <td>3.1917</td>\n",
              "      <td>73400.0</td>\n",
              "    </tr>\n",
              "    <tr>\n",
              "      <th>4</th>\n",
              "      <td>-114.57</td>\n",
              "      <td>33.57</td>\n",
              "      <td>20.0</td>\n",
              "      <td>1454.0</td>\n",
              "      <td>326.0</td>\n",
              "      <td>624.0</td>\n",
              "      <td>262.0</td>\n",
              "      <td>1.9250</td>\n",
              "      <td>65500.0</td>\n",
              "    </tr>\n",
              "    <tr>\n",
              "      <th>5</th>\n",
              "      <td>-114.58</td>\n",
              "      <td>33.63</td>\n",
              "      <td>29.0</td>\n",
              "      <td>1387.0</td>\n",
              "      <td>236.0</td>\n",
              "      <td>671.0</td>\n",
              "      <td>239.0</td>\n",
              "      <td>3.3438</td>\n",
              "      <td>74000.0</td>\n",
              "    </tr>\n",
              "    <tr>\n",
              "      <th>6</th>\n",
              "      <td>-114.58</td>\n",
              "      <td>33.61</td>\n",
              "      <td>25.0</td>\n",
              "      <td>2907.0</td>\n",
              "      <td>680.0</td>\n",
              "      <td>1841.0</td>\n",
              "      <td>633.0</td>\n",
              "      <td>2.6768</td>\n",
              "      <td>82400.0</td>\n",
              "    </tr>\n",
              "    <tr>\n",
              "      <th>7</th>\n",
              "      <td>-114.59</td>\n",
              "      <td>34.83</td>\n",
              "      <td>41.0</td>\n",
              "      <td>812.0</td>\n",
              "      <td>168.0</td>\n",
              "      <td>375.0</td>\n",
              "      <td>158.0</td>\n",
              "      <td>1.7083</td>\n",
              "      <td>48500.0</td>\n",
              "    </tr>\n",
              "    <tr>\n",
              "      <th>8</th>\n",
              "      <td>-114.59</td>\n",
              "      <td>33.61</td>\n",
              "      <td>34.0</td>\n",
              "      <td>4789.0</td>\n",
              "      <td>1175.0</td>\n",
              "      <td>3134.0</td>\n",
              "      <td>1056.0</td>\n",
              "      <td>2.1782</td>\n",
              "      <td>58400.0</td>\n",
              "    </tr>\n",
              "    <tr>\n",
              "      <th>9</th>\n",
              "      <td>-114.60</td>\n",
              "      <td>34.83</td>\n",
              "      <td>46.0</td>\n",
              "      <td>1497.0</td>\n",
              "      <td>309.0</td>\n",
              "      <td>787.0</td>\n",
              "      <td>271.0</td>\n",
              "      <td>2.1908</td>\n",
              "      <td>48100.0</td>\n",
              "    </tr>\n",
              "  </tbody>\n",
              "</table>\n",
              "</div>"
            ],
            "text/plain": [
              "   longitude  latitude  housing_median_age  total_rooms  total_bedrooms  \\\n",
              "0    -114.31     34.19                15.0       5612.0          1283.0   \n",
              "1    -114.47     34.40                19.0       7650.0          1901.0   \n",
              "2    -114.56     33.69                17.0        720.0           174.0   \n",
              "3    -114.57     33.64                14.0       1501.0           337.0   \n",
              "4    -114.57     33.57                20.0       1454.0           326.0   \n",
              "5    -114.58     33.63                29.0       1387.0           236.0   \n",
              "6    -114.58     33.61                25.0       2907.0           680.0   \n",
              "7    -114.59     34.83                41.0        812.0           168.0   \n",
              "8    -114.59     33.61                34.0       4789.0          1175.0   \n",
              "9    -114.60     34.83                46.0       1497.0           309.0   \n",
              "\n",
              "   population  households  median_income  median_house_value  \n",
              "0      1015.0       472.0         1.4936             66900.0  \n",
              "1      1129.0       463.0         1.8200             80100.0  \n",
              "2       333.0       117.0         1.6509             85700.0  \n",
              "3       515.0       226.0         3.1917             73400.0  \n",
              "4       624.0       262.0         1.9250             65500.0  \n",
              "5       671.0       239.0         3.3438             74000.0  \n",
              "6      1841.0       633.0         2.6768             82400.0  \n",
              "7       375.0       158.0         1.7083             48500.0  \n",
              "8      3134.0      1056.0         2.1782             58400.0  \n",
              "9       787.0       271.0         2.1908             48100.0  "
            ]
          },
          "metadata": {
            "tags": []
          },
          "execution_count": 107
        }
      ]
    },
    {
      "metadata": {
        "id": "KYRa2hanb-x-",
        "colab_type": "code",
        "colab": {}
      },
      "cell_type": "code",
      "source": [
        "x = dataset.iloc[:, 0:-1].values"
      ],
      "execution_count": 0,
      "outputs": []
    },
    {
      "metadata": {
        "id": "Ij3ZdfX6iW2k",
        "colab_type": "code",
        "colab": {}
      },
      "cell_type": "code",
      "source": [
        "y = dataset.iloc[:, -1].values"
      ],
      "execution_count": 0,
      "outputs": []
    },
    {
      "metadata": {
        "id": "WN1SxyROeEQE",
        "colab_type": "code",
        "colab": {
          "base_uri": "https://localhost:8080/",
          "height": 34
        },
        "outputId": "bbfc0b7e-2089-4198-b4b9-ade45599cbdc"
      },
      "cell_type": "code",
      "source": [
        "print(y)"
      ],
      "execution_count": 99,
      "outputs": [
        {
          "output_type": "stream",
          "text": [
            "[ 66900.  80100.  85700. ... 103600.  85800.  94600.]\n"
          ],
          "name": "stdout"
        }
      ]
    },
    {
      "metadata": {
        "id": "RuorYoaping6",
        "colab_type": "code",
        "colab": {}
      },
      "cell_type": "code",
      "source": [
        "labelEncoder = LabelEncoder()"
      ],
      "execution_count": 0,
      "outputs": []
    },
    {
      "metadata": {
        "id": "3soeBSbEjA2L",
        "colab_type": "code",
        "colab": {}
      },
      "cell_type": "code",
      "source": [
        "y = labelEncoder.fit_transform(y)"
      ],
      "execution_count": 0,
      "outputs": []
    },
    {
      "metadata": {
        "id": "ppAqHfFH1sta",
        "colab_type": "code",
        "colab": {}
      },
      "cell_type": "code",
      "source": [
        "x_train, x_test, y_train, y_test = train_test_split(x, y, test_size = 0.2, random_state = 42)"
      ],
      "execution_count": 0,
      "outputs": []
    },
    {
      "metadata": {
        "id": "d-moVbu92NIj",
        "colab_type": "code",
        "colab": {}
      },
      "cell_type": "code",
      "source": [
        "classifier = Sequential()"
      ],
      "execution_count": 0,
      "outputs": []
    },
    {
      "metadata": {
        "id": "CcNaG6gw486d",
        "colab_type": "code",
        "colab": {}
      },
      "cell_type": "code",
      "source": [
        "classifier.add(Dense(units = 5, kernel_initializer = 'uniform', activation = 'relu', input_dim = 8))\n",
        "\n",
        "classifier.add(Dense(units = 5, kernel_initializer = 'uniform', activation = 'relu'))\n",
        "\n",
        "classifier.add(Dense(units = 1, kernel_initializer = 'uniform', activation = 'sigmoid'))\n",
        "\n",
        "classifier.compile(optimizer = 'adam', loss = 'binary_crossentropy', metrics = ['accuracy'])\n"
      ],
      "execution_count": 0,
      "outputs": []
    },
    {
      "metadata": {
        "id": "3WTAo4-E-BWk",
        "colab_type": "code",
        "colab": {
          "base_uri": "https://localhost:8080/",
          "height": 3434
        },
        "outputId": "609cf1b9-28d4-434c-9b8f-d17488fa30bf"
      },
      "cell_type": "code",
      "source": [
        "classifier.fit(x_train, y_train, batch_size = 10, epochs= 100)"
      ],
      "execution_count": 122,
      "outputs": [
        {
          "output_type": "stream",
          "text": [
            "Epoch 1/100\n",
            "13600/13600 [==============================] - 13s 960us/step - loss: -16482.1820 - acc: 0.0000e+00\n",
            "Epoch 2/100\n",
            "13600/13600 [==============================] - 13s 945us/step - loss: -24862.6963 - acc: 0.0000e+00\n",
            "Epoch 3/100\n",
            "13600/13600 [==============================] - 13s 939us/step - loss: -24862.6964 - acc: 0.0000e+00\n",
            "Epoch 4/100\n",
            "13600/13600 [==============================] - 13s 945us/step - loss: -24862.6963 - acc: 0.0000e+00\n",
            "Epoch 5/100\n",
            "13600/13600 [==============================] - 13s 944us/step - loss: -24862.6963 - acc: 0.0000e+00\n",
            "Epoch 6/100\n",
            "13600/13600 [==============================] - 13s 938us/step - loss: -24862.6963 - acc: 0.0000e+00\n",
            "Epoch 7/100\n",
            "13600/13600 [==============================] - 13s 938us/step - loss: -24862.6963 - acc: 0.0000e+00\n",
            "Epoch 8/100\n",
            "13600/13600 [==============================] - 13s 937us/step - loss: -24862.6963 - acc: 0.0000e+00\n",
            "Epoch 9/100\n",
            "13600/13600 [==============================] - 13s 936us/step - loss: -24862.6963 - acc: 0.0000e+00\n",
            "Epoch 10/100\n",
            "13600/13600 [==============================] - 13s 941us/step - loss: -24862.6963 - acc: 0.0000e+00\n",
            "Epoch 11/100\n",
            "13600/13600 [==============================] - 13s 929us/step - loss: -24862.6963 - acc: 0.0000e+00\n",
            "Epoch 12/100\n",
            "13600/13600 [==============================] - 13s 969us/step - loss: -24862.6963 - acc: 0.0000e+00\n",
            "Epoch 13/100\n",
            "13600/13600 [==============================] - 13s 968us/step - loss: -24862.6963 - acc: 0.0000e+00\n",
            "Epoch 14/100\n",
            "13600/13600 [==============================] - 13s 940us/step - loss: -24862.6963 - acc: 0.0000e+00\n",
            "Epoch 15/100\n",
            "13600/13600 [==============================] - 13s 935us/step - loss: -24862.6963 - acc: 0.0000e+00\n",
            "Epoch 16/100\n",
            "13600/13600 [==============================] - 13s 942us/step - loss: -24862.6963 - acc: 0.0000e+00\n",
            "Epoch 17/100\n",
            "13600/13600 [==============================] - 13s 938us/step - loss: -24862.6964 - acc: 0.0000e+00\n",
            "Epoch 18/100\n",
            "13600/13600 [==============================] - 13s 937us/step - loss: -24862.6963 - acc: 0.0000e+00\n",
            "Epoch 19/100\n",
            "13600/13600 [==============================] - 13s 939us/step - loss: -24862.6963 - acc: 0.0000e+00\n",
            "Epoch 20/100\n",
            "13600/13600 [==============================] - 13s 939us/step - loss: -24862.6964 - acc: 0.0000e+00\n",
            "Epoch 21/100\n",
            "13600/13600 [==============================] - 13s 941us/step - loss: -24862.6963 - acc: 0.0000e+00\n",
            "Epoch 22/100\n",
            "13600/13600 [==============================] - 13s 938us/step - loss: -24862.6963 - acc: 0.0000e+00\n",
            "Epoch 23/100\n",
            "13600/13600 [==============================] - 13s 943us/step - loss: -24862.6963 - acc: 0.0000e+00\n",
            "Epoch 24/100\n",
            "13600/13600 [==============================] - 13s 938us/step - loss: -24862.6963 - acc: 0.0000e+00\n",
            "Epoch 25/100\n",
            "13600/13600 [==============================] - 13s 939us/step - loss: -24862.6963 - acc: 0.0000e+00\n",
            "Epoch 26/100\n",
            "13600/13600 [==============================] - 13s 942us/step - loss: -24862.6963 - acc: 0.0000e+00\n",
            "Epoch 27/100\n",
            "13600/13600 [==============================] - 13s 940us/step - loss: -24862.6963 - acc: 0.0000e+00\n",
            "Epoch 28/100\n",
            "13600/13600 [==============================] - 13s 936us/step - loss: -24862.6963 - acc: 0.0000e+00\n",
            "Epoch 29/100\n",
            "13600/13600 [==============================] - 13s 933us/step - loss: -24862.6963 - acc: 0.0000e+00\n",
            "Epoch 30/100\n",
            "13600/13600 [==============================] - 13s 940us/step - loss: -24862.6963 - acc: 0.0000e+00\n",
            "Epoch 31/100\n",
            "13600/13600 [==============================] - 13s 936us/step - loss: -24862.6963 - acc: 0.0000e+00\n",
            "Epoch 32/100\n",
            "13600/13600 [==============================] - 13s 940us/step - loss: -24862.6963 - acc: 0.0000e+00\n",
            "Epoch 33/100\n",
            "13600/13600 [==============================] - 13s 937us/step - loss: -24862.6963 - acc: 0.0000e+00\n",
            "Epoch 34/100\n",
            "13600/13600 [==============================] - 13s 937us/step - loss: -24862.6964 - acc: 0.0000e+00\n",
            "Epoch 35/100\n",
            "13600/13600 [==============================] - 13s 931us/step - loss: -24862.6964 - acc: 0.0000e+00\n",
            "Epoch 36/100\n",
            "13600/13600 [==============================] - 13s 955us/step - loss: -24862.6963 - acc: 0.0000e+00\n",
            "Epoch 37/100\n",
            "13600/13600 [==============================] - 13s 975us/step - loss: -24862.6963 - acc: 0.0000e+00\n",
            "Epoch 38/100\n",
            "13600/13600 [==============================] - 13s 937us/step - loss: -24862.6963 - acc: 0.0000e+00\n",
            "Epoch 39/100\n",
            "13600/13600 [==============================] - 13s 936us/step - loss: -24862.6963 - acc: 0.0000e+00\n",
            "Epoch 40/100\n",
            "13600/13600 [==============================] - 13s 933us/step - loss: -24862.6964 - acc: 0.0000e+00\n",
            "Epoch 41/100\n",
            "13600/13600 [==============================] - 13s 941us/step - loss: -24862.6963 - acc: 0.0000e+00\n",
            "Epoch 42/100\n",
            "13600/13600 [==============================] - 13s 940us/step - loss: -24862.6964 - acc: 0.0000e+00\n",
            "Epoch 43/100\n",
            "13600/13600 [==============================] - 13s 935us/step - loss: -24862.6963 - acc: 0.0000e+00\n",
            "Epoch 44/100\n",
            "13600/13600 [==============================] - 13s 939us/step - loss: -24862.6963 - acc: 0.0000e+00\n",
            "Epoch 45/100\n",
            "13600/13600 [==============================] - 13s 939us/step - loss: -24862.6963 - acc: 0.0000e+00\n",
            "Epoch 46/100\n",
            "13600/13600 [==============================] - 13s 927us/step - loss: -24862.6963 - acc: 0.0000e+00\n",
            "Epoch 47/100\n",
            "13600/13600 [==============================] - 13s 939us/step - loss: -24862.6963 - acc: 0.0000e+00\n",
            "Epoch 48/100\n",
            "13600/13600 [==============================] - 13s 935us/step - loss: -24862.6964 - acc: 0.0000e+00\n",
            "Epoch 49/100\n",
            "13600/13600 [==============================] - 13s 930us/step - loss: -24862.6963 - acc: 0.0000e+00\n",
            "Epoch 50/100\n",
            "13600/13600 [==============================] - 13s 940us/step - loss: -24862.6963 - acc: 0.0000e+00\n",
            "Epoch 51/100\n",
            "13600/13600 [==============================] - 13s 935us/step - loss: -24862.6963 - acc: 0.0000e+00\n",
            "Epoch 52/100\n",
            "13600/13600 [==============================] - 13s 930us/step - loss: -24862.6963 - acc: 0.0000e+00\n",
            "Epoch 53/100\n",
            "13600/13600 [==============================] - 13s 932us/step - loss: -24862.6963 - acc: 0.0000e+00\n",
            "Epoch 54/100\n",
            "13600/13600 [==============================] - 13s 937us/step - loss: -24862.6963 - acc: 0.0000e+00\n",
            "Epoch 55/100\n",
            "13600/13600 [==============================] - 13s 937us/step - loss: -24862.6963 - acc: 0.0000e+00\n",
            "Epoch 56/100\n",
            "13600/13600 [==============================] - 13s 938us/step - loss: -24862.6963 - acc: 0.0000e+00\n",
            "Epoch 57/100\n",
            "13600/13600 [==============================] - 13s 932us/step - loss: -24862.6963 - acc: 0.0000e+00\n",
            "Epoch 58/100\n",
            "13600/13600 [==============================] - 13s 934us/step - loss: -24862.6963 - acc: 0.0000e+00\n",
            "Epoch 59/100\n",
            "13600/13600 [==============================] - 13s 935us/step - loss: -24862.6963 - acc: 0.0000e+00\n",
            "Epoch 60/100\n",
            "13600/13600 [==============================] - 13s 935us/step - loss: -24862.6963 - acc: 0.0000e+00\n",
            "Epoch 61/100\n",
            "13600/13600 [==============================] - 13s 973us/step - loss: -24862.6964 - acc: 0.0000e+00\n",
            "Epoch 62/100\n",
            "13600/13600 [==============================] - 13s 947us/step - loss: -24862.6963 - acc: 0.0000e+00\n",
            "Epoch 63/100\n",
            "13600/13600 [==============================] - 13s 933us/step - loss: -24862.6963 - acc: 0.0000e+00\n",
            "Epoch 64/100\n",
            "13600/13600 [==============================] - 13s 936us/step - loss: -24862.6963 - acc: 0.0000e+00\n",
            "Epoch 65/100\n",
            "13600/13600 [==============================] - 13s 939us/step - loss: -24862.6963 - acc: 0.0000e+00\n",
            "Epoch 66/100\n",
            "13600/13600 [==============================] - 13s 933us/step - loss: -24862.6963 - acc: 0.0000e+00\n",
            "Epoch 67/100\n",
            "13600/13600 [==============================] - 13s 936us/step - loss: -24862.6963 - acc: 0.0000e+00\n",
            "Epoch 68/100\n",
            "13600/13600 [==============================] - 13s 944us/step - loss: -24862.6963 - acc: 0.0000e+00\n",
            "Epoch 69/100\n",
            "13600/13600 [==============================] - 13s 940us/step - loss: -24862.6963 - acc: 0.0000e+00\n",
            "Epoch 70/100\n",
            "13600/13600 [==============================] - 13s 941us/step - loss: -24862.6963 - acc: 0.0000e+00\n",
            "Epoch 71/100\n",
            "13600/13600 [==============================] - 13s 940us/step - loss: -24862.6963 - acc: 0.0000e+00\n",
            "Epoch 72/100\n",
            "13600/13600 [==============================] - 13s 940us/step - loss: -24862.6964 - acc: 0.0000e+00\n",
            "Epoch 73/100\n",
            "13600/13600 [==============================] - 13s 942us/step - loss: -24862.6964 - acc: 0.0000e+00\n",
            "Epoch 74/100\n",
            "13600/13600 [==============================] - 13s 943us/step - loss: -24862.6963 - acc: 0.0000e+00\n",
            "Epoch 75/100\n",
            "13600/13600 [==============================] - 13s 937us/step - loss: -24862.6963 - acc: 0.0000e+00\n",
            "Epoch 76/100\n",
            "13600/13600 [==============================] - 13s 942us/step - loss: -24862.6963 - acc: 0.0000e+00\n",
            "Epoch 77/100\n",
            "13600/13600 [==============================] - 13s 933us/step - loss: -24862.6963 - acc: 0.0000e+00\n",
            "Epoch 78/100\n",
            "13600/13600 [==============================] - 13s 938us/step - loss: -24862.6963 - acc: 0.0000e+00\n",
            "Epoch 79/100\n",
            "13600/13600 [==============================] - 13s 942us/step - loss: -24862.6964 - acc: 0.0000e+00\n",
            "Epoch 80/100\n",
            "13600/13600 [==============================] - 13s 931us/step - loss: -24862.6963 - acc: 0.0000e+00\n",
            "Epoch 81/100\n",
            "13600/13600 [==============================] - 13s 940us/step - loss: -24862.6963 - acc: 0.0000e+00\n",
            "Epoch 82/100\n",
            "13600/13600 [==============================] - 13s 929us/step - loss: -24862.6963 - acc: 0.0000e+00\n",
            "Epoch 83/100\n",
            "13600/13600 [==============================] - 13s 935us/step - loss: -24862.6963 - acc: 0.0000e+00\n",
            "Epoch 84/100\n",
            "13600/13600 [==============================] - 13s 933us/step - loss: -24862.6963 - acc: 0.0000e+00\n",
            "Epoch 85/100\n",
            "13600/13600 [==============================] - 13s 970us/step - loss: -24862.6963 - acc: 0.0000e+00\n",
            "Epoch 86/100\n",
            "13600/13600 [==============================] - 13s 952us/step - loss: -24862.6962 - acc: 0.0000e+00\n",
            "Epoch 87/100\n",
            "13600/13600 [==============================] - 13s 937us/step - loss: -24862.6963 - acc: 0.0000e+00\n",
            "Epoch 88/100\n",
            "13600/13600 [==============================] - 13s 942us/step - loss: -24862.6963 - acc: 0.0000e+00\n",
            "Epoch 89/100\n",
            "13600/13600 [==============================] - 13s 939us/step - loss: -24862.6963 - acc: 0.0000e+00\n",
            "Epoch 90/100\n",
            "13600/13600 [==============================] - 13s 939us/step - loss: -24862.6963 - acc: 0.0000e+00\n",
            "Epoch 91/100\n",
            "13600/13600 [==============================] - 13s 934us/step - loss: -24862.6963 - acc: 0.0000e+00\n",
            "Epoch 92/100\n",
            "13600/13600 [==============================] - 13s 937us/step - loss: -24862.6963 - acc: 0.0000e+00\n",
            "Epoch 93/100\n",
            "13600/13600 [==============================] - 13s 937us/step - loss: -24862.6963 - acc: 0.0000e+00\n",
            "Epoch 94/100\n",
            "13600/13600 [==============================] - 13s 934us/step - loss: -24862.6963 - acc: 0.0000e+00\n",
            "Epoch 95/100\n",
            "13600/13600 [==============================] - 13s 933us/step - loss: -24862.6963 - acc: 0.0000e+00\n",
            "Epoch 96/100\n",
            "13600/13600 [==============================] - 13s 935us/step - loss: -24862.6963 - acc: 0.0000e+00\n",
            "Epoch 97/100\n",
            "13600/13600 [==============================] - 13s 934us/step - loss: -24862.6964 - acc: 0.0000e+00\n",
            "Epoch 98/100\n",
            "13600/13600 [==============================] - 13s 937us/step - loss: -24862.6963 - acc: 0.0000e+00\n",
            "Epoch 99/100\n",
            "13600/13600 [==============================] - 13s 938us/step - loss: -24862.6963 - acc: 0.0000e+00\n",
            "Epoch 100/100\n",
            "13600/13600 [==============================] - 13s 934us/step - loss: -24862.6963 - acc: 0.0000e+00\n"
          ],
          "name": "stdout"
        },
        {
          "output_type": "execute_result",
          "data": {
            "text/plain": [
              "<keras.callbacks.History at 0x7f2710da6390>"
            ]
          },
          "metadata": {
            "tags": []
          },
          "execution_count": 122
        }
      ]
    },
    {
      "metadata": {
        "id": "0oiQbssADFyr",
        "colab_type": "code",
        "colab": {
          "base_uri": "https://localhost:8080/",
          "height": 136
        },
        "outputId": "d22ca538-3cfb-4a4c-c406-dcf86f70b42a"
      },
      "cell_type": "code",
      "source": [
        "y_pred = classifier.predict(x_test)\n",
        "y_pred = (y_pred > 0.5)\n",
        "\n",
        "from sklearn.metrics import confusion_matrix\n",
        "cm = confusion_matrix(y_test, y_pred)\n",
        "\n",
        "cm"
      ],
      "execution_count": 123,
      "outputs": [
        {
          "output_type": "execute_result",
          "data": {
            "text/plain": [
              "array([[  0,   1,   0, ...,   0,   0,   0],\n",
              "       [  0,   1,   0, ...,   0,   0,   0],\n",
              "       [  0,   1,   0, ...,   0,   0,   0],\n",
              "       ...,\n",
              "       [  0,   1,   0, ...,   0,   0,   0],\n",
              "       [  0,   6,   0, ...,   0,   0,   0],\n",
              "       [  0, 168,   0, ...,   0,   0,   0]])"
            ]
          },
          "metadata": {
            "tags": []
          },
          "execution_count": 123
        }
      ]
    }
  ]
}