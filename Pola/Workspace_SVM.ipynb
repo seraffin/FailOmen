{
  "nbformat": 4,
  "nbformat_minor": 0,
  "metadata": {
    "colab": {
      "name": "Workspace_SVM.ipynb",
      "version": "0.3.2",
      "provenance": [],
      "collapsed_sections": [],
      "include_colab_link": true
    },
    "kernelspec": {
      "name": "python3",
      "display_name": "Python 3"
    },
    "accelerator": "GPU"
  },
  "cells": [
    {
      "cell_type": "markdown",
      "metadata": {
        "id": "view-in-github",
        "colab_type": "text"
      },
      "source": [
        "<a href=\"https://colab.research.google.com/github/seraffin/FailOmen/blob/master/Pola/Workspace_SVM.ipynb\" target=\"_parent\"><img src=\"https://colab.research.google.com/assets/colab-badge.svg\" alt=\"Open In Colab\"/></a>"
      ]
    },
    {
      "metadata": {
        "id": "8nx7mo1JCC22",
        "colab_type": "code",
        "colab": {}
      },
      "cell_type": "code",
      "source": [
        "import tensorflow as tf\n",
        "import math\n",
        "\n",
        "# Helper libraries\n",
        "import matplotlib.pyplot as plt\n",
        "import numpy as np\n",
        "from sklearn.model_selection import train_test_split"
      ],
      "execution_count": 0,
      "outputs": []
    },
    {
      "metadata": {
        "id": "QmLtAzxg3jc8",
        "colab_type": "code",
        "outputId": "27e2c060-976e-45dc-b148-0f577efbb7a5",
        "colab": {
          "base_uri": "https://localhost:8080/",
          "height": 34
        }
      },
      "cell_type": "code",
      "source": [
        "device_name = tf.test.gpu_device_name()\n",
        "if device_name != '/device:GPU:0':\n",
        "  raise SystemError('GPU device not found')\n",
        "print('Found GPU at: {}'.format(device_name))"
      ],
      "execution_count": 0,
      "outputs": [
        {
          "output_type": "stream",
          "text": [
            "Found GPU at: /device:GPU:0\n"
          ],
          "name": "stdout"
        }
      ]
    },
    {
      "metadata": {
        "id": "4hijZ7SlUARA",
        "colab_type": "code",
        "outputId": "3142b9ce-258d-4dbb-9677-f76cc42e8947",
        "colab": {
          "base_uri": "https://localhost:8080/",
          "height": 34
        }
      },
      "cell_type": "code",
      "source": [
        "from google.colab import drive\n",
        "drive.mount('/content/gdrive')"
      ],
      "execution_count": 0,
      "outputs": [
        {
          "output_type": "stream",
          "text": [
            "Drive already mounted at /content/gdrive; to attempt to forcibly remount, call drive.mount(\"/content/gdrive\", force_remount=True).\n"
          ],
          "name": "stdout"
        }
      ]
    },
    {
      "metadata": {
        "id": "Fa13Uq6IO1Cd",
        "colab_type": "code",
        "outputId": "b80d0938-14a2-45a0-81b3-829552688f0d",
        "colab": {
          "base_uri": "https://localhost:8080/",
          "height": 34
        }
      },
      "cell_type": "code",
      "source": [
        "!ls\n",
        "!cd '/content/gdrive/My Drive/FailOmen'"
      ],
      "execution_count": 0,
      "outputs": [
        {
          "output_type": "stream",
          "text": [
            "gdrive\tsample_data\n"
          ],
          "name": "stdout"
        }
      ]
    },
    {
      "metadata": {
        "id": "62-iybQU_Yw7",
        "colab_type": "code",
        "colab": {}
      },
      "cell_type": "code",
      "source": [
        "import pandas as pd\n",
        "\n",
        "#Importing dataset\n",
        "dataset = pd.read_csv('/content/gdrive/My Drive/FailOmen/convertDataToML.csv', index_col=False)"
      ],
      "execution_count": 0,
      "outputs": []
    },
    {
      "metadata": {
        "id": "um1FNlpf_zOE",
        "colab_type": "code",
        "colab": {}
      },
      "cell_type": "code",
      "source": [
        "x = dataset.iloc[:, 0:23739].values\n",
        "y = dataset.iloc[:, 23739:24281].values"
      ],
      "execution_count": 0,
      "outputs": []
    },
    {
      "metadata": {
        "id": "E2IOOl-qangL",
        "colab_type": "code",
        "outputId": "d7e0ed4c-5f75-4ede-c0bb-3e5fa19a708f",
        "colab": {
          "base_uri": "https://localhost:8080/",
          "height": 85
        }
      },
      "cell_type": "code",
      "source": [
        "failCount = 0\n",
        "passCount = 0\n",
        "failBuildCount = 0\n",
        "\n",
        "for a in y:\n",
        "  if a[np.argmin(a)] == 0 : failBuildCount += 1\n",
        "  for b in a:\n",
        "    if b == 0 : failCount += 1\n",
        "    if b == 1 : passCount += 1\n",
        "print (failBuildCount)\n",
        "print (failCount)\n",
        "print (passCount)\n",
        "print (failCount / passCount * 100, '%', sep='')"
      ],
      "execution_count": 0,
      "outputs": [
        {
          "output_type": "stream",
          "text": [
            "632\n",
            "973\n",
            "2607673\n",
            "0.037312960635785236%\n"
          ],
          "name": "stdout"
        }
      ]
    },
    {
      "metadata": {
        "id": "RLRrKfR-bL1j",
        "colab_type": "code",
        "colab": {}
      },
      "cell_type": "code",
      "source": [
        ""
      ],
      "execution_count": 0,
      "outputs": []
    },
    {
      "metadata": {
        "id": "0MgA1hV7Ljoe",
        "colab_type": "text"
      },
      "cell_type": "markdown",
      "source": [
        "## **UTILITIES:**\n",
        "\n",
        "\n",
        "---"
      ]
    },
    {
      "metadata": {
        "id": "PlhSJE1hLbl3",
        "colab_type": "code",
        "colab": {}
      },
      "cell_type": "code",
      "source": [
        "def count_distribution(prediction):\n",
        "  #Distributions of argmins through all the predictions\n",
        "  i = 1\n",
        "  tab = [0] * 542\n",
        "  for a in prediction:\n",
        "    j = 0\n",
        "    for b in a:\n",
        "      if b < 1.0 : j = j + 1\n",
        "\n",
        "    #print (i, '. ', j, np.argmin(a))\n",
        "    tab[np.argmin(a)] += 1\n",
        "    i = i + 1\n",
        "\n",
        "  i = 0\n",
        "  number_of_tests =  542\n",
        "  distributed_array = [0 for iterator in range(number_of_tests)]\n",
        "  for a in tab:\n",
        "    if a > 0 : \n",
        "      pass\n",
        "#       print ('position', i, '\\targmin count', a)\n",
        "      distributed_array[i] = a\n",
        "    i += 1\n",
        "#   print (i)\n",
        "  create_plot(range(len(distributed_array)), distributed_array)  \n",
        "  return distributed_array\n"
      ],
      "execution_count": 0,
      "outputs": []
    },
    {
      "metadata": {
        "id": "69cYXEP18fPe",
        "colab_type": "code",
        "colab": {}
      },
      "cell_type": "code",
      "source": [
        "def create_plot(x_data, y_data=0):\n",
        "  import matplotlib.pyplot as plt\n",
        "  if y_data == 0:  \n",
        "    unzip = list(zip(*x_data))\n",
        "    x_data, y_data = unzip[0],unzip[1]\n",
        "    print (x_data)\n",
        "    print (\"\\n\", y_data)\n",
        "  \n",
        "  plt.bar(x_data, y_data, align='center', alpha=1, width = 3)\n",
        "  plt.xlabel(\"test no\")\n",
        "  plt.ylabel(\"how many times test was predicted as probably failed\")\n",
        "  plt.show()"
      ],
      "execution_count": 0,
      "outputs": []
    },
    {
      "metadata": {
        "id": "tLkzhHugfFWP",
        "colab_type": "text"
      },
      "cell_type": "markdown",
      "source": [
        "uwaga, w funkcji ponizej searchForFailed(), w wyborze dodania spassowanych testow do trainig/testing set-a, mino ze podajemy dokladny procent z spassowanych danych jaki chcemy wykorzysatc, procet ten moze sie roznic w rzeczywistosci. Spowodowane jest to warunkiem modulo, np 20% bedzie 20%, 90% bedzie 100% \n",
        "\n",
        " "
      ]
    },
    {
      "metadata": {
        "id": "ECE6fYlxLxZY",
        "colab_type": "code",
        "colab": {}
      },
      "cell_type": "code",
      "source": [
        "def searchForFailed(yList, percent_of_passed_data=20, withpassed_data=False): \n",
        "  changedRowList = []\n",
        "  period_counter_for_passedData = 0\n",
        "  for row in range (len(yList)):\n",
        "    if 0 in yList[row]:\n",
        "      changedRowList.append(row)\n",
        "      continue\n",
        "    elif withpassed_data == True:\n",
        "      try:\n",
        "        modulo_arg = int(1/(percent_of_passed_data/100))\n",
        "      except:\n",
        "        withpassed_data = False\n",
        "        continue\n",
        "      if not (period_counter_for_passedData%modulo_arg):\n",
        "        changedRowList.append(row)\n",
        "    period_counter_for_passedData += 1\n",
        "      \n",
        "  return changedRowList\n",
        "\n",
        "def returnFailedData(xList, yList, changedRowList):\n",
        "  xFailed = []\n",
        "  yFailed = []\n",
        "  \n",
        "  for row in changedRowList:\n",
        "    xFailed.append(xList[row])\n",
        "    yFailed.append(yList[row])\n",
        "  xFailed = np.array(xFailed)\n",
        "  yFailed = np.array(yFailed)\n",
        "  return xFailed, yFailed"
      ],
      "execution_count": 0,
      "outputs": []
    },
    {
      "metadata": {
        "id": "QvZssrz2aDHg",
        "colab_type": "code",
        "colab": {}
      },
      "cell_type": "code",
      "source": [
        "def failsCount():\n",
        "  fala = 0\n",
        "  for i, a in enumerate(yTest):\n",
        "    j = 0\n",
        "    for k, b in enumerate(a):\n",
        "      if b < 1.0 : j += 1\n",
        "\n",
        "    if j > 0 : \n",
        "      print (i, '. ', j)\n",
        "    i = i + 1\n",
        "    fala += j\n",
        "  print (fala)"
      ],
      "execution_count": 0,
      "outputs": []
    },
    {
      "metadata": {
        "id": "OXtv0HaDaEoM",
        "colab_type": "code",
        "colab": {}
      },
      "cell_type": "code",
      "source": [
        "# Evaluation function\n",
        "\n",
        "def evaluation(predictions,additionalPredictions, refYsupervisor):\n",
        "  \n",
        "  lenght = len(refYsupervisor)\n",
        "\n",
        "  failPositions = [[] for y in range(lenght)]\n",
        "\n",
        "  for i, a in enumerate(refYsupervisor):\n",
        "\n",
        "    for j, b in enumerate(a):\n",
        "      if b == 0 : failPositions[i].append(j);#spisuje w listach(per commit) pozycje, gdzie sfailowal test [3,78,90, itp]\n",
        "\n",
        "  predictionsTemp = predictions.copy()#tablica list, w ktotej sa przedstawione prawd wystapienia danej labeliki\n",
        "  # todo \n",
        "  #prediction_real byl juz listo po powrotnym mapowaniu, zlozona z testow (czyli ich indeksami 1-542)do sailowania , od najbardziej prawdopodobnych do najmniej \n",
        "  \n",
        "  \n",
        "#   print(predictionsTemp) \n",
        "#   print(type(predictionsTemp))\n",
        "#   print(len(predictionsTemp))\n",
        "#   print(predictionsTemp[0])\n",
        "#   print(predictionsTemp[0][0])\n",
        "  predictionPositions = [[] for y in range(lenght)]\n",
        "\n",
        "\n",
        "  for i, commit in enumerate(predictionsTemp):\n",
        "\n",
        "    if len(failPositions[i]) != 0:#jezeli w danym commicie byl wh jakis blad\n",
        "      for j in range(len(failPositions[i]) + additionalPredictions):#tyle razy co sfailowanych testow + dodatkowe, przez nas zdefiniowane\n",
        "        argmin = np.argmin(commit)# argmin = jest indeksem najmniejsza wartoscia dla predykcji sieci , czyt. indexem najbardziej prawdopodobnej\n",
        "        predictionPositions[i].append(argmin)#umiesc index tej  najbardziej prawdopodobna wartosc, w tab dla danego komitu \n",
        "        predictionsTemp[i][argmin] = 1#nie berz pod uwage juz tej wartosci\n",
        "\n",
        "  predictionHits = [[] for y in range(lenght)]\n",
        "\n",
        "  for i, a in enumerate(failPositions):\n",
        "    count = 0\n",
        "    for j, b in enumerate(a):\n",
        "\n",
        "\n",
        "      for c in predictionPositions[i]:\n",
        "  #      predictionHits[i].append(predictions[i][c].copy())\n",
        "  #      print(predictions[i][c])\n",
        "  #      print(predictions[i][c])\n",
        "  #      print (b, c)\n",
        "        if c == b : count += 1\n",
        "\n",
        "    if len(failPositions) != 0:\n",
        "      predictionHits[i].insert(0,count)\n",
        "\n",
        "\n",
        "  failsCount = 0\n",
        "  hitsCount = 0\n",
        "  for i, a in enumerate(refYsupervisor):\n",
        "    j = 0\n",
        "\n",
        "    for k, b in enumerate(a):\n",
        "      if b < 1.0 : j += 1\n",
        "\n",
        "  #  if j > 0 :\n",
        "  #    print (i, '.', j, predictionHits[i])\n",
        "\n",
        "\n",
        "    failsCount += j\n",
        "    hitsCount += predictionHits[i][0]\n",
        "\n",
        "  print('Percentage of fails predicted', hitsCount / failsCount * 100, '%')"
      ],
      "execution_count": 0,
      "outputs": []
    },
    {
      "metadata": {
        "id": "42wJQ7P4izbr",
        "colab_type": "code",
        "colab": {}
      },
      "cell_type": "code",
      "source": [
        "def listSingleMemberClassesPositions(refY, printFlag):\n",
        "\n",
        "  yList = refY.tolist()\n",
        "  print (len(yList))\n",
        "  yDistinct = [ele for ind, ele in enumerate(yList) if ele not in yList[:ind]]\n",
        "\n",
        "  classesPopulation = []\n",
        "  singleMemberClassesPositions = []\n",
        "  noSingleMemberClasses = 0\n",
        "\n",
        "  for i, a in enumerate(yDistinct):\n",
        "    population = 0\n",
        "    memberPosition = 0\n",
        "    for j, b in enumerate(yList):\n",
        "      if a == b: \n",
        "        population += 1\n",
        "        memberPosition = j\n",
        "\n",
        "    classesPopulation.append(population)\n",
        "  #  print(i, population)\n",
        "    if population == 1: \n",
        "      noSingleMemberClasses += 1\n",
        "      singleMemberClassesPositions.append(memberPosition)\n",
        "\n",
        "  if printFlag == True: \n",
        "    print(noSingleMemberClasses)\n",
        "  else:\n",
        "    return singleMemberClassesPositions\n",
        "  \n"
      ],
      "execution_count": 0,
      "outputs": []
    },
    {
      "metadata": {
        "id": "jIhEbtA9Lr6J",
        "colab_type": "text"
      },
      "cell_type": "markdown",
      "source": [
        "\n",
        "\n",
        "---\n",
        "\n",
        "\n",
        "\n",
        "---\n",
        "\n",
        "\n",
        "\n",
        "---\n",
        "\n"
      ]
    },
    {
      "metadata": {
        "id": "mskKtPb0R8CQ",
        "colab_type": "text"
      },
      "cell_type": "markdown",
      "source": [
        "## **PREPARE DATA**"
      ]
    },
    {
      "metadata": {
        "id": "utDW-luFOIML",
        "colab_type": "text"
      },
      "cell_type": "markdown",
      "source": [
        "**(optional) create only 'failed data'**"
      ]
    },
    {
      "metadata": {
        "id": "BXVlPwABOPnB",
        "colab_type": "code",
        "colab": {}
      },
      "cell_type": "code",
      "source": [
        "import numpy\n",
        "xReduced, yReduced = returnFailedData(x, y, searchForFailed(y,percent_of_passed_data=1,withpassed_data=True))\n"
      ],
      "execution_count": 0,
      "outputs": []
    },
    {
      "metadata": {
        "id": "t3aipXpRcVpU",
        "colab_type": "code",
        "colab": {}
      },
      "cell_type": "code",
      "source": [
        "def count_fail_to_pass_ratio(refy):\n",
        "  failCount = 0\n",
        "  passCount = 0\n",
        "  failBuildCount = 0\n",
        "\n",
        "  for a in y:\n",
        "    if a[np.argmin(a)] == 0 : failBuildCount += 1\n",
        "  print (\"To training were used data : \")\n",
        "  print (\"failed builds: \", failBuildCount)\n",
        "  passed_builds = len(refy) - failBuildCount\n",
        "  print('passed builds: ', passed_builds)\n",
        "  try:\n",
        "    print (\"failed to passed  ratio: \", failBuildCount / passed_builds * 100, '%', sep='')\n",
        "  except :\n",
        "    print (\"only failed data\")\n",
        "  \n",
        "  \n",
        "# count_fail_to_pass_ratio(yReduced)\n",
        "  \n",
        "\n",
        "  \n",
        "  "
      ],
      "execution_count": 0,
      "outputs": []
    },
    {
      "metadata": {
        "id": "PmKhHbI4R_sN",
        "colab_type": "text"
      },
      "cell_type": "markdown",
      "source": [
        "\n",
        "\n",
        "---\n",
        "\n",
        "\n",
        "\n",
        "---\n",
        "\n",
        "\n",
        "\n",
        "---\n",
        "\n"
      ]
    },
    {
      "metadata": {
        "id": "ivhO-gnUSEQP",
        "colab_type": "text"
      },
      "cell_type": "markdown",
      "source": [
        "## PREPARE MODEL"
      ]
    },
    {
      "metadata": {
        "id": "k1UWVSs7xg1-",
        "colab_type": "code",
        "outputId": "214c783b-3205-4b8c-8b4e-6f86bd94b813",
        "colab": {
          "base_uri": "https://localhost:8080/",
          "height": 173
        }
      },
      "cell_type": "code",
      "source": [
        "from sklearn import cross_validation, grid_search\n",
        "from sklearn.metrics import confusion_matrix, classification_report\n",
        "from sklearn.svm import SVC\n",
        "from sklearn import svm\n",
        "\n",
        "import numpy\n",
        "xReduced, yReduced = returnFailedData(x, y, searchForFailed(y,percent_of_passed_data=0,withpassed_data=False))# bez danych spassowanych\n",
        "\n",
        "#################################-- MAPOWANIE MACIERZY NA WEKTOR --#################################################################\n",
        "#select real classes\n",
        "yReduced_temp = yReduced.tolist()\n",
        "real_classes = [(ele) for ind, ele in enumerate(yReduced_temp) if ele not in yReduced_temp[:ind]]#takie klasy mozna wyroznic z supervisora dla danych testowych np [1,0,0,0,1....] inna klasa jest [0,0,0,1,0,1...] itp. \n",
        "\n",
        "\n",
        "# create svm_labels\n",
        "svm_labels = []\n",
        "for i in range(542):\n",
        "  svm_labels.append(float(i))#tworzenie labelek do svm, narazie nie polaczonych z prawdziwymi danymi\n",
        "\n",
        "# create mapper\n",
        "class_mapper = [tuple((real_class, svm_labels[i])) for i, real_class in enumerate(real_classes)]#mapper ktory przypozadkowuje prawdziwym klasom klasy svm np klasa [1,0,0,0,1....] dostaje klase svm 0, itd.\n",
        "\n",
        "\n",
        "# create new supervisor  \n",
        "temp_mapped_supervisor = []  \n",
        "for real_row in yReduced_temp:\n",
        "  for mapper_row in class_mapper:\n",
        "    if real_row == mapper_row[0]:\n",
        "      temp_mapped_supervisor.append(mapper_row[1])# klasy svm przypisane do wiersz danych tesowych np xReduced[0] ma supervisora = 0,  xReduced[123] ma supervisora = 7\n",
        "print(temp_mapped_supervisor)      \n",
        "#map supervisor to numpy.array      \n",
        "mapped_supervisor=numpy.array([numpy.array(xi) for xi in temp_mapped_supervisor])#przekonvertowanie na numpy array\n",
        "# print(mapped_supervisor[123])\n",
        "\n",
        "print(\"tyle wystapien klasy n w danych treningowych: \",len([ele for ele in mapped_supervisor if ele == 155]))\n",
        "print (\"tyle wierszy w danych treningowych: \", len(mapped_supervisor))\n",
        "print (\"tyle klas znaleziono w danych treningowych: \", len(set(mapped_supervisor)))\n",
        "####################################################################################################################################\n",
        "    \n",
        "\n",
        "# xReduced, yReduced = returnFailedData(x, y, searchForFailed(y))\n",
        "from sklearn.model_selection import train_test_split\n",
        "xTrain, xTest, yTrain, yTest = train_test_split(xReduced, mapped_supervisor, test_size = 0.2, random_state=77)\n",
        "# print(np.shape(xTrain))\n",
        "# print(np.shape(yTrain))\n"
      ],
      "execution_count": 0,
      "outputs": [
        {
          "output_type": "stream",
          "text": [
            "/usr/local/lib/python3.6/dist-packages/sklearn/cross_validation.py:41: DeprecationWarning: This module was deprecated in version 0.18 in favor of the model_selection module into which all the refactored classes and functions are moved. Also note that the interface of the new CV iterators are different from that of this module. This module will be removed in 0.20.\n",
            "  \"This module will be removed in 0.20.\", DeprecationWarning)\n",
            "/usr/local/lib/python3.6/dist-packages/sklearn/grid_search.py:42: DeprecationWarning: This module was deprecated in version 0.18 in favor of the model_selection module into which all the refactored classes and functions are moved. This module will be removed in 0.20.\n",
            "  DeprecationWarning)\n"
          ],
          "name": "stderr"
        },
        {
          "output_type": "stream",
          "text": [
            "[0.0, 1.0, 2.0, 3.0, 4.0, 5.0, 6.0, 6.0, 7.0, 8.0, 9.0, 10.0, 11.0, 12.0, 13.0, 14.0, 15.0, 16.0, 16.0, 16.0, 16.0, 16.0, 17.0, 18.0, 18.0, 18.0, 18.0, 18.0, 19.0, 19.0, 19.0, 19.0, 19.0, 20.0, 21.0, 22.0, 23.0, 24.0, 25.0, 2.0, 26.0, 14.0, 27.0, 28.0, 28.0, 28.0, 29.0, 5.0, 28.0, 28.0, 28.0, 30.0, 31.0, 32.0, 33.0, 34.0, 35.0, 24.0, 36.0, 37.0, 38.0, 39.0, 40.0, 24.0, 41.0, 42.0, 15.0, 15.0, 43.0, 24.0, 44.0, 15.0, 15.0, 15.0, 44.0, 15.0, 15.0, 45.0, 15.0, 15.0, 44.0, 46.0, 12.0, 20.0, 47.0, 48.0, 49.0, 50.0, 24.0, 51.0, 12.0, 52.0, 24.0, 53.0, 54.0, 55.0, 42.0, 24.0, 31.0, 31.0, 56.0, 57.0, 24.0, 5.0, 24.0, 5.0, 20.0, 58.0, 59.0, 60.0, 61.0, 62.0, 63.0, 64.0, 64.0, 65.0, 32.0, 32.0, 53.0, 53.0, 53.0, 53.0, 53.0, 7.0, 7.0, 7.0, 24.0, 66.0, 24.0, 24.0, 24.0, 9.0, 9.0, 67.0, 67.0, 68.0, 66.0, 66.0, 66.0, 69.0, 33.0, 66.0, 70.0, 66.0, 24.0, 71.0, 72.0, 72.0, 73.0, 24.0, 33.0, 74.0, 24.0, 75.0, 75.0, 66.0, 37.0, 76.0, 31.0, 77.0, 24.0, 24.0, 12.0, 12.0, 12.0, 12.0, 12.0, 78.0, 47.0, 53.0, 53.0, 53.0, 79.0, 52.0, 80.0, 53.0, 81.0, 82.0, 76.0, 76.0, 83.0, 76.0, 83.0, 84.0, 76.0, 24.0, 24.0, 85.0, 85.0, 86.0, 87.0, 85.0, 70.0, 85.0, 86.0, 88.0, 85.0, 70.0, 89.0, 90.0, 91.0, 66.0, 24.0, 66.0, 72.0, 70.0, 85.0, 69.0, 92.0, 85.0, 93.0, 94.0, 85.0, 24.0, 95.0, 96.0, 97.0, 98.0, 99.0, 99.0, 99.0, 99.0, 85.0, 86.0, 98.0, 100.0, 101.0, 90.0, 90.0, 102.0, 85.0, 103.0, 99.0, 56.0, 104.0, 105.0, 106.0, 106.0, 107.0, 108.0, 90.0, 99.0, 53.0, 85.0, 53.0, 109.0, 110.0, 53.0, 65.0, 111.0, 112.0, 113.0, 21.0, 114.0, 85.0, 100.0, 90.0, 34.0, 85.0, 90.0, 115.0, 85.0, 90.0, 92.0, 78.0, 34.0, 116.0, 66.0, 117.0, 34.0, 85.0, 17.0, 118.0, 94.0, 119.0, 120.0, 121.0, 69.0, 122.0, 46.0, 118.0, 56.0, 70.0, 123.0, 124.0, 78.0, 15.0, 125.0, 85.0, 56.0, 56.0, 66.0, 26.0, 78.0, 60.0, 126.0, 126.0, 78.0, 127.0, 128.0, 124.0, 66.0, 23.0, 129.0, 130.0, 131.0, 118.0, 118.0, 121.0, 118.0, 132.0, 100.0, 133.0, 134.0, 135.0, 135.0, 134.0, 136.0, 137.0, 137.0, 138.0, 139.0, 140.0, 141.0, 142.0, 142.0, 143.0, 144.0, 144.0, 145.0, 146.0, 145.0, 147.0, 147.0, 148.0, 149.0, 145.0, 150.0, 150.0, 151.0, 145.0, 152.0, 145.0, 153.0, 154.0, 155.0, 152.0, 139.0, 151.0, 156.0, 151.0, 157.0, 158.0, 157.0, 159.0, 160.0, 160.0, 160.0, 160.0, 160.0, 161.0, 162.0, 162.0, 163.0, 162.0, 139.0, 164.0, 165.0, 139.0, 166.0, 167.0, 143.0, 168.0, 169.0, 170.0, 171.0, 172.0, 173.0, 143.0, 174.0, 175.0, 176.0, 177.0, 178.0, 179.0, 180.0, 143.0, 143.0, 175.0, 175.0, 181.0, 143.0, 182.0, 183.0, 184.0, 185.0, 186.0, 187.0, 152.0, 177.0, 143.0, 188.0, 143.0, 189.0, 133.0, 175.0, 190.0, 191.0, 192.0, 193.0, 133.0, 194.0, 152.0, 195.0, 196.0, 179.0, 152.0, 197.0, 197.0, 175.0, 197.0, 198.0, 199.0, 197.0, 200.0, 201.0, 202.0, 203.0, 204.0, 205.0, 206.0, 207.0, 175.0, 155.0, 164.0, 208.0, 209.0, 210.0, 175.0, 155.0, 211.0, 212.0, 213.0, 207.0, 207.0, 214.0, 193.0, 144.0, 215.0, 216.0, 217.0, 218.0, 218.0, 218.0, 207.0, 155.0, 219.0, 195.0, 155.0, 195.0, 220.0, 221.0, 165.0, 222.0, 207.0, 207.0, 151.0, 175.0, 216.0, 151.0, 223.0, 224.0, 225.0, 226.0, 207.0, 227.0, 155.0, 155.0, 228.0, 229.0, 229.0, 229.0, 229.0, 229.0, 165.0, 230.0, 231.0, 216.0, 175.0, 232.0, 232.0, 220.0, 155.0, 151.0, 233.0, 234.0, 235.0, 236.0, 235.0, 235.0, 235.0, 235.0, 237.0, 235.0, 236.0, 238.0, 235.0, 235.0, 239.0, 239.0, 239.0, 240.0, 235.0, 235.0, 235.0, 235.0, 151.0, 235.0, 235.0, 151.0, 241.0, 242.0, 242.0, 242.0, 242.0, 242.0, 243.0, 244.0, 241.0, 155.0, 245.0, 216.0, 246.0, 247.0, 248.0, 242.0, 151.0, 207.0, 249.0, 241.0, 189.0, 250.0, 251.0, 155.0, 252.0, 253.0, 254.0, 255.0, 256.0, 257.0, 258.0, 164.0, 259.0, 260.0, 261.0, 262.0, 259.0, 259.0, 199.0, 263.0, 264.0, 265.0, 266.0, 263.0, 267.0, 263.0, 268.0, 269.0, 270.0, 271.0, 197.0, 272.0, 273.0, 160.0, 274.0, 275.0, 276.0, 197.0, 274.0, 277.0, 278.0, 274.0, 191.0, 193.0, 279.0, 273.0, 275.0, 280.0, 155.0, 189.0, 155.0, 155.0, 281.0, 281.0, 189.0, 155.0, 155.0, 155.0, 155.0, 282.0, 283.0, 284.0, 155.0, 155.0, 235.0, 285.0, 255.0, 286.0, 286.0, 286.0, 189.0, 189.0, 287.0, 189.0, 280.0, 288.0, 155.0, 155.0, 155.0, 155.0, 155.0, 188.0, 155.0, 289.0, 289.0, 155.0, 290.0, 291.0, 155.0, 289.0, 155.0, 203.0]\n",
            "tyle wystapien klasy n w danych treningowych:  28\n",
            "tyle wierszy w danych treningowych:  632\n",
            "tyle klas znaleziono w danych treningowych:  292\n"
          ],
          "name": "stdout"
        }
      ]
    },
    {
      "metadata": {
        "id": "vPRrHzYvypom",
        "colab_type": "code",
        "outputId": "4c0c4db1-3a04-458d-dd76-abea1e1db154",
        "colab": {
          "base_uri": "https://localhost:8080/",
          "height": 85
        }
      },
      "cell_type": "code",
      "source": [
        "\n",
        "# mala gamma  -  odlegle punkty, od potencjalnej garnicy , maja wplyw na ustawienie granicy (decision boundary)  => moze powodobac niedopasownie\n",
        "# duza gamma -  tylko bliskie punkty, od potencjalnej garnicy , maja wplyw na ustawienie granicy (decision boundary) => moze powodowac overfiting\n",
        "clf = svm.SVC(gamma=0.01,probability=True)#gamma 0.0001\n",
        "# clf = svm.SVC(gamma=0.01,probability=False)#gamma 0.0001\n",
        "clf.fit(xTrain, yTrain) "
      ],
      "execution_count": 0,
      "outputs": [
        {
          "output_type": "execute_result",
          "data": {
            "text/plain": [
              "SVC(C=1.0, cache_size=200, class_weight=None, coef0=0.0,\n",
              "  decision_function_shape='ovr', degree=3, gamma=0.01, kernel='rbf',\n",
              "  max_iter=-1, probability=True, random_state=None, shrinking=True,\n",
              "  tol=0.001, verbose=False)"
            ]
          },
          "metadata": {
            "tags": []
          },
          "execution_count": 17
        }
      ]
    },
    {
      "metadata": {
        "id": "x-oHXGBPzsMG",
        "colab_type": "code",
        "colab": {}
      },
      "cell_type": "code",
      "source": [
        ""
      ],
      "execution_count": 0,
      "outputs": []
    },
    {
      "metadata": {
        "id": "sJY1xTCDSLNI",
        "colab_type": "text"
      },
      "cell_type": "markdown",
      "source": [
        "\n",
        "\n",
        "---\n",
        "\n",
        "\n",
        "\n",
        "---\n",
        "\n",
        "\n",
        "\n",
        "---\n",
        "\n"
      ]
    },
    {
      "metadata": {
        "id": "tzanoRBUSoWo",
        "colab_type": "text"
      },
      "cell_type": "markdown",
      "source": [
        "## **TEST MODEL**"
      ]
    },
    {
      "metadata": {
        "id": "80qYJa28rzE0",
        "colab_type": "code",
        "outputId": "a03f53ad-994e-4b81-8323-3059bad9a879",
        "colab": {
          "base_uri": "https://localhost:8080/",
          "height": 136
        }
      },
      "cell_type": "code",
      "source": [
        "\n",
        "predictions = clf.predict(xTest)\n",
        "# print (predictions[0])\n",
        "# print(len(predictions))\n",
        "# print(predictions)\n",
        "proba_predictions = clf.predict_proba(xTest)\n",
        "print (proba_predictions)\n",
        "\n",
        "from sklearn import metrics\n",
        "\n",
        "# # Model Accuracy: how often is the classifier correct?\n",
        "# print(\"Accuracy:\",metrics.accuracy_score(xTest,  yTest))\n"
      ],
      "execution_count": 64,
      "outputs": [
        {
          "output_type": "stream",
          "text": [
            "[[0.0027397  0.00328256 0.00268905 ... 0.00274635 0.00306844 0.00376391]\n",
            " [0.00262965 0.00263297 0.00277724 ... 0.00268789 0.00269611 0.00271385]\n",
            " [0.00268707 0.00274468 0.00268833 ... 0.00270701 0.00292699 0.00338765]\n",
            " ...\n",
            " [0.0027415  0.00328451 0.00269059 ... 0.00274821 0.00307    0.00376607]\n",
            " [0.00304618 0.00333489 0.00300135 ... 0.0030998  0.00322139 0.0036384 ]\n",
            " [0.00293465 0.00261106 0.00367315 ... 0.0030414  0.00283023 0.00238187]]\n"
          ],
          "name": "stdout"
        }
      ]
    },
    {
      "metadata": {
        "id": "MUEUXBSlAXg7",
        "colab_type": "code",
        "outputId": "5da39e69-7c72-490e-ecd5-f0833b3a1c98",
        "colab": {
          "base_uri": "https://localhost:8080/",
          "height": 376
        }
      },
      "cell_type": "code",
      "source": [
        "#jakie klasy byly naczesciej(znajdowaly sie w pierwszej 15 najbardziej prawdopodobnych) wybierane\n",
        "def choose_best_predicted_classes():\n",
        "  all_row_best_pred = []\n",
        "  plt_data = [0 for svm_class in svm_labels]\n",
        "  for prob_prediction in proba_predictions:\n",
        "    pair_prob_prediction = [(idx, element) for idx, element in enumerate(prob_prediction)]\n",
        "    sorted_prob_prediction = list(prob_prediction)\n",
        "    pair_prob_prediction_sorted = sorted(pair_prob_prediction, key=lambda ele: ele[1])\n",
        "    best_pred = pair_prob_prediction_sorted[-15:]\n",
        "    all_row_best_pred.append(best_pred)\n",
        "    for pred_class in best_pred:\n",
        "      plt_data[pred_class[0]] += 1\n",
        "  return all_row_best_pred,plt_data \n",
        "\n",
        "all_row_best_pred, plt_data = choose_best_predicted_classes()  \n",
        "\n",
        "\n",
        "# print (plt_data)\n",
        "bar_width = 1\n",
        "# widths = [10  for i in range(len(svm_labels))]   \n",
        "y_pos = range(len(svm_labels))\n",
        "performance = plt_data\n",
        "l_y_pos = list(y_pos)\n",
        "l_y_pos = l_y_pos[:250]\n",
        "np_y_pos = np.array(l_y_pos)\n",
        "plt.bar(np_y_pos + bar_width, performance[:250], align='center', alpha=0.5)\n",
        "plt.xticks(np_y_pos + bar_width / 2)\n",
        "plt.ylabel('liczba wybran klasy')\n",
        "plt.xlabel('numer klasy')\n",
        "plt.title('rozklad wybierania klas jako sfailowane')\n",
        "plt.show()\n",
        "\n",
        "\n",
        "  "
      ],
      "execution_count": 65,
      "outputs": [
        {
          "output_type": "display_data",
          "data": {
            "image/png": "[encoded data removed]",
            "text/plain": [
              "<matplotlib.figure.Figure at 0x7f5c15f46588>"
            ]
          },
          "metadata": {
            "tags": []
          }
        }
      ]
    },
    {
      "metadata": {
        "id": "iccc9VCbqaxx",
        "colab_type": "code",
        "colab": {
          "base_uri": "https://localhost:8080/",
          "height": 376
        },
        "outputId": "8c206d20-6a3e-415f-c6a7-66d8e41f10a5"
      },
      "cell_type": "code",
      "source": [
        "def create_fake_pred(quantity_of_predictions, quantity_oftests_set_as_failed=15):\n",
        "  import random\n",
        "  stats =  [0 for i in range(542)]\n",
        "  random_matrix_pred = []\n",
        "  for row_no in range(quantity_of_predictions):\n",
        "      random_pred_list = [1 for i in range(542)]\n",
        "      random_indexes_list = []\n",
        "      while (len(random_indexes_list) <  15):\n",
        "          drawn_index= random.randint(0,230)\n",
        "          if random.randint(0,230) not in random_indexes_list:\n",
        "            random_indexes_list.append(drawn_index)\n",
        "          \n",
        "      for idx in random_indexes_list:\n",
        "        stats[idx] = stats[idx] + 1\n",
        "        \n",
        "      random_matrix_pred.append(random_indexes_list)\n",
        "      \n",
        "  random_matrix_pred = np.array(random_matrix_pred)\n",
        "  return random_matrix_pred, stats, \n",
        "\n",
        "stats = create_fake_pred(len(yTest))[1]\n",
        "y_pos = range(len(stats))\n",
        "performance = stats\n",
        "\n",
        "plt.bar(y_pos, performance, align='center', alpha=0.5)\n",
        "plt.xticks(y_pos)\n",
        "plt.ylabel('liczba wybran testu')\n",
        "plt.xlabel('numer testu')\n",
        "plt.title('rozklad wybierania testow jako sfailowane')\n",
        "plt.show()\n"
      ],
      "execution_count": 57,
      "outputs": [
        {
          "output_type": "display_data",
          "data": {
            "image/png": "[encoded data removed]",
            "text/plain": [
              "<matplotlib.figure.Figure at 0x7f5c1627ca20>"
            ]
          },
          "metadata": {
            "tags": []
          }
        }
      ]
    },
    {
      "metadata": {
        "id": "UpriS5Jq9ByJ",
        "colab_type": "code",
        "outputId": "cb685f79-c39d-4b42-a3e1-93ca0d0bf4f9",
        "colab": {
          "base_uri": "https://localhost:8080/",
          "height": 68
        }
      },
      "cell_type": "code",
      "source": [
        "#evaluation \n",
        "\n",
        "def read_predicted_tests_numbers(best_pred): \n",
        "  svm_pred_to_fail = []\n",
        "  test_counter = 0\n",
        "  for svm_class in best_pred:\n",
        "    for ele in class_mapper:\n",
        "      if svm_class[0] == ele[1]:\n",
        "        for idx,test in enumerate(ele[0]):\n",
        "          if test == 0:\n",
        "            svm_pred_to_fail.append(idx)\n",
        "            test_counter += 1\n",
        "            if test_counter > 15:\n",
        "              return svm_pred_to_fail\n",
        "  else:\n",
        "    return svm_pred_to_fail\n",
        "  \n",
        "def read_real_tests_numbers(idx, ref_yTest):\n",
        "  real_class = class_mapper[int(yTest[idx])]\n",
        "  for pair in class_mapper:\n",
        "    if pair[1] == ref_yTest[idx]:\n",
        "      real_vector =  list(pair[0])\n",
        "  real_failed_tests_numbers = [test_id for test_id, test  in enumerate(real_vector) if test == 0]\n",
        "  return real_failed_tests_numbers\n",
        "  \n",
        "  \n",
        "def new_evaluation(all_row_best_pred, yTest, is_fake_pred=False):  \n",
        "  all_performances = []\n",
        "\n",
        "  for idx, best_pred in enumerate(all_row_best_pred): \n",
        "    real_failed_tests_numbers = set(read_real_tests_numbers(idx, yTest))\n",
        "    if is_fake_pred == True:\n",
        "      predicted_tests_numbers = set(best_pred)\n",
        "    else:\n",
        "      predicted_tests_numbers = set(read_predicted_tests_numbers(best_pred))\n",
        "    diffrence = real_failed_tests_numbers - predicted_tests_numbers\n",
        "    try:\n",
        "      single_perfomance = (1 - (len(diffrence)/len(real_failed_tests_numbers)))\n",
        "    except ZeroDivisionError:\n",
        "      print(\"skip eveluation due to no failed test in class\")\n",
        "      continue\n",
        "    all_performances.append(single_perfomance)\n",
        "  return all_performances\n",
        "\n",
        "  \n",
        "all_performance = new_evaluation(all_row_best_pred, yTest) \n",
        "average_performance = sum(all_performance)/ len(all_performance)\n",
        "print(\"============================================================================================\")\n",
        "fake_pred = create_fake_pred(len(yTest))[0]\n",
        "fake_evaluation = new_evaluation(fake_pred, yTest,is_fake_pred=True)\n",
        "average_fake_pred = sum(fake_evaluation)/ len(fake_evaluation)\n",
        "\n",
        "print(average_performance)\n",
        "print(average_fake_pred)  \n",
        "  \n",
        "  \n",
        "  \n",
        "          \n",
        "      \n",
        "\n",
        "  "
      ],
      "execution_count": 59,
      "outputs": [
        {
          "output_type": "stream",
          "text": [
            "============================================================================================\n",
            "0.12073490813648294\n",
            "0.014435695538057744\n"
          ],
          "name": "stdout"
        }
      ]
    },
    {
      "metadata": {
        "id": "bmd8oveCCLdd",
        "colab_type": "code",
        "colab": {}
      },
      "cell_type": "code",
      "source": [
        ""
      ],
      "execution_count": 0,
      "outputs": []
    },
    {
      "metadata": {
        "colab_type": "code",
        "id": "e8Ez4ulnAZAe",
        "colab": {
          "base_uri": "https://localhost:8080/",
          "height": 34
        },
        "outputId": "494a2822-ca42-457d-d6c7-e91bd608bcc3"
      },
      "cell_type": "code",
      "source": [
        "def svm_function(gamma_parameter):\n",
        "  global xTrain, yTrain, xTest, yTest, class_mapper\n",
        "  clf = svm.SVC(gamma=gamma_parameter,probability=True)#gamma 0.0001\n",
        "  clf.fit(xTrain, yTrain)\n",
        "\n",
        "  proba_predictions = clf.predict_proba(xTest)\n",
        "  \n",
        "  \n",
        "  def choose_best_predicted_classes():\n",
        "    all_row_best_pred = []\n",
        "    plt_data = [0 for svm_class in svm_labels]\n",
        "    for prob_prediction in proba_predictions:\n",
        "      pair_prob_prediction = [(idx, element) for idx, element in enumerate(prob_prediction)]\n",
        "      sorted_prob_prediction = list(prob_prediction)\n",
        "      pair_prob_prediction_sorted = sorted(pair_prob_prediction, key=lambda ele: ele[1])\n",
        "      best_pred = pair_prob_prediction_sorted[-15:]\n",
        "      all_row_best_pred.append(best_pred)\n",
        "      for pred_class in best_pred:\n",
        "        plt_data[pred_class[0]] += 1\n",
        "    return all_row_best_pred,plt_data \n",
        "  \n",
        "  all_row_best_pred, plt_data = choose_best_predicted_classes()\n",
        "  \n",
        "  def read_predicted_tests_numbers(best_pred): \n",
        "    svm_pred_to_fail = []\n",
        "    test_counter = 0\n",
        "    for svm_class in best_pred:\n",
        "      for ele in class_mapper:\n",
        "        if svm_class[0] == ele[1]:\n",
        "          for idx,test in enumerate(ele[0]):\n",
        "            if test == 0:\n",
        "              svm_pred_to_fail.append(idx)\n",
        "              test_counter += 1\n",
        "              if test_counter > 15:\n",
        "                return svm_pred_to_fail\n",
        "    else:\n",
        "      return svm_pred_to_fail\n",
        "  \n",
        "  def read_real_tests_numbers(idx, ref_yTest):\n",
        "    real_class = class_mapper[int(yTest[idx])]\n",
        "    for pair in class_mapper:\n",
        "      if pair[1] == ref_yTest[idx]:\n",
        "        real_vector =  list(pair[0])\n",
        "    real_failed_tests_numbers = [test_id for test_id, test  in enumerate(real_vector) if test == 0]\n",
        "    return real_failed_tests_numbers\n",
        "\n",
        "\n",
        "  def new_evaluation(all_row_best_pred, yTest, is_fake_pred=False):  \n",
        "    all_performances = []\n",
        "    for idx, best_pred in enumerate(all_row_best_pred): \n",
        "      real_failed_tests_numbers = set(read_real_tests_numbers(idx, yTest))\n",
        "      if is_fake_pred == True:\n",
        "        predicted_tests_numbers = set(best_pred)\n",
        "      else:\n",
        "        predicted_tests_numbers = set(read_predicted_tests_numbers(best_pred))\n",
        "      diffrence = real_failed_tests_numbers - predicted_tests_numbers\n",
        "      try:\n",
        "        single_perfomance = (1 - (len(diffrence)/len(real_failed_tests_numbers)))\n",
        "      except ZeroDivisionError:\n",
        "        print(\"skip eveluation due to no failed test in class\")\n",
        "        continue\n",
        "      all_performances.append(single_perfomance)\n",
        "    return all_performances\n",
        "\n",
        "  \n",
        "  \n",
        "  all_performance = new_evaluation(all_row_best_pred, yTest) \n",
        "  average_performance = sum(all_performance)/ len(all_performance)\n",
        "  return average_performance\n",
        "\n",
        "\n",
        "svm_function(0.01)  \n",
        "  \n",
        "\n",
        "  \n",
        "  "
      ],
      "execution_count": 66,
      "outputs": [
        {
          "output_type": "execute_result",
          "data": {
            "text/plain": [
              "0.12598425196850394"
            ]
          },
          "metadata": {
            "tags": []
          },
          "execution_count": 66
        }
      ]
    },
    {
      "metadata": {
        "id": "kdYFkbQyLR90",
        "colab_type": "code",
        "colab": {}
      },
      "cell_type": "code",
      "source": [
        ""
      ],
      "execution_count": 0,
      "outputs": []
    },
    {
      "metadata": {
        "id": "sQif5IkFLMDE",
        "colab_type": "code",
        "colab": {}
      },
      "cell_type": "code",
      "source": [
        "plotData = []\n",
        "iterationCounter = 0\n",
        "recurencyCounter = 0\n",
        "bestResult = None\n",
        "\n",
        "\n",
        "def returnStepList(minValue, maxValue, nrSteps):\n",
        "    step = math.fabs(maxValue - minValue)/nrSteps\n",
        "    actualMin = min([minValue, maxValue])\n",
        "    actualMax = max([minValue, maxValue])\n",
        "    return [actualMin + step*nr for nr in range(nrSteps + 1)]\n",
        "  \n",
        "  \n",
        "def resetIterators():\n",
        "  global plotData\n",
        "  global iterationCounter\n",
        "  if plotData:\n",
        "    plotData = []\n",
        "  if iterationCounter:\n",
        "    iterationCounter = 0\n",
        "    \n",
        "\n",
        "def create_plot_optimizer(x_data, y_data=0, xLabel = 'X', yLabel = 'Y'):\n",
        "    import matplotlib.pyplot as plt\n",
        "    if y_data == 0:  \n",
        "        unzip = list(zip(*x_data))\n",
        "        x_data, y_data = unzip[0],unzip[1]\n",
        "    plt.plot(x_data, y_data)\n",
        "    plt.xlabel(xLabel)\n",
        "    plt.ylabel(yLabel)\n",
        "    plt.show()\n",
        "    \n",
        "    \n",
        "def optimize(func, steps, minMax1, minMax2=False, split = 4, reduceSplit = False):\n",
        "    global iterationCounter\n",
        "    global recurencyCounter\n",
        "    global bestResult\n",
        "    singleParam = False\n",
        "    bestPair = [None, None]\n",
        "    resultList = []\n",
        "    parametersList=[]\n",
        "            \n",
        "            \n",
        "    if reduceSplit is False:\n",
        "      newSplit = split\n",
        "    else:\n",
        "      if split > 2:\n",
        "        newSplit = split - 1\n",
        "      else:\n",
        "        newSplit = 2\n",
        "    if split > 10:\n",
        "      raise ValueError(\"Too big value of 'split' parameter! This would highly increase number of iterations\")\n",
        "    \n",
        "    if minMax2 is False:\n",
        "      singleParam = True\n",
        "       \n",
        "    recurencyCounter += 1\n",
        "#     try:\n",
        "    if True:\n",
        "        if isinstance(minMax1, list):\n",
        "            \n",
        "            stepList1 = returnStepList(minMax1[0], minMax1[1], split)\n",
        "            if singleParam:\n",
        "              stepList2 = []\n",
        "              stepList2.append(1.0)\n",
        "            else:\n",
        "              stepList2 = returnStepList(minMax2[0], minMax2[1], split)\n",
        "            \n",
        "            i1 = 0\n",
        "            i2 = 0\n",
        "\n",
        "            \n",
        "            \n",
        "            for el1 in stepList1:\n",
        "                i2 = 0\n",
        "                for el2 in stepList2:\n",
        "                    iterationCounter += 1\n",
        "                    \n",
        "                    #----function----\n",
        "                    \n",
        "                    if singleParam:\n",
        "                      evaluation = func(el1)\n",
        "                    else:\n",
        "                      evaluation = func(el1, el2)\n",
        "\n",
        "                    #----function----\n",
        "                    \n",
        "                    \n",
        "                    \n",
        "                    if len(resultList) > 0:\n",
        "                        \n",
        "                        #----condition----\n",
        "                        if evaluation >= max(resultList):\n",
        "                            bestPair[0] = i1\n",
        "                            bestPair[1] = i2\n",
        "                        \n",
        "                        #----condition----\n",
        "                    else:\n",
        "                      if singleParam:\n",
        "                        bestPair[0] = i1\n",
        "                      else:\n",
        "                        bestPair[0] = i1\n",
        "                        bestPair[1] = i2\n",
        "                    \n",
        "                    plotData.append([evaluation, iterationCounter])\n",
        "\n",
        "                    resultList.append(evaluation)\n",
        "                    if singleParam:\n",
        "                      parametersList.append([el1])\n",
        "                    else:\n",
        "                      parametersList.append([el1, el2])\n",
        "\n",
        "                    i2 += 1\n",
        "                i1 += 1\n",
        "\n",
        "            #------------------------------------------------\n",
        "            \n",
        "            \n",
        "            if bestPair[0] == stepList1.index(stepList1[0]):\n",
        "                minMax1[0] = stepList1[bestPair[0]]/2\n",
        "                minMax1[1] = stepList1[bestPair[0] + 1]\n",
        "#                 print(\"best values of PARAM_1 are close to MIN value\")\n",
        "                \n",
        "            elif bestPair[0] == stepList1.index(stepList1[-1]):\n",
        "                minMax1[0] = stepList1[bestPair[0] - 1]\n",
        "                minMax1[1] = stepList1[bestPair[0]]*2\n",
        "#                 print(\"best values of PARAM_1 are close to MAX value\")\n",
        "\n",
        "                \n",
        "            else:\n",
        "                minMax1[0] = stepList1[bestPair[0] - 1]\n",
        "                minMax1[1] = stepList1[bestPair[0] + 1]\n",
        "            \n",
        "            #------------------------------------------------\n",
        "            if not singleParam:\n",
        "              if bestPair[1] == stepList2.index(stepList2[0]):\n",
        "                  minMax2[0] = stepList1[bestPair[1]]/2\n",
        "                  minMax2[1] = stepList1[bestPair[1] + 1]\n",
        "  #                 print(\"best values of PARAM_2 are close to MIN value\")\n",
        "\n",
        "              elif bestPair[1] == stepList2.index(stepList2[-1]):\n",
        "                  minMax2[0] = stepList1[bestPair[1] - 1]\n",
        "                  minMax2[1] = stepList1[bestPair[1]]*2\n",
        "  #                 print(\"best values of PARAM_2 are close to MAX value\")\n",
        "\n",
        "\n",
        "              else:\n",
        "                  minMax2[0] = stepList2[bestPair[1] - 1]\n",
        "                  minMax2[1] = stepList2[bestPair[1] + 1]\n",
        "\n",
        "            #------------------------------------------------\n",
        "            \n",
        "            \n",
        "            result = min(resultList)\n",
        "            param1 = parametersList[resultList.index(max(resultList))][0]\n",
        "            if not singleParam:\n",
        "              param2 = parametersList[resultList.index(max(resultList))][1]\n",
        "            if steps > 0:\n",
        "              if singleParam:\n",
        "                optimize(func, steps - 1, [minMax1[0], minMax1[1]], minMax2 = False, split = newSplit)\n",
        "              else:\n",
        "                optimize(func, steps - 1, [minMax1[0], minMax1[1]], [minMax2[0], minMax2[1]], newSplit)\n",
        "\n",
        "            else:\n",
        "              if singleParam:\n",
        "                print('--------ACHIEVED RESULTS--------')\n",
        "                print(\"{:<20}{}\\n{:<20}{}\\n\".format('RESULT: ',result,'PARAMETER 1: ', param1))\n",
        "                return [result, param1]\n",
        "              else:\n",
        "                print('--------ACHIEVED RESULTS--------')\n",
        "                print(\"{:<20}{}\\n{:<20}{}\\n{:<20}{}\\n\".format('RESULT: ',result,'PARAMETER 1: ', param1,'PARAMETER 2: ', param2))\n",
        "                return [result, param1, param2]\n",
        "            \n",
        "            \n",
        "\n",
        "        else:\n",
        "            print(\"enter correct value!\")\n",
        "#     except:\n",
        "#         print(\"---ERROR---\")"
      ],
      "execution_count": 0,
      "outputs": []
    },
    {
      "metadata": {
        "id": "Z-IHOmht6rjH",
        "colab_type": "code",
        "colab": {}
      },
      "cell_type": "code",
      "source": [
        "def exampleFunction(x, y=10):\n",
        "  return ((-20)* math.exp((((0.5*(x**2 + y**2))**0.5)*(-0.2))))\n"
      ],
      "execution_count": 0,
      "outputs": []
    },
    {
      "metadata": {
        "id": "gtmzanFFnBwa",
        "colab_type": "code",
        "outputId": "fda53174-9a86-42b3-eb77-c60a68ad12c6",
        "colab": {
          "base_uri": "https://localhost:8080/",
          "height": 707
        }
      },
      "cell_type": "code",
      "source": [
        "#-------------------------------\n",
        "# steps       -->  number of iterations of recurency\n",
        "# spit        -->  number of parts in which function will split values of parameters\n",
        "#                  higher value -> better accuracy & longer calculation time\n",
        "#                  (Values range 2 -- 10)\n",
        "# reduceSplit -->  If True: with every repetition of recurency will reduce split by one\n",
        "\n",
        "\n",
        "resetIterators()\n",
        "optimize(svm_function, 4 , [0.0001,0.1], minMax2=False, split = 4, reduceSplit = True)\n",
        "xData = [num[1] for num in plotData]\n",
        "yData = [num[0] for num in plotData]\n",
        "\n",
        "create_plot_optimizer(xData, yData, 'Iterations', 'Result')"
      ],
      "execution_count": 75,
      "outputs": [
        {
          "output_type": "error",
          "ename": "KeyboardInterrupt",
          "evalue": "ignored",
          "traceback": [
            "\u001b[0;31m---------------------------------------------------------------------------\u001b[0m",
            "\u001b[0;31mKeyboardInterrupt\u001b[0m                         Traceback (most recent call last)",
            "\u001b[0;32m<ipython-input-75-8659e7731c28>\u001b[0m in \u001b[0;36m<module>\u001b[0;34m()\u001b[0m\n\u001b[1;32m      2\u001b[0m \u001b[0;34m\u001b[0m\u001b[0m\n\u001b[1;32m      3\u001b[0m \u001b[0mresetIterators\u001b[0m\u001b[0;34m(\u001b[0m\u001b[0;34m)\u001b[0m\u001b[0;34m\u001b[0m\u001b[0;34m\u001b[0m\u001b[0m\n\u001b[0;32m----> 4\u001b[0;31m \u001b[0moptimize\u001b[0m\u001b[0;34m(\u001b[0m\u001b[0msvm_function\u001b[0m\u001b[0;34m,\u001b[0m \u001b[0;36m4\u001b[0m \u001b[0;34m,\u001b[0m \u001b[0;34m[\u001b[0m\u001b[0;36m1\u001b[0m\u001b[0;34m,\u001b[0m\u001b[0;36m100\u001b[0m\u001b[0;34m]\u001b[0m\u001b[0;34m,\u001b[0m \u001b[0mminMax2\u001b[0m\u001b[0;34m=\u001b[0m\u001b[0;32mFalse\u001b[0m\u001b[0;34m,\u001b[0m \u001b[0msplit\u001b[0m \u001b[0;34m=\u001b[0m \u001b[0;36m4\u001b[0m\u001b[0;34m,\u001b[0m \u001b[0mreduceSplit\u001b[0m \u001b[0;34m=\u001b[0m \u001b[0;32mTrue\u001b[0m\u001b[0;34m)\u001b[0m\u001b[0;34m\u001b[0m\u001b[0;34m\u001b[0m\u001b[0m\n\u001b[0m\u001b[1;32m      5\u001b[0m \u001b[0mxData\u001b[0m \u001b[0;34m=\u001b[0m \u001b[0;34m[\u001b[0m\u001b[0mnum\u001b[0m\u001b[0;34m[\u001b[0m\u001b[0;36m1\u001b[0m\u001b[0;34m]\u001b[0m \u001b[0;32mfor\u001b[0m \u001b[0mnum\u001b[0m \u001b[0;32min\u001b[0m \u001b[0mplotData\u001b[0m\u001b[0;34m]\u001b[0m\u001b[0;34m\u001b[0m\u001b[0;34m\u001b[0m\u001b[0m\n\u001b[1;32m      6\u001b[0m \u001b[0myData\u001b[0m \u001b[0;34m=\u001b[0m \u001b[0;34m[\u001b[0m\u001b[0mnum\u001b[0m\u001b[0;34m[\u001b[0m\u001b[0;36m0\u001b[0m\u001b[0;34m]\u001b[0m \u001b[0;32mfor\u001b[0m \u001b[0mnum\u001b[0m \u001b[0;32min\u001b[0m \u001b[0mplotData\u001b[0m\u001b[0;34m]\u001b[0m\u001b[0;34m\u001b[0m\u001b[0;34m\u001b[0m\u001b[0m\n",
            "\u001b[0;32m<ipython-input-71-b14836e42212>\u001b[0m in \u001b[0;36moptimize\u001b[0;34m(func, steps, minMax1, minMax2, split, reduceSplit)\u001b[0m\n\u001b[1;32m     80\u001b[0m \u001b[0;34m\u001b[0m\u001b[0m\n\u001b[1;32m     81\u001b[0m                     \u001b[0;32mif\u001b[0m \u001b[0msingleParam\u001b[0m\u001b[0;34m:\u001b[0m\u001b[0;34m\u001b[0m\u001b[0;34m\u001b[0m\u001b[0m\n\u001b[0;32m---> 82\u001b[0;31m                       \u001b[0mevaluation\u001b[0m \u001b[0;34m=\u001b[0m \u001b[0mfunc\u001b[0m\u001b[0;34m(\u001b[0m\u001b[0mel1\u001b[0m\u001b[0;34m)\u001b[0m\u001b[0;34m\u001b[0m\u001b[0;34m\u001b[0m\u001b[0m\n\u001b[0m\u001b[1;32m     83\u001b[0m                     \u001b[0;32melse\u001b[0m\u001b[0;34m:\u001b[0m\u001b[0;34m\u001b[0m\u001b[0;34m\u001b[0m\u001b[0m\n\u001b[1;32m     84\u001b[0m                       \u001b[0mevaluation\u001b[0m \u001b[0;34m=\u001b[0m \u001b[0mfunc\u001b[0m\u001b[0;34m(\u001b[0m\u001b[0mel1\u001b[0m\u001b[0;34m,\u001b[0m \u001b[0mel2\u001b[0m\u001b[0;34m)\u001b[0m\u001b[0;34m\u001b[0m\u001b[0;34m\u001b[0m\u001b[0m\n",
            "\u001b[0;32m<ipython-input-66-2c87cc693910>\u001b[0m in \u001b[0;36msvm_function\u001b[0;34m(gamma_parameter)\u001b[0m\n\u001b[1;32m      2\u001b[0m   \u001b[0;32mglobal\u001b[0m \u001b[0mxTrain\u001b[0m\u001b[0;34m,\u001b[0m \u001b[0myTrain\u001b[0m\u001b[0;34m,\u001b[0m \u001b[0mxTest\u001b[0m\u001b[0;34m,\u001b[0m \u001b[0myTest\u001b[0m\u001b[0;34m,\u001b[0m \u001b[0mclass_mapper\u001b[0m\u001b[0;34m\u001b[0m\u001b[0;34m\u001b[0m\u001b[0m\n\u001b[1;32m      3\u001b[0m   \u001b[0mclf\u001b[0m \u001b[0;34m=\u001b[0m \u001b[0msvm\u001b[0m\u001b[0;34m.\u001b[0m\u001b[0mSVC\u001b[0m\u001b[0;34m(\u001b[0m\u001b[0mgamma\u001b[0m\u001b[0;34m=\u001b[0m\u001b[0mgamma_parameter\u001b[0m\u001b[0;34m,\u001b[0m\u001b[0mprobability\u001b[0m\u001b[0;34m=\u001b[0m\u001b[0;32mTrue\u001b[0m\u001b[0;34m)\u001b[0m\u001b[0;31m#gamma 0.0001\u001b[0m\u001b[0;34m\u001b[0m\u001b[0;34m\u001b[0m\u001b[0m\n\u001b[0;32m----> 4\u001b[0;31m   \u001b[0mclf\u001b[0m\u001b[0;34m.\u001b[0m\u001b[0mfit\u001b[0m\u001b[0;34m(\u001b[0m\u001b[0mxTrain\u001b[0m\u001b[0;34m,\u001b[0m \u001b[0myTrain\u001b[0m\u001b[0;34m)\u001b[0m\u001b[0;34m\u001b[0m\u001b[0;34m\u001b[0m\u001b[0m\n\u001b[0m\u001b[1;32m      5\u001b[0m \u001b[0;34m\u001b[0m\u001b[0m\n\u001b[1;32m      6\u001b[0m   \u001b[0mproba_predictions\u001b[0m \u001b[0;34m=\u001b[0m \u001b[0mclf\u001b[0m\u001b[0;34m.\u001b[0m\u001b[0mpredict_proba\u001b[0m\u001b[0;34m(\u001b[0m\u001b[0mxTest\u001b[0m\u001b[0;34m)\u001b[0m\u001b[0;34m\u001b[0m\u001b[0;34m\u001b[0m\u001b[0m\n",
            "\u001b[0;32m/usr/local/lib/python3.6/dist-packages/sklearn/svm/base.py\u001b[0m in \u001b[0;36mfit\u001b[0;34m(self, X, y, sample_weight)\u001b[0m\n\u001b[1;32m    185\u001b[0m \u001b[0;34m\u001b[0m\u001b[0m\n\u001b[1;32m    186\u001b[0m         \u001b[0mseed\u001b[0m \u001b[0;34m=\u001b[0m \u001b[0mrnd\u001b[0m\u001b[0;34m.\u001b[0m\u001b[0mrandint\u001b[0m\u001b[0;34m(\u001b[0m\u001b[0mnp\u001b[0m\u001b[0;34m.\u001b[0m\u001b[0miinfo\u001b[0m\u001b[0;34m(\u001b[0m\u001b[0;34m'i'\u001b[0m\u001b[0;34m)\u001b[0m\u001b[0;34m.\u001b[0m\u001b[0mmax\u001b[0m\u001b[0;34m)\u001b[0m\u001b[0;34m\u001b[0m\u001b[0;34m\u001b[0m\u001b[0m\n\u001b[0;32m--> 187\u001b[0;31m         \u001b[0mfit\u001b[0m\u001b[0;34m(\u001b[0m\u001b[0mX\u001b[0m\u001b[0;34m,\u001b[0m \u001b[0my\u001b[0m\u001b[0;34m,\u001b[0m \u001b[0msample_weight\u001b[0m\u001b[0;34m,\u001b[0m \u001b[0msolver_type\u001b[0m\u001b[0;34m,\u001b[0m \u001b[0mkernel\u001b[0m\u001b[0;34m,\u001b[0m \u001b[0mrandom_seed\u001b[0m\u001b[0;34m=\u001b[0m\u001b[0mseed\u001b[0m\u001b[0;34m)\u001b[0m\u001b[0;34m\u001b[0m\u001b[0;34m\u001b[0m\u001b[0m\n\u001b[0m\u001b[1;32m    188\u001b[0m         \u001b[0;31m# see comment on the other call to np.iinfo in this file\u001b[0m\u001b[0;34m\u001b[0m\u001b[0;34m\u001b[0m\u001b[0;34m\u001b[0m\u001b[0m\n\u001b[1;32m    189\u001b[0m \u001b[0;34m\u001b[0m\u001b[0m\n",
            "\u001b[0;32m/usr/local/lib/python3.6/dist-packages/sklearn/svm/base.py\u001b[0m in \u001b[0;36m_dense_fit\u001b[0;34m(self, X, y, sample_weight, solver_type, kernel, random_seed)\u001b[0m\n\u001b[1;32m    252\u001b[0m                 \u001b[0mcache_size\u001b[0m\u001b[0;34m=\u001b[0m\u001b[0mself\u001b[0m\u001b[0;34m.\u001b[0m\u001b[0mcache_size\u001b[0m\u001b[0;34m,\u001b[0m \u001b[0mcoef0\u001b[0m\u001b[0;34m=\u001b[0m\u001b[0mself\u001b[0m\u001b[0;34m.\u001b[0m\u001b[0mcoef0\u001b[0m\u001b[0;34m,\u001b[0m\u001b[0;34m\u001b[0m\u001b[0;34m\u001b[0m\u001b[0m\n\u001b[1;32m    253\u001b[0m                 \u001b[0mgamma\u001b[0m\u001b[0;34m=\u001b[0m\u001b[0mself\u001b[0m\u001b[0;34m.\u001b[0m\u001b[0m_gamma\u001b[0m\u001b[0;34m,\u001b[0m \u001b[0mepsilon\u001b[0m\u001b[0;34m=\u001b[0m\u001b[0mself\u001b[0m\u001b[0;34m.\u001b[0m\u001b[0mepsilon\u001b[0m\u001b[0;34m,\u001b[0m\u001b[0;34m\u001b[0m\u001b[0;34m\u001b[0m\u001b[0m\n\u001b[0;32m--> 254\u001b[0;31m                 max_iter=self.max_iter, random_seed=random_seed)\n\u001b[0m\u001b[1;32m    255\u001b[0m \u001b[0;34m\u001b[0m\u001b[0m\n\u001b[1;32m    256\u001b[0m         \u001b[0mself\u001b[0m\u001b[0;34m.\u001b[0m\u001b[0m_warn_from_fit_status\u001b[0m\u001b[0;34m(\u001b[0m\u001b[0;34m)\u001b[0m\u001b[0;34m\u001b[0m\u001b[0;34m\u001b[0m\u001b[0m\n",
            "\u001b[0;31mKeyboardInterrupt\u001b[0m: "
          ]
        }
      ]
    }
  ]
}