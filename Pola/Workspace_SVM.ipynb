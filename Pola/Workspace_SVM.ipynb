{
  "nbformat": 4,
  "nbformat_minor": 0,
  "metadata": {
    "colab": {
      "name": "Workspace_SVM.ipynb",
      "version": "0.3.2",
      "provenance": [],
      "collapsed_sections": [],
      "toc_visible": true,
      "include_colab_link": true
    },
    "kernelspec": {
      "name": "python3",
      "display_name": "Python 3"
    },
    "accelerator": "GPU"
  },
  "cells": [
    {
      "cell_type": "markdown",
      "metadata": {
        "id": "view-in-github",
        "colab_type": "text"
      },
      "source": [
        "<a href=\"https://colab.research.google.com/github/seraffin/FailOmen/blob/master/Pola/Workspace_SVM.ipynb\" target=\"_parent\"><img src=\"https://colab.research.google.com/assets/colab-badge.svg\" alt=\"Open In Colab\"/></a>"
      ]
    },
    {
      "metadata": {
        "id": "8nx7mo1JCC22",
        "colab_type": "code",
        "colab": {}
      },
      "cell_type": "code",
      "source": [
        "import tensorflow as tf\n",
        "import math\n",
        "\n",
        "# Helper libraries\n",
        "import matplotlib.pyplot as plt\n",
        "import numpy as np\n",
        "from sklearn.model_selection import train_test_split"
      ],
      "execution_count": 0,
      "outputs": []
    },
    {
      "metadata": {
        "id": "QmLtAzxg3jc8",
        "colab_type": "code",
        "outputId": "e72ae98e-54ad-483a-db91-a3fd689fba08",
        "colab": {
          "base_uri": "https://localhost:8080/",
          "height": 34
        }
      },
      "cell_type": "code",
      "source": [
        "device_name = tf.test.gpu_device_name()\n",
        "if device_name != '/device:GPU:0':\n",
        "  raise SystemError('GPU device not found')\n",
        "print('Found GPU at: {}'.format(device_name))"
      ],
      "execution_count": 2,
      "outputs": [
        {
          "output_type": "stream",
          "text": [
            "Found GPU at: /device:GPU:0\n"
          ],
          "name": "stdout"
        }
      ]
    },
    {
      "metadata": {
        "id": "4hijZ7SlUARA",
        "colab_type": "code",
        "outputId": "22cf9549-a4ea-4052-85a3-6e6bc74a6b7b",
        "colab": {
          "base_uri": "https://localhost:8080/",
          "height": 54
        }
      },
      "cell_type": "code",
      "source": [
        "from google.colab import drive\n",
        "drive.mount('/content/gdrive')"
      ],
      "execution_count": 3,
      "outputs": [
        {
          "output_type": "stream",
          "text": [
            "Drive already mounted at /content/gdrive; to attempt to forcibly remount, call drive.mount(\"/content/gdrive\", force_remount=True).\n"
          ],
          "name": "stdout"
        }
      ]
    },
    {
      "metadata": {
        "id": "Fa13Uq6IO1Cd",
        "colab_type": "code",
        "outputId": "dfbbec4d-36eb-49b7-8f2f-270c165448a1",
        "colab": {
          "base_uri": "https://localhost:8080/",
          "height": 34
        }
      },
      "cell_type": "code",
      "source": [
        "!ls\n",
        "!cd '/content/gdrive/My Drive/FailOmen'"
      ],
      "execution_count": 4,
      "outputs": [
        {
          "output_type": "stream",
          "text": [
            "gdrive\tsample_data\n"
          ],
          "name": "stdout"
        }
      ]
    },
    {
      "metadata": {
        "id": "62-iybQU_Yw7",
        "colab_type": "code",
        "colab": {}
      },
      "cell_type": "code",
      "source": [
        "import pandas as pd\n",
        "\n",
        "#Importing dataset\n",
        "dataset = pd.read_csv('/content/gdrive/My Drive/FailOmen/dataToML_full3.csv', index_col=False)"
      ],
      "execution_count": 0,
      "outputs": []
    },
    {
      "metadata": {
        "id": "um1FNlpf_zOE",
        "colab_type": "code",
        "colab": {}
      },
      "cell_type": "code",
      "source": [
        "x = dataset.iloc[:, 0:23739].values\n",
        "y = dataset.iloc[:, 23739:24281].values"
      ],
      "execution_count": 0,
      "outputs": []
    },
    {
      "metadata": {
        "id": "E2IOOl-qangL",
        "colab_type": "code",
        "outputId": "1c1457b4-55ec-4271-ac77-f816e91c76a3",
        "colab": {
          "base_uri": "https://localhost:8080/",
          "height": 85
        }
      },
      "cell_type": "code",
      "source": [
        "failCount = 0\n",
        "passCount = 0\n",
        "failBuildCount = 0\n",
        "\n",
        "for a in y:\n",
        "  if a[np.argmin(a)] == 0 : failBuildCount += 1\n",
        "  for b in a:\n",
        "    if b == 0 : failCount += 1\n",
        "    if b == 1 : passCount += 1\n",
        "print (failBuildCount)\n",
        "print (failCount)\n",
        "print (passCount)\n",
        "print (failCount / passCount * 100, '%', sep='')"
      ],
      "execution_count": 7,
      "outputs": [
        {
          "output_type": "stream",
          "text": [
            "1266\n",
            "2008\n",
            "4396322\n",
            "0.04567454340241684%\n"
          ],
          "name": "stdout"
        }
      ]
    },
    {
      "metadata": {
        "id": "RLRrKfR-bL1j",
        "colab_type": "code",
        "colab": {}
      },
      "cell_type": "code",
      "source": [
        ""
      ],
      "execution_count": 0,
      "outputs": []
    },
    {
      "metadata": {
        "id": "0MgA1hV7Ljoe",
        "colab_type": "text"
      },
      "cell_type": "markdown",
      "source": [
        "## **UTILITIES:**\n",
        "\n",
        "\n",
        "---"
      ]
    },
    {
      "metadata": {
        "id": "PlhSJE1hLbl3",
        "colab_type": "code",
        "colab": {}
      },
      "cell_type": "code",
      "source": [
        "def count_distribution(prediction):\n",
        "  #Distributions of argmins through all the predictions\n",
        "  i = 1\n",
        "  tab = [0] * 542\n",
        "  for a in prediction:\n",
        "    j = 0\n",
        "    for b in a:\n",
        "      if b < 1.0 : j = j + 1\n",
        "\n",
        "    #print (i, '. ', j, np.argmin(a))\n",
        "    tab[np.argmin(a)] += 1\n",
        "    i = i + 1\n",
        "\n",
        "  i = 0\n",
        "  number_of_tests =  542\n",
        "  distributed_array = [0 for iterator in range(number_of_tests)]\n",
        "  for a in tab:\n",
        "    if a > 0 : \n",
        "      pass\n",
        "#       print ('position', i, '\\targmin count', a)\n",
        "      distributed_array[i] = a\n",
        "    i += 1\n",
        "#   print (i)\n",
        "  create_plot(range(len(distributed_array)), distributed_array)  \n",
        "  return distributed_array\n"
      ],
      "execution_count": 0,
      "outputs": []
    },
    {
      "metadata": {
        "id": "69cYXEP18fPe",
        "colab_type": "code",
        "colab": {}
      },
      "cell_type": "code",
      "source": [
        "def create_plot(x_data, y_data=0):\n",
        "  import matplotlib.pyplot as plt\n",
        "  if y_data == 0:  \n",
        "    unzip = list(zip(*x_data))\n",
        "    x_data, y_data = unzip[0],unzip[1]\n",
        "    print (x_data)\n",
        "    print (\"\\n\", y_data)\n",
        "  \n",
        "  plt.bar(x_data, y_data, align='center', alpha=1, width = 3)\n",
        "  plt.xlabel(\"test no\")\n",
        "  plt.ylabel(\"how many times test was predicted as probably failed\")\n",
        "  plt.show()"
      ],
      "execution_count": 0,
      "outputs": []
    },
    {
      "metadata": {
        "id": "tLkzhHugfFWP",
        "colab_type": "text"
      },
      "cell_type": "markdown",
      "source": [
        "uwaga, w funkcji ponizej searchForFailed(), w wyborze dodania spassowanych testow do trainig/testing set-a, mino ze podajemy dokladny procent z spassowanych danych jaki chcemy wykorzysatc, procet ten moze sie roznic w rzeczywistosci. Spowodowane jest to warunkiem modulo, np 20% bedzie 20%, 90% bedzie 100% \n",
        "\n",
        " "
      ]
    },
    {
      "metadata": {
        "id": "ECE6fYlxLxZY",
        "colab_type": "code",
        "colab": {}
      },
      "cell_type": "code",
      "source": [
        "def searchForFailed(yList, percent_of_passed_data=20, withpassed_data=False): \n",
        "  changedRowList = []\n",
        "  period_counter_for_passedData = 0\n",
        "  for row in range (len(yList)):\n",
        "    if 0 in yList[row]:\n",
        "      changedRowList.append(row)\n",
        "      continue\n",
        "    elif withpassed_data == True:\n",
        "      try:\n",
        "        modulo_arg = int(1/(percent_of_passed_data/100))\n",
        "      except:\n",
        "        withpassed_data = False\n",
        "        continue\n",
        "      if not (period_counter_for_passedData%modulo_arg):\n",
        "        changedRowList.append(row)\n",
        "    period_counter_for_passedData += 1\n",
        "      \n",
        "  return changedRowList\n",
        "\n",
        "def returnFailedData(xList, yList, changedRowList):\n",
        "  xFailed = []\n",
        "  yFailed = []\n",
        "  \n",
        "  for row in changedRowList:\n",
        "    xFailed.append(xList[row])\n",
        "    yFailed.append(yList[row])\n",
        "  xFailed = np.array(xFailed)\n",
        "  yFailed = np.array(yFailed)\n",
        "  return xFailed, yFailed"
      ],
      "execution_count": 0,
      "outputs": []
    },
    {
      "metadata": {
        "id": "QvZssrz2aDHg",
        "colab_type": "code",
        "colab": {}
      },
      "cell_type": "code",
      "source": [
        "def failsCount():\n",
        "  fala = 0\n",
        "  for i, a in enumerate(yTest):\n",
        "    j = 0\n",
        "    for k, b in enumerate(a):\n",
        "      if b < 1.0 : j += 1\n",
        "\n",
        "    if j > 0 : \n",
        "      print (i, '. ', j)\n",
        "    i = i + 1\n",
        "    fala += j\n",
        "  print (fala)"
      ],
      "execution_count": 0,
      "outputs": []
    },
    {
      "metadata": {
        "id": "OXtv0HaDaEoM",
        "colab_type": "code",
        "colab": {}
      },
      "cell_type": "code",
      "source": [
        "# Evaluation function\n",
        "\n",
        "def evaluation(predictions,additionalPredictions, refYsupervisor):\n",
        "  \n",
        "  lenght = len(refYsupervisor)\n",
        "\n",
        "  failPositions = [[] for y in range(lenght)]\n",
        "\n",
        "  for i, a in enumerate(refYsupervisor):\n",
        "\n",
        "    for j, b in enumerate(a):\n",
        "      if b == 0 : failPositions[i].append(j);#spisuje w listach(per commit) pozycje, gdzie sfailowal test [3,78,90, itp]\n",
        "\n",
        "  predictionsTemp = predictions.copy()#tablica list, w ktotej sa przedstawione prawd wystapienia danej labeliki\n",
        "  # todo \n",
        "  #prediction_real byl juz listo po powrotnym mapowaniu, zlozona z testow (czyli ich indeksami 1-542)do sailowania , od najbardziej prawdopodobnych do najmniej \n",
        "  \n",
        "  \n",
        "#   print(predictionsTemp) \n",
        "#   print(type(predictionsTemp))\n",
        "#   print(len(predictionsTemp))\n",
        "#   print(predictionsTemp[0])\n",
        "#   print(predictionsTemp[0][0])\n",
        "  predictionPositions = [[] for y in range(lenght)]\n",
        "\n",
        "\n",
        "  for i, commit in enumerate(predictionsTemp):\n",
        "\n",
        "    if len(failPositions[i]) != 0:#jezeli w danym commicie byl wh jakis blad\n",
        "      for j in range(len(failPositions[i]) + additionalPredictions):#tyle razy co sfailowanych testow + dodatkowe, przez nas zdefiniowane\n",
        "        argmin = np.argmin(commit)# argmin = jest indeksem najmniejsza wartoscia dla predykcji sieci , czyt. indexem najbardziej prawdopodobnej\n",
        "        predictionPositions[i].append(argmin)#umiesc index tej  najbardziej prawdopodobna wartosc, w tab dla danego komitu \n",
        "        predictionsTemp[i][argmin] = 1#nie berz pod uwage juz tej wartosci\n",
        "\n",
        "  predictionHits = [[] for y in range(lenght)]\n",
        "\n",
        "  for i, a in enumerate(failPositions):\n",
        "    count = 0\n",
        "    for j, b in enumerate(a):\n",
        "\n",
        "\n",
        "      for c in predictionPositions[i]:\n",
        "  #      predictionHits[i].append(predictions[i][c].copy())\n",
        "  #      print(predictions[i][c])\n",
        "  #      print(predictions[i][c])\n",
        "  #      print (b, c)\n",
        "        if c == b : count += 1\n",
        "\n",
        "    if len(failPositions) != 0:\n",
        "      predictionHits[i].insert(0,count)\n",
        "\n",
        "\n",
        "  failsCount = 0\n",
        "  hitsCount = 0\n",
        "  for i, a in enumerate(refYsupervisor):\n",
        "    j = 0\n",
        "\n",
        "    for k, b in enumerate(a):\n",
        "      if b < 1.0 : j += 1\n",
        "\n",
        "  #  if j > 0 :\n",
        "  #    print (i, '.', j, predictionHits[i])\n",
        "\n",
        "\n",
        "    failsCount += j\n",
        "    hitsCount += predictionHits[i][0]\n",
        "\n",
        "  print('Percentage of fails predicted', hitsCount / failsCount * 100, '%')"
      ],
      "execution_count": 0,
      "outputs": []
    },
    {
      "metadata": {
        "id": "42wJQ7P4izbr",
        "colab_type": "code",
        "colab": {}
      },
      "cell_type": "code",
      "source": [
        "def listSingleMemberClassesPositions(refY, printFlag):\n",
        "\n",
        "  yList = refY.tolist()\n",
        "  print (len(yList))\n",
        "  yDistinct = [ele for ind, ele in enumerate(yList) if ele not in yList[:ind]]\n",
        "\n",
        "  classesPopulation = []\n",
        "  singleMemberClassesPositions = []\n",
        "  noSingleMemberClasses = 0\n",
        "\n",
        "  for i, a in enumerate(yDistinct):\n",
        "    population = 0\n",
        "    memberPosition = 0\n",
        "    for j, b in enumerate(yList):\n",
        "      if a == b: \n",
        "        population += 1\n",
        "        memberPosition = j\n",
        "\n",
        "    classesPopulation.append(population)\n",
        "  #  print(i, population)\n",
        "    if population == 1: \n",
        "      noSingleMemberClasses += 1\n",
        "      singleMemberClassesPositions.append(memberPosition)\n",
        "\n",
        "  if printFlag == True: \n",
        "    print(noSingleMemberClasses)\n",
        "  else:\n",
        "    return singleMemberClassesPositions\n",
        "  \n"
      ],
      "execution_count": 0,
      "outputs": []
    },
    {
      "metadata": {
        "id": "jIhEbtA9Lr6J",
        "colab_type": "text"
      },
      "cell_type": "markdown",
      "source": [
        "\n",
        "\n",
        "---\n",
        "\n",
        "\n",
        "\n",
        "---\n",
        "\n",
        "\n",
        "\n",
        "---\n",
        "\n"
      ]
    },
    {
      "metadata": {
        "id": "mskKtPb0R8CQ",
        "colab_type": "text"
      },
      "cell_type": "markdown",
      "source": [
        "## **PREPARE DATA**"
      ]
    },
    {
      "metadata": {
        "id": "utDW-luFOIML",
        "colab_type": "text"
      },
      "cell_type": "markdown",
      "source": [
        "**(optional) create only 'failed data'**"
      ]
    },
    {
      "metadata": {
        "id": "BXVlPwABOPnB",
        "colab_type": "code",
        "colab": {}
      },
      "cell_type": "code",
      "source": [
        "import numpy\n",
        "xReduced, yReduced = returnFailedData(x, y, searchForFailed(y,percent_of_passed_data=1,withpassed_data=False))\n"
      ],
      "execution_count": 0,
      "outputs": []
    },
    {
      "metadata": {
        "id": "t3aipXpRcVpU",
        "colab_type": "code",
        "colab": {}
      },
      "cell_type": "code",
      "source": [
        "def count_fail_to_pass_ratio(refy):\n",
        "  failCount = 0\n",
        "  passCount = 0\n",
        "  failBuildCount = 0\n",
        "\n",
        "  for a in y:\n",
        "    if a[np.argmin(a)] == 0 : failBuildCount += 1\n",
        "  print (\"To training were used data : \")\n",
        "  print (\"failed builds: \", failBuildCount)\n",
        "  passed_builds = len(refy) - failBuildCount\n",
        "  print('passed builds: ', passed_builds)\n",
        "  try:\n",
        "    print (\"failed to passed  ratio: \", failBuildCount / passed_builds * 100, '%', sep='')\n",
        "  except :\n",
        "    print (\"only failed data\")\n",
        "  \n",
        "  \n",
        "# count_fail_to_pass_ratio(yReduced)\n",
        "  \n",
        "\n",
        "  \n",
        "  "
      ],
      "execution_count": 0,
      "outputs": []
    },
    {
      "metadata": {
        "id": "PmKhHbI4R_sN",
        "colab_type": "text"
      },
      "cell_type": "markdown",
      "source": [
        "\n",
        "\n",
        "---\n",
        "\n",
        "\n",
        "\n",
        "---\n",
        "\n",
        "\n",
        "\n",
        "---\n",
        "\n"
      ]
    },
    {
      "metadata": {
        "id": "ivhO-gnUSEQP",
        "colab_type": "text"
      },
      "cell_type": "markdown",
      "source": [
        "## PREPARE MODEL"
      ]
    },
    {
      "metadata": {
        "id": "k1UWVSs7xg1-",
        "colab_type": "code",
        "outputId": "bff6e6e2-4af8-4240-dfe6-d4e39cb8fb7b",
        "colab": {
          "base_uri": "https://localhost:8080/",
          "height": 173
        }
      },
      "cell_type": "code",
      "source": [
        "from sklearn import cross_validation, grid_search\n",
        "from sklearn.metrics import confusion_matrix, classification_report\n",
        "from sklearn.svm import SVC\n",
        "from sklearn import svm\n",
        "\n",
        "import numpy\n",
        "xReduced, yReduced = returnFailedData(x, y, searchForFailed(y,percent_of_passed_data=0,withpassed_data=False))# bez danych spassowanych\n",
        "\n",
        "#################################-- MAPOWANIE MACIERZY NA WEKTOR --#################################################################\n",
        "#select real classes\n",
        "yReduced_temp = yReduced.tolist()\n",
        "real_classes = [(ele) for ind, ele in enumerate(yReduced_temp) if ele not in yReduced_temp[:ind]]#takie klasy mozna wyroznic z supervisora dla danych testowych np [1,0,0,0,1....] inna klasa jest [0,0,0,1,0,1...] itp. \n",
        "\n",
        "\n",
        "# create svm_labels\n",
        "svm_labels = []\n",
        "for i in range(542):\n",
        "  svm_labels.append(float(i))#tworzenie labelek do svm, narazie nie polaczonych z prawdziwymi danymi\n",
        "\n",
        "# create mapper\n",
        "class_mapper = [tuple((real_class, svm_labels[i])) for i, real_class in enumerate(real_classes)]#mapper ktory przypozadkowuje prawdziwym klasom klasy svm np klasa [1,0,0,0,1....] dostaje klase svm 0, itd.\n",
        "\n",
        "\n",
        "# create new supervisor  \n",
        "temp_mapped_supervisor = []  \n",
        "for real_row in yReduced_temp:\n",
        "  for mapper_row in class_mapper:\n",
        "    if real_row == mapper_row[0]:\n",
        "      temp_mapped_supervisor.append(mapper_row[1])# klasy svm przypisane do wiersz danych tesowych np xReduced[0] ma supervisora = 0,  xReduced[123] ma supervisora = 7\n",
        "print(temp_mapped_supervisor)      \n",
        "#map supervisor to numpy.array      \n",
        "mapped_supervisor=numpy.array([numpy.array(xi) for xi in temp_mapped_supervisor])#przekonvertowanie na numpy array\n",
        "# print(mapped_supervisor[123])\n",
        "\n",
        "print(\"tyle wystapien klasy n w danych treningowych: \",len([ele for ele in mapped_supervisor if ele == 155]))\n",
        "print (\"tyle wierszy w danych treningowych: \", len(mapped_supervisor))\n",
        "print (\"tyle klas znaleziono w danych treningowych: \", len(set(mapped_supervisor)))\n",
        "####################################################################################################################################\n",
        "    \n",
        "\n",
        "# xReduced, yReduced = returnFailedData(x, y, searchForFailed(y))\n",
        "from sklearn.model_selection import train_test_split\n",
        "xTrain, xTest, yTrain, yTest = train_test_split(xReduced, mapped_supervisor, test_size = 0.2, random_state=77)\n",
        "# print(np.shape(xTrain))\n",
        "# print(np.shape(yTrain))\n"
      ],
      "execution_count": 16,
      "outputs": [
        {
          "output_type": "stream",
          "text": [
            "/usr/local/lib/python3.6/dist-packages/sklearn/cross_validation.py:41: DeprecationWarning: This module was deprecated in version 0.18 in favor of the model_selection module into which all the refactored classes and functions are moved. Also note that the interface of the new CV iterators are different from that of this module. This module will be removed in 0.20.\n",
            "  \"This module will be removed in 0.20.\", DeprecationWarning)\n",
            "/usr/local/lib/python3.6/dist-packages/sklearn/grid_search.py:42: DeprecationWarning: This module was deprecated in version 0.18 in favor of the model_selection module into which all the refactored classes and functions are moved. This module will be removed in 0.20.\n",
            "  DeprecationWarning)\n"
          ],
          "name": "stderr"
        },
        {
          "output_type": "stream",
          "text": [
            "[0.0, 1.0, 2.0, 1.0, 1.0, 3.0, 3.0, 3.0, 3.0, 4.0, 5.0, 6.0, 7.0, 8.0, 9.0, 10.0, 11.0, 12.0, 13.0, 14.0, 15.0, 16.0, 17.0, 18.0, 19.0, 20.0, 10.0, 21.0, 22.0, 4.0, 23.0, 10.0, 24.0, 25.0, 26.0, 20.0, 27.0, 26.0, 28.0, 29.0, 30.0, 10.0, 20.0, 31.0, 32.0, 28.0, 20.0, 20.0, 26.0, 20.0, 33.0, 20.0, 34.0, 35.0, 36.0, 26.0, 37.0, 37.0, 37.0, 38.0, 39.0, 20.0, 40.0, 41.0, 20.0, 42.0, 31.0, 43.0, 44.0, 44.0, 45.0, 5.0, 46.0, 47.0, 47.0, 48.0, 44.0, 49.0, 50.0, 51.0, 52.0, 53.0, 44.0, 44.0, 54.0, 54.0, 5.0, 54.0, 55.0, 56.0, 57.0, 58.0, 58.0, 58.0, 24.0, 58.0, 24.0, 59.0, 60.0, 61.0, 4.0, 62.0, 63.0, 64.0, 65.0, 63.0, 66.0, 67.0, 68.0, 69.0, 67.0, 70.0, 71.0, 72.0, 72.0, 73.0, 58.0, 58.0, 58.0, 74.0, 75.0, 76.0, 77.0, 78.0, 30.0, 79.0, 61.0, 80.0, 4.0, 62.0, 81.0, 60.0, 62.0, 60.0, 9.0, 4.0, 24.0, 82.0, 82.0, 83.0, 84.0, 85.0, 86.0, 87.0, 88.0, 62.0, 25.0, 89.0, 90.0, 91.0, 92.0, 93.0, 94.0, 95.0, 9.0, 96.0, 97.0, 98.0, 11.0, 17.0, 99.0, 100.0, 20.0, 101.0, 102.0, 0.0, 103.0, 52.0, 104.0, 17.0, 105.0, 106.0, 17.0, 107.0, 107.0, 108.0, 108.0, 108.0, 83.0, 17.0, 17.0, 17.0, 88.0, 105.0, 20.0, 74.0, 60.0, 109.0, 110.0, 111.0, 112.0, 113.0, 24.0, 114.0, 9.0, 115.0, 116.0, 57.0, 64.0, 117.0, 118.0, 5.0, 105.0, 105.0, 105.0, 105.0, 63.0, 119.0, 120.0, 5.0, 32.0, 121.0, 122.0, 110.0, 14.0, 123.0, 121.0, 124.0, 124.0, 121.0, 125.0, 57.0, 126.0, 52.0, 127.0, 128.0, 129.0, 32.0, 74.0, 130.0, 131.0, 132.0, 121.0, 133.0, 134.0, 135.0, 135.0, 136.0, 137.0, 137.0, 63.0, 138.0, 139.0, 140.0, 141.0, 142.0, 143.0, 140.0, 144.0, 144.0, 145.0, 146.0, 140.0, 90.0, 33.0, 147.0, 147.0, 5.0, 140.0, 17.0, 140.0, 148.0, 0.0, 149.0, 150.0, 74.0, 151.0, 17.0, 152.0, 32.0, 4.0, 26.0, 5.0, 153.0, 154.0, 155.0, 156.0, 157.0, 157.0, 157.0, 157.0, 5.0, 26.0, 158.0, 159.0, 159.0, 159.0, 159.0, 160.0, 161.0, 162.0, 161.0, 163.0, 164.0, 164.0, 164.0, 164.0, 164.0, 165.0, 166.0, 167.0, 166.0, 168.0, 167.0, 166.0, 32.0, 167.0, 167.0, 167.0, 169.0, 67.0, 170.0, 26.0, 171.0, 172.0, 32.0, 26.0, 33.0, 173.0, 174.0, 63.0, 175.0, 78.0, 85.0, 88.0, 176.0, 177.0, 2.0, 122.0, 4.0, 178.0, 179.0, 180.0, 181.0, 181.0, 182.0, 63.0, 183.0, 184.0, 26.0, 185.0, 186.0, 133.0, 12.0, 181.0, 181.0, 181.0, 187.0, 188.0, 64.0, 189.0, 190.0, 63.0, 191.0, 192.0, 63.0, 185.0, 185.0, 193.0, 63.0, 194.0, 195.0, 196.0, 197.0, 198.0, 199.0, 200.0, 201.0, 17.0, 78.0, 202.0, 12.0, 203.0, 204.0, 205.0, 206.0, 78.0, 207.0, 208.0, 153.0, 209.0, 210.0, 63.0, 211.0, 63.0, 78.0, 212.0, 213.0, 123.0, 153.0, 153.0, 153.0, 213.0, 153.0, 153.0, 214.0, 185.0, 215.0, 153.0, 153.0, 213.0, 56.0, 216.0, 217.0, 218.0, 219.0, 123.0, 151.0, 169.0, 181.0, 220.0, 99.0, 181.0, 181.0, 221.0, 222.0, 223.0, 224.0, 225.0, 17.0, 226.0, 227.0, 228.0, 151.0, 189.0, 225.0, 78.0, 17.0, 229.0, 10.0, 10.0, 185.0, 10.0, 230.0, 60.0, 10.0, 231.0, 232.0, 233.0, 234.0, 208.0, 235.0, 225.0, 66.0, 236.0, 237.0, 3.0, 78.0, 64.0, 64.0, 238.0, 9.0, 52.0, 239.0, 78.0, 30.0, 185.0, 74.0, 67.0, 40.0, 240.0, 133.0, 241.0, 185.0, 74.0, 78.0, 242.0, 243.0, 133.0, 169.0, 244.0, 30.0, 245.0, 30.0, 246.0, 247.0, 219.0, 138.0, 109.0, 248.0, 249.0, 250.0, 251.0, 252.0, 252.0, 252.0, 30.0, 253.0, 254.0, 86.0, 74.0, 86.0, 255.0, 256.0, 227.0, 74.0, 191.0, 191.0, 227.0, 122.0, 257.0, 258.0, 170.0, 259.0, 229.0, 229.0, 229.0, 229.0, 229.0, 141.0, 30.0, 141.0, 30.0, 141.0, 78.0, 5.0, 185.0, 52.0, 249.0, 260.0, 33.0, 261.0, 5.0, 262.0, 263.0, 264.0, 265.0, 78.0, 30.0, 108.0, 74.0, 74.0, 78.0, 90.0, 90.0, 266.0, 267.0, 267.0, 52.0, 268.0, 12.0, 260.0, 260.0, 260.0, 269.0, 270.0, 270.0, 270.0, 270.0, 270.0, 170.0, 271.0, 192.0, 260.0, 272.0, 273.0, 274.0, 260.0, 249.0, 78.0, 29.0, 275.0, 275.0, 276.0, 78.0, 185.0, 192.0, 237.0, 237.0, 277.0, 78.0, 257.0, 278.0, 278.0, 260.0, 74.0, 5.0, 279.0, 280.0, 281.0, 282.0, 281.0, 281.0, 281.0, 281.0, 203.0, 283.0, 284.0, 64.0, 281.0, 282.0, 285.0, 281.0, 286.0, 281.0, 287.0, 287.0, 287.0, 78.0, 288.0, 281.0, 78.0, 281.0, 281.0, 281.0, 5.0, 281.0, 281.0, 5.0, 289.0, 20.0, 20.0, 20.0, 20.0, 20.0, 151.0, 151.0, 151.0, 151.0, 151.0, 36.0, 21.0, 290.0, 99.0, 289.0, 229.0, 229.0, 229.0, 291.0, 225.0, 292.0, 229.0, 293.0, 74.0, 294.0, 295.0, 296.0, 295.0, 249.0, 297.0, 295.0, 297.0, 298.0, 299.0, 295.0, 78.0, 300.0, 301.0, 302.0, 303.0, 304.0, 305.0, 306.0, 20.0, 302.0, 273.0, 302.0, 304.0, 5.0, 307.0, 302.0, 273.0, 30.0, 308.0, 309.0, 310.0, 260.0, 311.0, 78.0, 289.0, 260.0, 212.0, 275.0, 312.0, 273.0, 302.0, 313.0, 74.0, 269.0, 314.0, 302.0, 315.0, 316.0, 317.0, 318.0, 302.0, 308.0, 319.0, 14.0, 320.0, 321.0, 322.0, 323.0, 67.0, 324.0, 325.0, 326.0, 327.0, 328.0, 329.0, 324.0, 324.0, 60.0, 330.0, 331.0, 331.0, 331.0, 100.0, 331.0, 100.0, 302.0, 304.0, 330.0, 332.0, 333.0, 334.0, 335.0, 309.0, 309.0, 336.0, 302.0, 337.0, 100.0, 338.0, 100.0, 339.0, 340.0, 331.0, 9.0, 341.0, 342.0, 343.0, 344.0, 345.0, 346.0, 346.0, 10.0, 347.0, 348.0, 349.0, 350.0, 309.0, 331.0, 229.0, 295.0, 302.0, 164.0, 229.0, 351.0, 352.0, 25.0, 353.0, 354.0, 229.0, 256.0, 355.0, 356.0, 357.0, 10.0, 351.0, 55.0, 358.0, 108.0, 359.0, 302.0, 332.0, 360.0, 309.0, 196.0, 302.0, 309.0, 361.0, 351.0, 217.0, 302.0, 219.0, 309.0, 362.0, 363.0, 21.0, 350.0, 196.0, 364.0, 260.0, 365.0, 366.0, 302.0, 158.0, 101.0, 316.0, 62.0, 367.0, 25.0, 65.0, 368.0, 74.0, 269.0, 369.0, 216.0, 212.0, 74.0, 101.0, 9.0, 370.0, 33.0, 273.0, 74.0, 371.0, 75.0, 21.0, 372.0, 372.0, 212.0, 153.0, 74.0, 74.0, 74.0, 74.0, 46.0, 373.0, 55.0, 374.0, 74.0, 74.0, 281.0, 42.0, 302.0, 112.0, 9.0, 9.0, 14.0, 375.0, 375.0, 375.0, 260.0, 122.0, 212.0, 21.0, 109.0, 376.0, 376.0, 21.0, 76.0, 377.0, 238.0, 212.0, 378.0, 75.0, 260.0, 33.0, 212.0, 379.0, 380.0, 381.0, 368.0, 382.0, 74.0, 74.0, 74.0, 74.0, 74.0, 74.0, 74.0, 101.0, 101.0, 211.0, 65.0, 74.0, 101.0, 383.0, 383.0, 384.0, 74.0, 115.0, 385.0, 74.0, 383.0, 74.0, 332.0, 386.0, 387.0, 2.0, 388.0, 389.0, 0.0, 2.0, 4.0, 9.0, 13.0, 18.0, 21.0, 4.0, 23.0, 26.0, 26.0, 31.0, 28.0, 26.0, 33.0, 34.0, 35.0, 26.0, 37.0, 37.0, 37.0, 39.0, 41.0, 42.0, 31.0, 53.0, 54.0, 54.0, 54.0, 57.0, 58.0, 58.0, 58.0, 61.0, 4.0, 62.0, 66.0, 71.0, 58.0, 58.0, 58.0, 75.0, 76.0, 78.0, 61.0, 80.0, 4.0, 62.0, 81.0, 62.0, 9.0, 4.0, 83.0, 86.0, 88.0, 62.0, 9.0, 98.0, 11.0, 99.0, 101.0, 0.0, 104.0, 105.0, 106.0, 83.0, 88.0, 105.0, 109.0, 111.0, 113.0, 9.0, 116.0, 57.0, 64.0, 117.0, 118.0, 105.0, 122.0, 57.0, 128.0, 129.0, 130.0, 131.0, 132.0, 133.0, 135.0, 135.0, 90.0, 33.0, 0.0, 149.0, 151.0, 152.0, 26.0, 26.0, 153.0, 155.0, 156.0, 157.0, 157.0, 157.0, 157.0, 26.0, 158.0, 159.0, 159.0, 159.0, 159.0, 160.0, 167.0, 167.0, 167.0, 167.0, 167.0, 169.0, 26.0, 171.0, 172.0, 26.0, 33.0, 78.0, 88.0, 2.0, 122.0, 4.0, 181.0, 181.0, 182.0, 183.0, 26.0, 133.0, 181.0, 181.0, 181.0, 187.0, 64.0, 191.0, 192.0, 196.0, 201.0, 78.0, 202.0, 203.0, 204.0, 205.0, 206.0, 78.0, 207.0, 208.0, 153.0, 209.0, 210.0, 78.0, 213.0, 153.0, 153.0, 153.0, 213.0, 153.0, 153.0, 214.0, 215.0, 216.0, 151.0, 169.0, 181.0, 99.0, 181.0, 221.0, 222.0, 223.0, 224.0, 225.0, 226.0, 151.0, 225.0, 78.0, 229.0, 231.0, 232.0, 208.0, 225.0, 237.0, 78.0, 64.0, 64.0, 9.0, 239.0, 78.0, 133.0, 78.0, 133.0, 169.0, 245.0, 247.0, 109.0, 250.0, 253.0, 254.0, 86.0, 86.0, 191.0, 191.0, 122.0, 229.0, 229.0, 229.0, 229.0, 229.0, 141.0, 141.0, 78.0, 260.0, 33.0, 261.0, 78.0, 78.0, 90.0, 90.0, 267.0, 267.0, 268.0, 260.0, 260.0, 260.0, 269.0, 271.0, 192.0, 260.0, 273.0, 260.0, 78.0, 29.0, 275.0, 275.0, 276.0, 78.0, 278.0, 278.0, 260.0, 203.0, 284.0, 64.0, 286.0, 78.0, 78.0, 151.0, 151.0, 151.0, 151.0, 151.0, 229.0, 229.0, 291.0, 225.0, 292.0, 229.0, 293.0, 295.0, 297.0, 295.0, 297.0, 299.0, 295.0, 78.0, 301.0, 302.0, 303.0, 304.0, 306.0, 302.0, 302.0, 304.0, 307.0, 302.0, 273.0, 308.0, 309.0, 310.0, 260.0, 275.0, 273.0, 302.0, 269.0, 314.0, 302.0, 315.0, 316.0, 302.0, 308.0, 320.0, 325.0, 328.0, 330.0, 331.0, 331.0, 302.0, 330.0, 332.0, 309.0, 309.0, 336.0, 302.0, 339.0, 331.0, 9.0, 342.0, 344.0, 346.0, 346.0, 347.0, 349.0, 229.0, 295.0, 302.0, 353.0, 355.0, 356.0, 357.0, 55.0, 359.0, 302.0, 332.0, 309.0, 196.0, 302.0, 309.0, 361.0, 302.0, 309.0, 363.0, 21.0, 196.0, 364.0, 260.0, 365.0, 366.0, 302.0, 158.0, 101.0, 316.0, 62.0, 65.0, 269.0, 369.0, 216.0, 101.0, 9.0, 370.0, 33.0, 273.0, 75.0, 153.0, 55.0, 42.0, 302.0, 9.0, 9.0, 260.0, 122.0, 21.0, 109.0, 376.0, 376.0, 21.0, 76.0, 377.0, 75.0, 260.0, 33.0, 379.0, 380.0, 381.0, 101.0, 101.0, 65.0, 101.0, 332.0, 389.0, 144.0, 390.0]\n",
            "tyle wystapien klasy n w danych treningowych:  2\n",
            "tyle wierszy w danych treningowych:  1266\n",
            "tyle klas znaleziono w danych treningowych:  391\n"
          ],
          "name": "stdout"
        }
      ]
    },
    {
      "metadata": {
        "id": "vPRrHzYvypom",
        "colab_type": "code",
        "outputId": "5f48fbc6-fc73-44e9-918d-4487707151c4",
        "colab": {
          "base_uri": "https://localhost:8080/",
          "height": 85
        }
      },
      "cell_type": "code",
      "source": [
        "\n",
        "# mala gamma  -  odlegle punkty, od potencjalnej garnicy , maja wplyw na ustawienie granicy (decision boundary)  => moze powodobac niedopasownie\n",
        "# duza gamma -  tylko bliskie punkty, od potencjalnej garnicy , maja wplyw na ustawienie granicy (decision boundary) => moze powodowac overfiting\n",
        "clf = svm.SVC(gamma=0.01,probability=True)#gamma 0.0001\n",
        "# clf = svm.SVC(gamma=0.01,probability=False)#gamma 0.0001\n",
        "clf.fit(xTrain, yTrain) "
      ],
      "execution_count": 17,
      "outputs": [
        {
          "output_type": "execute_result",
          "data": {
            "text/plain": [
              "SVC(C=1.0, cache_size=200, class_weight=None, coef0=0.0,\n",
              "  decision_function_shape='ovr', degree=3, gamma=0.01, kernel='rbf',\n",
              "  max_iter=-1, probability=True, random_state=None, shrinking=True,\n",
              "  tol=0.001, verbose=False)"
            ]
          },
          "metadata": {
            "tags": []
          },
          "execution_count": 17
        }
      ]
    },
    {
      "metadata": {
        "id": "x-oHXGBPzsMG",
        "colab_type": "code",
        "colab": {}
      },
      "cell_type": "code",
      "source": [
        ""
      ],
      "execution_count": 0,
      "outputs": []
    },
    {
      "metadata": {
        "id": "sJY1xTCDSLNI",
        "colab_type": "text"
      },
      "cell_type": "markdown",
      "source": [
        "\n",
        "\n",
        "---\n",
        "\n",
        "\n",
        "\n",
        "---\n",
        "\n",
        "\n",
        "\n",
        "---\n",
        "\n"
      ]
    },
    {
      "metadata": {
        "id": "tzanoRBUSoWo",
        "colab_type": "text"
      },
      "cell_type": "markdown",
      "source": [
        "## **TEST MODEL**"
      ]
    },
    {
      "metadata": {
        "id": "80qYJa28rzE0",
        "colab_type": "code",
        "outputId": "68679c46-a5db-443c-dccc-d3b50389030e",
        "colab": {
          "base_uri": "https://localhost:8080/",
          "height": 136
        }
      },
      "cell_type": "code",
      "source": [
        "\n",
        "predictions = clf.predict(xTest)\n",
        "# print (predictions[0])\n",
        "# print(len(predictions))\n",
        "# print(predictions)\n",
        "proba_predictions = clf.predict_proba(xTest)\n",
        "print (proba_predictions)\n",
        "\n",
        "from sklearn import metrics\n",
        "\n",
        "# # Model Accuracy: how often is the classifier correct?\n",
        "# print(\"Accuracy:\",metrics.accuracy_score(xTest,  yTest))\n"
      ],
      "execution_count": 18,
      "outputs": [
        {
          "output_type": "stream",
          "text": [
            "[[0.00554241 0.00236676 0.00377186 ... 0.00210588 0.00215068 0.00207619]\n",
            " [0.0055192  0.00236735 0.003776   ... 0.00209698 0.00214247 0.0020778 ]\n",
            " [0.00564719 0.00237518 0.00378366 ... 0.00216188 0.00221277 0.00209413]\n",
            " ...\n",
            " [0.00590367 0.0023657  0.0038641  ... 0.00227856 0.00230831 0.00218599]\n",
            " [0.00553571 0.00236072 0.00378847 ... 0.00210384 0.00214966 0.00208365]\n",
            " [0.00554949 0.00236582 0.00379646 ... 0.00211469 0.00216253 0.00209417]]\n"
          ],
          "name": "stdout"
        }
      ]
    },
    {
      "metadata": {
        "id": "MUEUXBSlAXg7",
        "colab_type": "code",
        "outputId": "2e5de446-ef2e-4b29-ba4a-b749f4ba4a02",
        "colab": {
          "base_uri": "https://localhost:8080/",
          "height": 376
        }
      },
      "cell_type": "code",
      "source": [
        "#jakie klasy byly naczesciej(znajdowaly sie w pierwszej 15 najbardziej prawdopodobnych) wybierane\n",
        "def choose_best_predicted_classes():\n",
        "  all_row_best_pred = []\n",
        "  plt_data = [0 for svm_class in svm_labels]\n",
        "  for prob_prediction in proba_predictions:\n",
        "    pair_prob_prediction = [(idx, element) for idx, element in enumerate(prob_prediction)]\n",
        "    sorted_prob_prediction = list(prob_prediction)\n",
        "    pair_prob_prediction_sorted = sorted(pair_prob_prediction, key=lambda ele: ele[1])\n",
        "    best_pred = pair_prob_prediction_sorted[-15:]\n",
        "    all_row_best_pred.append(best_pred)\n",
        "    for pred_class in best_pred:\n",
        "      plt_data[pred_class[0]] += 1\n",
        "  return all_row_best_pred,plt_data \n",
        "\n",
        "all_row_best_pred, plt_data = choose_best_predicted_classes()  \n",
        "\n",
        "\n",
        "# print (plt_data)\n",
        "bar_width = 1\n",
        "# widths = [10  for i in range(len(svm_labels))]   \n",
        "y_pos = range(len(svm_labels))\n",
        "performance = plt_data\n",
        "l_y_pos = list(y_pos)\n",
        "l_y_pos = l_y_pos[:250]\n",
        "np_y_pos = np.array(l_y_pos)\n",
        "plt.bar(np_y_pos + bar_width, performance[:250], align='center', alpha=0.5)\n",
        "plt.xticks(np_y_pos + bar_width / 2)\n",
        "plt.ylabel('liczba wybran klasy')\n",
        "plt.xlabel('numer klasy')\n",
        "plt.title('rozklad wybierania klas jako sfailowane')\n",
        "plt.show()\n",
        "\n",
        "\n",
        "  "
      ],
      "execution_count": 19,
      "outputs": [
        {
          "output_type": "display_data",
          "data": {
            "image/png": "[encoded data removed]",
            "text/plain": [
              "<matplotlib.figure.Figure at 0x7f2f153af128>"
            ]
          },
          "metadata": {
            "tags": []
          }
        }
      ]
    },
    {
      "metadata": {
        "id": "iccc9VCbqaxx",
        "colab_type": "code",
        "outputId": "faa24517-bce4-40b0-8f65-44578016040b",
        "colab": {
          "base_uri": "https://localhost:8080/",
          "height": 376
        }
      },
      "cell_type": "code",
      "source": [
        "def create_fake_pred(quantity_of_predictions, quantity_oftests_set_as_failed=15):\n",
        "  import random\n",
        "  stats =  [0 for i in range(542)]\n",
        "  random_matrix_pred = []\n",
        "  for row_no in range(quantity_of_predictions):\n",
        "      random_pred_list = [1 for i in range(542)]\n",
        "      random_indexes_list = []\n",
        "      while (len(random_indexes_list) <  15):\n",
        "          drawn_index= random.randint(0,230)\n",
        "          if random.randint(0,230) not in random_indexes_list:\n",
        "            random_indexes_list.append(drawn_index)\n",
        "          \n",
        "      for idx in random_indexes_list:\n",
        "        stats[idx] = stats[idx] + 1\n",
        "        \n",
        "      random_matrix_pred.append(random_indexes_list)\n",
        "      \n",
        "  random_matrix_pred = np.array(random_matrix_pred)\n",
        "  return random_matrix_pred, stats, \n",
        "\n",
        "stats = create_fake_pred(len(yTest))[1]\n",
        "y_pos = range(len(stats))\n",
        "performance = stats\n",
        "\n",
        "plt.bar(y_pos, performance, align='center', alpha=0.5)\n",
        "plt.xticks(y_pos)\n",
        "plt.ylabel('liczba wybran testu')\n",
        "plt.xlabel('numer testu')\n",
        "plt.title('rozklad wybierania testow jako sfailowane')\n",
        "plt.show()\n"
      ],
      "execution_count": 20,
      "outputs": [
        {
          "output_type": "display_data",
          "data": {
            "image/png": "[encoded data removed]",
            "text/plain": [
              "<matplotlib.figure.Figure at 0x7f2f1323ea90>"
            ]
          },
          "metadata": {
            "tags": []
          }
        }
      ]
    },
    {
      "metadata": {
        "id": "UpriS5Jq9ByJ",
        "colab_type": "code",
        "outputId": "febd736f-6916-4314-fa55-f2271bd0ab35",
        "colab": {
          "base_uri": "https://localhost:8080/",
          "height": 68
        }
      },
      "cell_type": "code",
      "source": [
        "#evaluation \n",
        "\n",
        "def read_predicted_tests_numbers(best_pred): \n",
        "  svm_pred_to_fail = []\n",
        "  test_counter = 0\n",
        "  for svm_class in best_pred:\n",
        "    for ele in class_mapper:\n",
        "      if svm_class[0] == ele[1]:\n",
        "        for idx,test in enumerate(ele[0]):\n",
        "          if test == 0:\n",
        "            svm_pred_to_fail.append(idx)\n",
        "            test_counter += 1\n",
        "            if test_counter > 15:\n",
        "              return svm_pred_to_fail\n",
        "  else:\n",
        "    return svm_pred_to_fail\n",
        "  \n",
        "def read_real_tests_numbers(idx, ref_yTest):\n",
        "  real_class = class_mapper[int(yTest[idx])]\n",
        "  for pair in class_mapper:\n",
        "    if pair[1] == ref_yTest[idx]:\n",
        "      real_vector =  list(pair[0])\n",
        "  real_failed_tests_numbers = [test_id for test_id, test  in enumerate(real_vector) if test == 0]\n",
        "  return real_failed_tests_numbers\n",
        "  \n",
        "  \n",
        "def new_evaluation(all_row_best_pred, yTest, is_fake_pred=False):  \n",
        "  all_performances = []\n",
        "\n",
        "  for idx, best_pred in enumerate(all_row_best_pred): \n",
        "    real_failed_tests_numbers = set(read_real_tests_numbers(idx, yTest))\n",
        "    if is_fake_pred == True:\n",
        "      predicted_tests_numbers = set(best_pred)\n",
        "    else:\n",
        "      predicted_tests_numbers = set(read_predicted_tests_numbers(best_pred))\n",
        "    diffrence = real_failed_tests_numbers - predicted_tests_numbers\n",
        "    try:\n",
        "      single_perfomance = (1 - (len(diffrence)/len(real_failed_tests_numbers)))\n",
        "    except ZeroDivisionError:\n",
        "      print(\"skip eveluation due to no failed test in class\")\n",
        "      continue\n",
        "    all_performances.append(single_perfomance)\n",
        "  return all_performances\n",
        "\n",
        "  \n",
        "all_performance = new_evaluation(all_row_best_pred, yTest) \n",
        "average_performance = sum(all_performance)/ len(all_performance)\n",
        "print(\"============================================================================================\")\n",
        "fake_pred = create_fake_pred(len(yTest))[0]\n",
        "fake_evaluation = new_evaluation(fake_pred, yTest,is_fake_pred=True)\n",
        "average_fake_pred = sum(fake_evaluation)/ len(fake_evaluation)\n",
        "\n",
        "print(average_performance)\n",
        "print(average_fake_pred)  \n",
        "  \n",
        "  \n",
        "  \n",
        "          \n",
        "      \n",
        "\n",
        "  "
      ],
      "execution_count": 21,
      "outputs": [
        {
          "output_type": "stream",
          "text": [
            "============================================================================================\n",
            "0.1615485564304462\n",
            "0.04330708661417323\n"
          ],
          "name": "stdout"
        }
      ]
    },
    {
      "metadata": {
        "id": "bmd8oveCCLdd",
        "colab_type": "code",
        "colab": {}
      },
      "cell_type": "code",
      "source": [
        ""
      ],
      "execution_count": 0,
      "outputs": []
    },
    {
      "metadata": {
        "colab_type": "code",
        "id": "e8Ez4ulnAZAe",
        "outputId": "9619f483-ab13-47fa-925a-a8bef86c01c6",
        "colab": {
          "base_uri": "https://localhost:8080/",
          "height": 34
        }
      },
      "cell_type": "code",
      "source": [
        "def svm_function(gamma_parameter):\n",
        "  global xTrain, yTrain, xTest, yTest, class_mapper\n",
        "  clf = svm.SVC(gamma=gamma_parameter,probability=True)#gamma 0.0001\n",
        "  clf.fit(xTrain, yTrain)\n",
        "\n",
        "  proba_predictions = clf.predict_proba(xTest)\n",
        "  \n",
        "  \n",
        "  def choose_best_predicted_classes():\n",
        "    all_row_best_pred = []\n",
        "    plt_data = [0 for svm_class in svm_labels]\n",
        "    for prob_prediction in proba_predictions:\n",
        "      pair_prob_prediction = [(idx, element) for idx, element in enumerate(prob_prediction)]\n",
        "      sorted_prob_prediction = list(prob_prediction)\n",
        "      pair_prob_prediction_sorted = sorted(pair_prob_prediction, key=lambda ele: ele[1])\n",
        "      best_pred = pair_prob_prediction_sorted[-15:]\n",
        "      all_row_best_pred.append(best_pred)\n",
        "      for pred_class in best_pred:\n",
        "        plt_data[pred_class[0]] += 1\n",
        "    return all_row_best_pred,plt_data \n",
        "  \n",
        "  all_row_best_pred, plt_data = choose_best_predicted_classes()\n",
        "  \n",
        "  def read_predicted_tests_numbers(best_pred): \n",
        "    svm_pred_to_fail = []\n",
        "    test_counter = 0\n",
        "    for svm_class in best_pred:\n",
        "      for ele in class_mapper:\n",
        "        if svm_class[0] == ele[1]:\n",
        "          for idx,test in enumerate(ele[0]):\n",
        "            if test == 0:\n",
        "              svm_pred_to_fail.append(idx)\n",
        "              test_counter += 1\n",
        "              if test_counter > 15:\n",
        "                return svm_pred_to_fail\n",
        "    else:\n",
        "      return svm_pred_to_fail\n",
        "  \n",
        "  def read_real_tests_numbers(idx, ref_yTest):\n",
        "    real_class = class_mapper[int(yTest[idx])]\n",
        "    for pair in class_mapper:\n",
        "      if pair[1] == ref_yTest[idx]:\n",
        "        real_vector =  list(pair[0])\n",
        "    real_failed_tests_numbers = [test_id for test_id, test  in enumerate(real_vector) if test == 0]\n",
        "    return real_failed_tests_numbers\n",
        "\n",
        "\n",
        "  def new_evaluation(all_row_best_pred, yTest, is_fake_pred=False):  \n",
        "    all_performances = []\n",
        "    for idx, best_pred in enumerate(all_row_best_pred): \n",
        "      real_failed_tests_numbers = set(read_real_tests_numbers(idx, yTest))\n",
        "      if is_fake_pred == True:\n",
        "        predicted_tests_numbers = set(best_pred)\n",
        "      else:\n",
        "        predicted_tests_numbers = set(read_predicted_tests_numbers(best_pred))\n",
        "      diffrence = real_failed_tests_numbers - predicted_tests_numbers\n",
        "      try:\n",
        "        single_perfomance = (1 - (len(diffrence)/len(real_failed_tests_numbers)))\n",
        "      except ZeroDivisionError:\n",
        "        print(\"skip eveluation due to no failed test in class\")\n",
        "        continue\n",
        "      all_performances.append(single_perfomance)\n",
        "    return all_performances\n",
        "\n",
        "  \n",
        "  \n",
        "  all_performance = new_evaluation(all_row_best_pred, yTest) \n",
        "  average_performance = sum(all_performance)/ len(all_performance)\n",
        "  return average_performance\n",
        "\n",
        "\n",
        "svm_function(0.01)  \n",
        "  \n",
        "\n",
        "  \n",
        "  "
      ],
      "execution_count": 22,
      "outputs": [
        {
          "output_type": "execute_result",
          "data": {
            "text/plain": [
              "0.1158792650918635"
            ]
          },
          "metadata": {
            "tags": []
          },
          "execution_count": 22
        }
      ]
    },
    {
      "metadata": {
        "id": "kdYFkbQyLR90",
        "colab_type": "code",
        "colab": {}
      },
      "cell_type": "code",
      "source": [
        ""
      ],
      "execution_count": 0,
      "outputs": []
    },
    {
      "metadata": {
        "id": "RQDcQ_Veq8qH",
        "colab_type": "code",
        "colab": {}
      },
      "cell_type": "code",
      "source": [
        "def optimizer(func, steps, minMax1, minMax2=False, split = 4, reduceSplit = False, searchMaximum = True):\n",
        "  \"\"\"\n",
        "  -------------------------------\n",
        "  Function can take 1 or 2 parameters to optimization.\n",
        "  Default: 2 parameters (you need to set values for minMax1 and minMax2)\n",
        "           For 1 parameter optimization set argument: \"minMax2 = False\"\n",
        "\n",
        "  -------------------------------\n",
        "  func        -->  enter your function there\n",
        "                   IMPORTANT:\n",
        "                   * if function has 1 parameter:  minMax1 = [min, max],   minMax2 = False\n",
        "                   * if function has 2 parameters: minMax1 = [min1, max1], minMax2 = [min2, max2]\n",
        "                   \n",
        "  steps       -->  number of iterations of recurency\n",
        "  \n",
        "  minMax1/2   -->  list of min and max value of parameters to begin with (ex. [min, max])\n",
        "  \n",
        "  split        -->  number of parts in which function will split values of parameters\n",
        "                   higher value -> better accuracy & longer calculation time\n",
        "                   (Values range 2 -- 10)\n",
        "                   \n",
        "  reduceSplit -->  If True: with every repetition of recurency will reduce split by one\n",
        "  \n",
        "  -------------------------------\n",
        "  \"\"\"\n",
        "  import matplotlib.pyplot as plt\n",
        "  import math\n",
        "  \n",
        "  \n",
        "  plotData = []\n",
        "  iterationCounter = 0\n",
        "  iterationsLeft = steps\n",
        "  recurencyCounter = 0\n",
        "  bestResult = None\n",
        "  print(iterationsLeft)\n",
        "  \n",
        "  #--------------------\n",
        "\n",
        "  def returnStepList(minValue, maxValue, nrSteps):\n",
        "      step = math.fabs(maxValue - minValue)/nrSteps\n",
        "      actualMin = min([minValue, maxValue])\n",
        "      actualMax = max([minValue, maxValue])\n",
        "      return [actualMin + step*nr for nr in range(nrSteps + 1)]\n",
        "\n",
        "  def resetIterators():\n",
        "    global plotData\n",
        "    global iterationCounter\n",
        "    global recurencyCounter\n",
        "    plotData = []\n",
        "    iterationCounter = 0\n",
        "    recurencyCounter = 0\n",
        "\n",
        "\n",
        "  def create_plot_optimizer(x_data, y_data=0, xLabel = 'X', yLabel = 'Y'):\n",
        "      import matplotlib.pyplot as plt\n",
        "      if y_data == 0:  \n",
        "          unzip = list(zip(*x_data))\n",
        "          x_data, y_data = unzip[0],unzip[1]\n",
        "      plt.plot(x_data, y_data)\n",
        "      plt.xlabel(xLabel)\n",
        "      plt.ylabel(yLabel)\n",
        "      plt.show()\n",
        "\n",
        "\n",
        "  def optimize(func, steps, minMax1, minMax2 = False, split = 4, reduceSplit = False, \n",
        "               searchMaximum = True, iLeft = None):\n",
        "      \n",
        "      global resetIterators\n",
        "      global iterationCounter\n",
        "      global iterationsLeft\n",
        "      global recurencyCounter\n",
        "      global bestResult\n",
        "      \n",
        "      localICounter = 0\n",
        "      iL = iLeft\n",
        "      sMax = searchMaximum\n",
        "      singleParam = False\n",
        "      bestPair = [None, None]\n",
        "      resultList = []\n",
        "      parametersList=[]\n",
        "\n",
        "      if reduceSplit is False:\n",
        "        newSplit = split\n",
        "      else:\n",
        "        if split > 2:\n",
        "          newSplit = split - 1\n",
        "        else:\n",
        "          newSplit = 2\n",
        "      if split > 10:\n",
        "        raise ValueError(\"Too big value of 'split' parameter! This would highly increase number of iterations\")\n",
        "      if minMax2 is False:\n",
        "        singleParam = True\n",
        "\n",
        "      recurencyCounter += 1\n",
        "\n",
        "      if isinstance(minMax1, list) and (isinstance(minMax2, list) or singleParam) :\n",
        "\n",
        "          stepList1 = returnStepList(minMax1[0], minMax1[1], split)\n",
        "          if singleParam:\n",
        "            stepList2 = [1]\n",
        "          else:\n",
        "            stepList2 = returnStepList(minMax2[0], minMax2[1], split)\n",
        "          \n",
        "          nrIterations = len(stepList1)*len(stepList2)\n",
        "          i1 = 0\n",
        "          i2 = 0\n",
        "\n",
        "\n",
        "\n",
        "          for el1 in stepList1:\n",
        "              i2 = 0\n",
        "              for el2 in stepList2:\n",
        "                  iterationCounter += 1\n",
        "                  localICounter += 1\n",
        "                 \n",
        "\n",
        "                  #----function----\n",
        "                  if singleParam:\n",
        "                    evaluation = func(el1)\n",
        "                  else:\n",
        "                    evaluation = func(el1, el2)\n",
        "                  #----function----\n",
        "                  print(\"---Iteration: {0}/{1} ----Recurency: {2}/{3} ---Evaluation:{4} ---Parameter: {5}\".format(localICounter, \\\n",
        "                                                                                                                   nrIterations,\\\n",
        "                                                                                                                   recurencyCounter,\\\n",
        "                                                                                                                   iL,\\\n",
        "                                                                                                                   evaluation,\\\n",
        "                                                                                                                   el1))\\\n",
        "\n",
        "                  if len(resultList) > 0:\n",
        "                      #----condition----\n",
        "                      if sMax:\n",
        "                        if evaluation >= max(resultList):\n",
        "                            bestPair[0] = i1\n",
        "                            bestPair[1] = i2\n",
        "                      else:\n",
        "                        if evaluation <= min(resultList):\n",
        "                            bestPair[0] = i1\n",
        "                            bestPair[1] = i2\n",
        "\n",
        "                      #----condition----\n",
        "\n",
        "                  else:\n",
        "                    if singleParam:\n",
        "                      bestPair[0] = i1\n",
        "                    else:\n",
        "                      bestPair[0] = i1\n",
        "                      bestPair[1] = i2\n",
        "\n",
        "                  plotData.append([evaluation, iterationCounter])\n",
        "\n",
        "                  resultList.append(evaluation)\n",
        "                  if singleParam:\n",
        "                    parametersList.append([el1])\n",
        "                  else:\n",
        "                    parametersList.append([el1, el2])\n",
        "\n",
        "                  i2 += 1\n",
        "              i1 += 1\n",
        "\n",
        "          #------------------------------------------------\n",
        "\n",
        "\n",
        "          if bestPair[0] == stepList1.index(stepList1[0]):\n",
        "              minMax1[0] = stepList1[bestPair[0]]/2\n",
        "              minMax1[1] = stepList1[bestPair[0] + 1]\n",
        "  #                 print(\"best values of PARAM_1 are close to MIN value\")\n",
        "\n",
        "          elif bestPair[0] == stepList1.index(stepList1[-1]):\n",
        "              minMax1[0] = stepList1[bestPair[0] - 1]\n",
        "              minMax1[1] = stepList1[bestPair[0]]*2\n",
        "  #                 print(\"best values of PARAM_1 are close to MAX value\")\n",
        "\n",
        "\n",
        "          else:\n",
        "              minMax1[0] = stepList1[bestPair[0] - 1]\n",
        "              minMax1[1] = stepList1[bestPair[0] + 1]\n",
        "\n",
        "          #------------------------------------------------\n",
        "          if not singleParam:\n",
        "            if bestPair[1] == stepList2.index(stepList2[0]):\n",
        "                minMax2[0] = stepList1[bestPair[1]]/2\n",
        "                minMax2[1] = stepList1[bestPair[1] + 1]\n",
        "  #                 print(\"best values of PARAM_2 are close to MIN value\")\n",
        "\n",
        "            elif bestPair[1] == stepList2.index(stepList2[-1]):\n",
        "                minMax2[0] = stepList1[bestPair[1] - 1]\n",
        "                minMax2[1] = stepList1[bestPair[1]]*2\n",
        "  #                 print(\"best values of PARAM_2 are close to MAX value\")\n",
        "\n",
        "\n",
        "            else:\n",
        "                minMax2[0] = stepList2[bestPair[1] - 1]\n",
        "                minMax2[1] = stepList2[bestPair[1] + 1]\n",
        "\n",
        "          #------------------------------------------------\n",
        "          if sMax:\n",
        "            result = max(resultList)\n",
        "            param1 = parametersList[resultList.index(max(resultList))][0]\n",
        "            if not singleParam:\n",
        "              param2 = parametersList[resultList.index(max(resultList))][1]\n",
        "          else:\n",
        "            result = min(resultList)\n",
        "            param1 = parametersList[resultList.index(min(resultList))][0]\n",
        "            if not singleParam:\n",
        "              param2 = parametersList[resultList.index(min(resultList))][1]\n",
        "                    \n",
        "          if steps > 0:\n",
        "            if singleParam:\n",
        "              print(\"---------------------------------------------------------\\n\")\n",
        "              optimize(func,\n",
        "                       steps - 1,\n",
        "                       [minMax1[0],minMax1[1]],\n",
        "                       minMax2 = False,\n",
        "                       split = newSplit,\n",
        "                       reduceSplit=reduceSplit,\n",
        "                       searchMaximum = sMax,\n",
        "                       iLeft = iL )\n",
        "            else:\n",
        "              print(\"---------------------------------------------------------\\n\")\n",
        "              optimize(func,\n",
        "                       steps - 1,\n",
        "                       [minMax1[0], minMax1[1]],\n",
        "                       minMax2=[minMax2[0], minMax2[1]],\n",
        "                       split = newSplit,\n",
        "                       reduceSplit=reduceSplit,\n",
        "                       searchMaximum = sMax,\n",
        "                       iLeft = iL)\n",
        "            \n",
        "          else:\n",
        "            if singleParam:\n",
        "              print('\\n------------------ACHIEVED RESULTS------------------\\n')\n",
        "              print(\"{:<20}{}\\n{:<20}{}\\n\".format('RESULT: ',\n",
        "                                                  result,\n",
        "                                                  'PARAMETER 1: ',\n",
        "                                                  param1))\n",
        "              return [result, param1]\n",
        "            else:\n",
        "              print('\\n------------------ACHIEVED RESULTS------------------\\n')\n",
        "              print(\"{:<20}{}\\n{:<20}{}\\n{:<20}{}\\n\".format('RESULT: ',\n",
        "                                                            result,\n",
        "                                                            'PARAMETER 1: ',\n",
        "                                                            param1,\n",
        "                                                            'PARAMETER 2: ',\n",
        "                                                            param2))\n",
        "              return [result, param1, param2]\n",
        "\n",
        "      else:\n",
        "          print(\"enter correct value!\")\n",
        "         \n",
        "  resetIterators()\n",
        "  result = optimize(func,\n",
        "                    steps,\n",
        "                    minMax1,\n",
        "                    minMax2,\n",
        "                    split,\n",
        "                    reduceSplit,\n",
        "                    searchMaximum = searchMaximum,\n",
        "                    iLeft = steps+1)\n",
        "  xData = [num[1] for num in plotData]\n",
        "  yData = [num[0] for num in plotData]\n",
        "  create_plot_optimizer(xData, yData, 'Iterations', 'Result')\n",
        "  return result\n"
      ],
      "execution_count": 0,
      "outputs": []
    },
    {
      "metadata": {
        "id": "-h2WhR-U2qs1",
        "colab_type": "code",
        "colab": {}
      },
      "cell_type": "code",
      "source": [
        ""
      ],
      "execution_count": 0,
      "outputs": []
    },
    {
      "metadata": {
        "id": "Z-IHOmht6rjH",
        "colab_type": "code",
        "colab": {}
      },
      "cell_type": "code",
      "source": [
        "import math\n",
        "def exampleFunction(x, y=10):\n",
        "  return ((-20)* math.exp((((0.5*(x**2 + y**2))**0.5)*(-0.2))))\n"
      ],
      "execution_count": 0,
      "outputs": []
    },
    {
      "metadata": {
        "id": "VnOe4NIG2zQc",
        "colab_type": "code",
        "colab": {
          "base_uri": "https://localhost:8080/",
          "height": 1211
        },
        "outputId": "217cbd38-c7c7-46aa-9bbf-be6695da4b5b"
      },
      "cell_type": "code",
      "source": [
        "optimizer(svm_function, steps=4, minMax1=[0.1,0.3], minMax2=False, split=6, reduceSplit=False, searchMaximum=True)"
      ],
      "execution_count": 25,
      "outputs": [
        {
          "output_type": "stream",
          "text": [
            "4\n",
            "---Iteration: 1/7 ----Recurency: 1/5 ---Evaluation:0.14461942257217847 ---Parameter: 0.1\n",
            "---Iteration: 2/7 ----Recurency: 1/5 ---Evaluation:0.14527559055118108 ---Parameter: 0.13333333333333333\n",
            "---Iteration: 3/7 ----Recurency: 1/5 ---Evaluation:0.13543307086614173 ---Parameter: 0.16666666666666669\n",
            "---Iteration: 4/7 ----Recurency: 1/5 ---Evaluation:0.1433070866141732 ---Parameter: 0.2\n",
            "---Iteration: 5/7 ----Recurency: 1/5 ---Evaluation:0.15511811023622046 ---Parameter: 0.23333333333333334\n",
            "---Iteration: 6/7 ----Recurency: 1/5 ---Evaluation:0.12887139107611548 ---Parameter: 0.26666666666666666\n",
            "---Iteration: 7/7 ----Recurency: 1/5 ---Evaluation:0.14251968503937007 ---Parameter: 0.30000000000000004\n",
            "---------------------------------------------------------\n",
            "\n",
            "---Iteration: 1/7 ----Recurency: 2/5 ---Evaluation:0.1426509186351706 ---Parameter: 0.2\n",
            "---Iteration: 2/7 ----Recurency: 2/5 ---Evaluation:0.12611548556430446 ---Parameter: 0.2111111111111111\n",
            "---Iteration: 3/7 ----Recurency: 2/5 ---Evaluation:0.1425196850393701 ---Parameter: 0.22222222222222224\n",
            "---Iteration: 4/7 ----Recurency: 2/5 ---Evaluation:0.12230971128608922 ---Parameter: 0.23333333333333334\n",
            "---Iteration: 5/7 ----Recurency: 2/5 ---Evaluation:0.1404199475065617 ---Parameter: 0.24444444444444444\n",
            "---Iteration: 6/7 ----Recurency: 2/5 ---Evaluation:0.1321522309711286 ---Parameter: 0.25555555555555554\n",
            "---Iteration: 7/7 ----Recurency: 2/5 ---Evaluation:0.15354330708661418 ---Parameter: 0.26666666666666666\n",
            "---------------------------------------------------------\n",
            "\n",
            "---Iteration: 1/7 ----Recurency: 3/5 ---Evaluation:0.15052493438320208 ---Parameter: 0.25555555555555554\n",
            "---Iteration: 2/7 ----Recurency: 3/5 ---Evaluation:0.15748031496062992 ---Parameter: 0.3018518518518518\n",
            "---Iteration: 3/7 ----Recurency: 3/5 ---Evaluation:0.1601049868766404 ---Parameter: 0.34814814814814815\n",
            "---Iteration: 4/7 ----Recurency: 3/5 ---Evaluation:0.1635170603674541 ---Parameter: 0.39444444444444443\n",
            "---Iteration: 5/7 ----Recurency: 3/5 ---Evaluation:0.17913385826771655 ---Parameter: 0.44074074074074077\n",
            "---Iteration: 6/7 ----Recurency: 3/5 ---Evaluation:0.15236220472440945 ---Parameter: 0.48703703703703705\n",
            "---Iteration: 7/7 ----Recurency: 3/5 ---Evaluation:0.18110236220472445 ---Parameter: 0.5333333333333333\n",
            "---------------------------------------------------------\n",
            "\n",
            "---Iteration: 1/7 ----Recurency: 4/5 ---Evaluation:0.1479002624671916 ---Parameter: 0.48703703703703705\n",
            "---Iteration: 2/7 ----Recurency: 4/5 ---Evaluation:0.12559055118110235 ---Parameter: 0.5836419753086419\n",
            "---Iteration: 3/7 ----Recurency: 4/5 ---Evaluation:0.18845144356955382 ---Parameter: 0.6802469135802469\n",
            "---Iteration: 4/7 ----Recurency: 4/5 ---Evaluation:0.15301837270341204 ---Parameter: 0.7768518518518519\n",
            "---Iteration: 5/7 ----Recurency: 4/5 ---Evaluation:0.1568241469816273 ---Parameter: 0.8734567901234568\n",
            "---Iteration: 6/7 ----Recurency: 4/5 ---Evaluation:0.17729658792650918 ---Parameter: 0.9700617283950617\n",
            "---Iteration: 7/7 ----Recurency: 4/5 ---Evaluation:0.17454068241469817 ---Parameter: 1.0666666666666667\n",
            "---------------------------------------------------------\n",
            "\n",
            "---Iteration: 1/7 ----Recurency: 5/5 ---Evaluation:0.14068241469816273 ---Parameter: 0.5836419753086419\n",
            "---Iteration: 2/7 ----Recurency: 5/5 ---Evaluation:0.1830708661417323 ---Parameter: 0.6158436213991769\n",
            "---Iteration: 3/7 ----Recurency: 5/5 ---Evaluation:0.14855643044619424 ---Parameter: 0.6480452674897119\n",
            "---Iteration: 4/7 ----Recurency: 5/5 ---Evaluation:0.16430446194225723 ---Parameter: 0.6802469135802469\n",
            "---Iteration: 5/7 ----Recurency: 5/5 ---Evaluation:0.16351706036745406 ---Parameter: 0.7124485596707819\n",
            "---Iteration: 6/7 ----Recurency: 5/5 ---Evaluation:0.14842519685039368 ---Parameter: 0.7446502057613169\n",
            "---Iteration: 7/7 ----Recurency: 5/5 ---Evaluation:0.16141732283464566 ---Parameter: 0.7768518518518519\n",
            "\n",
            "------------------ACHIEVED RESULTS------------------\n",
            "\n",
            "RESULT:             0.1830708661417323\n",
            "PARAMETER 1:        0.6158436213991769\n",
            "\n"
          ],
          "name": "stdout"
        },
        {
          "output_type": "display_data",
          "data": {
            "image/png": "[encoded data removed]",
            "text/plain": [
              "<matplotlib.figure.Figure at 0x7f2f135b2d30>"
            ]
          },
          "metadata": {
            "tags": []
          }
        }
      ]
    },
    {
      "metadata": {
        "id": "xFfaNp2xnKLY",
        "colab_type": "code",
        "colab": {}
      },
      "cell_type": "code",
      "source": [
        ""
      ],
      "execution_count": 0,
      "outputs": []
    },
    {
      "metadata": {
        "id": "lY3fPJqnVJzD",
        "colab_type": "code",
        "colab": {}
      },
      "cell_type": "code",
      "source": [
        ""
      ],
      "execution_count": 0,
      "outputs": []
    }
  ]
}