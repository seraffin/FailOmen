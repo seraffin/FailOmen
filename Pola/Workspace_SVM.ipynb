{
  "nbformat": 4,
  "nbformat_minor": 0,
  "metadata": {
    "colab": {
      "name": "Workspace_SVM.ipynb",
      "version": "0.3.2",
      "provenance": [],
      "collapsed_sections": [],
      "include_colab_link": true
    },
    "kernelspec": {
      "name": "python3",
      "display_name": "Python 3"
    },
    "accelerator": "GPU"
  },
  "cells": [
    {
      "cell_type": "markdown",
      "metadata": {
        "id": "view-in-github",
        "colab_type": "text"
      },
      "source": [
        "<a href=\"https://colab.research.google.com/github/seraffin/FailOmen/blob/master/Pola/Workspace_SVM.ipynb\" target=\"_parent\"><img src=\"https://colab.research.google.com/assets/colab-badge.svg\" alt=\"Open In Colab\"/></a>"
      ]
    },
    {
      "metadata": {
        "id": "8nx7mo1JCC22",
        "colab_type": "code",
        "colab": {}
      },
      "cell_type": "code",
      "source": [
        "import tensorflow as tf\n",
        "\n",
        "# Helper libraries\n",
        "import matplotlib.pyplot as plt\n",
        "import numpy as np\n",
        "from sklearn.model_selection import train_test_split"
      ],
      "execution_count": 0,
      "outputs": []
    },
    {
      "metadata": {
        "id": "QmLtAzxg3jc8",
        "colab_type": "code",
        "outputId": "54bc6155-ff11-4233-b526-46dac071c14c",
        "colab": {
          "base_uri": "https://localhost:8080/",
          "height": 35
        }
      },
      "cell_type": "code",
      "source": [
        "device_name = tf.test.gpu_device_name()\n",
        "if device_name != '/device:GPU:0':\n",
        "  raise SystemError('GPU device not found')\n",
        "print('Found GPU at: {}'.format(device_name))"
      ],
      "execution_count": 5,
      "outputs": [
        {
          "output_type": "stream",
          "text": [
            "Found GPU at: /device:GPU:0\n"
          ],
          "name": "stdout"
        }
      ]
    },
    {
      "metadata": {
        "id": "4hijZ7SlUARA",
        "colab_type": "code",
        "outputId": "68eefeac-1653-469e-b2bb-413458cc520a",
        "colab": {
          "base_uri": "https://localhost:8080/",
          "height": 129
        }
      },
      "cell_type": "code",
      "source": [
        "from google.colab import drive\n",
        "drive.mount('/content/gdrive')"
      ],
      "execution_count": 6,
      "outputs": [
        {
          "output_type": "stream",
          "text": [
            "Go to this URL in a browser: https://accounts.google.com/o/oauth2/auth?client_id=947318989803-6bn6qk8qdgf4n4g3pfee6491hc0brc4i.apps.googleusercontent.com&redirect_uri=urn%3Aietf%3Awg%3Aoauth%3A2.0%3Aoob&scope=email%20https%3A%2F%2Fwww.googleapis.com%2Fauth%2Fdocs.test%20https%3A%2F%2Fwww.googleapis.com%2Fauth%2Fdrive%20https%3A%2F%2Fwww.googleapis.com%2Fauth%2Fdrive.photos.readonly%20https%3A%2F%2Fwww.googleapis.com%2Fauth%2Fpeopleapi.readonly&response_type=code\n",
            "\n",
            "Enter your authorization code:\n",
            "··········\n",
            "Mounted at /content/gdrive\n"
          ],
          "name": "stdout"
        }
      ]
    },
    {
      "metadata": {
        "id": "Fa13Uq6IO1Cd",
        "colab_type": "code",
        "outputId": "2305c0d7-e561-42df-d3ed-e324de65fc39",
        "colab": {
          "base_uri": "https://localhost:8080/",
          "height": 35
        }
      },
      "cell_type": "code",
      "source": [
        "!ls\n",
        "!cd '/content/gdrive/My Drive/FailOmen'"
      ],
      "execution_count": 7,
      "outputs": [
        {
          "output_type": "stream",
          "text": [
            "gdrive\tsample_data\n"
          ],
          "name": "stdout"
        }
      ]
    },
    {
      "metadata": {
        "id": "62-iybQU_Yw7",
        "colab_type": "code",
        "colab": {}
      },
      "cell_type": "code",
      "source": [
        "import pandas as pd\n",
        "\n",
        "#Importing dataset\n",
        "dataset = pd.read_csv('/content/gdrive/My Drive/FailOmen/convertDataToML.csv', index_col=False)"
      ],
      "execution_count": 0,
      "outputs": []
    },
    {
      "metadata": {
        "id": "um1FNlpf_zOE",
        "colab_type": "code",
        "colab": {}
      },
      "cell_type": "code",
      "source": [
        "x = dataset.iloc[:, 0:23739].values\n",
        "y = dataset.iloc[:, 23739:24281].values"
      ],
      "execution_count": 0,
      "outputs": []
    },
    {
      "metadata": {
        "id": "E2IOOl-qangL",
        "colab_type": "code",
        "outputId": "658de083-5245-4855-eef7-a795623fd95f",
        "colab": {
          "base_uri": "https://localhost:8080/",
          "height": 91
        }
      },
      "cell_type": "code",
      "source": [
        "failCount = 0\n",
        "passCount = 0\n",
        "failBuildCount = 0\n",
        "\n",
        "for a in y:\n",
        "  if a[np.argmin(a)] == 0 : failBuildCount += 1\n",
        "  for b in a:\n",
        "    if b == 0 : failCount += 1\n",
        "    if b == 1 : passCount += 1\n",
        "print (failBuildCount)\n",
        "print (failCount)\n",
        "print (passCount)\n",
        "print (failCount / passCount * 100, '%', sep='')"
      ],
      "execution_count": 10,
      "outputs": [
        {
          "output_type": "stream",
          "text": [
            "632\n",
            "973\n",
            "2607673\n",
            "0.037312960635785236%\n"
          ],
          "name": "stdout"
        }
      ]
    },
    {
      "metadata": {
        "id": "RLRrKfR-bL1j",
        "colab_type": "code",
        "colab": {}
      },
      "cell_type": "code",
      "source": [
        ""
      ],
      "execution_count": 0,
      "outputs": []
    },
    {
      "metadata": {
        "id": "0MgA1hV7Ljoe",
        "colab_type": "text"
      },
      "cell_type": "markdown",
      "source": [
        "## **UTILITIES:**\n",
        "\n",
        "\n",
        "---"
      ]
    },
    {
      "metadata": {
        "id": "PlhSJE1hLbl3",
        "colab_type": "code",
        "colab": {}
      },
      "cell_type": "code",
      "source": [
        "def count_distribution(prediction):\n",
        "  #Distributions of argmins through all the predictions\n",
        "  i = 1\n",
        "  tab = [0] * 542\n",
        "  for a in prediction:\n",
        "    j = 0\n",
        "    for b in a:\n",
        "      if b < 1.0 : j = j + 1\n",
        "\n",
        "    #print (i, '. ', j, np.argmin(a))\n",
        "    tab[np.argmin(a)] += 1\n",
        "    i = i + 1\n",
        "\n",
        "  i = 0\n",
        "  number_of_tests =  542\n",
        "  distributed_array = [0 for iterator in range(number_of_tests)]\n",
        "  for a in tab:\n",
        "    if a > 0 : \n",
        "      pass\n",
        "#       print ('position', i, '\\targmin count', a)\n",
        "      distributed_array[i] = a\n",
        "    i += 1\n",
        "#   print (i)\n",
        "  create_plot(range(len(distributed_array)), distributed_array)  \n",
        "  return distributed_array\n"
      ],
      "execution_count": 0,
      "outputs": []
    },
    {
      "metadata": {
        "id": "69cYXEP18fPe",
        "colab_type": "code",
        "colab": {}
      },
      "cell_type": "code",
      "source": [
        "def create_plot(x_data, y_data=0):\n",
        "  import matplotlib.pyplot as plt\n",
        "  if y_data == 0:  \n",
        "    unzip = list(zip(*x_data))\n",
        "    x_data, y_data = unzip[0],unzip[1]\n",
        "    print (x_data)\n",
        "    print (\"\\n\", y_data)\n",
        "  \n",
        "  plt.bar(x_data, y_data, align='center', alpha=1, width = 3)\n",
        "  plt.xlabel(\"test no\")\n",
        "  plt.ylabel(\"how many times test was predicted as probably failed\")\n",
        "  plt.show()"
      ],
      "execution_count": 0,
      "outputs": []
    },
    {
      "metadata": {
        "id": "tLkzhHugfFWP",
        "colab_type": "text"
      },
      "cell_type": "markdown",
      "source": [
        "uwaga, w funkcji ponizej searchForFailed(), w wyborze dodania spassowanych testow do trainig/testing set-a, mino ze podajemy dokladny procent z spassowanych danych jaki chcemy wykorzysatc, procet ten moze sie roznic w rzeczywistosci. Spowodowane jest to warunkiem modulo, np 20% bedzie 20%, 90% bedzie 100% \n",
        "\n",
        " "
      ]
    },
    {
      "metadata": {
        "id": "ECE6fYlxLxZY",
        "colab_type": "code",
        "colab": {}
      },
      "cell_type": "code",
      "source": [
        "def searchForFailed(yList, percent_of_passed_data=20, withpassed_data=False): \n",
        "  changedRowList = []\n",
        "  period_counter_for_passedData = 0\n",
        "  for row in range (len(yList)):\n",
        "    if 0 in yList[row]:\n",
        "      changedRowList.append(row)\n",
        "      continue\n",
        "    elif withpassed_data == True:\n",
        "      try:\n",
        "        modulo_arg = int(1/(percent_of_passed_data/100))\n",
        "      except:\n",
        "        withpassed_data = False\n",
        "        continue\n",
        "      if not (period_counter_for_passedData%modulo_arg):\n",
        "        changedRowList.append(row)\n",
        "    period_counter_for_passedData += 1\n",
        "      \n",
        "  return changedRowList\n",
        "\n",
        "def returnFailedData(xList, yList, changedRowList):\n",
        "  xFailed = []\n",
        "  yFailed = []\n",
        "  \n",
        "  for row in changedRowList:\n",
        "    xFailed.append(xList[row])\n",
        "    yFailed.append(yList[row])\n",
        "  xFailed = np.array(xFailed)\n",
        "  yFailed = np.array(yFailed)\n",
        "  return xFailed, yFailed"
      ],
      "execution_count": 0,
      "outputs": []
    },
    {
      "metadata": {
        "id": "QvZssrz2aDHg",
        "colab_type": "code",
        "colab": {}
      },
      "cell_type": "code",
      "source": [
        "def failsCount():\n",
        "  fala = 0\n",
        "  for i, a in enumerate(yTest):\n",
        "    j = 0\n",
        "    for k, b in enumerate(a):\n",
        "      if b < 1.0 : j += 1\n",
        "\n",
        "    if j > 0 : \n",
        "      print (i, '. ', j)\n",
        "    i = i + 1\n",
        "    fala += j\n",
        "  print (fala)"
      ],
      "execution_count": 0,
      "outputs": []
    },
    {
      "metadata": {
        "id": "OXtv0HaDaEoM",
        "colab_type": "code",
        "colab": {}
      },
      "cell_type": "code",
      "source": [
        "# Evaluation function\n",
        "\n",
        "def evaluation(predictions,additionalPredictions, refYsupervisor):\n",
        "  \n",
        "  lenght = len(refYsupervisor)\n",
        "\n",
        "  failPositions = [[] for y in range(lenght)]\n",
        "\n",
        "  for i, a in enumerate(refYsupervisor):\n",
        "\n",
        "    for j, b in enumerate(a):\n",
        "      if b == 0 : failPositions[i].append(j);#spisuje w listach(per commit) pozycje, gdzie sfailowal test [3,78,90, itp]\n",
        "\n",
        "  predictionsTemp = predictions.copy()#tablica list, w ktotej sa przedstawione prawd wystapienia danej labeliki\n",
        "  # todo \n",
        "  #prediction_real byl juz listo po powrotnym mapowaniu, zlozona z testow (czyli ich indeksami 1-542)do sailowania , od najbardziej prawdopodobnych do najmniej \n",
        "  \n",
        "  \n",
        "#   print(predictionsTemp) \n",
        "#   print(type(predictionsTemp))\n",
        "#   print(len(predictionsTemp))\n",
        "#   print(predictionsTemp[0])\n",
        "#   print(predictionsTemp[0][0])\n",
        "  predictionPositions = [[] for y in range(lenght)]\n",
        "\n",
        "\n",
        "  for i, commit in enumerate(predictionsTemp):\n",
        "\n",
        "    if len(failPositions[i]) != 0:#jezeli w danym commicie byl wh jakis blad\n",
        "      for j in range(len(failPositions[i]) + additionalPredictions):#tyle razy co sfailowanych testow + dodatkowe, przez nas zdefiniowane\n",
        "        argmin = np.argmin(commit)# argmin = jest indeksem najmniejsza wartoscia dla predykcji sieci , czyt. indexem najbardziej prawdopodobnej\n",
        "        predictionPositions[i].append(argmin)#umiesc index tej  najbardziej prawdopodobna wartosc, w tab dla danego komitu \n",
        "        predictionsTemp[i][argmin] = 1#nie berz pod uwage juz tej wartosci\n",
        "\n",
        "  predictionHits = [[] for y in range(lenght)]\n",
        "\n",
        "  for i, a in enumerate(failPositions):\n",
        "    count = 0\n",
        "    for j, b in enumerate(a):\n",
        "\n",
        "\n",
        "      for c in predictionPositions[i]:\n",
        "  #      predictionHits[i].append(predictions[i][c].copy())\n",
        "  #      print(predictions[i][c])\n",
        "  #      print(predictions[i][c])\n",
        "  #      print (b, c)\n",
        "        if c == b : count += 1\n",
        "\n",
        "    if len(failPositions) != 0:\n",
        "      predictionHits[i].insert(0,count)\n",
        "\n",
        "\n",
        "  failsCount = 0\n",
        "  hitsCount = 0\n",
        "  for i, a in enumerate(refYsupervisor):\n",
        "    j = 0\n",
        "\n",
        "    for k, b in enumerate(a):\n",
        "      if b < 1.0 : j += 1\n",
        "\n",
        "  #  if j > 0 :\n",
        "  #    print (i, '.', j, predictionHits[i])\n",
        "\n",
        "\n",
        "    failsCount += j\n",
        "    hitsCount += predictionHits[i][0]\n",
        "\n",
        "  print('Percentage of fails predicted', hitsCount / failsCount * 100, '%')"
      ],
      "execution_count": 0,
      "outputs": []
    },
    {
      "metadata": {
        "id": "42wJQ7P4izbr",
        "colab_type": "code",
        "colab": {}
      },
      "cell_type": "code",
      "source": [
        "def listSingleMemberClassesPositions(refY, printFlag):\n",
        "\n",
        "  yList = refY.tolist()\n",
        "  print (len(yList))\n",
        "  yDistinct = [ele for ind, ele in enumerate(yList) if ele not in yList[:ind]]\n",
        "\n",
        "  classesPopulation = []\n",
        "  singleMemberClassesPositions = []\n",
        "  noSingleMemberClasses = 0\n",
        "\n",
        "  for i, a in enumerate(yDistinct):\n",
        "    population = 0\n",
        "    memberPosition = 0\n",
        "    for j, b in enumerate(yList):\n",
        "      if a == b: \n",
        "        population += 1\n",
        "        memberPosition = j\n",
        "\n",
        "    classesPopulation.append(population)\n",
        "  #  print(i, population)\n",
        "    if population == 1: \n",
        "      noSingleMemberClasses += 1\n",
        "      singleMemberClassesPositions.append(memberPosition)\n",
        "\n",
        "  if printFlag == True: \n",
        "    print(noSingleMemberClasses)\n",
        "  else:\n",
        "    return singleMemberClassesPositions\n",
        "  \n"
      ],
      "execution_count": 0,
      "outputs": []
    },
    {
      "metadata": {
        "id": "jIhEbtA9Lr6J",
        "colab_type": "text"
      },
      "cell_type": "markdown",
      "source": [
        "\n",
        "\n",
        "---\n",
        "\n",
        "\n",
        "\n",
        "---\n",
        "\n",
        "\n",
        "\n",
        "---\n",
        "\n"
      ]
    },
    {
      "metadata": {
        "id": "mskKtPb0R8CQ",
        "colab_type": "text"
      },
      "cell_type": "markdown",
      "source": [
        "## **PREPARE DATA**"
      ]
    },
    {
      "metadata": {
        "id": "utDW-luFOIML",
        "colab_type": "text"
      },
      "cell_type": "markdown",
      "source": [
        "**(optional) create only 'failed data'**"
      ]
    },
    {
      "metadata": {
        "id": "BXVlPwABOPnB",
        "colab_type": "code",
        "colab": {}
      },
      "cell_type": "code",
      "source": [
        "import numpy\n",
        "xReduced, yReduced = returnFailedData(x, y, searchForFailed(y,percent_of_passed_data=1,withpassed_data=True))\n"
      ],
      "execution_count": 0,
      "outputs": []
    },
    {
      "metadata": {
        "id": "t3aipXpRcVpU",
        "colab_type": "code",
        "outputId": "68e41b36-8110-4bfb-bf55-040f770031ff",
        "colab": {
          "base_uri": "https://localhost:8080/",
          "height": 91
        }
      },
      "cell_type": "code",
      "source": [
        "def count_fail_to_pass_ratio(refy):\n",
        "  failCount = 0\n",
        "  passCount = 0\n",
        "  failBuildCount = 0\n",
        "\n",
        "  for a in y:\n",
        "    if a[np.argmin(a)] == 0 : failBuildCount += 1\n",
        "  print (\"To training were used data : \")\n",
        "  print (\"failed builds: \", failBuildCount)\n",
        "  passed_builds = len(refy) - failBuildCount\n",
        "  print('passed builds: ', passed_builds)\n",
        "  try:\n",
        "    print (\"failed to passed  ratio: \", failBuildCount / passed_builds * 100, '%', sep='')\n",
        "  except :\n",
        "    print (\"only failed data\")\n",
        "  \n",
        "  \n",
        "# count_fail_to_pass_ratio(yReduced)\n",
        "  \n",
        "\n",
        "  \n",
        "  "
      ],
      "execution_count": 84,
      "outputs": [
        {
          "output_type": "stream",
          "text": [
            "To training were used data : \n",
            "failed builds:  632\n",
            "passed builds:  0\n",
            "only failed data\n"
          ],
          "name": "stdout"
        }
      ]
    },
    {
      "metadata": {
        "id": "PmKhHbI4R_sN",
        "colab_type": "text"
      },
      "cell_type": "markdown",
      "source": [
        "\n",
        "\n",
        "---\n",
        "\n",
        "\n",
        "\n",
        "---\n",
        "\n",
        "\n",
        "\n",
        "---\n",
        "\n"
      ]
    },
    {
      "metadata": {
        "id": "ivhO-gnUSEQP",
        "colab_type": "text"
      },
      "cell_type": "markdown",
      "source": [
        "## PREPARE MODEL"
      ]
    },
    {
      "metadata": {
        "id": "k1UWVSs7xg1-",
        "colab_type": "code",
        "colab": {
          "base_uri": "https://localhost:8080/",
          "height": 111
        },
        "outputId": "eeebdf29-6962-4533-b66c-8085da3f565d"
      },
      "cell_type": "code",
      "source": [
        "from sklearn import cross_validation, grid_search\n",
        "from sklearn.metrics import confusion_matrix, classification_report\n",
        "from sklearn.svm import SVC\n",
        "from sklearn import svm\n",
        "\n",
        "import numpy\n",
        "xReduced, yReduced = returnFailedData(x, y, searchForFailed(y,percent_of_passed_data=0,withpassed_data=False))# bez danych spassowanych\n",
        "\n",
        "#################################-- MAPOWANIE MACIERZY NA WEKTOR --#################################################################\n",
        "#select real classes\n",
        "yReduced_temp = yReduced.tolist()\n",
        "real_classes = [(ele) for ind, ele in enumerate(yReduced_temp) if ele not in yReduced_temp[:ind]]#takie klasy mozna wyroznic z supervisora dla danych testowych np [1,0,0,0,1....] inna klasa jest [0,0,0,1,0,1...] itp. \n",
        "\n",
        "\n",
        "# create svm_labels\n",
        "svm_labels = []\n",
        "for i in range(542):\n",
        "  svm_labels.append(float(i))#tworzenie labelek do svm, narazie nie polaczonych z prawdziwymi danymi\n",
        "\n",
        "# create mapper\n",
        "class_mapper = [tuple((real_class, svm_labels[i])) for i, real_class in enumerate(real_classes)]#mapper ktory przypozadkowuje prawdziwym klasom klasy svm np klasa [1,0,0,0,1....] dostaje klase svm 0, itd.\n",
        "\n",
        "\n",
        "# create new supervisor  \n",
        "temp_mapped_supervisor = []  \n",
        "for real_row in yReduced_temp:\n",
        "  for mapper_row in class_mapper:\n",
        "    if real_row == mapper_row[0]:\n",
        "      temp_mapped_supervisor.append(mapper_row[1])# klasy svm przypisane do wiersz danych tesowych np xReduced[0] ma supervisora = 0,  xReduced[123] ma supervisora = 7\n",
        "print(temp_mapped_supervisor)      \n",
        "#map supervisor to numpy.array      \n",
        "mapped_supervisor=numpy.array([numpy.array(xi) for xi in temp_mapped_supervisor])#przekonvertowanie na numpy array\n",
        "# print(mapped_supervisor[123])\n",
        "\n",
        "print(\"tyle wystapien klasy n w danych treningowych: \",len([ele for ele in mapped_supervisor if ele == 155]))\n",
        "print (\"tyle wierszy w danych treningowych: \", len(mapped_supervisor))\n",
        "print (\"tyle klas znaleziono w danych treningowych: \", len(set(mapped_supervisor)))\n",
        "####################################################################################################################################\n",
        "    \n",
        "\n",
        "# xReduced, yReduced = returnFailedData(x, y, searchForFailed(y))\n",
        "from sklearn.model_selection import train_test_split\n",
        "xTrain, xTest, yTrain, yTest = train_test_split(xReduced, mapped_supervisor, test_size = 0.2, random_state=77)\n",
        "# print(np.shape(xTrain))\n",
        "# print(np.shape(yTrain))\n"
      ],
      "execution_count": 92,
      "outputs": [
        {
          "output_type": "stream",
          "text": [
            "[0.0, 1.0, 2.0, 3.0, 4.0, 5.0, 6.0, 6.0, 7.0, 8.0, 9.0, 10.0, 11.0, 12.0, 13.0, 14.0, 15.0, 16.0, 16.0, 16.0, 16.0, 16.0, 17.0, 18.0, 18.0, 18.0, 18.0, 18.0, 19.0, 19.0, 19.0, 19.0, 19.0, 20.0, 21.0, 22.0, 23.0, 24.0, 25.0, 2.0, 26.0, 14.0, 27.0, 28.0, 28.0, 28.0, 29.0, 5.0, 28.0, 28.0, 28.0, 30.0, 31.0, 32.0, 33.0, 34.0, 35.0, 24.0, 36.0, 37.0, 38.0, 39.0, 40.0, 24.0, 41.0, 42.0, 15.0, 15.0, 43.0, 24.0, 44.0, 15.0, 15.0, 15.0, 44.0, 15.0, 15.0, 45.0, 15.0, 15.0, 44.0, 46.0, 12.0, 20.0, 47.0, 48.0, 49.0, 50.0, 24.0, 51.0, 12.0, 52.0, 24.0, 53.0, 54.0, 55.0, 42.0, 24.0, 31.0, 31.0, 56.0, 57.0, 24.0, 5.0, 24.0, 5.0, 20.0, 58.0, 59.0, 60.0, 61.0, 62.0, 63.0, 64.0, 64.0, 65.0, 32.0, 32.0, 53.0, 53.0, 53.0, 53.0, 53.0, 7.0, 7.0, 7.0, 24.0, 66.0, 24.0, 24.0, 24.0, 9.0, 9.0, 67.0, 67.0, 68.0, 66.0, 66.0, 66.0, 69.0, 33.0, 66.0, 70.0, 66.0, 24.0, 71.0, 72.0, 72.0, 73.0, 24.0, 33.0, 74.0, 24.0, 75.0, 75.0, 66.0, 37.0, 76.0, 31.0, 77.0, 24.0, 24.0, 12.0, 12.0, 12.0, 12.0, 12.0, 78.0, 47.0, 53.0, 53.0, 53.0, 79.0, 52.0, 80.0, 53.0, 81.0, 82.0, 76.0, 76.0, 83.0, 76.0, 83.0, 84.0, 76.0, 24.0, 24.0, 85.0, 85.0, 86.0, 87.0, 85.0, 70.0, 85.0, 86.0, 88.0, 85.0, 70.0, 89.0, 90.0, 91.0, 66.0, 24.0, 66.0, 72.0, 70.0, 85.0, 69.0, 92.0, 85.0, 93.0, 94.0, 85.0, 24.0, 95.0, 96.0, 97.0, 98.0, 99.0, 99.0, 99.0, 99.0, 85.0, 86.0, 98.0, 100.0, 101.0, 90.0, 90.0, 102.0, 85.0, 103.0, 99.0, 56.0, 104.0, 105.0, 106.0, 106.0, 107.0, 108.0, 90.0, 99.0, 53.0, 85.0, 53.0, 109.0, 110.0, 53.0, 65.0, 111.0, 112.0, 113.0, 21.0, 114.0, 85.0, 100.0, 90.0, 34.0, 85.0, 90.0, 115.0, 85.0, 90.0, 92.0, 78.0, 34.0, 116.0, 66.0, 117.0, 34.0, 85.0, 17.0, 118.0, 94.0, 119.0, 120.0, 121.0, 69.0, 122.0, 46.0, 118.0, 56.0, 70.0, 123.0, 124.0, 78.0, 15.0, 125.0, 85.0, 56.0, 56.0, 66.0, 26.0, 78.0, 60.0, 126.0, 126.0, 78.0, 127.0, 128.0, 124.0, 66.0, 23.0, 129.0, 130.0, 131.0, 118.0, 118.0, 121.0, 118.0, 132.0, 100.0, 133.0, 134.0, 135.0, 135.0, 134.0, 136.0, 137.0, 137.0, 138.0, 139.0, 140.0, 141.0, 142.0, 142.0, 143.0, 144.0, 144.0, 145.0, 146.0, 145.0, 147.0, 147.0, 148.0, 149.0, 145.0, 150.0, 150.0, 151.0, 145.0, 152.0, 145.0, 153.0, 154.0, 155.0, 152.0, 139.0, 151.0, 156.0, 151.0, 157.0, 158.0, 157.0, 159.0, 160.0, 160.0, 160.0, 160.0, 160.0, 161.0, 162.0, 162.0, 163.0, 162.0, 139.0, 164.0, 165.0, 139.0, 166.0, 167.0, 143.0, 168.0, 169.0, 170.0, 171.0, 172.0, 173.0, 143.0, 174.0, 175.0, 176.0, 177.0, 178.0, 179.0, 180.0, 143.0, 143.0, 175.0, 175.0, 181.0, 143.0, 182.0, 183.0, 184.0, 185.0, 186.0, 187.0, 152.0, 177.0, 143.0, 188.0, 143.0, 189.0, 133.0, 175.0, 190.0, 191.0, 192.0, 193.0, 133.0, 194.0, 152.0, 195.0, 196.0, 179.0, 152.0, 197.0, 197.0, 175.0, 197.0, 198.0, 199.0, 197.0, 200.0, 201.0, 202.0, 203.0, 204.0, 205.0, 206.0, 207.0, 175.0, 155.0, 164.0, 208.0, 209.0, 210.0, 175.0, 155.0, 211.0, 212.0, 213.0, 207.0, 207.0, 214.0, 193.0, 144.0, 215.0, 216.0, 217.0, 218.0, 218.0, 218.0, 207.0, 155.0, 219.0, 195.0, 155.0, 195.0, 220.0, 221.0, 165.0, 222.0, 207.0, 207.0, 151.0, 175.0, 216.0, 151.0, 223.0, 224.0, 225.0, 226.0, 207.0, 227.0, 155.0, 155.0, 228.0, 229.0, 229.0, 229.0, 229.0, 229.0, 165.0, 230.0, 231.0, 216.0, 175.0, 232.0, 232.0, 220.0, 155.0, 151.0, 233.0, 234.0, 235.0, 236.0, 235.0, 235.0, 235.0, 235.0, 237.0, 235.0, 236.0, 238.0, 235.0, 235.0, 239.0, 239.0, 239.0, 240.0, 235.0, 235.0, 235.0, 235.0, 151.0, 235.0, 235.0, 151.0, 241.0, 242.0, 242.0, 242.0, 242.0, 242.0, 243.0, 244.0, 241.0, 155.0, 245.0, 216.0, 246.0, 247.0, 248.0, 242.0, 151.0, 207.0, 249.0, 241.0, 189.0, 250.0, 251.0, 155.0, 252.0, 253.0, 254.0, 255.0, 256.0, 257.0, 258.0, 164.0, 259.0, 260.0, 261.0, 262.0, 259.0, 259.0, 199.0, 263.0, 264.0, 265.0, 266.0, 263.0, 267.0, 263.0, 268.0, 269.0, 270.0, 271.0, 197.0, 272.0, 273.0, 160.0, 274.0, 275.0, 276.0, 197.0, 274.0, 277.0, 278.0, 274.0, 191.0, 193.0, 279.0, 273.0, 275.0, 280.0, 155.0, 189.0, 155.0, 155.0, 281.0, 281.0, 189.0, 155.0, 155.0, 155.0, 155.0, 282.0, 283.0, 284.0, 155.0, 155.0, 235.0, 285.0, 255.0, 286.0, 286.0, 286.0, 189.0, 189.0, 287.0, 189.0, 280.0, 288.0, 155.0, 155.0, 155.0, 155.0, 155.0, 188.0, 155.0, 289.0, 289.0, 155.0, 290.0, 291.0, 155.0, 289.0, 155.0, 203.0]\n",
            "tyle wystapien klasy n w danych treningowych:  28\n",
            "tyle wierszy w danych treningowych:  632\n",
            "tyle klas znaleziono w danych treningowych:  292\n"
          ],
          "name": "stdout"
        }
      ]
    },
    {
      "metadata": {
        "id": "vPRrHzYvypom",
        "colab_type": "code",
        "colab": {
          "base_uri": "https://localhost:8080/",
          "height": 91
        },
        "outputId": "9a3263ef-dc22-4ef4-89b0-6156f6560e02"
      },
      "cell_type": "code",
      "source": [
        "\n",
        "# mala gamma  -  odlegle punkty, od potencjalnej garnicy , maja wplyw na ustawienie granicy (decision boundary)  => moze powodobac niedopasownie\n",
        "# duza gamma -  tylko bliskie punkty, od potencjalnej garnicy , maja wplyw na ustawienie granicy (decision boundary) => moze powodowac overfiting\n",
        "clf = svm.SVC(gamma=0.01,probability=True)#gamma 0.0001\n",
        "# clf = svm.SVC(gamma=0.01,probability=False)#gamma 0.0001\n",
        "clf.fit(xTrain, yTrain) "
      ],
      "execution_count": 87,
      "outputs": [
        {
          "output_type": "execute_result",
          "data": {
            "text/plain": [
              "SVC(C=1.0, cache_size=200, class_weight=None, coef0=0.0,\n",
              "  decision_function_shape='ovr', degree=3, gamma=0.01, kernel='rbf',\n",
              "  max_iter=-1, probability=True, random_state=None, shrinking=True,\n",
              "  tol=0.001, verbose=False)"
            ]
          },
          "metadata": {
            "tags": []
          },
          "execution_count": 87
        }
      ]
    },
    {
      "metadata": {
        "id": "x-oHXGBPzsMG",
        "colab_type": "code",
        "colab": {}
      },
      "cell_type": "code",
      "source": [
        ""
      ],
      "execution_count": 0,
      "outputs": []
    },
    {
      "metadata": {
        "id": "sJY1xTCDSLNI",
        "colab_type": "text"
      },
      "cell_type": "markdown",
      "source": [
        "\n",
        "\n",
        "---\n",
        "\n",
        "\n",
        "\n",
        "---\n",
        "\n",
        "\n",
        "\n",
        "---\n",
        "\n"
      ]
    },
    {
      "metadata": {
        "id": "tzanoRBUSoWo",
        "colab_type": "text"
      },
      "cell_type": "markdown",
      "source": [
        "## **TEST MODEL**"
      ]
    },
    {
      "metadata": {
        "id": "80qYJa28rzE0",
        "colab_type": "code",
        "colab": {
          "base_uri": "https://localhost:8080/",
          "height": 368
        },
        "outputId": "e0adb843-500c-4180-feab-09f43e574643"
      },
      "cell_type": "code",
      "source": [
        "\n",
        "# predictions = model.predict(xTest)\n",
        "predictions = clf.predict(xTest)\n",
        "print (predictions[0])\n",
        "print(len(predictions))\n",
        "print(predictions)\n",
        "proba_predictions = clf.predict_proba(xTest)\n",
        "print (proba_predictions)\n",
        "\n",
        "from sklearn import metrics\n",
        "\n",
        "# # Model Accuracy: how often is the classifier correct?\n",
        "# print(\"Accuracy:\",metrics.accuracy_score(xTest,  yTest))\n"
      ],
      "execution_count": 109,
      "outputs": [
        {
          "output_type": "stream",
          "text": [
            "155.0\n",
            "127\n",
            "[155. 155. 155. 155. 155. 155. 155. 155. 155. 155. 155. 151. 155. 155.\n",
            " 155. 155. 155. 155. 155. 155. 155. 155. 155. 155. 155. 155. 155. 155.\n",
            " 155. 155. 155. 155. 155. 155. 155. 155. 155. 155. 155. 155. 155. 155.\n",
            " 155. 155. 155. 155. 155. 155. 155. 155. 155. 155. 155. 155. 155. 155.\n",
            " 155. 155. 155. 155. 155. 155. 155. 155. 155. 155. 155. 155. 155. 155.\n",
            " 155. 155. 155. 155. 155. 155. 155. 155. 155. 155. 155. 155. 155. 155.\n",
            " 155. 155. 155.  28. 155. 155. 155. 155. 155. 155. 155. 155. 155. 155.\n",
            " 155. 155. 155. 155. 155. 155. 155. 155. 155. 155. 155. 155. 155. 155.\n",
            " 155. 155. 155. 155. 155. 155. 155. 106. 155. 155. 155. 155. 155. 155.\n",
            " 155.]\n",
            "[[0.00276122 0.00331438 0.00269617 ... 0.00271375 0.00302195 0.00374291]\n",
            " [0.00268143 0.00264582 0.00283622 ... 0.00269449 0.00272802 0.00269093]\n",
            " [0.0027218  0.00274252 0.00271498 ... 0.00268971 0.00290807 0.00336094]\n",
            " ...\n",
            " [0.00276292 0.00331617 0.00269756 ... 0.00271542 0.00302327 0.00374477]\n",
            " [0.0030947  0.00335076 0.00303791 ... 0.00306773 0.0031822  0.00360276]\n",
            " [0.00294733 0.00261211 0.00376271 ... 0.00304173 0.00287264 0.00237602]]\n"
          ],
          "name": "stdout"
        }
      ]
    },
    {
      "metadata": {
        "id": "MUEUXBSlAXg7",
        "colab_type": "code",
        "colab": {
          "base_uri": "https://localhost:8080/",
          "height": 414
        },
        "outputId": "83c26a7f-7b1c-48ce-c5b3-1d7f126c7dd7"
      },
      "cell_type": "code",
      "source": [
        "#jakie klasy byly naczesciej(znajdowaly sie w pierwszej 15 najbardziej prawdopodobnych) wybierane\n",
        "char_data = [0 for svm_class in svm_labels] \n",
        "i = 0\n",
        "for prob_prediction in proba_predictions:\n",
        "  pair_prob_prediction = [(idx, element) for idx, element in enumerate(prob_prediction)]\n",
        "  sorted_prob_prediction = list(prob_prediction)\n",
        "  pair_prob_prediction_sorted = sorted(pair_prob_prediction, key=lambda ele: ele[1])\n",
        "  best_pred = pair_prob_prediction_sorted[-15:]\n",
        "  for pred_class in best_pred:\n",
        "    char_data[pred_class[0]] += 1\n",
        "   \n",
        "#   if i == 2 : break\n",
        "    \n",
        "print(char_data)    \n",
        "y_pos = range(len(svm_labels))\n",
        "performance = char_data\n",
        "plt.bar(y_pos, performance, align='center', alpha=0.5)\n",
        "plt.xticks(y_pos)\n",
        "plt.ylabel('liczba wybran testu')\n",
        "plt.xlabel('numer klasy')\n",
        "plt.title('rozklad wybierania klas jako sfailowane')\n",
        "plt.show()\n",
        "\n",
        "\n",
        "  "
      ],
      "execution_count": 118,
      "outputs": [
        {
          "output_type": "stream",
          "text": [
            "[0, 0, 0, 0, 0, 0, 0, 2, 0, 0, 0, 0, 82, 0, 0, 127, 0, 0, 0, 98, 0, 0, 0, 0, 127, 0, 0, 12, 0, 0, 0, 0, 0, 0, 0, 0, 0, 0, 0, 0, 0, 0, 0, 0, 0, 0, 0, 0, 0, 127, 0, 0, 25, 0, 0, 0, 0, 0, 0, 0, 0, 108, 0, 0, 0, 0, 0, 0, 0, 11, 0, 0, 0, 0, 0, 127, 0, 0, 0, 0, 0, 0, 0, 0, 0, 0, 0, 0, 0, 127, 0, 0, 0, 0, 0, 0, 0, 0, 0, 0, 0, 0, 0, 0, 0, 0, 0, 0, 0, 0, 0, 0, 0, 0, 0, 0, 0, 0, 0, 0, 0, 0, 0, 0, 0, 107, 0, 75, 0, 0, 0, 0, 127, 0, 0, 0, 127, 0, 0, 21, 0, 0, 0, 0, 0, 0, 0, 0, 0, 0, 0, 0, 0, 107, 0, 0, 0, 0, 0, 0, 0, 0, 0, 116, 0, 0, 0, 0, 0, 0, 0, 0, 0, 0, 0, 0, 127, 0, 0, 0, 0, 0, 0, 0, 0, 0, 0, 0, 0, 0, 0, 0, 0, 0, 0, 0, 0, 0, 125, 0, 0, 0, 0, 0, 0, 0, 0, 0, 0, 0, 0, 0, 0, 0, 0, 0, 0, 0, 0, 0, 0, 0, 0, 0, 0, 0, 0, 0, 0, 0, 0, 0, 0, 0, 0, 0, 0, 0, 0, 0, 0, 0, 0, 0, 0, 0, 0, 0, 0, 0, 0, 0, 0, 0, 0, 0, 0, 0, 0, 0, 0, 0, 0, 0, 0, 0, 0, 0, 0, 0, 0, 0, 0, 0, 0, 0, 0, 0, 0, 0, 0, 0, 0, 0, 0, 0, 0, 0, 0, 0, 0, 0, 0, 0, 0, 0, 0, 0, 0, 0, 0, 0, 0, 0, 0, 0, 0, 0, 0, 0, 0, 0, 0, 0, 0, 0, 0, 0, 0, 0, 0, 0, 0, 0, 0, 0, 0, 0, 0, 0, 0, 0, 0, 0, 0, 0, 0, 0, 0, 0, 0, 0, 0, 0, 0, 0, 0, 0, 0, 0, 0, 0, 0, 0, 0, 0, 0, 0, 0, 0, 0, 0, 0, 0, 0, 0, 0, 0, 0, 0, 0, 0, 0, 0, 0, 0, 0, 0, 0, 0, 0, 0, 0, 0, 0, 0, 0, 0, 0, 0, 0, 0, 0, 0, 0, 0, 0, 0, 0, 0, 0, 0, 0, 0, 0, 0, 0, 0, 0, 0, 0, 0, 0, 0, 0, 0, 0, 0, 0, 0, 0, 0, 0, 0, 0, 0, 0, 0, 0, 0, 0, 0, 0, 0, 0, 0, 0, 0, 0, 0, 0, 0, 0, 0, 0, 0, 0, 0, 0, 0, 0, 0, 0, 0, 0, 0, 0, 0, 0, 0, 0, 0, 0, 0, 0, 0, 0, 0, 0, 0, 0, 0, 0, 0, 0, 0, 0, 0, 0, 0, 0, 0, 0, 0, 0, 0, 0, 0, 0, 0, 0, 0, 0, 0, 0, 0, 0, 0, 0, 0, 0, 0, 0, 0, 0, 0, 0, 0, 0, 0, 0, 0, 0, 0, 0, 0, 0, 0, 0, 0, 0, 0, 0, 0, 0, 0, 0, 0, 0, 0, 0, 0, 0, 0, 0, 0, 0, 0, 0, 0, 0, 0]\n"
          ],
          "name": "stdout"
        },
        {
          "output_type": "display_data",
          "data": {
            "image/png": "[encoded data removed]",
            "text/plain": [
              "<matplotlib.figure.Figure at 0x7f1df4ba8d30>"
            ]
          },
          "metadata": {
            "tags": []
          }
        }
      ]
    }
  ]
}