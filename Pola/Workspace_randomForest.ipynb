{
  "nbformat": 4,
  "nbformat_minor": 0,
  "metadata": {
    "colab": {
      "name": "Workspace_randomForest.ipynb",
      "version": "0.3.2",
      "provenance": [],
      "collapsed_sections": [],
      "toc_visible": true,
      "include_colab_link": true
    },
    "kernelspec": {
      "name": "python3",
      "display_name": "Python 3"
    },
    "accelerator": "GPU"
  },
  "cells": [
    {
      "cell_type": "markdown",
      "metadata": {
        "id": "view-in-github",
        "colab_type": "text"
      },
      "source": [
        "<a href=\"https://colab.research.google.com/github/seraffin/FailOmen/blob/master/Pola/Workspace_randomForest.ipynb\" target=\"_parent\"><img src=\"https://colab.research.google.com/assets/colab-badge.svg\" alt=\"Open In Colab\"/></a>"
      ]
    },
    {
      "metadata": {
        "id": "8nx7mo1JCC22",
        "colab_type": "code",
        "colab": {}
      },
      "cell_type": "code",
      "source": [
        "import tensorflow as tf\n",
        "\n",
        "# Helper libraries\n",
        "import matplotlib.pyplot as plt\n",
        "import numpy as np\n",
        "from sklearn.model_selection import train_test_split"
      ],
      "execution_count": 0,
      "outputs": []
    },
    {
      "metadata": {
        "id": "QmLtAzxg3jc8",
        "colab_type": "code",
        "outputId": "aaecd6ef-68e3-481b-badc-dba6a8af26b9",
        "colab": {
          "base_uri": "https://localhost:8080/",
          "height": 34
        }
      },
      "cell_type": "code",
      "source": [
        "device_name = tf.test.gpu_device_name()\n",
        "if device_name != '/device:GPU:0':\n",
        "  raise SystemError('GPU device not found')\n",
        "print('Found GPU at: {}'.format(device_name))"
      ],
      "execution_count": 0,
      "outputs": [
        {
          "output_type": "stream",
          "text": [
            "Found GPU at: /device:GPU:0\n"
          ],
          "name": "stdout"
        }
      ]
    },
    {
      "metadata": {
        "id": "4hijZ7SlUARA",
        "colab_type": "code",
        "outputId": "e447bc09-a86d-4fba-98be-c8dbf97c88c9",
        "colab": {
          "base_uri": "https://localhost:8080/",
          "height": 34
        }
      },
      "cell_type": "code",
      "source": [
        "from google.colab import drive\n",
        "drive.mount('/content/gdrive')"
      ],
      "execution_count": 0,
      "outputs": [
        {
          "output_type": "stream",
          "text": [
            "Drive already mounted at /content/gdrive; to attempt to forcibly remount, call drive.mount(\"/content/gdrive\", force_remount=True).\n"
          ],
          "name": "stdout"
        }
      ]
    },
    {
      "metadata": {
        "id": "Fa13Uq6IO1Cd",
        "colab_type": "code",
        "outputId": "7ec699f9-a375-4d5f-e85c-7c93284d4dea",
        "colab": {
          "base_uri": "https://localhost:8080/",
          "height": 34
        }
      },
      "cell_type": "code",
      "source": [
        "!ls\n",
        "!cd '/content/gdrive/My Drive/FailOmen'"
      ],
      "execution_count": 0,
      "outputs": [
        {
          "output_type": "stream",
          "text": [
            "gdrive\tsample_data\n"
          ],
          "name": "stdout"
        }
      ]
    },
    {
      "metadata": {
        "id": "62-iybQU_Yw7",
        "colab_type": "code",
        "colab": {}
      },
      "cell_type": "code",
      "source": [
        "import pandas as pd\n",
        "\n",
        "#Importing dataset\n",
        "dataset = pd.read_csv('/content/gdrive/My Drive/FailOmen/dataToML_full3.csv', index_col=False)"
      ],
      "execution_count": 0,
      "outputs": []
    },
    {
      "metadata": {
        "id": "um1FNlpf_zOE",
        "colab_type": "code",
        "colab": {}
      },
      "cell_type": "code",
      "source": [
        "x = dataset.iloc[:, 0:23739].values\n",
        "y = dataset.iloc[:, 23739:24281].values"
      ],
      "execution_count": 0,
      "outputs": []
    },
    {
      "metadata": {
        "id": "E2IOOl-qangL",
        "colab_type": "code",
        "outputId": "e38a5a46-f271-47fe-9c8c-52d72ec506ac",
        "colab": {
          "base_uri": "https://localhost:8080/",
          "height": 85
        }
      },
      "cell_type": "code",
      "source": [
        "failCount = 0\n",
        "passCount = 0\n",
        "failBuildCount = 0\n",
        "\n",
        "for a in y:\n",
        "  if a[np.argmin(a)] == 0 : failBuildCount += 1\n",
        "  for b in a:\n",
        "    if b == 0 : failCount += 1\n",
        "    if b == 1 : passCount += 1\n",
        "print (failBuildCount)\n",
        "print (failCount)\n",
        "print (passCount)\n",
        "print (failCount / passCount * 100, '%', sep='')"
      ],
      "execution_count": 0,
      "outputs": [
        {
          "output_type": "stream",
          "text": [
            "1266\n",
            "2008\n",
            "4396322\n",
            "0.04567454340241684%\n"
          ],
          "name": "stdout"
        }
      ]
    },
    {
      "metadata": {
        "id": "RLRrKfR-bL1j",
        "colab_type": "code",
        "colab": {}
      },
      "cell_type": "code",
      "source": [
        ""
      ],
      "execution_count": 0,
      "outputs": []
    },
    {
      "metadata": {
        "id": "0MgA1hV7Ljoe",
        "colab_type": "text"
      },
      "cell_type": "markdown",
      "source": [
        "## **UTILITIES:**\n",
        "\n",
        "\n",
        "---"
      ]
    },
    {
      "metadata": {
        "id": "PlhSJE1hLbl3",
        "colab_type": "code",
        "colab": {}
      },
      "cell_type": "code",
      "source": [
        "def count_distribution(prediction):\n",
        "  #Distributions of argmins through all the predictions\n",
        "  i = 1\n",
        "  tab = [0] * 542\n",
        "  for a in prediction:\n",
        "    j = 0\n",
        "    for b in a:\n",
        "      if b < 1.0 : j = j + 1\n",
        "\n",
        "    #print (i, '. ', j, np.argmin(a))\n",
        "    tab[np.argmin(a)] += 1\n",
        "    i = i + 1\n",
        "\n",
        "  i = 0\n",
        "  number_of_tests =  542\n",
        "  distributed_array = [0 for iterator in range(number_of_tests)]\n",
        "  for a in tab:\n",
        "    if a > 0 : \n",
        "      pass\n",
        "#       print ('position', i, '\\targmin count', a)\n",
        "      distributed_array[i] = a\n",
        "    i += 1\n",
        "#   print (i)\n",
        "  create_plot(range(len(distributed_array)), distributed_array)  \n",
        "  return distributed_array\n"
      ],
      "execution_count": 0,
      "outputs": []
    },
    {
      "metadata": {
        "id": "69cYXEP18fPe",
        "colab_type": "code",
        "colab": {}
      },
      "cell_type": "code",
      "source": [
        "def create_plot(x_data, y_data=0):\n",
        "  import matplotlib.pyplot as plt\n",
        "  if y_data == 0:  \n",
        "    unzip = list(zip(*x_data))\n",
        "    x_data, y_data = unzip[0],unzip[1]\n",
        "    print (x_data)\n",
        "    print (\"\\n\", y_data)\n",
        "  \n",
        "  plt.bar(x_data, y_data, align='center', alpha=1, width = 3)\n",
        "  plt.xlabel(\"test no\")\n",
        "  plt.ylabel(\"how many times test was predicted as probably failed\")\n",
        "  plt.show()"
      ],
      "execution_count": 0,
      "outputs": []
    },
    {
      "metadata": {
        "id": "tLkzhHugfFWP",
        "colab_type": "text"
      },
      "cell_type": "markdown",
      "source": [
        "uwaga, w funkcji ponizej searchForFailed(), w wyborze dodania spassowanych testow do trainig/testing set-a, mino ze podajemy dokladny procent z spassowanych danych jaki chcemy wykorzysatc, procet ten moze sie roznic w rzeczywistosci. Spowodowane jest to warunkiem modulo, np 20% bedzie 20%, 90% bedzie 100% \n",
        "\n",
        " "
      ]
    },
    {
      "metadata": {
        "id": "1nOPoXfbcQ0p",
        "colab_type": "code",
        "colab": {}
      },
      "cell_type": "code",
      "source": [
        ""
      ],
      "execution_count": 0,
      "outputs": []
    },
    {
      "metadata": {
        "id": "ECE6fYlxLxZY",
        "colab_type": "code",
        "colab": {}
      },
      "cell_type": "code",
      "source": [
        "def searchForFailed(yList, percent_of_passed_data=20, withpassed_data=False): \n",
        "  changedRowList = []\n",
        "  period_counter_for_passedData = 0\n",
        "  for row in range (len(yList)):\n",
        "    if 0 in yList[row]:\n",
        "      changedRowList.append(row)\n",
        "      continue\n",
        "    elif withpassed_data == True: \n",
        "      modulo_arg = int(1/(percent_of_passed_data/100))\n",
        "      if not (period_counter_for_passedData%modulo_arg):\n",
        "        changedRowList.append(row)\n",
        "    period_counter_for_passedData += 1\n",
        "      \n",
        "  return changedRowList\n",
        "\n",
        "def returnFailedData(xList, yList, changedRowList):\n",
        "  xFailed = []\n",
        "  yFailed = []\n",
        "  \n",
        "  for row in changedRowList:\n",
        "    xFailed.append(xList[row])\n",
        "    yFailed.append(yList[row])\n",
        "  xFailed = np.array(xFailed)\n",
        "  yFailed = np.array(yFailed)\n",
        "  return xFailed, yFailed"
      ],
      "execution_count": 0,
      "outputs": []
    },
    {
      "metadata": {
        "id": "QvZssrz2aDHg",
        "colab_type": "code",
        "colab": {}
      },
      "cell_type": "code",
      "source": [
        "def failsCount():\n",
        "  fala = 0\n",
        "  for i, a in enumerate(yTest):\n",
        "    j = 0\n",
        "    for k, b in enumerate(a):\n",
        "      if b < 1.0 : j += 1\n",
        "\n",
        "    if j > 0 : \n",
        "      print (i, '. ', j)\n",
        "    i = i + 1\n",
        "    fala += j\n",
        "  print (fala)"
      ],
      "execution_count": 0,
      "outputs": []
    },
    {
      "metadata": {
        "id": "OXtv0HaDaEoM",
        "colab_type": "code",
        "colab": {}
      },
      "cell_type": "code",
      "source": [
        "# Evaluation function\n",
        "\n",
        "def evaluation(predictions,additionalPredictions, refYsupervisor):\n",
        "  \n",
        "  lenght = len(refYsupervisor)\n",
        "  failPositions = [[] for y in range(lenght)]\n",
        "\n",
        "  for i, a in enumerate(refYsupervisor):\n",
        "    for j, b in enumerate(a):\n",
        "      if b == 0 : failPositions[i].append(j);#spisuje w listach(per commit) pozycje, gdzie sfailowal test [3,78,90, itp]\n",
        "\n",
        "  predictionsTemp = predictions.copy()#tablica list, w ktotej sa przedstawione prawd wystapienia danej labeliki\n",
        "  predictionPositions = [[] for y in range(lenght)]\n",
        "\n",
        "  for i, commit in enumerate(predictionsTemp):\n",
        "    if len(failPositions[i]) != 0:#jezeli w danym commicie byl wh jakis blad\n",
        "      for j in range(len(failPositions[i]) + additionalPredictions):#tyle razy co sfailowanych testow + dodatkowe, przez nas zdefiniowane\n",
        "        argmin = np.argmin(commit)# argmin = jest indeksem najmniejsza wartoscia dla predykcji sieci , czyt. indexem najbardziej prawdopodobnej\n",
        "        predictionPositions[i].append(argmin)#umiesc index tej  najbardziej prawdopodobna wartosc, w tab dla danego komitu \n",
        "        predictionsTemp[i][argmin] = 1#nie berz pod uwage juz tej wartosci\n",
        "\n",
        "  predictionHits = [[] for y in range(lenght)]\n",
        "\n",
        "  for i, a in enumerate(failPositions):\n",
        "    count = 0\n",
        "    for j, b in enumerate(a):\n",
        "      for c in predictionPositions[i]:\n",
        "        if c == b : count += 1\n",
        "    if len(failPositions) != 0:\n",
        "      predictionHits[i].insert(0,count)\n",
        "\n",
        "\n",
        "  failsCount = 0\n",
        "  hitsCount = 0\n",
        "  for i, a in enumerate(refYsupervisor):\n",
        "    j = 0\n",
        "\n",
        "    for k, b in enumerate(a):\n",
        "      if b < 1.0 : j += 1\n",
        "\n",
        "    failsCount += j\n",
        "    hitsCount += predictionHits[i][0]\n",
        "\n",
        "#   print('Percentage of fails predicted', hitsCount / failsCount * 100, '%')\n",
        "  performance = hitsCount/failsCount * 100\n",
        "  return  performance"
      ],
      "execution_count": 0,
      "outputs": []
    },
    {
      "metadata": {
        "id": "42wJQ7P4izbr",
        "colab_type": "code",
        "colab": {}
      },
      "cell_type": "code",
      "source": [
        "def listSingleMemberClassesPositions(refY, printFlag):\n",
        "\n",
        "  yList = refY.tolist()\n",
        "  print (len(yList))\n",
        "  yDistinct = [ele for ind, ele in enumerate(yList) if ele not in yList[:ind]]\n",
        "\n",
        "  classesPopulation = []\n",
        "  singleMemberClassesPositions = []\n",
        "  noSingleMemberClasses = 0\n",
        "\n",
        "  for i, a in enumerate(yDistinct):\n",
        "    population = 0\n",
        "    memberPosition = 0\n",
        "    for j, b in enumerate(yList):\n",
        "      if a == b: \n",
        "        population += 1\n",
        "        memberPosition = j\n",
        "\n",
        "    classesPopulation.append(population)\n",
        "  #  print(i, population)\n",
        "    if population == 1: \n",
        "      noSingleMemberClasses += 1\n",
        "      singleMemberClassesPositions.append(memberPosition)\n",
        "\n",
        "  if printFlag == True: \n",
        "    print(noSingleMemberClasses)\n",
        "  else:\n",
        "    return singleMemberClassesPositions\n",
        "  \n"
      ],
      "execution_count": 0,
      "outputs": []
    },
    {
      "metadata": {
        "id": "jIhEbtA9Lr6J",
        "colab_type": "text"
      },
      "cell_type": "markdown",
      "source": [
        "\n",
        "\n",
        "---\n",
        "\n",
        "\n",
        "\n",
        "---\n",
        "\n",
        "\n",
        "\n",
        "---\n",
        "\n"
      ]
    },
    {
      "metadata": {
        "id": "mskKtPb0R8CQ",
        "colab_type": "text"
      },
      "cell_type": "markdown",
      "source": [
        "## **PREPARE DATA**"
      ]
    },
    {
      "metadata": {
        "id": "Y8s22Fdfom-6",
        "colab_type": "code",
        "colab": {}
      },
      "cell_type": "code",
      "source": [
        "#xTrain, xTest, yTrain, yTest = train_test_split(x, y, test_size = 0.2)"
      ],
      "execution_count": 0,
      "outputs": []
    },
    {
      "metadata": {
        "id": "3jk2OI_yantC",
        "colab_type": "code",
        "colab": {}
      },
      "cell_type": "code",
      "source": [
        ""
      ],
      "execution_count": 0,
      "outputs": []
    },
    {
      "metadata": {
        "id": "utDW-luFOIML",
        "colab_type": "text"
      },
      "cell_type": "markdown",
      "source": [
        "**(optional) create only 'failed data'**"
      ]
    },
    {
      "metadata": {
        "id": "BXVlPwABOPnB",
        "colab_type": "code",
        "outputId": "2849de33-134a-4454-a2b7-016099345967",
        "colab": {
          "base_uri": "https://localhost:8080/",
          "height": 34
        }
      },
      "cell_type": "code",
      "source": [
        "import numpy\n",
        "xReduced, yReduced = returnFailedData(x, y, searchForFailed(y,percent_of_passed_data=1,withpassed_data=False))\n",
        "print ('type', type(yReduced[0]))\n",
        "    \n",
        "\n",
        "# xReduced, yReduced = returnFailedData(x, y, searchForFailed(y))\n",
        "from sklearn.model_selection import train_test_split\n",
        "xTrain, xTest, yTrain, yTest = train_test_split(xReduced, yReduced, test_size = 0.2)"
      ],
      "execution_count": 0,
      "outputs": [
        {
          "output_type": "stream",
          "text": [
            "type <class 'numpy.ndarray'>\n"
          ],
          "name": "stdout"
        }
      ]
    },
    {
      "metadata": {
        "id": "ij4dnucNcOKp",
        "colab_type": "code",
        "colab": {}
      },
      "cell_type": "code",
      "source": [
        ""
      ],
      "execution_count": 0,
      "outputs": []
    },
    {
      "metadata": {
        "id": "4KblPqI5jSQf",
        "colab_type": "code",
        "outputId": "dc7a9209-342e-4955-a5ac-a225dfe35ff8",
        "colab": {
          "base_uri": "https://localhost:8080/",
          "height": 71
        }
      },
      "cell_type": "code",
      "source": [
        "def listSingleMemberClassesPositions(refY, printFlag):\n",
        "  \n",
        "\n",
        "  yList = refY.tolist()#dalej maciez tylko jako lista\n",
        "  yDistinct = [(ele) for ind, ele in enumerate(yList) if ele not in yList[:ind]]#tablica vektorow gdzie jest cos nowego \n",
        "#   print(len(yDistinct[0]))# pojedynczy kommit  nie powtarzajacy sie juz pozniej \n",
        "  print(\"liczba 'klas'\", len(yDistinct))\n",
        "  \n",
        "  data_for_directory = []\n",
        "  classesPopulation = []\n",
        "  singleMemberClassesPositions = []\n",
        "  noSingleMemberClasses = 0\n",
        "\n",
        "  for i, a in enumerate(yDistinct):\n",
        "    population = 0\n",
        "    memberPosition = 0\n",
        "    for j, b in enumerate(yList):\n",
        "      if a == b: \n",
        "        population += 1\n",
        "        memberPosition = j\n",
        "\n",
        "    classesPopulation.append(population)\n",
        "  #  print(i, population)\n",
        "    if population == 1:\n",
        "      ids_in_single_popul  = [idx for idx, ele in enumerate(a) if ele == 0]\n",
        "      data_for_directory.append(ids_in_single_popul)\n",
        "      noSingleMemberClasses += 1\n",
        "      singleMemberClassesPositions.append(memberPosition)\n",
        "      \n",
        "  ids_for_class= []    \n",
        "  for i in range(0,len(data_for_directory)):\n",
        "    if i == 0:\n",
        "      ids_for_class = data_for_directory[i]\n",
        "    ids_for_class += list(set(data_for_directory[i])- set(ids_for_class))\n",
        " \n",
        " \n",
        "\n",
        "  if printFlag == True: \n",
        "    print(noSingleMemberClasses)\n",
        "  else: \n",
        "    return (singleMemberClassesPositions,ids_for_class)\n",
        "  \n",
        "info = listSingleMemberClassesPositions(yTrain, False)#czy to sa numery klas (w naszym przypadku testow,) czy numery komitow gdzie tylko jeden test sfailowal => to drugie numery kommitow\n",
        "  \n",
        "def create_weights_dict(yTrain, info):\n",
        "  basic_class_weights = {}\n",
        "  \n",
        "  basic_class_weights = {i:1. for i in range(len(yTest))}\n",
        "  \n",
        "  for ids in info[1]:\n",
        "    basic_class_weights[ids] = 100\n",
        "  print(basic_class_weights)\n",
        "  return basic_class_weights\n",
        "\n",
        " \n",
        "  \n",
        "class_weights = create_weights_dict(yTrain, info)\n",
        "  "
      ],
      "execution_count": 0,
      "outputs": [
        {
          "output_type": "stream",
          "text": [
            "liczba 'klas' 359\n",
            "{0: 1.0, 1: 100, 2: 100, 3: 100, 4: 100, 5: 1.0, 6: 1.0, 7: 1.0, 8: 1.0, 9: 1.0, 10: 1.0, 11: 1.0, 12: 1.0, 13: 1.0, 14: 1.0, 15: 1.0, 16: 1.0, 17: 1.0, 18: 1.0, 19: 1.0, 20: 1.0, 21: 1.0, 22: 1.0, 23: 1.0, 24: 100, 25: 1.0, 26: 1.0, 27: 1.0, 28: 1.0, 29: 1.0, 30: 1.0, 31: 100, 32: 100, 33: 1.0, 34: 1.0, 35: 1.0, 36: 1.0, 37: 1.0, 38: 1.0, 39: 1.0, 40: 1.0, 41: 1.0, 42: 1.0, 43: 1.0, 44: 1.0, 45: 1.0, 46: 1.0, 47: 100, 48: 1.0, 49: 1.0, 50: 1.0, 51: 1.0, 52: 1.0, 53: 1.0, 54: 1.0, 55: 100, 56: 1.0, 57: 1.0, 58: 1.0, 59: 100, 60: 1.0, 61: 1.0, 62: 1.0, 63: 1.0, 64: 1.0, 65: 1.0, 66: 100, 67: 100, 68: 100, 69: 100, 70: 100, 71: 100, 72: 100, 73: 100, 74: 100, 75: 100, 76: 1.0, 77: 1.0, 78: 100, 79: 1.0, 80: 1.0, 81: 100, 82: 1.0, 83: 1.0, 84: 1.0, 85: 1.0, 86: 1.0, 87: 1.0, 88: 100, 89: 100, 90: 1.0, 91: 100, 92: 100, 93: 1.0, 94: 100, 95: 100, 96: 1.0, 97: 100, 98: 1.0, 99: 1.0, 100: 1.0, 101: 1.0, 102: 100, 103: 1.0, 104: 1.0, 105: 1.0, 106: 1.0, 107: 1.0, 108: 1.0, 109: 1.0, 110: 1.0, 111: 100, 112: 1.0, 113: 1.0, 114: 1.0, 115: 1.0, 116: 1.0, 117: 100, 118: 100, 119: 1.0, 120: 100, 121: 100, 122: 1.0, 123: 1.0, 124: 1.0, 125: 1.0, 126: 1.0, 127: 1.0, 128: 1.0, 129: 1.0, 130: 1.0, 131: 100, 132: 100, 133: 1.0, 134: 1.0, 135: 1.0, 136: 1.0, 137: 1.0, 138: 1.0, 139: 1.0, 140: 100, 141: 100, 142: 100, 143: 100, 144: 100, 145: 100, 146: 1.0, 147: 1.0, 148: 100, 149: 1.0, 150: 1.0, 151: 1.0, 152: 1.0, 153: 1.0, 154: 1.0, 155: 1.0, 156: 1.0, 157: 1.0, 158: 1.0, 159: 1.0, 160: 1.0, 161: 1.0, 162: 1.0, 163: 1.0, 164: 1.0, 165: 1.0, 166: 1.0, 167: 100, 168: 1.0, 169: 1.0, 170: 100, 171: 1.0, 172: 1.0, 173: 1.0, 174: 1.0, 175: 1.0, 176: 1.0, 177: 100, 178: 1.0, 179: 1.0, 180: 100, 181: 100, 182: 100, 183: 100, 184: 100, 185: 1.0, 186: 1.0, 187: 100, 188: 1.0, 189: 100, 190: 100, 191: 1.0, 192: 100, 193: 100, 194: 100, 195: 100, 196: 1.0, 197: 100, 198: 100, 199: 100, 200: 100, 201: 1.0, 202: 100, 203: 1.0, 204: 100, 205: 100, 206: 1.0, 207: 1.0, 208: 100, 209: 1.0, 210: 100, 211: 1.0, 212: 1.0, 213: 1.0, 214: 100, 215: 100, 216: 100, 217: 1.0, 218: 100, 219: 1.0, 220: 100, 221: 100, 222: 100, 223: 100, 224: 100, 225: 100, 226: 100, 227: 100, 228: 100, 229: 100, 230: 1.0, 231: 1.0, 232: 1.0, 233: 1.0, 234: 1.0, 235: 1.0, 236: 1.0, 237: 1.0, 238: 100, 239: 100, 240: 100, 241: 100, 242: 100, 243: 100, 244: 100, 245: 100, 246: 100, 247: 100, 248: 100, 249: 100, 250: 1.0, 251: 100, 252: 1.0, 253: 1.0, 492: 100, 345: 100, 334: 100, 393: 100, 395: 100, 485: 100, 255: 100, 360: 100, 293: 100, 256: 100, 346: 100, 347: 100, 532: 100, 298: 100, 299: 100, 281: 100, 282: 100, 283: 100, 284: 100, 355: 100, 537: 100, 510: 100, 513: 100, 323: 100, 333: 100, 370: 100, 260: 100, 398: 100, 328: 100, 515: 100, 295: 100, 321: 100, 445: 100, 257: 100, 341: 100, 286: 100, 507: 100, 466: 100, 468: 100, 465: 100, 530: 100, 301: 100, 462: 100, 320: 100, 331: 100, 332: 100, 315: 100, 317: 100, 319: 100, 337: 100, 444: 100, 339: 100, 325: 100, 420: 100, 517: 100, 521: 100, 413: 100, 505: 100, 291: 100, 263: 100, 340: 100, 431: 100, 503: 100, 491: 100, 265: 100, 266: 100, 382: 100, 494: 100, 350: 100, 358: 100, 343: 100, 268: 100, 489: 100, 490: 100, 258: 100, 309: 100, 501: 100, 511: 100, 493: 100, 531: 100, 488: 100, 522: 100, 292: 100, 304: 100, 305: 100, 311: 100, 312: 100, 313: 100, 314: 100, 285: 100, 520: 100, 519: 100, 376: 100, 302: 100, 422: 100, 399: 100, 457: 100, 261: 100, 336: 100, 338: 100, 307: 100, 308: 100, 538: 100, 540: 100, 254: 100, 344: 100, 470: 100, 335: 100, 456: 100, 259: 100, 296: 100, 297: 100, 523: 100, 300: 100, 469: 100, 463: 100, 504: 100, 421: 100, 363: 100, 434: 100, 397: 100, 439: 100, 500: 100, 288: 100, 417: 100, 512: 100, 378: 100}\n"
          ],
          "name": "stdout"
        }
      ]
    },
    {
      "metadata": {
        "id": "ix18G1rqyxri",
        "colab_type": "code",
        "colab": {}
      },
      "cell_type": "code",
      "source": [
        "#slownik przyklad :\n",
        "# class_weight = {0: 1.,\n",
        "#                 1: 50.,\n",
        "#                 2: 2.}\n",
        "\n"
      ],
      "execution_count": 0,
      "outputs": []
    },
    {
      "metadata": {
        "id": "t3aipXpRcVpU",
        "colab_type": "code",
        "outputId": "16de8789-f991-481b-f63c-adb5e8832549",
        "colab": {
          "base_uri": "https://localhost:8080/",
          "height": 85
        }
      },
      "cell_type": "code",
      "source": [
        "def count_fail_to_pass_ratio(refy):\n",
        "  failCount = 0\n",
        "  passCount = 0\n",
        "  failBuildCount = 0\n",
        "\n",
        "  for a in y:\n",
        "    if a[np.argmin(a)] == 0 : failBuildCount += 1\n",
        "  print (\"To training were used data : \")\n",
        "  print (\"failed builds: \", failBuildCount)\n",
        "  passed_builds = len(refy) - failBuildCount\n",
        "  print('passed builds: ', passed_builds)\n",
        "  try:\n",
        "    print (\"failed to passed  ratio: \", failBuildCount / passed_builds * 100, '%', sep='')\n",
        "  except:\n",
        "    print (\"no passed data in dataset\")\n",
        "  \n",
        "  \n",
        "count_fail_to_pass_ratio(yReduced)\n",
        "  \n",
        "\n",
        "  \n",
        "  "
      ],
      "execution_count": 0,
      "outputs": [
        {
          "output_type": "stream",
          "text": [
            "To training were used data : \n",
            "failed builds:  1266\n",
            "passed builds:  0\n",
            "no passed data in dataset\n"
          ],
          "name": "stdout"
        }
      ]
    },
    {
      "metadata": {
        "id": "PmKhHbI4R_sN",
        "colab_type": "text"
      },
      "cell_type": "markdown",
      "source": [
        "\n",
        "\n",
        "---\n",
        "\n",
        "\n",
        "\n",
        "---\n",
        "\n",
        "\n",
        "\n",
        "---\n",
        "\n"
      ]
    },
    {
      "metadata": {
        "id": "ivhO-gnUSEQP",
        "colab_type": "text"
      },
      "cell_type": "markdown",
      "source": [
        "## PREPARE MODEL"
      ]
    },
    {
      "metadata": {
        "id": "vPRrHzYvypom",
        "colab_type": "code",
        "colab": {}
      },
      "cell_type": "code",
      "source": [
        ""
      ],
      "execution_count": 0,
      "outputs": []
    },
    {
      "metadata": {
        "id": "1fduCyvWnRv0",
        "colab_type": "code",
        "outputId": "763f6034-4eaf-4d43-98da-67ed2f4bc8b0",
        "colab": {
          "base_uri": "https://localhost:8080/",
          "height": 34
        }
      },
      "cell_type": "code",
      "source": [
        "import keras\n",
        "from keras.models import Sequential\n",
        "from keras.layers import Dense\n",
        "#12140\n",
        "from sklearn.ensemble import RandomForestRegressor\n",
        "# Instantiate model with 1000 decision trees\n",
        "model = RandomForestRegressor(n_estimators = 1000, random_state = 77)\n",
        "# Train the model on training data\n",
        "model.fit(xTrain, yTrain);"
      ],
      "execution_count": 0,
      "outputs": [
        {
          "output_type": "stream",
          "text": [
            "Using TensorFlow backend.\n"
          ],
          "name": "stderr"
        }
      ]
    },
    {
      "metadata": {
        "id": "c76W8TAQRpQs",
        "colab_type": "code",
        "colab": {}
      },
      "cell_type": "code",
      "source": [
        ""
      ],
      "execution_count": 0,
      "outputs": []
    },
    {
      "metadata": {
        "id": "sJY1xTCDSLNI",
        "colab_type": "text"
      },
      "cell_type": "markdown",
      "source": [
        "\n",
        "\n",
        "---\n",
        "\n",
        "\n",
        "\n",
        "---\n",
        "\n",
        "\n",
        "\n",
        "---\n",
        "\n"
      ]
    },
    {
      "metadata": {
        "id": "tzanoRBUSoWo",
        "colab_type": "text"
      },
      "cell_type": "markdown",
      "source": [
        "## **TEST MODEL**"
      ]
    },
    {
      "metadata": {
        "id": "2L3_gtlDY2ve",
        "colab_type": "code",
        "colab": {}
      },
      "cell_type": "code",
      "source": [
        "# lossTest, accTest = model.evaluate(xTest, yTest)\n",
        "\n",
        "# print('Test accuracy:', accTest)\n",
        "# print('Test loss:', lossTest)\n"
      ],
      "execution_count": 0,
      "outputs": []
    },
    {
      "metadata": {
        "id": "80qYJa28rzE0",
        "colab_type": "code",
        "colab": {}
      },
      "cell_type": "code",
      "source": [
        "\n",
        "# predictions = model.predict(xTest)\n",
        "predictions = model.predict(xTest)\n",
        "print (predictions[0])\n",
        "# print(len(predictions))\n",
        "# print((len(predictions)))\n",
        "\n"
      ],
      "execution_count": 0,
      "outputs": []
    },
    {
      "metadata": {
        "id": "eyPXA2FdW-5T",
        "colab_type": "code",
        "colab": {}
      },
      "cell_type": "code",
      "source": [
        "def create_fake_predictions(quantity_oftests_set_as_failed, quantity_of_predictions):\n",
        "  import random\n",
        "  quantity_of_predictions = len(quantity_of_predictions)\n",
        "  random_matrix_pred = []\n",
        "  stats =  [0 for i in range(542)]\n",
        "  \n",
        "  for row_no in range(quantity_of_predictions):\n",
        "    random_pred_list = [1 for i in range(542)]\n",
        "    random_indexes_list = [random.randint(0,541) for i in range(quantity_oftests_set_as_failed)] # todo usunac powtorzenia \n",
        "    for idx in random_indexes_list:\n",
        "      random_pred_list[idx] = 0\n",
        "      stats[idx] = stats[idx] + 1\n",
        "    random_matrix_pred.append(random_pred_list)\n",
        "\n",
        "# for new concept\n",
        "#   for row_no in range(quantity_of_predictions):\n",
        "#       random_pred_list = [1 for i in range(542)]\n",
        "#       random_indexes_list = random.randint(0,541) # todo usunac powtorzenia \n",
        "#       random_pred_list[random_indexes_list] = 0\n",
        "#       stats[random_indexes_list] = stats[random_indexes_list] + 1\n",
        "#       random_matrix_pred.append(random_pred_list)\n",
        "    \n",
        "  y_pos = range(len(stats))\n",
        "  performance = stats\n",
        "\n",
        "  plt.bar(y_pos, performance, align='center', alpha=0.5)\n",
        "  plt.xticks(y_pos)\n",
        "  plt.ylabel('liczba wybran testu')\n",
        "  plt.xlabel('numer testu')\n",
        "  plt.title('rozklad wybierania testow jako sfailowane')\n",
        "  plt.show()\n",
        "    \n",
        " \n",
        "  random_matrix_pred = np.array(random_matrix_pred)\n",
        "  return random_matrix_pred\n",
        "\n",
        "\n",
        "fake_predictions_matrix = create_fake_predictions(15,xTest) \n"
      ],
      "execution_count": 0,
      "outputs": []
    },
    {
      "metadata": {
        "id": "W49QJ91tmKYQ",
        "colab_type": "code",
        "colab": {}
      },
      "cell_type": "code",
      "source": [
        ""
      ],
      "execution_count": 0,
      "outputs": []
    },
    {
      "metadata": {
        "id": "83XWARzS7Zmg",
        "colab_type": "code",
        "colab": {}
      },
      "cell_type": "code",
      "source": [
        "#Distributions of argmins through all the predictions\n",
        "distribution_array = count_distribution(predictions)\n",
        "\n",
        "# fake prediction\n",
        "fake_distribution_array = count_distribution(fake_predictions_matrix)\n"
      ],
      "execution_count": 0,
      "outputs": []
    },
    {
      "metadata": {
        "id": "qAUGigqb9KPV",
        "colab_type": "code",
        "colab": {}
      },
      "cell_type": "code",
      "source": [
        "create_plot(range(len(distribution_array)), distribution_array)\n",
        "\n",
        "# fake plot\n",
        "create_plot(range(len(fake_distribution_array)), fake_distribution_array)"
      ],
      "execution_count": 0,
      "outputs": []
    },
    {
      "metadata": {
        "id": "uXLByw_xaeCB",
        "colab_type": "code",
        "colab": {}
      },
      "cell_type": "code",
      "source": [
        "count_fail_to_pass_ratio(yReduced)\n",
        "evaluation(predictions,15,yTest)\n",
        "# evaluate random prediction\n",
        "print(\"fake prediction: \")\n",
        "evaluation(fake_predictions_matrix, 15, yTest)"
      ],
      "execution_count": 0,
      "outputs": []
    },
    {
      "metadata": {
        "id": "sZji6x5ASS1B",
        "colab_type": "code",
        "colab": {}
      },
      "cell_type": "code",
      "source": [
        "def random_forest(number_of_trees):\n",
        "  from sklearn.ensemble import RandomForestRegressor\n",
        "  # Instantiate model with 1000 decision trees\n",
        "  model = RandomForestRegressor(n_estimators = number_of_trees, random_state = 42)\n",
        "  # Train the model on training data\n",
        "  model.fit(xTrain, yTrain)\n",
        "  predictions = model.predict(xTest)\n",
        "  performance = evaluation(predictions,15,yTest)\n",
        "  return performance\n",
        "  "
      ],
      "execution_count": 0,
      "outputs": []
    },
    {
      "metadata": {
        "id": "1kAXFCykTsbY",
        "colab_type": "code",
        "colab": {}
      },
      "cell_type": "code",
      "source": [
        "def optimizer(func, steps, minMax1, minMax2=False, split = 4, reduceSplit = False, searchMaximum = True):\n",
        "  \"\"\"\n",
        "  -------------------------------\n",
        "  Function can take 1 or 2 parameters to optimization.\n",
        "  Default: 2 parameters (you need to set values for minMax1 and minMax2)\n",
        "           For 1 parameter optimization set argument: \"minMax2 = False\"\n",
        "\n",
        "  -------------------------------\n",
        "  func        -->  enter your function there\n",
        "                   IMPORTANT:\n",
        "                   * if function has 1 parameter:  minMax1 = [min, max],   minMax2 = False\n",
        "                   * if function has 2 parameters: minMax1 = [min1, max1], minMax2 = [min2, max2]\n",
        "                   \n",
        "  steps       -->  number of iterations of recurency\n",
        "  \n",
        "  minMax1/2   -->  list of min and max value of parameters to begin with (ex. [min, max])\n",
        "  \n",
        "  split        -->  number of parts in which function will split values of parameters\n",
        "                   higher value -> better accuracy & longer calculation time\n",
        "                   (Values range 2 -- 10)\n",
        "                   \n",
        "  reduceSplit -->  If True: with every repetition of recurency will reduce split by one\n",
        "  \n",
        "  -------------------------------\n",
        "  \"\"\"\n",
        "  import matplotlib.pyplot as plt\n",
        "  import math\n",
        "  \n",
        "  \n",
        "  plotData = []\n",
        "  iterationCounter = 0\n",
        "  iterationsLeft = steps\n",
        "  recurencyCounter = 0\n",
        "  bestResult = None\n",
        "  print(iterationsLeft)\n",
        "  \n",
        "  #--------------------\n",
        "\n",
        "  def returnStepList(minValue, maxValue, nrSteps):\n",
        "      step = int(math.fabs(maxValue - minValue)/nrSteps)\n",
        "      actualMin = min([minValue, maxValue])\n",
        "      actualMax = max([minValue, maxValue])\n",
        "      return [actualMin + step*nr for nr in range(nrSteps + 1)]\n",
        "\n",
        "  def resetIterators():\n",
        "    global plotData\n",
        "    global iterationCounter\n",
        "    global recurencyCounter\n",
        "    plotData = []\n",
        "    iterationCounter = 0\n",
        "    recurencyCounter = 0\n",
        "\n",
        "\n",
        "  def create_plot_optimizer(x_data, y_data=0, xLabel = 'X', yLabel = 'Y'):\n",
        "      import matplotlib.pyplot as plt\n",
        "      if y_data == 0:  \n",
        "          unzip = list(zip(*x_data))\n",
        "          x_data, y_data = unzip[0],unzip[1]\n",
        "      plt.plot(x_data, y_data)\n",
        "      plt.xlabel(xLabel)\n",
        "      plt.ylabel(yLabel)\n",
        "      plt.show()\n",
        "\n",
        "\n",
        "  def optimize(func, steps, minMax1, minMax2 = False, split = 4, reduceSplit = False, \n",
        "               searchMaximum = True, iLeft = None):\n",
        "      \n",
        "      global resetIterators\n",
        "      global iterationCounter\n",
        "      global iterationsLeft\n",
        "      global recurencyCounter\n",
        "      global bestResult\n",
        "      \n",
        "      localICounter = 0\n",
        "      iL = iLeft\n",
        "      sMax = searchMaximum\n",
        "      singleParam = False\n",
        "      bestPair = [None, None]\n",
        "      resultList = []\n",
        "      parametersList=[]\n",
        "\n",
        "      if reduceSplit is False:\n",
        "        newSplit = split\n",
        "      else:\n",
        "        if split > 2:\n",
        "          newSplit = split - 1\n",
        "        else:\n",
        "          newSplit = 2\n",
        "      if split > 10:\n",
        "        raise ValueError(\"Too big value of 'split' parameter! This would highly increase number of iterations\")\n",
        "      if minMax2 is False:\n",
        "        singleParam = True\n",
        "\n",
        "      recurencyCounter += 1\n",
        "\n",
        "      if isinstance(minMax1, list) and (isinstance(minMax2, list) or singleParam) :\n",
        "\n",
        "          stepList1 = returnStepList(minMax1[0], minMax1[1], split)\n",
        "          if singleParam:\n",
        "            stepList2 = [1]\n",
        "          else:\n",
        "            stepList2 = returnStepList(minMax2[0], minMax2[1], split)\n",
        "          \n",
        "          nrIterations = len(stepList1)*len(stepList2)\n",
        "          i1 = 0\n",
        "          i2 = 0\n",
        "\n",
        "\n",
        "\n",
        "          for el1 in stepList1:\n",
        "              i2 = 0\n",
        "              for el2 in stepList2:\n",
        "                  iterationCounter += 1\n",
        "                  localICounter += 1\n",
        "                 \n",
        "\n",
        "                  #----function----\n",
        "                  if singleParam:\n",
        "                    evaluation = func(el1)\n",
        "                  else:\n",
        "                    evaluation = func(el1, el2)\n",
        "                  #----function----\n",
        "                  print(\"---Iteration: {0}/{1} ----Recurency: {2}/{3} ---Evaluation:{4} ---Parameter: {5}\".format(localICounter, \\\n",
        "                                                                                                                   nrIterations,\\\n",
        "                                                                                                                   recurencyCounter,\\\n",
        "                                                                                                                   iL,\\\n",
        "                                                                                                                   evaluation,\\\n",
        "                                                                                                                   el1))\\\n",
        "\n",
        "                  if len(resultList) > 0:\n",
        "                      #----condition----\n",
        "                      if sMax:\n",
        "                        if evaluation >= max(resultList):\n",
        "                            bestPair[0] = i1\n",
        "                            bestPair[1] = i2\n",
        "                      else:\n",
        "                        if evaluation <= min(resultList):\n",
        "                            bestPair[0] = i1\n",
        "                            bestPair[1] = i2\n",
        "\n",
        "                      #----condition----\n",
        "\n",
        "                  else:\n",
        "                    if singleParam:\n",
        "                      bestPair[0] = i1\n",
        "                    else:\n",
        "                      bestPair[0] = i1\n",
        "                      bestPair[1] = i2\n",
        "\n",
        "                  plotData.append([evaluation, iterationCounter])\n",
        "\n",
        "                  resultList.append(evaluation)\n",
        "                  if singleParam:\n",
        "                    parametersList.append([el1])\n",
        "                  else:\n",
        "                    parametersList.append([el1, el2])\n",
        "\n",
        "                  i2 += 1\n",
        "              i1 += 1\n",
        "\n",
        "          #------------------------------------------------\n",
        "\n",
        "\n",
        "          if bestPair[0] == stepList1.index(stepList1[0]):\n",
        "              minMax1[0] = int(stepList1[bestPair[0]]/2)\n",
        "              minMax1[1] = stepList1[bestPair[0] + 1]\n",
        "  #                 print(\"best values of PARAM_1 are close to MIN value\")\n",
        "\n",
        "          elif bestPair[0] == stepList1.index(stepList1[-1]):\n",
        "              minMax1[0] = stepList1[bestPair[0] - 1]\n",
        "              minMax1[1] = stepList1[bestPair[0]]*2\n",
        "  #                 print(\"best values of PARAM_1 are close to MAX value\")\n",
        "\n",
        "\n",
        "          else:\n",
        "              minMax1[0] = stepList1[bestPair[0] - 1]\n",
        "              minMax1[1] = stepList1[bestPair[0] + 1]\n",
        "\n",
        "          #------------------------------------------------\n",
        "          if not singleParam:\n",
        "            if bestPair[1] == stepList2.index(stepList2[0]):\n",
        "                minMax2[0] = int(stepList1[bestPair[1]]/2)\n",
        "                minMax2[1] = stepList1[bestPair[1] + 1]\n",
        "  #                 print(\"best values of PARAM_2 are close to MIN value\")\n",
        "\n",
        "            elif bestPair[1] == stepList2.index(stepList2[-1]):\n",
        "                minMax2[0] = stepList1[bestPair[1] - 1]\n",
        "                minMax2[1] = stepList1[bestPair[1]]*2\n",
        "  #                 print(\"best values of PARAM_2 are close to MAX value\")\n",
        "\n",
        "\n",
        "            else:\n",
        "                minMax2[0] = stepList2[bestPair[1] - 1]\n",
        "                minMax2[1] = stepList2[bestPair[1] + 1]\n",
        "\n",
        "          #------------------------------------------------\n",
        "          if sMax:\n",
        "            result = max(resultList)\n",
        "            param1 = parametersList[resultList.index(max(resultList))][0]\n",
        "            if not singleParam:\n",
        "              param2 = parametersList[resultList.index(max(resultList))][1]\n",
        "          else:\n",
        "            result = min(resultList)\n",
        "            param1 = parametersList[resultList.index(min(resultList))][0]\n",
        "            if not singleParam:\n",
        "              param2 = parametersList[resultList.index(min(resultList))][1]\n",
        "                    \n",
        "          if steps > 0:\n",
        "            if singleParam:\n",
        "              print(\"---------------------------------------------------------\\n\")\n",
        "              optimize(func,\n",
        "                       steps - 1,\n",
        "                       [minMax1[0],minMax1[1]],\n",
        "                       minMax2 = False,\n",
        "                       split = newSplit,\n",
        "                       reduceSplit=reduceSplit,\n",
        "                       searchMaximum = sMax,\n",
        "                       iLeft = iL )\n",
        "            else:\n",
        "              print(\"---------------------------------------------------------\\n\")\n",
        "              optimize(func,\n",
        "                       steps - 1,\n",
        "                       [minMax1[0], minMax1[1]],\n",
        "                       minMax2=[minMax2[0], minMax2[1]],\n",
        "                       split = newSplit,\n",
        "                       reduceSplit=reduceSplit,\n",
        "                       searchMaximum = sMax,\n",
        "                       iLeft = iL)\n",
        "            \n",
        "          else:\n",
        "            if singleParam:\n",
        "              print('\\n------------------ACHIEVED RESULTS------------------\\n')\n",
        "              print(\"{:<20}{}\\n{:<20}{}\\n\".format('RESULT: ',\n",
        "                                                  result,\n",
        "                                                  'PARAMETER 1: ',\n",
        "                                                  param1))\n",
        "              return [result, param1]\n",
        "            else:\n",
        "              print('\\n------------------ACHIEVED RESULTS------------------\\n')\n",
        "              print(\"{:<20}{}\\n{:<20}{}\\n{:<20}{}\\n\".format('RESULT: ',\n",
        "                                                            result,\n",
        "                                                            'PARAMETER 1: ',\n",
        "                                                            param1,\n",
        "                                                            'PARAMETER 2: ',\n",
        "                                                            param2))\n",
        "              return [result, param1, param2]\n",
        "\n",
        "      else:\n",
        "          print(\"enter correct value!\")\n",
        "         \n",
        "  resetIterators()\n",
        "  result = optimize(func,\n",
        "                    steps,\n",
        "                    minMax1,\n",
        "                    minMax2,\n",
        "                    split,\n",
        "                    reduceSplit,\n",
        "                    searchMaximum = searchMaximum,\n",
        "                    iLeft = steps+1)\n",
        "  xData = [num[1] for num in plotData]\n",
        "  yData = [num[0] for num in plotData]\n",
        "  create_plot_optimizer(xData, yData, 'Iterations', 'Result')\n",
        "  return result"
      ],
      "execution_count": 0,
      "outputs": []
    },
    {
      "metadata": {
        "id": "Em18hGnwTz3n",
        "colab_type": "code",
        "colab": {}
      },
      "cell_type": "code",
      "source": [
        "optimizer(random_forest, steps=3, minMax1=[100,1500], minMax2=False, split=6, reduceSplit=True, searchMaximum=True)"
      ],
      "execution_count": 0,
      "outputs": []
    },
    {
      "metadata": {
        "id": "cucHtu1hEglf",
        "colab_type": "code",
        "colab": {}
      },
      "cell_type": "code",
      "source": [
        ""
      ],
      "execution_count": 0,
      "outputs": []
    }
  ]
}