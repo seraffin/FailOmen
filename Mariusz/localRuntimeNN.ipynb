{
  "nbformat": 4,
  "nbformat_minor": 0,
  "metadata": {
    "colab": {
      "name": "workingNN.ipynb",
      "version": "0.3.2",
      "provenance": [],
      "collapsed_sections": [],
      "include_colab_link": true
    },
    "kernelspec": {
      "name": "python3",
      "display_name": "Python 3"
    },
    "accelerator": "GPU"
  },
  "cells": [
    {
      "cell_type": "markdown",
      "metadata": {
        "id": "view-in-github",
        "colab_type": "text"
      },
      "source": [
        "<a href=\"https://colab.research.google.com/github/seraffin/FailOmen/blob/master/Mariusz/localRuntimeNN.ipynb\" target=\"_parent\"><img src=\"https://colab.research.google.com/assets/colab-badge.svg\" alt=\"Open In Colab\"/></a>"
      ]
    },
    {
      "metadata": {
        "id": "8nx7mo1JCC22",
        "colab_type": "code",
        "colab": {}
      },
      "cell_type": "code",
      "source": [
        "import tensorflow as tf\n",
        "import keras\n",
        "from keras.models import Sequential\n",
        "from keras.layers import Dense\n",
        "from sklearn.model_selection import train_test_split\n",
        "\n",
        "# Helper libraries\n",
        "import matplotlib.pyplot as plt\n",
        "import numpy as np\n",
        "import pandas as pd"
      ],
      "execution_count": 0,
      "outputs": []
    },
    {
      "metadata": {
        "id": "OAA_VXmLa3Jp",
        "colab_type": "text"
      },
      "cell_type": "markdown",
      "source": [
        "# Utilities"
      ]
    },
    {
      "metadata": {
        "id": "L7mjN1OX_QZN",
        "colab_type": "code",
        "colab": {}
      },
      "cell_type": "code",
      "source": [
        "# Evaluation function\n",
        "\n",
        "def evaluation(additionalPredictions, predictions, refYsupervisor, verbose = False):\n",
        "  \n",
        "  lenght = len(refYsupervisor)\n",
        "\n",
        "  failPositions = [[] for y in range(lenght)]\n",
        "\n",
        "  for i, a in enumerate(refYsupervisor):\n",
        "\n",
        "    for j, b in enumerate(a):\n",
        "      if b == 0 : failPositions[i].append(j);\n",
        "\n",
        "  predictionsTemp = predictions.copy()\n",
        "  predictionPositions = [[] for y in range(lenght)]\n",
        "\n",
        "\n",
        "  for i, a in enumerate(predictionsTemp):\n",
        "\n",
        "    if len(failPositions[i]) != 0:\n",
        "      for j in range(1 + additionalPredictions):\n",
        "        argmin = np.argmin(a)\n",
        "        predictionPositions[i].append(argmin)\n",
        "        predictionsTemp[i][argmin] = 1\n",
        "\n",
        "  predictionHits = [[] for y in range(lenght)]\n",
        "\n",
        "  for i, a in enumerate(failPositions):\n",
        "    count = 0\n",
        "    for j, b in enumerate(a):\n",
        "\n",
        "\n",
        "      for c in predictionPositions[i]:\n",
        "        if c == b : count += 1\n",
        "\n",
        "    if len(failPositions) != 0:\n",
        "      predictionHits[i] = count\n",
        "\n",
        "\n",
        "  failsCount = 0\n",
        "  hitsCount = 0\n",
        "  for i, a in enumerate(refYsupervisor):\n",
        "    j = 0\n",
        "\n",
        "    for k, b in enumerate(a):\n",
        "      if b < 1.0 : j += 1\n",
        "\n",
        "  #  if j > 0 :\n",
        "  #    print (i, '.', j, predictionHits[i])\n",
        "\n",
        "\n",
        "    failsCount += j\n",
        "    hitsCount += predictionHits[i]\n",
        "\n",
        "  print('Percentage of fails predicted', hitsCount / failsCount * 100, '%')\n",
        "  \n",
        "  if verbose == True:\n",
        "    for i in range(lenght):\n",
        "      print(i ,len(failPositions[i]), len(predictionPositions[i]), predictionHits[i], sep='\\t')"
      ],
      "execution_count": 0,
      "outputs": []
    },
    {
      "metadata": {
        "id": "Zwyfqi6JARhF",
        "colab_type": "code",
        "colab": {}
      },
      "cell_type": "code",
      "source": [
        "#Distribution of argmins through all the predictions\n",
        "  \n",
        "def argminsDistribution():\n",
        "  \n",
        "    i = 1\n",
        "    tab = [0] * 542\n",
        "    for a in predictions:\n",
        "      j = 0\n",
        "      for b in a:\n",
        "        if b < 1.0 : j = j + 1\n",
        "\n",
        "      #print (i, '. ', j, np.argmin(a))\n",
        "      tab[np.argmin(a)] += 1\n",
        "      i = i + 1\n",
        "\n",
        "    i = 0\n",
        "    for a in tab:\n",
        "      if a > 0 : print ('position', i, '\\targmin count', a)\n",
        "      i += 1"
      ],
      "execution_count": 0,
      "outputs": []
    },
    {
      "metadata": {
        "colab_type": "code",
        "id": "X35PsbQm79nb",
        "colab": {}
      },
      "cell_type": "code",
      "source": [
        "def printFailDistributionStats(y):\n",
        "  \n",
        "  failCount = 0\n",
        "  passCount = 0\n",
        "  failBuildCount = 0\n",
        "\n",
        "  for a in y:\n",
        "    if a[np.argmin(a)] == 0 : failBuildCount += 1\n",
        "    for b in a:\n",
        "      if b == 0 : failCount += 1\n",
        "      if b == 1 : passCount += 1\n",
        "  print ('failBuildCount', failBuildCount)\n",
        "  print ('passBuildCount', len(y) - failBuildCount)\n",
        "  print ('failBuild share ', failBuildCount / len(y) * 100, '%', sep='')\n",
        "  print ('failCount', failCount)\n",
        "  print ('passCount', passCount)\n",
        "  print ('fail share ', failCount / (failCount + passCount) * 100, '%', sep='')"
      ],
      "execution_count": 0,
      "outputs": []
    },
    {
      "metadata": {
        "id": "qMi564-FdxOe",
        "colab_type": "code",
        "colab": {}
      },
      "cell_type": "code",
      "source": [
        "#Distributions of argmins through all the predictions\n",
        "\n",
        "def countArgminsDistribution(prediction):\n",
        "  \n",
        "  i = 1\n",
        "  tab = [0] * 542\n",
        "  for a in predictions:\n",
        "    j = 0\n",
        "    for b in a:\n",
        "      if b < 1.0 : j = j + 1\n",
        "\n",
        "    #print (i, '. ', j, np.argmin(a))\n",
        "    tab[np.argmin(a)] += 1\n",
        "    i = i + 1\n",
        "\n",
        "  i = 0\n",
        "  distributed_array = []\n",
        "  for a in tab:\n",
        "    if a > 0 : \n",
        "      print ('position', i, '\\targmin count', a)\n",
        "      distributed_array.append((i,a))\n",
        "    i += 1\n",
        "  create_plot(distributed_array)  \n",
        "  return distributed_array"
      ],
      "execution_count": 0,
      "outputs": []
    },
    {
      "metadata": {
        "id": "gbNhf1pSTVYI",
        "colab_type": "code",
        "colab": {}
      },
      "cell_type": "code",
      "source": [
        "# Create a list of single member classes positions\n",
        "\n",
        "def listSingleMemberClassesPositions(refY, printFlag):\n",
        "\n",
        "  yList = refY.tolist()\n",
        "  yDistinct = [ele for ind, ele in enumerate(yList) if ele not in yList[:ind]]\n",
        "\n",
        "  classesPopulation = []\n",
        "  singleMemberClassesPositions = []\n",
        "  noSingleMemberClasses = 0\n",
        "\n",
        "  for i, a in enumerate(yDistinct):\n",
        "    population = 0\n",
        "    memberPosition = 0\n",
        "    for j, b in enumerate(yList):\n",
        "      if a == b: \n",
        "        population += 1\n",
        "        memberPosition = j\n",
        "\n",
        "    classesPopulation.append(population)\n",
        "  #  print(i, population)\n",
        "    if population == 1: \n",
        "      noSingleMemberClasses += 1\n",
        "      singleMemberClassesPositions.append(memberPosition)\n",
        "\n",
        "  if printFlag == True: \n",
        "    print(noSingleMemberClasses)\n",
        "  else:\n",
        "    return singleMemberClassesPositions"
      ],
      "execution_count": 0,
      "outputs": []
    },
    {
      "metadata": {
        "id": "Nfac1udJ9bf8",
        "colab_type": "code",
        "colab": {}
      },
      "cell_type": "code",
      "source": [
        "def searchForFailed(yList, withpassed_data = False):\n",
        "  changedRowList = []\n",
        "  not_add_passed_data = 0\n",
        "  for row in range (len(yList)):\n",
        "    if 0 in yList[row]:\n",
        "      changedRowList.append(row)\n",
        "      continue\n",
        "    elif withpassed_data == True:\n",
        "      if not not_add_passed_data%1:\n",
        "        changedRowList.append(row)\n",
        "    not_add_passed_data += 1\n",
        "      \n",
        "  return changedRowList\n",
        "\n",
        "def returnFailedData(xList, yList, changedRowList):\n",
        "  xFailed = []\n",
        "  yFailed = []\n",
        "  \n",
        "  for row in changedRowList:\n",
        "    xFailed.append(xList[row])\n",
        "    yFailed.append(yList[row])\n",
        "  xFailed = np.array(xFailed)\n",
        "  yFailed = np.array(yFailed)\n",
        "  return xFailed, yFailed"
      ],
      "execution_count": 0,
      "outputs": []
    },
    {
      "metadata": {
        "id": "YWPIJOZ-URw1",
        "colab_type": "code",
        "colab": {}
      },
      "cell_type": "code",
      "source": [
        "# Double the single member classes for stratified sampling\n",
        "\n",
        "def appendToDataset(refSingleMemberClassesPositions, refDataset):\n",
        "  \n",
        "  newDataset = pd.DataFrame(columns=list(refDataset))\n",
        "  for i, a in enumerate(refSingleMemberClassesPositions):\n",
        "    newDataset = newDataset.append(refDataset.iloc[a, :])\n",
        "  \n",
        "  return refDataset.append(newDataset, ignore_index=True)"
      ],
      "execution_count": 0,
      "outputs": []
    },
    {
      "metadata": {
        "colab_type": "code",
        "id": "i_kFoIyfuGxl",
        "colab": {}
      },
      "cell_type": "code",
      "source": [
        "def checkGPUpresence():\n",
        "\n",
        "  device_name = tf.test.gpu_device_name()\n",
        "  if device_name != '/device:GPU:0':\n",
        "    raise SystemError('GPU device not found')\n",
        "  print('Found GPU at: {}'.format(device_name))"
      ],
      "execution_count": 0,
      "outputs": []
    },
    {
      "metadata": {
        "id": "cLrYguowbq_R",
        "colab_type": "text"
      },
      "cell_type": "markdown",
      "source": [
        "# Prepare data"
      ]
    },
    {
      "metadata": {
        "id": "4hijZ7SlUARA",
        "colab_type": "code",
        "colab": {}
      },
      "cell_type": "code",
      "source": [
        "cd C:\\Users\\egawmar\\Google Drive\\Colab Notebooks"
      ],
      "execution_count": 0,
      "outputs": []
    },
    {
      "metadata": {
        "id": "62-iybQU_Yw7",
        "colab_type": "code",
        "colab": {}
      },
      "cell_type": "code",
      "source": [
        "#Importing dataset\n",
        "\n",
        "dataset = pd.read_csv('dataToML_full2.csv', index_col=False)"
      ],
      "execution_count": 0,
      "outputs": []
    },
    {
      "metadata": {
        "id": "Fwmq-vtQ960G",
        "colab_type": "code",
        "colab": {}
      },
      "cell_type": "code",
      "source": [
        "# Split data set into parameters and labels\n",
        "\n",
        "x = dataset.iloc[:, 0:23739].values\n",
        "y = dataset.iloc[:, 23739:24281].values"
      ],
      "execution_count": 0,
      "outputs": []
    },
    {
      "metadata": {
        "id": "BcdkT0ilUJOD",
        "colab_type": "code",
        "colab": {}
      },
      "cell_type": "code",
      "source": [
        "printFailDistributionStats(y)"
      ],
      "execution_count": 0,
      "outputs": []
    },
    {
      "metadata": {
        "id": "bzhEoh59e6Xp",
        "colab_type": "code",
        "colab": {}
      },
      "cell_type": "code",
      "source": [
        "# Random sampling\n",
        "'''\n",
        "xTrain, xTest, yTrain, yTest = train_test_split(x, y, test_size = 0.2)\n",
        "\n",
        "listSingleMemberClassesPositions(yTrain, True)\n",
        "listSingleMemberClassesPositions(yTest, True)\n",
        "'''\n",
        "\n",
        "# Stratified sampling\n",
        "'''\n",
        "dataset = appendToDataset(listSingleMemberClassesPositions(y, False), dataset)\n",
        "\n",
        "x = dataset.iloc[:, 0:23739].values\n",
        "y = dataset.iloc[:, 23739:24281].values\n",
        "\n",
        "from sklearn.model_selection import StratifiedShuffleSplit\n",
        "\n",
        "sss = StratifiedShuffleSplit(n_splits=5, test_size=0.2, random_state=None)\n",
        "\n",
        "for train_index, test_index in sss.split(x, y):\n",
        "  xTrain, xTest = x[train_index], x[test_index]\n",
        "  yTrain, yTest = y[train_index], y[test_index]\n",
        "  \n",
        "listSingleMemberClassesPositions(yTrain, True)\n",
        "listSingleMemberClassesPositions(yTest, True)\n",
        "'''\n",
        "\n",
        "# Reduce overpopulated class with fully passed builds\n",
        "\n",
        "xReduced, yReduced = returnFailedData(x, y, searchForFailed(y,withpassed_data=False))\n",
        "from sklearn.model_selection import train_test_split\n",
        "xTrain, xTest, yTrain, yTest = train_test_split(xReduced, yReduced, test_size = 0.2)"
      ],
      "execution_count": 0,
      "outputs": []
    },
    {
      "metadata": {
        "id": "7ZOiItnfcFrY",
        "colab_type": "text"
      },
      "cell_type": "markdown",
      "source": [
        "# Prepare and train model"
      ]
    },
    {
      "metadata": {
        "id": "1fduCyvWnRv0",
        "colab_type": "code",
        "colab": {}
      },
      "cell_type": "code",
      "source": [
        "model = Sequential()\n",
        "# Adding the input layer and the first hidden layer\n",
        "model.add(Dense(15175, activation=\"sigmoid\", input_dim=23739, kernel_initializer=\"uniform\"))\n",
        "# Adding the second hidden layer\n",
        "model.add(Dense(15175, activation = \"sigmoid\", kernel_initializer=\"uniform\"))\n",
        "# Adding the output layer\n",
        "model.add(Dense(542, activation=\"sigmoid\", kernel_initializer=\"uniform\"))"
      ],
      "execution_count": 0,
      "outputs": []
    },
    {
      "metadata": {
        "id": "c76W8TAQRpQs",
        "colab_type": "code",
        "colab": {}
      },
      "cell_type": "code",
      "source": [
        "model.compile(optimizer = tf.train.MomentumOptimizer(learning_rate = 0.01, momentum = 0.4), loss = 'binary_crossentropy', metrics = ['accuracy'])\n",
        "\n",
        "model.fit(xTrain, yTrain, batch_size = 20, epochs = 15)"
      ],
      "execution_count": 0,
      "outputs": []
    },
    {
      "metadata": {
        "id": "wmC2CCxzcaQE",
        "colab_type": "text"
      },
      "cell_type": "markdown",
      "source": [
        "# Evaluate"
      ]
    },
    {
      "metadata": {
        "id": "80qYJa28rzE0",
        "colab_type": "code",
        "colab": {}
      },
      "cell_type": "code",
      "source": [
        "predictions = model.predict(xTest)"
      ],
      "execution_count": 0,
      "outputs": []
    },
    {
      "metadata": {
        "id": "83XWARzS7Zmg",
        "colab_type": "code",
        "colab": {}
      },
      "cell_type": "code",
      "source": [
        "#Distributions of argmins through all the predictions\n",
        "  \n",
        "def argminsDistribution(): \n",
        "    i = 1\n",
        "    tab = [0] * 542\n",
        "    for a in predictions:\n",
        "      j = 0\n",
        "      for b in a:\n",
        "        if b < 1.0 : j = j + 1\n",
        "\n",
        "      #print (i, '. ', j, np.argmin(a))\n",
        "      tab[np.argmin(a)] += 1\n",
        "      i = i + 1\n",
        "\n",
        "    i = 0\n",
        "    for a in tab:\n",
        "      if a > 0 : print ('position', i, '\\targmin count', a)\n",
        "      i += 1"
      ],
      "execution_count": 0,
      "outputs": []
    },
    {
      "metadata": {
        "id": "69llVn84F0S8",
        "colab_type": "code",
        "colab": {}
      },
      "cell_type": "code",
      "source": [
        "#failsCount()"
      ],
      "execution_count": 0,
      "outputs": []
    },
    {
      "metadata": {
        "id": "CtK4YeC8oTqb",
        "colab_type": "code",
        "colab": {}
      },
      "cell_type": "code",
      "source": [
        "argminsDistribution()"
      ],
      "execution_count": 0,
      "outputs": []
    },
    {
      "metadata": {
        "id": "siSMpeyIsNlB",
        "colab_type": "code",
        "colab": {}
      },
      "cell_type": "code",
      "source": [
        "# Evaluate by probability - if the percentage parameter is set to 0.5 than 50% \n",
        "# of predictions will be taken into cosideration. When the strongest prediction \n",
        "# in given build is 0.9 then predictions from 0.9 to 0.95 will be \n",
        "# taken into consideration, if 0.8 than from 0.8 to 0.9\n",
        "\n",
        "def evaluation2(percentage, predictions, refYsupervisor, verbose=False):\n",
        "  \n",
        "  lenght = len(refYsupervisor)\n",
        "  failPositions = [[] for y in range(lenght)]\n",
        "  failPredictions = predictions.copy()\n",
        "  predictionPositions = [[] for y in range(lenght)]\n",
        "  predictionHits = [0] * lenght\n",
        "  validPredictionsCount = [0] * lenght\n",
        "\n",
        "  for i, a in enumerate(refYsupervisor):\n",
        "\n",
        "    for j, b in enumerate(a):\n",
        "      if b == 0 : failPositions[i].append(j);\n",
        "  \n",
        "  for i, a in enumerate(predictions):\n",
        "    probabilityLimit = np.amin(a) + ((1 - np.amin(a)) * percentage)\n",
        "\n",
        "    for j, b in enumerate(a):\n",
        "      if b <= probabilityLimit: \n",
        "        predictionPositions[i].append(j)\n",
        "        validPredictionsCount[i] += 1\n",
        "        \n",
        "  for i, a in enumerate(failPositions):\n",
        "    count = 0\n",
        "    \n",
        "    for b in a:\n",
        "\n",
        "      for c in predictionPositions[i]:\n",
        "        if c == b : count += 1\n",
        "\n",
        "    if len(a) != 0:\n",
        "      predictionHits[i] = count\n",
        "\n",
        "  hitsCount = 0\n",
        "  failsCount = 0\n",
        "  \n",
        "  for i in range(lenght):\n",
        "   # print(predictionHits[i])\n",
        "    hitsCount += predictionHits[i]\n",
        "    failsCount += len(failPositions[i])  \n",
        "\n",
        "  print('Percentage of fails predicted', hitsCount / failsCount * 100, '%',\n",
        "        '//Average of valid predictions', sum(validPredictionsCount)/len(validPredictionsCount))\n",
        "  \n",
        "  if verbose == True:\n",
        "    for i in range(lenght):\n",
        "      print(i ,len(failPositions[i]), len(predictionPositions[i]), predictionHits[i], sep='\\t')"
      ],
      "execution_count": 0,
      "outputs": []
    },
    {
      "metadata": {
        "colab_type": "code",
        "id": "cV8R2p_0gy0f",
        "colab": {}
      },
      "cell_type": "code",
      "source": [
        "for i in range(14):\n",
        "  print(i + 1, ' ', end='')\n",
        "  evaluation(i, predictions, yTest)"
      ],
      "execution_count": 0,
      "outputs": []
    },
    {
      "metadata": {
        "id": "pMYfY33ZLhfo",
        "colab_type": "code",
        "colab": {}
      },
      "cell_type": "code",
      "source": [
        "for i in range(21):\n",
        "  print(round(0.05 * i, 3), ' ', end='')\n",
        "  evaluation2(0.05 * i, predictions, yTest)"
      ],
      "execution_count": 0,
      "outputs": []
    }
  ]
}