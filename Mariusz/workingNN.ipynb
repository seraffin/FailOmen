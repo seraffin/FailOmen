{
  "nbformat": 4,
  "nbformat_minor": 0,
  "metadata": {
    "colab": {
      "name": "workingNN.ipynb",
      "version": "0.3.2",
      "provenance": [],
      "collapsed_sections": [
        "OAA_VXmLa3Jp"
      ],
      "include_colab_link": true
    },
    "kernelspec": {
      "name": "python3",
      "display_name": "Python 3"
    },
    "accelerator": "GPU"
  },
  "cells": [
    {
      "cell_type": "markdown",
      "metadata": {
        "id": "view-in-github",
        "colab_type": "text"
      },
      "source": [
        "<a href=\"https://colab.research.google.com/github/seraffin/FailOmen/blob/master/Mariusz/workingNN.ipynb\" target=\"_parent\"><img src=\"https://colab.research.google.com/assets/colab-badge.svg\" alt=\"Open In Colab\"/></a>"
      ]
    },
    {
      "metadata": {
        "id": "8nx7mo1JCC22",
        "colab_type": "code",
        "colab": {}
      },
      "cell_type": "code",
      "source": [
        "import tensorflow as tf\n",
        "import keras\n",
        "from keras.models import Sequential\n",
        "from keras.layers import Dense\n",
        "from sklearn.model_selection import train_test_split\n",
        "\n",
        "# Helper libraries\n",
        "import matplotlib.pyplot as plt\n",
        "import numpy as np\n",
        "import pandas as pd\n",
        "\n",
        "from google.colab import drive\n",
        "\n",
        "\n",
        "checkGPUpresence()"
      ],
      "execution_count": 0,
      "outputs": []
    },
    {
      "metadata": {
        "id": "OAA_VXmLa3Jp",
        "colab_type": "text"
      },
      "cell_type": "markdown",
      "source": [
        "# Utilities"
      ]
    },
    {
      "metadata": {
        "id": "L7mjN1OX_QZN",
        "colab_type": "code",
        "colab": {}
      },
      "cell_type": "code",
      "source": [
        "# Evaluation function\n",
        "\n",
        "def evaluation(additionalPredictions):\n",
        "  \n",
        "  lenght = len(yTest)\n",
        "\n",
        "  failPositions = [[] for y in range(lenght)]\n",
        "\n",
        "  for i, a in enumerate(yTest):\n",
        "\n",
        "    for j, b in enumerate(a):\n",
        "      if b == 0 : failPositions[i].append(j);\n",
        "\n",
        "  predictionsTemp = predictions.copy()\n",
        "  predictionPositions = [[] for y in range(lenght)]\n",
        "\n",
        "\n",
        "  for i, a in enumerate(predictionsTemp):\n",
        "\n",
        "    if len(failPositions[i]) != 0:\n",
        "      for j in range(len(failPositions[i]) + additionalPredictions):\n",
        "        argmin = np.argmin(a)\n",
        "        predictionPositions[i].append(argmin)\n",
        "        predictionsTemp[i][argmin] = 1\n",
        "\n",
        "  predictionHits = [[] for y in range(lenght)]\n",
        "\n",
        "  for i, a in enumerate(failPositions):\n",
        "    count = 0\n",
        "    for j, b in enumerate(a):\n",
        "\n",
        "\n",
        "      for c in predictionPositions[i]:\n",
        "  #      predictionHits[i].append(predictions[i][c].copy())\n",
        "  #      print(predictions[i][c])\n",
        "  #      print(predictions[i][c])\n",
        "  #      print (b, c)\n",
        "        if c == b : count += 1\n",
        "\n",
        "    if len(failPositions) != 0:\n",
        "      predictionHits[i].insert(0,count)\n",
        "\n",
        "\n",
        "  failsCount = 0\n",
        "  hitsCount = 0\n",
        "  for i, a in enumerate(yTest):\n",
        "    j = 0\n",
        "\n",
        "    for k, b in enumerate(a):\n",
        "      if b < 1.0 : j += 1\n",
        "\n",
        "  #  if j > 0 :\n",
        "  #    print (i, '.', j, predictionHits[i])\n",
        "\n",
        "\n",
        "    failsCount += j\n",
        "    hitsCount += predictionHits[i][0]\n",
        "\n",
        "  print('Percentage of fails predicted', hitsCount / failsCount * 100, '%')"
      ],
      "execution_count": 0,
      "outputs": []
    },
    {
      "metadata": {
        "id": "Zwyfqi6JARhF",
        "colab_type": "code",
        "colab": {}
      },
      "cell_type": "code",
      "source": [
        "#Distribution of argmins through all the predictions\n",
        "  \n",
        "def argminsDistribution():\n",
        "  \n",
        "    i = 1\n",
        "    tab = [0] * 542\n",
        "    for a in predictions:\n",
        "      j = 0\n",
        "      for b in a:\n",
        "        if b < 1.0 : j = j + 1\n",
        "\n",
        "      #print (i, '. ', j, np.argmin(a))\n",
        "      tab[np.argmin(a)] += 1\n",
        "      i = i + 1\n",
        "\n",
        "    i = 0\n",
        "    for a in tab:\n",
        "      if a > 0 : print ('position', i, '\\targmin count', a)\n",
        "      i += 1"
      ],
      "execution_count": 0,
      "outputs": []
    },
    {
      "metadata": {
        "colab_type": "code",
        "id": "X35PsbQm79nb",
        "colab": {}
      },
      "cell_type": "code",
      "source": [
        "def printFailDistributionStats(y):\n",
        "  \n",
        "  failCount = 0\n",
        "  passCount = 0\n",
        "  failBuildCount = 0\n",
        "\n",
        "  for a in y:\n",
        "    if a[np.argmin(a)] == 0 : failBuildCount += 1\n",
        "    for b in a:\n",
        "      if b == 0 : failCount += 1\n",
        "      if b == 1 : passCount += 1\n",
        "  print ('failBuildCount', failBuildCount)\n",
        "  print ('passBuildCount', len(y) - failBuildCount)\n",
        "  print ('failBuild share ', failBuildCount / len(y) * 100, '%', sep='')\n",
        "  print ('failCount', failCount)\n",
        "  print ('passCount', passCount)\n",
        "  print ('fail share ', failCount / (failCount + passCount) * 100, '%', sep='')"
      ],
      "execution_count": 0,
      "outputs": []
    },
    {
      "metadata": {
        "id": "gbNhf1pSTVYI",
        "colab_type": "code",
        "colab": {}
      },
      "cell_type": "code",
      "source": [
        "# Create a list of single member classes positions\n",
        "\n",
        "def listSingleMemberClassesPositions(refY, printFlag):\n",
        "\n",
        "  yList = refY.tolist()\n",
        "  yDistinct = [ele for ind, ele in enumerate(yList) if ele not in yList[:ind]]\n",
        "\n",
        "  classesPopulation = []\n",
        "  singleMemberClassesPositions = []\n",
        "  noSingleMemberClasses = 0\n",
        "\n",
        "  for i, a in enumerate(yDistinct):\n",
        "    population = 0\n",
        "    memberPosition = 0\n",
        "    for j, b in enumerate(yList):\n",
        "      if a == b: \n",
        "        population += 1\n",
        "        memberPosition = j\n",
        "\n",
        "    classesPopulation.append(population)\n",
        "  #  print(i, population)\n",
        "    if population == 1: \n",
        "      noSingleMemberClasses += 1\n",
        "      singleMemberClassesPositions.append(memberPosition)\n",
        "\n",
        "  if printFlag == True: \n",
        "    print(noSingleMemberClasses)\n",
        "  else:\n",
        "    return singleMemberClassesPositions"
      ],
      "execution_count": 0,
      "outputs": []
    },
    {
      "metadata": {
        "id": "YWPIJOZ-URw1",
        "colab_type": "code",
        "colab": {}
      },
      "cell_type": "code",
      "source": [
        "# Double the single member classes for stratified sampling\n",
        "\n",
        "def appendToDataset(refSingleMemberClassesPositions, refDataset):\n",
        "  \n",
        "  newDataset = pd.DataFrame(columns=list(refDataset))\n",
        "  for i, a in enumerate(refSingleMemberClassesPositions):\n",
        "    newDataset = newDataset.append(refDataset.iloc[a, :])\n",
        "  \n",
        "  return refDataset.append(newDataset, ignore_index=True)"
      ],
      "execution_count": 0,
      "outputs": []
    },
    {
      "metadata": {
        "id": "QmLtAzxg3jc8",
        "colab_type": "code",
        "colab": {}
      },
      "cell_type": "code",
      "source": [
        "def checkGPUpresence():\n",
        "\n",
        "  device_name = tf.test.gpu_device_name()\n",
        "  if device_name != '/device:GPU:0':\n",
        "    raise SystemError('GPU device not found')\n",
        "  print('Found GPU at: {}'.format(device_name))"
      ],
      "execution_count": 0,
      "outputs": []
    },
    {
      "metadata": {
        "id": "cLrYguowbq_R",
        "colab_type": "text"
      },
      "cell_type": "markdown",
      "source": [
        "# Prepare data"
      ]
    },
    {
      "metadata": {
        "id": "4hijZ7SlUARA",
        "colab_type": "code",
        "outputId": "ab29489d-1e80-42d3-8006-e91f46faab2b",
        "colab": {
          "base_uri": "https://localhost:8080/",
          "height": 34
        }
      },
      "cell_type": "code",
      "source": [
        "drive.mount('/content/gdrive')"
      ],
      "execution_count": 0,
      "outputs": [
        {
          "output_type": "stream",
          "text": [
            "Drive already mounted at /content/gdrive; to attempt to forcibly remount, call drive.mount(\"/content/gdrive\", force_remount=True).\n"
          ],
          "name": "stdout"
        }
      ]
    },
    {
      "metadata": {
        "id": "62-iybQU_Yw7",
        "colab_type": "code",
        "colab": {}
      },
      "cell_type": "code",
      "source": [
        "#Importing dataset\n",
        "\n",
        "#dataset = pd.read_csv('/content/gdrive/My Drive/Colab Notebooks/dataToML_newConcept.csv', index_col=False)\n",
        "dataset = pd.read_csv('/content/gdrive/My Drive/Colab Notebooks/dataToML_full2.csv', index_col=False)"
      ],
      "execution_count": 0,
      "outputs": []
    },
    {
      "metadata": {
        "id": "Fwmq-vtQ960G",
        "colab_type": "code",
        "colab": {}
      },
      "cell_type": "code",
      "source": [
        "# Split data set into parameters and labels\n",
        "\n",
        "x = dataset.iloc[:, 0:23739].values\n",
        "y = dataset.iloc[:, 23739:24281].values"
      ],
      "execution_count": 0,
      "outputs": []
    },
    {
      "metadata": {
        "id": "yvqB-e4e8917",
        "colab_type": "code",
        "colab": {}
      },
      "cell_type": "code",
      "source": [
        "# Random sampling\n",
        "\n",
        "xTrain, xTest, yTrain, yTest = train_test_split(x, y, test_size = 0.2)\n",
        "\n",
        "listSingleMemberClassesPositions(yTrain, True)\n",
        "listSingleMemberClassesPositions(yTest, True)\n"
      ],
      "execution_count": 0,
      "outputs": []
    },
    {
      "metadata": {
        "id": "bzhEoh59e6Xp",
        "colab_type": "code",
        "outputId": "ce80c9ca-0e87-4d27-94b8-b967784f3261",
        "colab": {
          "base_uri": "https://localhost:8080/",
          "height": 50
        }
      },
      "cell_type": "code",
      "source": [
        "# Stratified sampling\n",
        "\n",
        "dataset = appendToDataset(listSingleMemberClassesPositions(y, False), dataset)\n",
        "\n",
        "x = dataset.iloc[:, 0:23739].values\n",
        "y = dataset.iloc[:, 23739:24281].values\n",
        "\n",
        "from sklearn.model_selection import StratifiedShuffleSplit\n",
        "\n",
        "sss = StratifiedShuffleSplit(n_splits=5, test_size=0.2, random_state=None)\n",
        "\n",
        "for train_index, test_index in sss.split(x, y):\n",
        "  xTrain, xTest = x[train_index], x[test_index]\n",
        "  yTrain, yTest = y[train_index], y[test_index]\n",
        "  \n",
        "listSingleMemberClassesPositions(yTrain, True)\n",
        "listSingleMemberClassesPositions(yTest, True)"
      ],
      "execution_count": 0,
      "outputs": [
        {
          "output_type": "stream",
          "text": [
            "80\n",
            "130\n"
          ],
          "name": "stdout"
        }
      ]
    },
    {
      "metadata": {
        "id": "7ZOiItnfcFrY",
        "colab_type": "text"
      },
      "cell_type": "markdown",
      "source": [
        "# Prepare and train model"
      ]
    },
    {
      "metadata": {
        "id": "1fduCyvWnRv0",
        "colab_type": "code",
        "colab": {}
      },
      "cell_type": "code",
      "source": [
        "model = Sequential()\n",
        "# Adding the input layer and the first hidden layer\n",
        "model.add(Dense(6070, activation=\"sigmoid\", input_dim=23739, kernel_initializer=\"uniform\"))\n",
        "# Adding the second hidden layer\n",
        "#model.add(Dense(12140, activation = \"sigmoid\", kernel_initializer=\"uniform\"))\n",
        "# Adding the output layer\n",
        "model.add(Dense(542, activation=\"sigmoid\", kernel_initializer=\"uniform\"))"
      ],
      "execution_count": 0,
      "outputs": []
    },
    {
      "metadata": {
        "id": "c76W8TAQRpQs",
        "colab_type": "code",
        "outputId": "7bd94cf4-ce96-45cf-a2a3-88a63ec5af1b",
        "colab": {
          "base_uri": "https://localhost:8080/",
          "height": 538
        }
      },
      "cell_type": "code",
      "source": [
        "model.compile(optimizer = tf.train.MomentumOptimizer(learning_rate = 0.01, momentum = 0.4), loss = 'binary_crossentropy', metrics = ['accuracy'])\n",
        "\n",
        "model.fit(xTrain, yTrain, batch_size = 20, epochs = 15)"
      ],
      "execution_count": 0,
      "outputs": [
        {
          "output_type": "stream",
          "text": [
            "Epoch 1/15\n",
            "4005/4005 [==============================] - 13s 3ms/step - loss: 0.3054 - acc: 0.9157\n",
            "Epoch 2/15\n",
            "4005/4005 [==============================] - 11s 3ms/step - loss: 0.0803 - acc: 0.9994\n",
            "Epoch 3/15\n",
            "4005/4005 [==============================] - 11s 3ms/step - loss: 0.0476 - acc: 0.9994\n",
            "Epoch 4/15\n",
            "4005/4005 [==============================] - 11s 3ms/step - loss: 0.0343 - acc: 0.9994\n",
            "Epoch 5/15\n",
            "4005/4005 [==============================] - 11s 3ms/step - loss: 0.0272 - acc: 0.9994\n",
            "Epoch 6/15\n",
            "4005/4005 [==============================] - 11s 3ms/step - loss: 0.0227 - acc: 0.9994\n",
            "Epoch 7/15\n",
            "4005/4005 [==============================] - 11s 3ms/step - loss: 0.0197 - acc: 0.9994\n",
            "Epoch 8/15\n",
            "4005/4005 [==============================] - 11s 3ms/step - loss: 0.0174 - acc: 0.9994\n",
            "Epoch 9/15\n",
            "4005/4005 [==============================] - 11s 3ms/step - loss: 0.0158 - acc: 0.9994\n",
            "Epoch 10/15\n",
            "4005/4005 [==============================] - 11s 3ms/step - loss: 0.0144 - acc: 0.9994\n",
            "Epoch 11/15\n",
            "4005/4005 [==============================] - 11s 3ms/step - loss: 0.0134 - acc: 0.9994\n",
            "Epoch 12/15\n",
            "4005/4005 [==============================] - 11s 3ms/step - loss: 0.0125 - acc: 0.9994\n",
            "Epoch 13/15\n",
            "4005/4005 [==============================] - 11s 3ms/step - loss: 0.0118 - acc: 0.9994\n",
            "Epoch 14/15\n",
            "4005/4005 [==============================] - 11s 3ms/step - loss: 0.0112 - acc: 0.9994\n",
            "Epoch 15/15\n",
            "4005/4005 [==============================] - 11s 3ms/step - loss: 0.0107 - acc: 0.9994\n"
          ],
          "name": "stdout"
        },
        {
          "output_type": "execute_result",
          "data": {
            "text/plain": [
              "<keras.callbacks.History at 0x7f09900b9a58>"
            ]
          },
          "metadata": {
            "tags": []
          },
          "execution_count": 16
        }
      ]
    },
    {
      "metadata": {
        "id": "wmC2CCxzcaQE",
        "colab_type": "text"
      },
      "cell_type": "markdown",
      "source": [
        "# Evaluate"
      ]
    },
    {
      "metadata": {
        "id": "80qYJa28rzE0",
        "colab_type": "code",
        "colab": {}
      },
      "cell_type": "code",
      "source": [
        "predictions = model.predict(xTest)"
      ],
      "execution_count": 0,
      "outputs": []
    },
    {
      "metadata": {
        "id": "83XWARzS7Zmg",
        "colab_type": "code",
        "colab": {}
      },
      "cell_type": "code",
      "source": [
        "#Distributions of argmins through all the predictions\n",
        "  \n",
        "def argminsDistribution(): \n",
        "    i = 1\n",
        "    tab = [0] * 542\n",
        "    for a in predictions:\n",
        "      j = 0\n",
        "      for b in a:\n",
        "        if b < 1.0 : j = j + 1\n",
        "\n",
        "      #print (i, '. ', j, np.argmin(a))\n",
        "      tab[np.argmin(a)] += 1\n",
        "      i = i + 1\n",
        "\n",
        "    i = 0\n",
        "    for a in tab:\n",
        "      if a > 0 : print ('position', i, '\\targmin count', a)\n",
        "      i += 1"
      ],
      "execution_count": 0,
      "outputs": []
    },
    {
      "metadata": {
        "id": "69llVn84F0S8",
        "colab_type": "code",
        "colab": {}
      },
      "cell_type": "code",
      "source": [
        "#failsCount()"
      ],
      "execution_count": 0,
      "outputs": []
    },
    {
      "metadata": {
        "id": "CtK4YeC8oTqb",
        "colab_type": "code",
        "outputId": "219387b2-32bc-49bb-9d8d-0117afb214ce",
        "colab": {
          "base_uri": "https://localhost:8080/",
          "height": 67
        }
      },
      "cell_type": "code",
      "source": [
        "argminsDistribution()"
      ],
      "execution_count": 0,
      "outputs": [
        {
          "output_type": "stream",
          "text": [
            "position 71 \targmin count 11\n",
            "position 200 \targmin count 38\n",
            "position 462 \targmin count 953\n"
          ],
          "name": "stdout"
        }
      ]
    },
    {
      "metadata": {
        "colab_type": "code",
        "outputId": "1036da60-ab04-4497-ad0f-ed4b6ceaf5d0",
        "id": "cV8R2p_0gy0f",
        "colab": {
          "base_uri": "https://localhost:8080/",
          "height": 185
        }
      },
      "cell_type": "code",
      "source": [
        "for i in range(10):\n",
        "  print(i, ' ', end='')\n",
        "  evaluation(i)"
      ],
      "execution_count": 0,
      "outputs": [
        {
          "output_type": "stream",
          "text": [
            "0  Percentage of fails predicted 5.2805280528052805 %\n",
            "1  Percentage of fails predicted 7.2607260726072615 %\n",
            "2  Percentage of fails predicted 8.91089108910891 %\n",
            "3  Percentage of fails predicted 10.891089108910892 %\n",
            "4  Percentage of fails predicted 12.871287128712872 %\n",
            "5  Percentage of fails predicted 13.531353135313532 %\n",
            "6  Percentage of fails predicted 15.51155115511551 %\n",
            "7  Percentage of fails predicted 17.16171617161716 %\n",
            "8  Percentage of fails predicted 17.491749174917494 %\n",
            "9  Percentage of fails predicted 20.462046204620464 %\n"
          ],
          "name": "stdout"
        }
      ]
    }
  ]
}